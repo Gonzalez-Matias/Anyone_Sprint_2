{
  "cells": [
    {
      "cell_type": "markdown",
      "id": "3d08028c-be52-4d84-a995-34b690c3e8a5",
      "metadata": {
        "id": "3d08028c-be52-4d84-a995-34b690c3e8a5"
      },
      "source": [
        "# AnyoneAI - Project II\n",
        "\n",
        "# Making Estimations with our NBA dataset"
      ]
    },
    {
      "cell_type": "markdown",
      "id": "4ff2f3cb-7e1a-4705-bce7-44a56c0113e1",
      "metadata": {
        "id": "4ff2f3cb-7e1a-4705-bce7-44a56c0113e1"
      },
      "source": [
        "In our first project, we learn how to create our own datasets by using a public API, Python and Pandas. We're now going to explore how to make predictive models for regression and classification tasks using ScikitLearn"
      ]
    },
    {
      "cell_type": "markdown",
      "id": "5b732b5b-8fcc-4917-85a1-035bfc00a7dd",
      "metadata": {
        "id": "5b732b5b-8fcc-4917-85a1-035bfc00a7dd"
      },
      "source": [
        "The goals of this project are:\n",
        "- Learn how to define a prediction task\n",
        "- Selecting evaluation metrics and baseline models\n",
        "- Perform feature engineering and standarization\n",
        "- Training and using predictive models: Univariable and Multivariate Linear Regression, Classification\n",
        "- Understand how Gradient Descent works by implementing a Linear Regressor in python"
      ]
    },
    {
      "cell_type": "markdown",
      "id": "73bd1212-887d-4b10-a277-30156aaf410b",
      "metadata": {
        "tags": [],
        "id": "73bd1212-887d-4b10-a277-30156aaf410b"
      },
      "source": [
        "## Using Regression Models to Estimate players Salaries"
      ]
    },
    {
      "cell_type": "markdown",
      "id": "e51670c9-30ec-4dcf-b3f4-e5ba90019818",
      "metadata": {
        "id": "e51670c9-30ec-4dcf-b3f4-e5ba90019818"
      },
      "source": [
        "A player's salary can be explained by a lot of factors: \n",
        "\n",
        "- Years in the league: NBA contracts are limited in price, players have caps on how much money they make depending on their years playing in the league\n",
        "- Age: Highly correlated to the previous one, NBA players have a minimun age of 19 years\n",
        "- Draft position: players out of USA universities are selected each year through a process called draft, in which each team selects a player in a predefined order for 2 rounds (meaning only 60 players are drafted each year). A rookie contract value depends on the draft position. (Undrafted players have to negotiate a salary independently)\n",
        "- Performance in statistical categories: after the rookie contract, players can negotiate freely with teams, and usually statistical categories like points, rebounds and assists are extremely important.  \n",
        "- Team: Even though there are limits to what all teams can expend in players salary, they all allocate their resources differently, and can be more willing to pay the penalties incurred by exceeding those limitations.\n",
        "- Year in which the contract was signed: the mininum and maximum values of contracts possibles in the NBA changes depending on league revenue (television contracts, sponsorships, etc), so if the amount of money the teams make increases, players can negotiate bigger contracts.\n",
        "- Intangibles: players can be valued also in things that are not easily translated to a statistic, good defensive players might not always have great stats but can be extremely important for a team, the same can be said about veteran players that help young ones to learn and are good locker-room guys.\n",
        "\n",
        "But we're going to take a simplified approach, we'll try to use the data we already have to make the best estimator possible, and then we will analyze what went right and what could've gone wrong with our results."
      ]
    },
    {
      "cell_type": "code",
      "source": [
        "import seaborn as sns\n",
        "import numpy as np\n",
        "import pandas as pd\n",
        "import matplotlib.pyplot as plt\n",
        "import random\n",
        "from sklearn.model_selection import train_test_split\n",
        "from sklearn.metrics import mean_absolute_error, f1_score, accuracy_score\n",
        "from sklearn.metrics import precision_score, recall_score\n",
        "from sklearn.preprocessing import OneHotEncoder, MinMaxScaler, StandardScaler\n",
        "from sklearn.linear_model import SGDRegressor, LogisticRegression\n",
        "from imblearn.over_sampling import SMOTE \n",
        "from sklearn.tree import DecisionTreeRegressor\n",
        "sns.set_theme()\n",
        "sns.set(rc = {'figure.figsize':(8,7)})"
      ],
      "metadata": {
        "id": "1sneWd0YStiw"
      },
      "id": "1sneWd0YStiw",
      "execution_count": 845,
      "outputs": []
    },
    {
      "cell_type": "markdown",
      "id": "6f110fec-8919-4427-89f7-b3e581176703",
      "metadata": {
        "id": "6f110fec-8919-4427-89f7-b3e581176703"
      },
      "source": [
        "### Analyzing our data"
      ]
    },
    {
      "cell_type": "code",
      "execution_count": 846,
      "id": "bdac389b-e5f8-4563-a187-36b016c0641c",
      "metadata": {
        "id": "bdac389b-e5f8-4563-a187-36b016c0641c"
      },
      "outputs": [],
      "source": [
        "data = pd.read_csv(\"https://raw.githubusercontent.com/anyoneai/notebooks/main/datasets/project2_players_df.csv\")\n",
        "data.dropna(subset=[\"PTS\",\"TEAM_NAME\"], inplace=True)"
      ]
    },
    {
      "cell_type": "code",
      "source": [
        "data.head()"
      ],
      "metadata": {
        "colab": {
          "base_uri": "https://localhost:8080/",
          "height": 424
        },
        "id": "7Akd1cJfSzh0",
        "outputId": "4894bbb2-9290-4b8e-fd3b-19f18e2ed67a"
      },
      "id": "7Akd1cJfSzh0",
      "execution_count": 847,
      "outputs": [
        {
          "output_type": "execute_result",
          "data": {
            "text/plain": [
              "   PERSON_ID        PLAYER_NAME  TEAM_NAME POSITION  HEIGHT  WEIGHT  \\\n",
              "0    1630173   Precious Achiuwa    Raptors  Forward     203     102   \n",
              "1     203500       Steven Adams  Grizzlies   Center     211     120   \n",
              "2    1628389        Bam Adebayo       Heat   Center     206     116   \n",
              "3    1630583       Santi Aldama  Grizzlies  Forward     211      98   \n",
              "4     200746  LaMarcus Aldridge       Nets   Center     211     113   \n",
              "\n",
              "       COUNTRY   BIRTHDATE  SEASON_EXP DRAFT_NUMBER      GP   MIN   PTS  REB  \\\n",
              "0      Nigeria  1999-09-19           1           20   115.0  17.3   6.5  5.1   \n",
              "1  New Zealand  1993-07-20           8           12   648.0  26.8   9.3  7.9   \n",
              "2          USA  1997-07-18           4           14   326.0  28.0  13.2  8.2   \n",
              "3        Spain  2001-01-10           0           30    27.0  10.2   3.3  2.4   \n",
              "4          USA  1985-07-19          15            2  1073.0  33.7  19.1  8.1   \n",
              "\n",
              "   AST  STL  BLK   GAME_DATE    Salary                          AGE  \n",
              "0  0.8  0.4  0.5  2022-03-06   2711280  22 years, 5 months, 25 days  \n",
              "1  1.4  0.9  0.9  2022-03-06  17073171  28 years, 7 months, 24 days  \n",
              "2  3.5  1.0  0.9  2022-03-07  28103550  24 years, 7 months, 26 days  \n",
              "3  0.5  0.1  0.3  2022-03-06   1994520   21 years, 2 months, 6 days  \n",
              "4  1.9  0.7  1.1  2022-03-06   2641691  36 years, 7 months, 25 days  "
            ],
            "text/html": [
              "\n",
              "  <div id=\"df-6fb26892-e170-4967-bd96-48be98d04969\">\n",
              "    <div class=\"colab-df-container\">\n",
              "      <div>\n",
              "<style scoped>\n",
              "    .dataframe tbody tr th:only-of-type {\n",
              "        vertical-align: middle;\n",
              "    }\n",
              "\n",
              "    .dataframe tbody tr th {\n",
              "        vertical-align: top;\n",
              "    }\n",
              "\n",
              "    .dataframe thead th {\n",
              "        text-align: right;\n",
              "    }\n",
              "</style>\n",
              "<table border=\"1\" class=\"dataframe\">\n",
              "  <thead>\n",
              "    <tr style=\"text-align: right;\">\n",
              "      <th></th>\n",
              "      <th>PERSON_ID</th>\n",
              "      <th>PLAYER_NAME</th>\n",
              "      <th>TEAM_NAME</th>\n",
              "      <th>POSITION</th>\n",
              "      <th>HEIGHT</th>\n",
              "      <th>WEIGHT</th>\n",
              "      <th>COUNTRY</th>\n",
              "      <th>BIRTHDATE</th>\n",
              "      <th>SEASON_EXP</th>\n",
              "      <th>DRAFT_NUMBER</th>\n",
              "      <th>GP</th>\n",
              "      <th>MIN</th>\n",
              "      <th>PTS</th>\n",
              "      <th>REB</th>\n",
              "      <th>AST</th>\n",
              "      <th>STL</th>\n",
              "      <th>BLK</th>\n",
              "      <th>GAME_DATE</th>\n",
              "      <th>Salary</th>\n",
              "      <th>AGE</th>\n",
              "    </tr>\n",
              "  </thead>\n",
              "  <tbody>\n",
              "    <tr>\n",
              "      <th>0</th>\n",
              "      <td>1630173</td>\n",
              "      <td>Precious Achiuwa</td>\n",
              "      <td>Raptors</td>\n",
              "      <td>Forward</td>\n",
              "      <td>203</td>\n",
              "      <td>102</td>\n",
              "      <td>Nigeria</td>\n",
              "      <td>1999-09-19</td>\n",
              "      <td>1</td>\n",
              "      <td>20</td>\n",
              "      <td>115.0</td>\n",
              "      <td>17.3</td>\n",
              "      <td>6.5</td>\n",
              "      <td>5.1</td>\n",
              "      <td>0.8</td>\n",
              "      <td>0.4</td>\n",
              "      <td>0.5</td>\n",
              "      <td>2022-03-06</td>\n",
              "      <td>2711280</td>\n",
              "      <td>22 years, 5 months, 25 days</td>\n",
              "    </tr>\n",
              "    <tr>\n",
              "      <th>1</th>\n",
              "      <td>203500</td>\n",
              "      <td>Steven Adams</td>\n",
              "      <td>Grizzlies</td>\n",
              "      <td>Center</td>\n",
              "      <td>211</td>\n",
              "      <td>120</td>\n",
              "      <td>New Zealand</td>\n",
              "      <td>1993-07-20</td>\n",
              "      <td>8</td>\n",
              "      <td>12</td>\n",
              "      <td>648.0</td>\n",
              "      <td>26.8</td>\n",
              "      <td>9.3</td>\n",
              "      <td>7.9</td>\n",
              "      <td>1.4</td>\n",
              "      <td>0.9</td>\n",
              "      <td>0.9</td>\n",
              "      <td>2022-03-06</td>\n",
              "      <td>17073171</td>\n",
              "      <td>28 years, 7 months, 24 days</td>\n",
              "    </tr>\n",
              "    <tr>\n",
              "      <th>2</th>\n",
              "      <td>1628389</td>\n",
              "      <td>Bam Adebayo</td>\n",
              "      <td>Heat</td>\n",
              "      <td>Center</td>\n",
              "      <td>206</td>\n",
              "      <td>116</td>\n",
              "      <td>USA</td>\n",
              "      <td>1997-07-18</td>\n",
              "      <td>4</td>\n",
              "      <td>14</td>\n",
              "      <td>326.0</td>\n",
              "      <td>28.0</td>\n",
              "      <td>13.2</td>\n",
              "      <td>8.2</td>\n",
              "      <td>3.5</td>\n",
              "      <td>1.0</td>\n",
              "      <td>0.9</td>\n",
              "      <td>2022-03-07</td>\n",
              "      <td>28103550</td>\n",
              "      <td>24 years, 7 months, 26 days</td>\n",
              "    </tr>\n",
              "    <tr>\n",
              "      <th>3</th>\n",
              "      <td>1630583</td>\n",
              "      <td>Santi Aldama</td>\n",
              "      <td>Grizzlies</td>\n",
              "      <td>Forward</td>\n",
              "      <td>211</td>\n",
              "      <td>98</td>\n",
              "      <td>Spain</td>\n",
              "      <td>2001-01-10</td>\n",
              "      <td>0</td>\n",
              "      <td>30</td>\n",
              "      <td>27.0</td>\n",
              "      <td>10.2</td>\n",
              "      <td>3.3</td>\n",
              "      <td>2.4</td>\n",
              "      <td>0.5</td>\n",
              "      <td>0.1</td>\n",
              "      <td>0.3</td>\n",
              "      <td>2022-03-06</td>\n",
              "      <td>1994520</td>\n",
              "      <td>21 years, 2 months, 6 days</td>\n",
              "    </tr>\n",
              "    <tr>\n",
              "      <th>4</th>\n",
              "      <td>200746</td>\n",
              "      <td>LaMarcus Aldridge</td>\n",
              "      <td>Nets</td>\n",
              "      <td>Center</td>\n",
              "      <td>211</td>\n",
              "      <td>113</td>\n",
              "      <td>USA</td>\n",
              "      <td>1985-07-19</td>\n",
              "      <td>15</td>\n",
              "      <td>2</td>\n",
              "      <td>1073.0</td>\n",
              "      <td>33.7</td>\n",
              "      <td>19.1</td>\n",
              "      <td>8.1</td>\n",
              "      <td>1.9</td>\n",
              "      <td>0.7</td>\n",
              "      <td>1.1</td>\n",
              "      <td>2022-03-06</td>\n",
              "      <td>2641691</td>\n",
              "      <td>36 years, 7 months, 25 days</td>\n",
              "    </tr>\n",
              "  </tbody>\n",
              "</table>\n",
              "</div>\n",
              "      <button class=\"colab-df-convert\" onclick=\"convertToInteractive('df-6fb26892-e170-4967-bd96-48be98d04969')\"\n",
              "              title=\"Convert this dataframe to an interactive table.\"\n",
              "              style=\"display:none;\">\n",
              "        \n",
              "  <svg xmlns=\"http://www.w3.org/2000/svg\" height=\"24px\"viewBox=\"0 0 24 24\"\n",
              "       width=\"24px\">\n",
              "    <path d=\"M0 0h24v24H0V0z\" fill=\"none\"/>\n",
              "    <path d=\"M18.56 5.44l.94 2.06.94-2.06 2.06-.94-2.06-.94-.94-2.06-.94 2.06-2.06.94zm-11 1L8.5 8.5l.94-2.06 2.06-.94-2.06-.94L8.5 2.5l-.94 2.06-2.06.94zm10 10l.94 2.06.94-2.06 2.06-.94-2.06-.94-.94-2.06-.94 2.06-2.06.94z\"/><path d=\"M17.41 7.96l-1.37-1.37c-.4-.4-.92-.59-1.43-.59-.52 0-1.04.2-1.43.59L10.3 9.45l-7.72 7.72c-.78.78-.78 2.05 0 2.83L4 21.41c.39.39.9.59 1.41.59.51 0 1.02-.2 1.41-.59l7.78-7.78 2.81-2.81c.8-.78.8-2.07 0-2.86zM5.41 20L4 18.59l7.72-7.72 1.47 1.35L5.41 20z\"/>\n",
              "  </svg>\n",
              "      </button>\n",
              "      \n",
              "  <style>\n",
              "    .colab-df-container {\n",
              "      display:flex;\n",
              "      flex-wrap:wrap;\n",
              "      gap: 12px;\n",
              "    }\n",
              "\n",
              "    .colab-df-convert {\n",
              "      background-color: #E8F0FE;\n",
              "      border: none;\n",
              "      border-radius: 50%;\n",
              "      cursor: pointer;\n",
              "      display: none;\n",
              "      fill: #1967D2;\n",
              "      height: 32px;\n",
              "      padding: 0 0 0 0;\n",
              "      width: 32px;\n",
              "    }\n",
              "\n",
              "    .colab-df-convert:hover {\n",
              "      background-color: #E2EBFA;\n",
              "      box-shadow: 0px 1px 2px rgba(60, 64, 67, 0.3), 0px 1px 3px 1px rgba(60, 64, 67, 0.15);\n",
              "      fill: #174EA6;\n",
              "    }\n",
              "\n",
              "    [theme=dark] .colab-df-convert {\n",
              "      background-color: #3B4455;\n",
              "      fill: #D2E3FC;\n",
              "    }\n",
              "\n",
              "    [theme=dark] .colab-df-convert:hover {\n",
              "      background-color: #434B5C;\n",
              "      box-shadow: 0px 1px 3px 1px rgba(0, 0, 0, 0.15);\n",
              "      filter: drop-shadow(0px 1px 2px rgba(0, 0, 0, 0.3));\n",
              "      fill: #FFFFFF;\n",
              "    }\n",
              "  </style>\n",
              "\n",
              "      <script>\n",
              "        const buttonEl =\n",
              "          document.querySelector('#df-6fb26892-e170-4967-bd96-48be98d04969 button.colab-df-convert');\n",
              "        buttonEl.style.display =\n",
              "          google.colab.kernel.accessAllowed ? 'block' : 'none';\n",
              "\n",
              "        async function convertToInteractive(key) {\n",
              "          const element = document.querySelector('#df-6fb26892-e170-4967-bd96-48be98d04969');\n",
              "          const dataTable =\n",
              "            await google.colab.kernel.invokeFunction('convertToInteractive',\n",
              "                                                     [key], {});\n",
              "          if (!dataTable) return;\n",
              "\n",
              "          const docLinkHtml = 'Like what you see? Visit the ' +\n",
              "            '<a target=\"_blank\" href=https://colab.research.google.com/notebooks/data_table.ipynb>data table notebook</a>'\n",
              "            + ' to learn more about interactive tables.';\n",
              "          element.innerHTML = '';\n",
              "          dataTable['output_type'] = 'display_data';\n",
              "          await google.colab.output.renderOutput(dataTable, element);\n",
              "          const docLink = document.createElement('div');\n",
              "          docLink.innerHTML = docLinkHtml;\n",
              "          element.appendChild(docLink);\n",
              "        }\n",
              "      </script>\n",
              "    </div>\n",
              "  </div>\n",
              "  "
            ]
          },
          "metadata": {},
          "execution_count": 847
        }
      ]
    },
    {
      "cell_type": "code",
      "source": [
        "data.info()"
      ],
      "metadata": {
        "colab": {
          "base_uri": "https://localhost:8080/"
        },
        "id": "T_Q-5AXMS4XL",
        "outputId": "31a9f1b9-137f-4f28-8af7-8ff931f4c0a0"
      },
      "id": "T_Q-5AXMS4XL",
      "execution_count": 848,
      "outputs": [
        {
          "output_type": "stream",
          "name": "stdout",
          "text": [
            "<class 'pandas.core.frame.DataFrame'>\n",
            "Int64Index: 437 entries, 0 to 459\n",
            "Data columns (total 20 columns):\n",
            " #   Column        Non-Null Count  Dtype  \n",
            "---  ------        --------------  -----  \n",
            " 0   PERSON_ID     437 non-null    int64  \n",
            " 1   PLAYER_NAME   437 non-null    object \n",
            " 2   TEAM_NAME     437 non-null    object \n",
            " 3   POSITION      437 non-null    object \n",
            " 4   HEIGHT        437 non-null    int64  \n",
            " 5   WEIGHT        437 non-null    int64  \n",
            " 6   COUNTRY       437 non-null    object \n",
            " 7   BIRTHDATE     437 non-null    object \n",
            " 8   SEASON_EXP    437 non-null    int64  \n",
            " 9   DRAFT_NUMBER  435 non-null    object \n",
            " 10  GP            437 non-null    float64\n",
            " 11  MIN           437 non-null    float64\n",
            " 12  PTS           437 non-null    float64\n",
            " 13  REB           437 non-null    float64\n",
            " 14  AST           437 non-null    float64\n",
            " 15  STL           437 non-null    float64\n",
            " 16  BLK           437 non-null    float64\n",
            " 17  GAME_DATE     436 non-null    object \n",
            " 18  Salary        437 non-null    int64  \n",
            " 19  AGE           437 non-null    object \n",
            "dtypes: float64(7), int64(5), object(8)\n",
            "memory usage: 71.7+ KB\n"
          ]
        }
      ]
    },
    {
      "cell_type": "markdown",
      "id": "c3cc6b89-e698-4943-8562-160190b9cbd0",
      "metadata": {
        "id": "c3cc6b89-e698-4943-8562-160190b9cbd0"
      },
      "source": [
        "Let's have another look at our previously generated dataset. "
      ]
    },
    {
      "cell_type": "markdown",
      "id": "e098b76d-c520-474b-9998-a263354fe27b",
      "metadata": {
        "id": "e098b76d-c520-474b-9998-a263354fe27b"
      },
      "source": [
        "1.1. Plot all players statistics (\"PTS\", \"REB\", \"AST\",\"STL\",\"BLK\") against salary"
      ]
    },
    {
      "cell_type": "code",
      "execution_count": 849,
      "id": "50d589f1-25c1-48f8-88f3-e2c7f0e72625",
      "metadata": {
        "id": "50d589f1-25c1-48f8-88f3-e2c7f0e72625",
        "colab": {
          "base_uri": "https://localhost:8080/",
          "height": 1000
        },
        "outputId": "4e7175db-de8b-4525-de7b-f066c674b358"
      },
      "outputs": [
        {
          "output_type": "display_data",
          "data": {
            "text/plain": [
              "<Figure size 504x504 with 1 Axes>"
            ],
            "image/png": "[encoded data removed]"
          },
          "metadata": {}
        },
        {
          "output_type": "display_data",
          "data": {
            "text/plain": [
              "<Figure size 504x504 with 1 Axes>"
            ],
            "image/png": "[encoded data removed]"
          },
          "metadata": {}
        },
        {
          "output_type": "display_data",
          "data": {
            "text/plain": [
              "<Figure size 504x504 with 1 Axes>"
            ],
            "image/png": "[encoded data removed]"
          },
          "metadata": {}
        },
        {
          "output_type": "display_data",
          "data": {
            "text/plain": [
              "<Figure size 504x504 with 1 Axes>"
            ],
            "image/png": "[encoded data removed]"
          },
          "metadata": {}
        },
        {
          "output_type": "display_data",
          "data": {
            "text/plain": [
              "<Figure size 504x504 with 1 Axes>"
            ],
            "image/png": "[encoded data removed]"
          },
          "metadata": {}
        }
      ],
      "source": [
        "sns.lmplot(data=data, x=\"PTS\", y=\"Salary\", markers=\".\", height=7, aspect=1)\n",
        "sns.lmplot(data=data, x=\"REB\", y=\"Salary\", markers=\".\", height=7, aspect=1)\n",
        "sns.lmplot(data=data, x=\"AST\", y=\"Salary\", markers=\".\", height=7, aspect=1)\n",
        "sns.lmplot(data=data, x=\"STL\", y=\"Salary\", markers=\".\", height=7, aspect=1)\n",
        "sns.lmplot(data=data, x=\"BLK\", y=\"Salary\", markers=\".\", height=7, aspect=1)\n",
        "sns.set(rc = {'figure.figsize':(9,7)})\n",
        "plt.show()"
      ]
    },
    {
      "cell_type": "code",
      "source": [
        "sns.histplot(data=data, x=\"PTS\", bins=20, kde=True)\n",
        "plt.show()\n",
        "sns.histplot(data=data, x=\"REB\", bins=20, kde=True)\n",
        "plt.show()\n",
        "sns.histplot(data=data, x=\"AST\", bins=20, kde=True)\n",
        "plt.show()\n",
        "sns.histplot(data=data, x=\"STL\", bins=20, kde=True)\n",
        "plt.show()\n",
        "sns.histplot(data=data, x=\"BLK\", bins=20, kde=True)\n",
        "plt.show()"
      ],
      "metadata": {
        "colab": {
          "base_uri": "https://localhost:8080/",
          "height": 1000
        },
        "id": "wdYyq8qRS8c6",
        "outputId": "5c5e336a-4a47-4780-c5de-5d8bfbccd2bf"
      },
      "id": "wdYyq8qRS8c6",
      "execution_count": 850,
      "outputs": [
        {
          "output_type": "display_data",
          "data": {
            "text/plain": [
              "<Figure size 648x504 with 1 Axes>"
            ],
            "image/png": "[encoded data removed]"
          },
          "metadata": {}
        },
        {
          "output_type": "display_data",
          "data": {
            "text/plain": [
              "<Figure size 648x504 with 1 Axes>"
            ],
            "image/png": "[encoded data removed]"
          },
          "metadata": {}
        },
        {
          "output_type": "display_data",
          "data": {
            "text/plain": [
              "<Figure size 648x504 with 1 Axes>"
            ],
            "image/png": "[encoded data removed]"
          },
          "metadata": {}
        },
        {
          "output_type": "display_data",
          "data": {
            "text/plain": [
              "<Figure size 648x504 with 1 Axes>"
            ],
            "image/png": "[encoded data removed]"
          },
          "metadata": {}
        },
        {
          "output_type": "display_data",
          "data": {
            "text/plain": [
              "<Figure size 648x504 with 1 Axes>"
            ],
            "image/png": "[encoded data removed]"
          },
          "metadata": {}
        }
      ]
    },
    {
      "cell_type": "markdown",
      "id": "bbf0fe81-4aed-4dd9-8500-0919b4ec1e07",
      "metadata": {
        "id": "bbf0fe81-4aed-4dd9-8500-0919b4ec1e07"
      },
      "source": [
        "1.2. What can we say about these distributions?"
      ]
    },
    {
      "cell_type": "markdown",
      "source": [
        "As we can see in the previous graphics the column PTS(points) its the one more correlated with the salary of the player, and also it's the one with a distribution more normal"
      ],
      "metadata": {
        "id": "B2_acMf7TCdx"
      },
      "id": "B2_acMf7TCdx"
    },
    {
      "cell_type": "markdown",
      "id": "17735366-22bf-4cd8-a392-9dfb01652da0",
      "metadata": {
        "id": "17735366-22bf-4cd8-a392-9dfb01652da0"
      },
      "source": [
        "### Splitting the Dataset"
      ]
    },
    {
      "cell_type": "markdown",
      "id": "02450fb0-829c-420b-b65c-ea553a9a81a2",
      "metadata": {
        "id": "02450fb0-829c-420b-b65c-ea553a9a81a2"
      },
      "source": [
        "1.3. Split the dataset into train and testing sets. Use the Sklearn function for train/test splitting. Make sure to set the random state for reproducibility."
      ]
    },
    {
      "cell_type": "code",
      "execution_count": 851,
      "id": "d532e0fb-e478-48a0-971b-1ad1d428fe95",
      "metadata": {
        "id": "d532e0fb-e478-48a0-971b-1ad1d428fe95"
      },
      "outputs": [],
      "source": [
        "target= \"Salary\"\n",
        "features = data.columns.drop(\"Salary\").values\n",
        "y = data[target]\n",
        "X = data[features]"
      ]
    },
    {
      "cell_type": "code",
      "source": [
        "X_train, X_test, y_train, y_test = train_test_split(X, y, test_size=0.10, random_state=8)"
      ],
      "metadata": {
        "id": "Calt-1HXTH8v"
      },
      "id": "Calt-1HXTH8v",
      "execution_count": 852,
      "outputs": []
    },
    {
      "cell_type": "markdown",
      "id": "6aec0deb-7efe-438c-8a4a-39f940aeb474",
      "metadata": {
        "id": "6aec0deb-7efe-438c-8a4a-39f940aeb474"
      },
      "source": [
        "### Baseline Model and Evaluation Metric"
      ]
    },
    {
      "cell_type": "markdown",
      "id": "40ca78ad-8dc1-4b13-99bd-27dcd138a809",
      "metadata": {
        "id": "40ca78ad-8dc1-4b13-99bd-27dcd138a809"
      },
      "source": [
        "In every project, we need a baseline model that implements a very simple algorithm or heuristic so we can compare our results with it. \n",
        "In this case, we could create a function that always returns the average player salary, evaluate that, and then compare the result with our modeling to see if we are improving. "
      ]
    },
    {
      "cell_type": "markdown",
      "id": "71a7eb29-2bdf-4faf-93e9-3206dbc9cca2",
      "metadata": {
        "id": "71a7eb29-2bdf-4faf-93e9-3206dbc9cca2"
      },
      "source": [
        "We need an evaluation metric to see how well our models fit the data. For this project we will use [Mean Absolute Error](https://scikit-learn.org/stable/modules/generated/sklearn.metrics.mean_absolute_error.html#sklearn.metrics.mean_absolute_error) as our regression evaluation metric, because it is a really simple metric to interpret. A lower value means the model performs better. \n",
        "\n",
        "For this particular problem, we will always round the value, as we don't need decimals for this task."
      ]
    },
    {
      "cell_type": "markdown",
      "id": "cefd619d-e6b0-4e70-acf8-f0f4a90fe896",
      "metadata": {
        "id": "cefd619d-e6b0-4e70-acf8-f0f4a90fe896"
      },
      "source": [
        "1.4. Create a Baseline model class that implements  fit() and predict() methods. As this model will not consider any other variable, the fit method should only receive a list of all players salaries. The predict method should receive and iterable and return a numpy array with the same length but every element should have the same value (the average salary)"
      ]
    },
    {
      "cell_type": "code",
      "execution_count": 853,
      "id": "8ee01164-1ef2-44dc-8baa-74b630444577",
      "metadata": {
        "id": "8ee01164-1ef2-44dc-8baa-74b630444577"
      },
      "outputs": [],
      "source": [
        "class BaselineModel():\n",
        "    \"\"\"A baseline model that always returns the same value, the mean of the players salary in the train data\"\"\"\n",
        "    \n",
        "    def fit(self, y_train):\n",
        "        \"\"\"\n",
        "        Fit the training data. \n",
        "        \n",
        "        Parameters\n",
        "        ----------\n",
        "        y_train: Union[pd.Series, np.ndarray]\n",
        "            a pandas series or numpy array containing salary information\n",
        "        \"\"\"\n",
        "        self.mean_value = round(np.mean(y_train),0)\n",
        "    \n",
        "    def predict(self, X):\n",
        "        \"\"\"\n",
        "        Predict salaries \n",
        "        \n",
        "        Parameters\n",
        "        ----------\n",
        "        X: Union[pd.DataFrame, pd.Series, np.ndarray]\n",
        "            a pandas series, dataframe or numpy array with the \n",
        "            \n",
        "        Returns\n",
        "        -------\n",
        "        np.ndarray\n",
        "            a numpy array of the same length as X, with all elements equal to the mean salary calculated in fit()\n",
        "        \"\"\"\n",
        "        cant_pred = len(X)\n",
        "        pred = np.zeros(cant_pred)\n",
        "        pred.fill(self.mean_value)\n",
        "        pred = pred.astype(int)\n",
        "        return pred"
      ]
    },
    {
      "cell_type": "code",
      "source": [
        "mean_pred =  BaselineModel()"
      ],
      "metadata": {
        "id": "PXuaRHvuTNLw"
      },
      "id": "PXuaRHvuTNLw",
      "execution_count": 854,
      "outputs": []
    },
    {
      "cell_type": "code",
      "source": [
        "mean_pred.fit(y_train)"
      ],
      "metadata": {
        "id": "hPoCyYSCTPch"
      },
      "id": "hPoCyYSCTPch",
      "execution_count": 855,
      "outputs": []
    },
    {
      "cell_type": "code",
      "source": [
        "baseline_pred = mean_pred.predict(X_test)\n",
        "baseline_pred"
      ],
      "metadata": {
        "colab": {
          "base_uri": "https://localhost:8080/"
        },
        "id": "EkF1OSvVTPfU",
        "outputId": "b8cb2cc4-5f7a-4a86-edb4-2f14ea9ac4f2"
      },
      "id": "EkF1OSvVTPfU",
      "execution_count": 856,
      "outputs": [
        {
          "output_type": "execute_result",
          "data": {
            "text/plain": [
              "array([9183697, 9183697, 9183697, 9183697, 9183697, 9183697, 9183697,\n",
              "       9183697, 9183697, 9183697, 9183697, 9183697, 9183697, 9183697,\n",
              "       9183697, 9183697, 9183697, 9183697, 9183697, 9183697, 9183697,\n",
              "       9183697, 9183697, 9183697, 9183697, 9183697, 9183697, 9183697,\n",
              "       9183697, 9183697, 9183697, 9183697, 9183697, 9183697, 9183697,\n",
              "       9183697, 9183697, 9183697, 9183697, 9183697, 9183697, 9183697,\n",
              "       9183697, 9183697])"
            ]
          },
          "metadata": {},
          "execution_count": 856
        }
      ]
    },
    {
      "cell_type": "markdown",
      "id": "6a1a8134-48a4-4c66-84d2-39030242ef5f",
      "metadata": {
        "id": "6a1a8134-48a4-4c66-84d2-39030242ef5f"
      },
      "source": [
        "1.5. Evaluate the performance of our BaselineModel on the test set using mean_absolute_error from Sklearn (round the result)"
      ]
    },
    {
      "cell_type": "code",
      "execution_count": 857,
      "id": "fb72f39b-e7fc-4cd8-bd23-ee4407a80eed",
      "metadata": {
        "id": "fb72f39b-e7fc-4cd8-bd23-ee4407a80eed",
        "colab": {
          "base_uri": "https://localhost:8080/"
        },
        "outputId": "c5d378e0-a01d-47f6-e61e-24823027fd8c"
      },
      "outputs": [
        {
          "output_type": "execute_result",
          "data": {
            "text/plain": [
              "6716417"
            ]
          },
          "metadata": {},
          "execution_count": 857
        }
      ],
      "source": [
        "baseline_mae = int(round(mean_absolute_error(y_test, baseline_pred)))\n",
        "baseline_mae"
      ]
    },
    {
      "cell_type": "markdown",
      "id": "fc4dff42-e36c-478d-bfd3-7541f3f36f16",
      "metadata": {
        "id": "fc4dff42-e36c-478d-bfd3-7541f3f36f16"
      },
      "source": [
        "### Regression with a single variable"
      ]
    },
    {
      "cell_type": "markdown",
      "id": "c9597b03-31fd-4a9c-8dad-9479666355cd",
      "metadata": {
        "id": "c9597b03-31fd-4a9c-8dad-9479666355cd"
      },
      "source": [
        "You're now going to start modeling data. We will start with a really simple approach, selecting just one variable, and doing a regression to see if we improve upon our baseline.\n"
      ]
    },
    {
      "cell_type": "markdown",
      "id": "af92eeac-cbfb-45cb-8626-246332c69624",
      "metadata": {
        "id": "af92eeac-cbfb-45cb-8626-246332c69624"
      },
      "source": [
        "1.6. Select the variable you think would provide the best fit. Perform feature scaling on this variable using a Sklearn scaler."
      ]
    },
    {
      "cell_type": "code",
      "execution_count": 858,
      "id": "173f1211-95e2-4bcb-ba7d-a40c516b4c24",
      "metadata": {
        "id": "173f1211-95e2-4bcb-ba7d-a40c516b4c24"
      },
      "outputs": [],
      "source": [
        "x_train = X_train[\"PTS\"]\n",
        "x_test = X_test[\"PTS\"]\n",
        "x_train = np.array(x_train).reshape(-1, 1)\n",
        "x_test = np.array(x_test).reshape(-1, 1)"
      ]
    },
    {
      "cell_type": "code",
      "source": [
        "x_train[:6]"
      ],
      "metadata": {
        "colab": {
          "base_uri": "https://localhost:8080/"
        },
        "id": "QOC2kWHATwMQ",
        "outputId": "b3513e51-c225-4fef-d736-379cf6344e2f"
      },
      "id": "QOC2kWHATwMQ",
      "execution_count": 859,
      "outputs": [
        {
          "output_type": "execute_result",
          "data": {
            "text/plain": [
              "array([[ 5.8],\n",
              "       [11.1],\n",
              "       [13.4],\n",
              "       [19.1],\n",
              "       [ 9.1],\n",
              "       [ 9.6]])"
            ]
          },
          "metadata": {},
          "execution_count": 859
        }
      ]
    },
    {
      "cell_type": "code",
      "source": [
        "sf_sacler = MinMaxScaler()"
      ],
      "metadata": {
        "id": "iQYN8PxhTay4"
      },
      "id": "iQYN8PxhTay4",
      "execution_count": 860,
      "outputs": []
    },
    {
      "cell_type": "code",
      "source": [
        "sf_sacler.fit(x_train)"
      ],
      "metadata": {
        "colab": {
          "base_uri": "https://localhost:8080/"
        },
        "id": "h6qWoNb7Ta1p",
        "outputId": "8d4a904b-7c63-47f1-fb0b-350e284289ea"
      },
      "id": "h6qWoNb7Ta1p",
      "execution_count": 861,
      "outputs": [
        {
          "output_type": "execute_result",
          "data": {
            "text/plain": [
              "MinMaxScaler()"
            ]
          },
          "metadata": {},
          "execution_count": 861
        }
      ]
    },
    {
      "cell_type": "code",
      "source": [
        "x_train = sf_sacler.transform(x_train)\n",
        "x_test = sf_sacler.transform(x_test)"
      ],
      "metadata": {
        "id": "zxXqtMVeTfRl"
      },
      "id": "zxXqtMVeTfRl",
      "execution_count": 862,
      "outputs": []
    },
    {
      "cell_type": "code",
      "source": [
        "x_train[:6]"
      ],
      "metadata": {
        "colab": {
          "base_uri": "https://localhost:8080/"
        },
        "id": "meVITUiyTpJD",
        "outputId": "8adf9c81-6635-46e5-cd82-8d60621140c1"
      },
      "id": "meVITUiyTpJD",
      "execution_count": 863,
      "outputs": [
        {
          "output_type": "execute_result",
          "data": {
            "text/plain": [
              "array([[0.21402214],\n",
              "       [0.4095941 ],\n",
              "       [0.49446494],\n",
              "       [0.70479705],\n",
              "       [0.33579336],\n",
              "       [0.35424354]])"
            ]
          },
          "metadata": {},
          "execution_count": 863
        }
      ]
    },
    {
      "cell_type": "markdown",
      "id": "1c490e55-2bff-4a06-a01e-c6859d7edb52",
      "metadata": {
        "id": "1c490e55-2bff-4a06-a01e-c6859d7edb52"
      },
      "source": [
        "1.7. Train a model with [SGDRegressor](https://scikit-learn.org/stable/modules/generated/sklearn.linear_model.SGDRegressor.html) from Sklearn using the default parameters. Evaluate the model's performance on the test set using the selected metric."
      ]
    },
    {
      "cell_type": "code",
      "execution_count": 864,
      "id": "15d198ad-a601-4722-937b-3be52090c8d1",
      "metadata": {
        "id": "15d198ad-a601-4722-937b-3be52090c8d1"
      },
      "outputs": [],
      "source": [
        "sgd_default_model = SGDRegressor(random_state=8)"
      ]
    },
    {
      "cell_type": "code",
      "source": [
        "sgd_default_model.fit(X = x_train, y = y_train)"
      ],
      "metadata": {
        "colab": {
          "base_uri": "https://localhost:8080/"
        },
        "id": "3eE-ZzbGT5Qr",
        "outputId": "95d8c6e9-db1b-4378-f88c-b6b2a867a83a"
      },
      "id": "3eE-ZzbGT5Qr",
      "execution_count": 865,
      "outputs": [
        {
          "output_type": "execute_result",
          "data": {
            "text/plain": [
              "SGDRegressor(random_state=8)"
            ]
          },
          "metadata": {},
          "execution_count": 865
        }
      ]
    },
    {
      "cell_type": "code",
      "source": [
        "sgd_default_pred = sgd_default_model.predict(x_test)"
      ],
      "metadata": {
        "id": "nV44T8SCT5UM"
      },
      "id": "nV44T8SCT5UM",
      "execution_count": 866,
      "outputs": []
    },
    {
      "cell_type": "code",
      "source": [
        "sgd_default_mae = int(round(mean_absolute_error(y_test, sgd_default_pred)))\n",
        "sgd_default_mae"
      ],
      "metadata": {
        "colab": {
          "base_uri": "https://localhost:8080/"
        },
        "id": "d1-bi3laT5XC",
        "outputId": "34faacd2-b600-4e52-90a5-2e886dabaaab"
      },
      "id": "d1-bi3laT5XC",
      "execution_count": 867,
      "outputs": [
        {
          "output_type": "execute_result",
          "data": {
            "text/plain": [
              "4744814"
            ]
          },
          "metadata": {},
          "execution_count": 867
        }
      ]
    },
    {
      "cell_type": "markdown",
      "id": "e87147d9-5b57-4984-9f0d-e595cd6d15d3",
      "metadata": {
        "id": "e87147d9-5b57-4984-9f0d-e595cd6d15d3"
      },
      "source": [
        "1.8. Read the Sklearn documentation, and write a function that tries different configurations for the hyperparameters for training: epochs, learning rate and alpha. For each combination of parameters, evaluate the trained algorithm on the test set, then save the results of each hyperparameter combination, finally select the one that has the best MAE (meaning the lowest number) and print the combination and the MAE."
      ]
    },
    {
      "cell_type": "code",
      "source": [
        "def append_value(dict_obj, key, value):\n",
        "    if key in dict_obj:\n",
        "        if not isinstance(dict_obj[key], list):\n",
        "            dict_obj[key] = [dict_obj[key]]\n",
        "        dict_obj[key].append(value)\n",
        "    else:\n",
        "        dict_obj[key] = value"
      ],
      "metadata": {
        "id": "GDRHyz1JUAKL"
      },
      "id": "GDRHyz1JUAKL",
      "execution_count": 868,
      "outputs": []
    },
    {
      "cell_type": "code",
      "execution_count": 869,
      "id": "9e1f26f4-1eb4-4ecc-bfc2-9d8583f00d0d",
      "metadata": {
        "id": "9e1f26f4-1eb4-4ecc-bfc2-9d8583f00d0d"
      },
      "outputs": [],
      "source": [
        "def search_best_hyperparameters(max_iter, eta0):   \n",
        "    \n",
        "    #Creates a dictionary with all the possible combinations\n",
        "    result = {}\n",
        "    for ep in max_iter:\n",
        "        for lr in eta0:\n",
        "                append_value(result,\"hyperparameters\",{\"max_iter\": ep, \"eta0\": lr})\n",
        "                append_value(result,\"mae\",9999999999)\n",
        "                \n",
        "    #Tries all the possible combinations stored in result and calculates the mae           \n",
        "    for i in result[\"hyperparameters\"]:\n",
        "        sg_t_model = SGDRegressor(eta0=i[\"eta0\"], max_iter=i[\"max_iter\"], random_state=8) \n",
        "        sg_t_model.fit(x_train,y_train)\n",
        "        y_pred = sg_t_model.predict(x_test)\n",
        "        ind = result[\"hyperparameters\"].index(i)\n",
        "        result[\"mae\"][ind] = int(round(mean_absolute_error(y_test,y_pred)))\n",
        "        \n",
        "    return result"
      ]
    },
    {
      "cell_type": "code",
      "execution_count": 870,
      "id": "95ffbb3b-d161-4a29-9c48-eaff18b82412",
      "metadata": {
        "id": "95ffbb3b-d161-4a29-9c48-eaff18b82412",
        "colab": {
          "base_uri": "https://localhost:8080/"
        },
        "outputId": "1f344d7e-491f-46c0-83ca-06ddea3537b0"
      },
      "outputs": [
        {
          "output_type": "stream",
          "name": "stderr",
          "text": [
            "/usr/local/lib/python3.7/dist-packages/sklearn/linear_model/_stochastic_gradient.py:1507: ConvergenceWarning: Maximum number of iteration reached before convergence. Consider increasing max_iter to improve the fit.\n",
            "  ConvergenceWarning,\n",
            "/usr/local/lib/python3.7/dist-packages/sklearn/linear_model/_stochastic_gradient.py:1507: ConvergenceWarning: Maximum number of iteration reached before convergence. Consider increasing max_iter to improve the fit.\n",
            "  ConvergenceWarning,\n",
            "/usr/local/lib/python3.7/dist-packages/sklearn/linear_model/_stochastic_gradient.py:1507: ConvergenceWarning: Maximum number of iteration reached before convergence. Consider increasing max_iter to improve the fit.\n",
            "  ConvergenceWarning,\n",
            "/usr/local/lib/python3.7/dist-packages/sklearn/linear_model/_stochastic_gradient.py:1507: ConvergenceWarning: Maximum number of iteration reached before convergence. Consider increasing max_iter to improve the fit.\n",
            "  ConvergenceWarning,\n",
            "/usr/local/lib/python3.7/dist-packages/sklearn/linear_model/_stochastic_gradient.py:1507: ConvergenceWarning: Maximum number of iteration reached before convergence. Consider increasing max_iter to improve the fit.\n",
            "  ConvergenceWarning,\n"
          ]
        }
      ],
      "source": [
        "# Example list of hyperparameters values\n",
        "max_iter = [100000, 1000000, 10000000, 1000, 5000]\n",
        "eta0 = [0.001, 0.01, 0.1, 0.0001]\n",
        "\n",
        "result = search_best_hyperparameters(max_iter,eta0)"
      ]
    },
    {
      "cell_type": "code",
      "source": [
        "print(\"Best combination of parameters\\nMax iter: \", end=\"\")\n",
        "print(result[\"hyperparameters\"][result[\"mae\"].index(sorted(result[\"mae\"], reverse=False)[0])][\"max_iter\"])\n",
        "print(\"eta0: \", end=\"\")\n",
        "print(result[\"hyperparameters\"][result[\"mae\"].index(sorted(result[\"mae\"], reverse=False)[0])][\"eta0\"])\n",
        "print(\"MAE obtained: \", end=\"\")\n",
        "print(result[\"mae\"][result[\"mae\"].index(sorted(result[\"mae\"], reverse=False)[0])])"
      ],
      "metadata": {
        "colab": {
          "base_uri": "https://localhost:8080/"
        },
        "id": "OE3DTJUkUJDA",
        "outputId": "07f5aa58-cf78-482e-dd98-3524025e701b"
      },
      "id": "OE3DTJUkUJDA",
      "execution_count": 871,
      "outputs": [
        {
          "output_type": "stream",
          "name": "stdout",
          "text": [
            "Best combination of parameters\n",
            "Max iter: 100000\n",
            "eta0: 0.0001\n",
            "MAE obtained: 4637747\n"
          ]
        }
      ]
    },
    {
      "cell_type": "code",
      "source": [
        "sgd_tuned_model = SGDRegressor(eta0=0.0001, max_iter=100000, random_state=8)\n",
        "sgd_tuned_model.fit(x_train, y_train)\n",
        "sgd_tuned_pred = sgd_tuned_model.predict(x_test)\n",
        "sgd_tuned_mae = int(round(mean_absolute_error(y_test, sgd_tuned_pred)))\n",
        "sgd_tuned_mae"
      ],
      "metadata": {
        "colab": {
          "base_uri": "https://localhost:8080/"
        },
        "id": "zLn-NKnkUMNG",
        "outputId": "9b8f44f0-9ad5-498c-c2fa-bf0f961097f7"
      },
      "id": "zLn-NKnkUMNG",
      "execution_count": 872,
      "outputs": [
        {
          "output_type": "stream",
          "name": "stderr",
          "text": [
            "/usr/local/lib/python3.7/dist-packages/sklearn/linear_model/_stochastic_gradient.py:1507: ConvergenceWarning: Maximum number of iteration reached before convergence. Consider increasing max_iter to improve the fit.\n",
            "  ConvergenceWarning,\n"
          ]
        },
        {
          "output_type": "execute_result",
          "data": {
            "text/plain": [
              "4637747"
            ]
          },
          "metadata": {},
          "execution_count": 872
        }
      ]
    },
    {
      "cell_type": "markdown",
      "id": "776e0c7a-d592-4479-aec6-870edff61def",
      "metadata": {
        "id": "776e0c7a-d592-4479-aec6-870edff61def"
      },
      "source": [
        "1.9. Compare the results of the baseline, the SGDRegressor with default parameters and the one with the best combination of hyperparameters you could find. (replace variables with the ones you used)"
      ]
    },
    {
      "cell_type": "code",
      "execution_count": 873,
      "id": "2e520ef6-52ed-48dc-8450-03031f3a03a6",
      "metadata": {
        "id": "2e520ef6-52ed-48dc-8450-03031f3a03a6",
        "colab": {
          "base_uri": "https://localhost:8080/"
        },
        "outputId": "236ba9ae-b5e6-41b8-b630-194b787928ef"
      },
      "outputs": [
        {
          "output_type": "stream",
          "name": "stdout",
          "text": [
            "Mean Absolute Error for each model:\n",
            "Baseline: 6716417\n",
            "Default SGDRegressor: 4744814\n",
            "Best SGDRegressor: 4637747\n"
          ]
        }
      ],
      "source": [
        "print(\"Mean Absolute Error for each model:\")\n",
        "print(f\"Baseline: {baseline_mae}\")\n",
        "print(f\"Default SGDRegressor: {sgd_default_mae}\")\n",
        "print(f\"Best SGDRegressor: {sgd_tuned_mae}\")"
      ]
    },
    {
      "cell_type": "markdown",
      "id": "19e281ec-d578-496d-9f5d-897a2e1986a2",
      "metadata": {
        "id": "19e281ec-d578-496d-9f5d-897a2e1986a2"
      },
      "source": [
        "### Multivariate Linear Regression"
      ]
    },
    {
      "cell_type": "markdown",
      "id": "4ff24d36-439a-478f-b0de-0021223f6e99",
      "metadata": {
        "id": "4ff24d36-439a-478f-b0de-0021223f6e99"
      },
      "source": [
        "To improve our model, we will add more features to it. We will have to do some processing to our dataset to be able to use the data.\n",
        "We'll start with the following variables:"
      ]
    },
    {
      "cell_type": "markdown",
      "id": "247f4716-496a-4040-9519-77f7a6839691",
      "metadata": {
        "id": "247f4716-496a-4040-9519-77f7a6839691"
      },
      "source": [
        "- Points\n",
        "- Rebounds\n",
        "- Assists\n",
        "- Blocks\n",
        "- Experience\n",
        "- Position\n",
        "- Draft Number\n"
      ]
    },
    {
      "cell_type": "markdown",
      "id": "7958f7ec-45a0-4deb-bb79-3daa756dbcca",
      "metadata": {
        "id": "7958f7ec-45a0-4deb-bb79-3daa756dbcca"
      },
      "source": [
        "1.10. Create a copy of the dataset generated in the first project that only has the following columns (and player id as an index):\n",
        "\n",
        "[\"PTS\", \"REB\", \"AST\", \"BLK\", \"SEASON_EXP\", \"POSITION\", \"DRAFT_NUMBER\", \"SALARY\"]"
      ]
    },
    {
      "cell_type": "code",
      "execution_count": 874,
      "id": "64b265b4-d4e5-40a6-a9c3-cce920ecaa1b",
      "metadata": {
        "id": "64b265b4-d4e5-40a6-a9c3-cce920ecaa1b",
        "colab": {
          "base_uri": "https://localhost:8080/",
          "height": 206
        },
        "outputId": "c5d82d33-2889-48fc-ed06-1fb0b5bef4fd"
      },
      "outputs": [
        {
          "output_type": "execute_result",
          "data": {
            "text/plain": [
              "          PTS  REB  AST  BLK  SEASON_EXP POSITION  TEAM_NAME DRAFT_NUMBER  \\\n",
              "1630173   6.5  5.1  0.8  0.5           1  Forward    Raptors           20   \n",
              "203500    9.3  7.9  1.4  0.9           8   Center  Grizzlies           12   \n",
              "1628389  13.2  8.2  3.5  0.9           4   Center       Heat           14   \n",
              "1630583   3.3  2.4  0.5  0.3           0  Forward  Grizzlies           30   \n",
              "200746   19.1  8.1  1.9  1.1          15   Center       Nets            2   \n",
              "\n",
              "           Salary  \n",
              "1630173   2711280  \n",
              "203500   17073171  \n",
              "1628389  28103550  \n",
              "1630583   1994520  \n",
              "200746    2641691  "
            ],
            "text/html": [
              "\n",
              "  <div id=\"df-9f1cda0a-f7c6-4211-8bd6-7bbf8f59ff90\">\n",
              "    <div class=\"colab-df-container\">\n",
              "      <div>\n",
              "<style scoped>\n",
              "    .dataframe tbody tr th:only-of-type {\n",
              "        vertical-align: middle;\n",
              "    }\n",
              "\n",
              "    .dataframe tbody tr th {\n",
              "        vertical-align: top;\n",
              "    }\n",
              "\n",
              "    .dataframe thead th {\n",
              "        text-align: right;\n",
              "    }\n",
              "</style>\n",
              "<table border=\"1\" class=\"dataframe\">\n",
              "  <thead>\n",
              "    <tr style=\"text-align: right;\">\n",
              "      <th></th>\n",
              "      <th>PTS</th>\n",
              "      <th>REB</th>\n",
              "      <th>AST</th>\n",
              "      <th>BLK</th>\n",
              "      <th>SEASON_EXP</th>\n",
              "      <th>POSITION</th>\n",
              "      <th>TEAM_NAME</th>\n",
              "      <th>DRAFT_NUMBER</th>\n",
              "      <th>Salary</th>\n",
              "    </tr>\n",
              "  </thead>\n",
              "  <tbody>\n",
              "    <tr>\n",
              "      <th>1630173</th>\n",
              "      <td>6.5</td>\n",
              "      <td>5.1</td>\n",
              "      <td>0.8</td>\n",
              "      <td>0.5</td>\n",
              "      <td>1</td>\n",
              "      <td>Forward</td>\n",
              "      <td>Raptors</td>\n",
              "      <td>20</td>\n",
              "      <td>2711280</td>\n",
              "    </tr>\n",
              "    <tr>\n",
              "      <th>203500</th>\n",
              "      <td>9.3</td>\n",
              "      <td>7.9</td>\n",
              "      <td>1.4</td>\n",
              "      <td>0.9</td>\n",
              "      <td>8</td>\n",
              "      <td>Center</td>\n",
              "      <td>Grizzlies</td>\n",
              "      <td>12</td>\n",
              "      <td>17073171</td>\n",
              "    </tr>\n",
              "    <tr>\n",
              "      <th>1628389</th>\n",
              "      <td>13.2</td>\n",
              "      <td>8.2</td>\n",
              "      <td>3.5</td>\n",
              "      <td>0.9</td>\n",
              "      <td>4</td>\n",
              "      <td>Center</td>\n",
              "      <td>Heat</td>\n",
              "      <td>14</td>\n",
              "      <td>28103550</td>\n",
              "    </tr>\n",
              "    <tr>\n",
              "      <th>1630583</th>\n",
              "      <td>3.3</td>\n",
              "      <td>2.4</td>\n",
              "      <td>0.5</td>\n",
              "      <td>0.3</td>\n",
              "      <td>0</td>\n",
              "      <td>Forward</td>\n",
              "      <td>Grizzlies</td>\n",
              "      <td>30</td>\n",
              "      <td>1994520</td>\n",
              "    </tr>\n",
              "    <tr>\n",
              "      <th>200746</th>\n",
              "      <td>19.1</td>\n",
              "      <td>8.1</td>\n",
              "      <td>1.9</td>\n",
              "      <td>1.1</td>\n",
              "      <td>15</td>\n",
              "      <td>Center</td>\n",
              "      <td>Nets</td>\n",
              "      <td>2</td>\n",
              "      <td>2641691</td>\n",
              "    </tr>\n",
              "  </tbody>\n",
              "</table>\n",
              "</div>\n",
              "      <button class=\"colab-df-convert\" onclick=\"convertToInteractive('df-9f1cda0a-f7c6-4211-8bd6-7bbf8f59ff90')\"\n",
              "              title=\"Convert this dataframe to an interactive table.\"\n",
              "              style=\"display:none;\">\n",
              "        \n",
              "  <svg xmlns=\"http://www.w3.org/2000/svg\" height=\"24px\"viewBox=\"0 0 24 24\"\n",
              "       width=\"24px\">\n",
              "    <path d=\"M0 0h24v24H0V0z\" fill=\"none\"/>\n",
              "    <path d=\"M18.56 5.44l.94 2.06.94-2.06 2.06-.94-2.06-.94-.94-2.06-.94 2.06-2.06.94zm-11 1L8.5 8.5l.94-2.06 2.06-.94-2.06-.94L8.5 2.5l-.94 2.06-2.06.94zm10 10l.94 2.06.94-2.06 2.06-.94-2.06-.94-.94-2.06-.94 2.06-2.06.94z\"/><path d=\"M17.41 7.96l-1.37-1.37c-.4-.4-.92-.59-1.43-.59-.52 0-1.04.2-1.43.59L10.3 9.45l-7.72 7.72c-.78.78-.78 2.05 0 2.83L4 21.41c.39.39.9.59 1.41.59.51 0 1.02-.2 1.41-.59l7.78-7.78 2.81-2.81c.8-.78.8-2.07 0-2.86zM5.41 20L4 18.59l7.72-7.72 1.47 1.35L5.41 20z\"/>\n",
              "  </svg>\n",
              "      </button>\n",
              "      \n",
              "  <style>\n",
              "    .colab-df-container {\n",
              "      display:flex;\n",
              "      flex-wrap:wrap;\n",
              "      gap: 12px;\n",
              "    }\n",
              "\n",
              "    .colab-df-convert {\n",
              "      background-color: #E8F0FE;\n",
              "      border: none;\n",
              "      border-radius: 50%;\n",
              "      cursor: pointer;\n",
              "      display: none;\n",
              "      fill: #1967D2;\n",
              "      height: 32px;\n",
              "      padding: 0 0 0 0;\n",
              "      width: 32px;\n",
              "    }\n",
              "\n",
              "    .colab-df-convert:hover {\n",
              "      background-color: #E2EBFA;\n",
              "      box-shadow: 0px 1px 2px rgba(60, 64, 67, 0.3), 0px 1px 3px 1px rgba(60, 64, 67, 0.15);\n",
              "      fill: #174EA6;\n",
              "    }\n",
              "\n",
              "    [theme=dark] .colab-df-convert {\n",
              "      background-color: #3B4455;\n",
              "      fill: #D2E3FC;\n",
              "    }\n",
              "\n",
              "    [theme=dark] .colab-df-convert:hover {\n",
              "      background-color: #434B5C;\n",
              "      box-shadow: 0px 1px 3px 1px rgba(0, 0, 0, 0.15);\n",
              "      filter: drop-shadow(0px 1px 2px rgba(0, 0, 0, 0.3));\n",
              "      fill: #FFFFFF;\n",
              "    }\n",
              "  </style>\n",
              "\n",
              "      <script>\n",
              "        const buttonEl =\n",
              "          document.querySelector('#df-9f1cda0a-f7c6-4211-8bd6-7bbf8f59ff90 button.colab-df-convert');\n",
              "        buttonEl.style.display =\n",
              "          google.colab.kernel.accessAllowed ? 'block' : 'none';\n",
              "\n",
              "        async function convertToInteractive(key) {\n",
              "          const element = document.querySelector('#df-9f1cda0a-f7c6-4211-8bd6-7bbf8f59ff90');\n",
              "          const dataTable =\n",
              "            await google.colab.kernel.invokeFunction('convertToInteractive',\n",
              "                                                     [key], {});\n",
              "          if (!dataTable) return;\n",
              "\n",
              "          const docLinkHtml = 'Like what you see? Visit the ' +\n",
              "            '<a target=\"_blank\" href=https://colab.research.google.com/notebooks/data_table.ipynb>data table notebook</a>'\n",
              "            + ' to learn more about interactive tables.';\n",
              "          element.innerHTML = '';\n",
              "          dataTable['output_type'] = 'display_data';\n",
              "          await google.colab.output.renderOutput(dataTable, element);\n",
              "          const docLink = document.createElement('div');\n",
              "          docLink.innerHTML = docLinkHtml;\n",
              "          element.appendChild(docLink);\n",
              "        }\n",
              "      </script>\n",
              "    </div>\n",
              "  </div>\n",
              "  "
            ]
          },
          "metadata": {},
          "execution_count": 874
        }
      ],
      "source": [
        "data_mlt_sgd = data[[\"PERSON_ID\", \"PTS\", \"REB\", \"AST\", \"BLK\", \"SEASON_EXP\", \"POSITION\", \"TEAM_NAME\", \"DRAFT_NUMBER\", \"Salary\"]].copy()\n",
        "data_mlt_sgd.set_index(\"PERSON_ID\", inplace=True, drop=True)\n",
        "data_mlt_sgd.index.name = None\n",
        "data_mlt_sgd.head()"
      ]
    },
    {
      "cell_type": "markdown",
      "id": "4865eb6e-d85d-4283-a67c-93df46a5b72e",
      "metadata": {
        "id": "4865eb6e-d85d-4283-a67c-93df46a5b72e"
      },
      "source": [
        "#### Feature Engineering"
      ]
    },
    {
      "cell_type": "markdown",
      "id": "ec9b71e8-57aa-405a-8b3b-b0585a45d64d",
      "metadata": {
        "id": "ec9b71e8-57aa-405a-8b3b-b0585a45d64d"
      },
      "source": [
        "1.11. Binning the DRAFT_NUMBER feature. Draft position directly impacts salaries during the first few years, but second round players and undrafted players don't have guaranteed contracts. So we're gonna divide the bins like this: \n",
        "\n",
        "       - 1 to 15: firstround_lottery\n",
        "       - 15 to 30: firstround_non_lottery\n",
        "       - 30 to 60: second_round\n",
        "       - Undrafted: undrafted\n",
        "       \n",
        "Create a new column named DRAFT using these 4 categories. Drop the draft number column."
      ]
    },
    {
      "cell_type": "code",
      "execution_count": 875,
      "id": "3ea6afa9-7df8-446c-b134-c832f3ca27b7",
      "metadata": {
        "id": "3ea6afa9-7df8-446c-b134-c832f3ca27b7"
      },
      "outputs": [],
      "source": [
        "data_mlt_sgd.replace({\"Undrafted\":np.nan}, inplace=True)\n",
        "data_mlt_sgd['DRAFT_NUMBER'] = data_mlt_sgd['DRAFT_NUMBER'].str.extract('(\\d+)', expand=False).astype('float').astype('Int64')"
      ]
    },
    {
      "cell_type": "code",
      "source": [
        "data_mlt_sgd.DRAFT_NUMBER.unique()"
      ],
      "metadata": {
        "colab": {
          "base_uri": "https://localhost:8080/"
        },
        "id": "fYl9orRgUzbO",
        "outputId": "9e2f2d66-1946-4238-971e-238eb465f3b2"
      },
      "id": "fYl9orRgUzbO",
      "execution_count": 876,
      "outputs": [
        {
          "output_type": "execute_result",
          "data": {
            "text/plain": [
              "<IntegerArray>\n",
              "[  20,   12,   14,   30,    2,   17,   21,   22,   15,   51,    3,   23, <NA>,\n",
              "   43,    9,    1,   27,    6,   46,    7,    4,   40,   53,   48,   25,   19,\n",
              "   42,   18,   35,   31,   44,   39,   13,   11,   28,   10,   36,   45,   33,\n",
              "    8,   49,   32,   24,   41,    5,   34,   38,   29,   52,   26,   37,   50,\n",
              "   16,   47,   55,   54,   58]\n",
              "Length: 57, dtype: Int64"
            ]
          },
          "metadata": {},
          "execution_count": 876
        }
      ]
    },
    {
      "cell_type": "code",
      "source": [
        "data_mlt_sgd[\"DRAFT\"] = data_mlt_sgd.DRAFT_NUMBER.apply(lambda draft: \n",
        "                  \"undrafted\" if str(draft)==\"<NA>\" else(                                       \n",
        "                  \"firstround_lottery\" if (draft>=1) and (draft<15) else (\n",
        "                  \"firstround_non_lottery\" if (draft>=15) and (draft<30) else \"second_round\" )))\n",
        "data_mlt_sgd.drop(\"DRAFT_NUMBER\", axis=1, inplace=True)"
      ],
      "metadata": {
        "id": "6KXATwEyU21U"
      },
      "id": "6KXATwEyU21U",
      "execution_count": 877,
      "outputs": []
    },
    {
      "cell_type": "code",
      "source": [
        "data_mlt_sgd.head()"
      ],
      "metadata": {
        "colab": {
          "base_uri": "https://localhost:8080/",
          "height": 206
        },
        "id": "fTtwmY0UU31h",
        "outputId": "96ad136b-84e7-461d-998c-56457862b114"
      },
      "id": "fTtwmY0UU31h",
      "execution_count": 878,
      "outputs": [
        {
          "output_type": "execute_result",
          "data": {
            "text/plain": [
              "          PTS  REB  AST  BLK  SEASON_EXP POSITION  TEAM_NAME    Salary  \\\n",
              "1630173   6.5  5.1  0.8  0.5           1  Forward    Raptors   2711280   \n",
              "203500    9.3  7.9  1.4  0.9           8   Center  Grizzlies  17073171   \n",
              "1628389  13.2  8.2  3.5  0.9           4   Center       Heat  28103550   \n",
              "1630583   3.3  2.4  0.5  0.3           0  Forward  Grizzlies   1994520   \n",
              "200746   19.1  8.1  1.9  1.1          15   Center       Nets   2641691   \n",
              "\n",
              "                          DRAFT  \n",
              "1630173  firstround_non_lottery  \n",
              "203500       firstround_lottery  \n",
              "1628389      firstround_lottery  \n",
              "1630583            second_round  \n",
              "200746       firstround_lottery  "
            ],
            "text/html": [
              "\n",
              "  <div id=\"df-f86427ea-c40c-4e51-81b6-024fb9f4c8a9\">\n",
              "    <div class=\"colab-df-container\">\n",
              "      <div>\n",
              "<style scoped>\n",
              "    .dataframe tbody tr th:only-of-type {\n",
              "        vertical-align: middle;\n",
              "    }\n",
              "\n",
              "    .dataframe tbody tr th {\n",
              "        vertical-align: top;\n",
              "    }\n",
              "\n",
              "    .dataframe thead th {\n",
              "        text-align: right;\n",
              "    }\n",
              "</style>\n",
              "<table border=\"1\" class=\"dataframe\">\n",
              "  <thead>\n",
              "    <tr style=\"text-align: right;\">\n",
              "      <th></th>\n",
              "      <th>PTS</th>\n",
              "      <th>REB</th>\n",
              "      <th>AST</th>\n",
              "      <th>BLK</th>\n",
              "      <th>SEASON_EXP</th>\n",
              "      <th>POSITION</th>\n",
              "      <th>TEAM_NAME</th>\n",
              "      <th>Salary</th>\n",
              "      <th>DRAFT</th>\n",
              "    </tr>\n",
              "  </thead>\n",
              "  <tbody>\n",
              "    <tr>\n",
              "      <th>1630173</th>\n",
              "      <td>6.5</td>\n",
              "      <td>5.1</td>\n",
              "      <td>0.8</td>\n",
              "      <td>0.5</td>\n",
              "      <td>1</td>\n",
              "      <td>Forward</td>\n",
              "      <td>Raptors</td>\n",
              "      <td>2711280</td>\n",
              "      <td>firstround_non_lottery</td>\n",
              "    </tr>\n",
              "    <tr>\n",
              "      <th>203500</th>\n",
              "      <td>9.3</td>\n",
              "      <td>7.9</td>\n",
              "      <td>1.4</td>\n",
              "      <td>0.9</td>\n",
              "      <td>8</td>\n",
              "      <td>Center</td>\n",
              "      <td>Grizzlies</td>\n",
              "      <td>17073171</td>\n",
              "      <td>firstround_lottery</td>\n",
              "    </tr>\n",
              "    <tr>\n",
              "      <th>1628389</th>\n",
              "      <td>13.2</td>\n",
              "      <td>8.2</td>\n",
              "      <td>3.5</td>\n",
              "      <td>0.9</td>\n",
              "      <td>4</td>\n",
              "      <td>Center</td>\n",
              "      <td>Heat</td>\n",
              "      <td>28103550</td>\n",
              "      <td>firstround_lottery</td>\n",
              "    </tr>\n",
              "    <tr>\n",
              "      <th>1630583</th>\n",
              "      <td>3.3</td>\n",
              "      <td>2.4</td>\n",
              "      <td>0.5</td>\n",
              "      <td>0.3</td>\n",
              "      <td>0</td>\n",
              "      <td>Forward</td>\n",
              "      <td>Grizzlies</td>\n",
              "      <td>1994520</td>\n",
              "      <td>second_round</td>\n",
              "    </tr>\n",
              "    <tr>\n",
              "      <th>200746</th>\n",
              "      <td>19.1</td>\n",
              "      <td>8.1</td>\n",
              "      <td>1.9</td>\n",
              "      <td>1.1</td>\n",
              "      <td>15</td>\n",
              "      <td>Center</td>\n",
              "      <td>Nets</td>\n",
              "      <td>2641691</td>\n",
              "      <td>firstround_lottery</td>\n",
              "    </tr>\n",
              "  </tbody>\n",
              "</table>\n",
              "</div>\n",
              "      <button class=\"colab-df-convert\" onclick=\"convertToInteractive('df-f86427ea-c40c-4e51-81b6-024fb9f4c8a9')\"\n",
              "              title=\"Convert this dataframe to an interactive table.\"\n",
              "              style=\"display:none;\">\n",
              "        \n",
              "  <svg xmlns=\"http://www.w3.org/2000/svg\" height=\"24px\"viewBox=\"0 0 24 24\"\n",
              "       width=\"24px\">\n",
              "    <path d=\"M0 0h24v24H0V0z\" fill=\"none\"/>\n",
              "    <path d=\"M18.56 5.44l.94 2.06.94-2.06 2.06-.94-2.06-.94-.94-2.06-.94 2.06-2.06.94zm-11 1L8.5 8.5l.94-2.06 2.06-.94-2.06-.94L8.5 2.5l-.94 2.06-2.06.94zm10 10l.94 2.06.94-2.06 2.06-.94-2.06-.94-.94-2.06-.94 2.06-2.06.94z\"/><path d=\"M17.41 7.96l-1.37-1.37c-.4-.4-.92-.59-1.43-.59-.52 0-1.04.2-1.43.59L10.3 9.45l-7.72 7.72c-.78.78-.78 2.05 0 2.83L4 21.41c.39.39.9.59 1.41.59.51 0 1.02-.2 1.41-.59l7.78-7.78 2.81-2.81c.8-.78.8-2.07 0-2.86zM5.41 20L4 18.59l7.72-7.72 1.47 1.35L5.41 20z\"/>\n",
              "  </svg>\n",
              "      </button>\n",
              "      \n",
              "  <style>\n",
              "    .colab-df-container {\n",
              "      display:flex;\n",
              "      flex-wrap:wrap;\n",
              "      gap: 12px;\n",
              "    }\n",
              "\n",
              "    .colab-df-convert {\n",
              "      background-color: #E8F0FE;\n",
              "      border: none;\n",
              "      border-radius: 50%;\n",
              "      cursor: pointer;\n",
              "      display: none;\n",
              "      fill: #1967D2;\n",
              "      height: 32px;\n",
              "      padding: 0 0 0 0;\n",
              "      width: 32px;\n",
              "    }\n",
              "\n",
              "    .colab-df-convert:hover {\n",
              "      background-color: #E2EBFA;\n",
              "      box-shadow: 0px 1px 2px rgba(60, 64, 67, 0.3), 0px 1px 3px 1px rgba(60, 64, 67, 0.15);\n",
              "      fill: #174EA6;\n",
              "    }\n",
              "\n",
              "    [theme=dark] .colab-df-convert {\n",
              "      background-color: #3B4455;\n",
              "      fill: #D2E3FC;\n",
              "    }\n",
              "\n",
              "    [theme=dark] .colab-df-convert:hover {\n",
              "      background-color: #434B5C;\n",
              "      box-shadow: 0px 1px 3px 1px rgba(0, 0, 0, 0.15);\n",
              "      filter: drop-shadow(0px 1px 2px rgba(0, 0, 0, 0.3));\n",
              "      fill: #FFFFFF;\n",
              "    }\n",
              "  </style>\n",
              "\n",
              "      <script>\n",
              "        const buttonEl =\n",
              "          document.querySelector('#df-f86427ea-c40c-4e51-81b6-024fb9f4c8a9 button.colab-df-convert');\n",
              "        buttonEl.style.display =\n",
              "          google.colab.kernel.accessAllowed ? 'block' : 'none';\n",
              "\n",
              "        async function convertToInteractive(key) {\n",
              "          const element = document.querySelector('#df-f86427ea-c40c-4e51-81b6-024fb9f4c8a9');\n",
              "          const dataTable =\n",
              "            await google.colab.kernel.invokeFunction('convertToInteractive',\n",
              "                                                     [key], {});\n",
              "          if (!dataTable) return;\n",
              "\n",
              "          const docLinkHtml = 'Like what you see? Visit the ' +\n",
              "            '<a target=\"_blank\" href=https://colab.research.google.com/notebooks/data_table.ipynb>data table notebook</a>'\n",
              "            + ' to learn more about interactive tables.';\n",
              "          element.innerHTML = '';\n",
              "          dataTable['output_type'] = 'display_data';\n",
              "          await google.colab.output.renderOutput(dataTable, element);\n",
              "          const docLink = document.createElement('div');\n",
              "          docLink.innerHTML = docLinkHtml;\n",
              "          element.appendChild(docLink);\n",
              "        }\n",
              "      </script>\n",
              "    </div>\n",
              "  </div>\n",
              "  "
            ]
          },
          "metadata": {},
          "execution_count": 878
        }
      ]
    },
    {
      "cell_type": "markdown",
      "id": "37a55237-cb04-4c38-bef3-8c363f9dbe5c",
      "metadata": {
        "id": "37a55237-cb04-4c38-bef3-8c363f9dbe5c"
      },
      "source": [
        "1.12. Encode the categorical features: DRAFT, POSITION and TEAM_NAME"
      ]
    },
    {
      "cell_type": "code",
      "execution_count": 879,
      "id": "c565394e-5d44-4418-a33b-eaa801062dbc",
      "metadata": {
        "id": "c565394e-5d44-4418-a33b-eaa801062dbc",
        "colab": {
          "base_uri": "https://localhost:8080/",
          "height": 317
        },
        "outputId": "76cccefb-1adc-4e14-cb7d-2b9864242002"
      },
      "outputs": [
        {
          "output_type": "execute_result",
          "data": {
            "text/plain": [
              "          PTS  REB  AST  BLK  SEASON_EXP    Salary  DRAFT_firstround_lottery  \\\n",
              "1630173   6.5  5.1  0.8  0.5           1   2711280                         0   \n",
              "203500    9.3  7.9  1.4  0.9           8  17073171                         1   \n",
              "1628389  13.2  8.2  3.5  0.9           4  28103550                         1   \n",
              "1630583   3.3  2.4  0.5  0.3           0   1994520                         0   \n",
              "200746   19.1  8.1  1.9  1.1          15   2641691                         1   \n",
              "\n",
              "         DRAFT_firstround_non_lottery  DRAFT_second_round  DRAFT_undrafted  \\\n",
              "1630173                             1                   0                0   \n",
              "203500                              0                   0                0   \n",
              "1628389                             0                   0                0   \n",
              "1630583                             0                   1                0   \n",
              "200746                              0                   0                0   \n",
              "\n",
              "         ...  TEAM_NAME_Pistons  TEAM_NAME_Raptors  TEAM_NAME_Rockets  \\\n",
              "1630173  ...                  0                  1                  0   \n",
              "203500   ...                  0                  0                  0   \n",
              "1628389  ...                  0                  0                  0   \n",
              "1630583  ...                  0                  0                  0   \n",
              "200746   ...                  0                  0                  0   \n",
              "\n",
              "         TEAM_NAME_Spurs  TEAM_NAME_Suns  TEAM_NAME_Thunder  \\\n",
              "1630173                0               0                  0   \n",
              "203500                 0               0                  0   \n",
              "1628389                0               0                  0   \n",
              "1630583                0               0                  0   \n",
              "200746                 0               0                  0   \n",
              "\n",
              "         TEAM_NAME_Timberwolves  TEAM_NAME_Trail Blazers  TEAM_NAME_Warriors  \\\n",
              "1630173                       0                        0                   0   \n",
              "203500                        0                        0                   0   \n",
              "1628389                       0                        0                   0   \n",
              "1630583                       0                        0                   0   \n",
              "200746                        0                        0                   0   \n",
              "\n",
              "         TEAM_NAME_Wizards  \n",
              "1630173                  0  \n",
              "203500                   0  \n",
              "1628389                  0  \n",
              "1630583                  0  \n",
              "200746                   0  \n",
              "\n",
              "[5 rows x 43 columns]"
            ],
            "text/html": [
              "\n",
              "  <div id=\"df-7ca78e9a-c7a3-436c-b5d1-1abd7789963c\">\n",
              "    <div class=\"colab-df-container\">\n",
              "      <div>\n",
              "<style scoped>\n",
              "    .dataframe tbody tr th:only-of-type {\n",
              "        vertical-align: middle;\n",
              "    }\n",
              "\n",
              "    .dataframe tbody tr th {\n",
              "        vertical-align: top;\n",
              "    }\n",
              "\n",
              "    .dataframe thead th {\n",
              "        text-align: right;\n",
              "    }\n",
              "</style>\n",
              "<table border=\"1\" class=\"dataframe\">\n",
              "  <thead>\n",
              "    <tr style=\"text-align: right;\">\n",
              "      <th></th>\n",
              "      <th>PTS</th>\n",
              "      <th>REB</th>\n",
              "      <th>AST</th>\n",
              "      <th>BLK</th>\n",
              "      <th>SEASON_EXP</th>\n",
              "      <th>Salary</th>\n",
              "      <th>DRAFT_firstround_lottery</th>\n",
              "      <th>DRAFT_firstround_non_lottery</th>\n",
              "      <th>DRAFT_second_round</th>\n",
              "      <th>DRAFT_undrafted</th>\n",
              "      <th>...</th>\n",
              "      <th>TEAM_NAME_Pistons</th>\n",
              "      <th>TEAM_NAME_Raptors</th>\n",
              "      <th>TEAM_NAME_Rockets</th>\n",
              "      <th>TEAM_NAME_Spurs</th>\n",
              "      <th>TEAM_NAME_Suns</th>\n",
              "      <th>TEAM_NAME_Thunder</th>\n",
              "      <th>TEAM_NAME_Timberwolves</th>\n",
              "      <th>TEAM_NAME_Trail Blazers</th>\n",
              "      <th>TEAM_NAME_Warriors</th>\n",
              "      <th>TEAM_NAME_Wizards</th>\n",
              "    </tr>\n",
              "  </thead>\n",
              "  <tbody>\n",
              "    <tr>\n",
              "      <th>1630173</th>\n",
              "      <td>6.5</td>\n",
              "      <td>5.1</td>\n",
              "      <td>0.8</td>\n",
              "      <td>0.5</td>\n",
              "      <td>1</td>\n",
              "      <td>2711280</td>\n",
              "      <td>0</td>\n",
              "      <td>1</td>\n",
              "      <td>0</td>\n",
              "      <td>0</td>\n",
              "      <td>...</td>\n",
              "      <td>0</td>\n",
              "      <td>1</td>\n",
              "      <td>0</td>\n",
              "      <td>0</td>\n",
              "      <td>0</td>\n",
              "      <td>0</td>\n",
              "      <td>0</td>\n",
              "      <td>0</td>\n",
              "      <td>0</td>\n",
              "      <td>0</td>\n",
              "    </tr>\n",
              "    <tr>\n",
              "      <th>203500</th>\n",
              "      <td>9.3</td>\n",
              "      <td>7.9</td>\n",
              "      <td>1.4</td>\n",
              "      <td>0.9</td>\n",
              "      <td>8</td>\n",
              "      <td>17073171</td>\n",
              "      <td>1</td>\n",
              "      <td>0</td>\n",
              "      <td>0</td>\n",
              "      <td>0</td>\n",
              "      <td>...</td>\n",
              "      <td>0</td>\n",
              "      <td>0</td>\n",
              "      <td>0</td>\n",
              "      <td>0</td>\n",
              "      <td>0</td>\n",
              "      <td>0</td>\n",
              "      <td>0</td>\n",
              "      <td>0</td>\n",
              "      <td>0</td>\n",
              "      <td>0</td>\n",
              "    </tr>\n",
              "    <tr>\n",
              "      <th>1628389</th>\n",
              "      <td>13.2</td>\n",
              "      <td>8.2</td>\n",
              "      <td>3.5</td>\n",
              "      <td>0.9</td>\n",
              "      <td>4</td>\n",
              "      <td>28103550</td>\n",
              "      <td>1</td>\n",
              "      <td>0</td>\n",
              "      <td>0</td>\n",
              "      <td>0</td>\n",
              "      <td>...</td>\n",
              "      <td>0</td>\n",
              "      <td>0</td>\n",
              "      <td>0</td>\n",
              "      <td>0</td>\n",
              "      <td>0</td>\n",
              "      <td>0</td>\n",
              "      <td>0</td>\n",
              "      <td>0</td>\n",
              "      <td>0</td>\n",
              "      <td>0</td>\n",
              "    </tr>\n",
              "    <tr>\n",
              "      <th>1630583</th>\n",
              "      <td>3.3</td>\n",
              "      <td>2.4</td>\n",
              "      <td>0.5</td>\n",
              "      <td>0.3</td>\n",
              "      <td>0</td>\n",
              "      <td>1994520</td>\n",
              "      <td>0</td>\n",
              "      <td>0</td>\n",
              "      <td>1</td>\n",
              "      <td>0</td>\n",
              "      <td>...</td>\n",
              "      <td>0</td>\n",
              "      <td>0</td>\n",
              "      <td>0</td>\n",
              "      <td>0</td>\n",
              "      <td>0</td>\n",
              "      <td>0</td>\n",
              "      <td>0</td>\n",
              "      <td>0</td>\n",
              "      <td>0</td>\n",
              "      <td>0</td>\n",
              "    </tr>\n",
              "    <tr>\n",
              "      <th>200746</th>\n",
              "      <td>19.1</td>\n",
              "      <td>8.1</td>\n",
              "      <td>1.9</td>\n",
              "      <td>1.1</td>\n",
              "      <td>15</td>\n",
              "      <td>2641691</td>\n",
              "      <td>1</td>\n",
              "      <td>0</td>\n",
              "      <td>0</td>\n",
              "      <td>0</td>\n",
              "      <td>...</td>\n",
              "      <td>0</td>\n",
              "      <td>0</td>\n",
              "      <td>0</td>\n",
              "      <td>0</td>\n",
              "      <td>0</td>\n",
              "      <td>0</td>\n",
              "      <td>0</td>\n",
              "      <td>0</td>\n",
              "      <td>0</td>\n",
              "      <td>0</td>\n",
              "    </tr>\n",
              "  </tbody>\n",
              "</table>\n",
              "<p>5 rows × 43 columns</p>\n",
              "</div>\n",
              "      <button class=\"colab-df-convert\" onclick=\"convertToInteractive('df-7ca78e9a-c7a3-436c-b5d1-1abd7789963c')\"\n",
              "              title=\"Convert this dataframe to an interactive table.\"\n",
              "              style=\"display:none;\">\n",
              "        \n",
              "  <svg xmlns=\"http://www.w3.org/2000/svg\" height=\"24px\"viewBox=\"0 0 24 24\"\n",
              "       width=\"24px\">\n",
              "    <path d=\"M0 0h24v24H0V0z\" fill=\"none\"/>\n",
              "    <path d=\"M18.56 5.44l.94 2.06.94-2.06 2.06-.94-2.06-.94-.94-2.06-.94 2.06-2.06.94zm-11 1L8.5 8.5l.94-2.06 2.06-.94-2.06-.94L8.5 2.5l-.94 2.06-2.06.94zm10 10l.94 2.06.94-2.06 2.06-.94-2.06-.94-.94-2.06-.94 2.06-2.06.94z\"/><path d=\"M17.41 7.96l-1.37-1.37c-.4-.4-.92-.59-1.43-.59-.52 0-1.04.2-1.43.59L10.3 9.45l-7.72 7.72c-.78.78-.78 2.05 0 2.83L4 21.41c.39.39.9.59 1.41.59.51 0 1.02-.2 1.41-.59l7.78-7.78 2.81-2.81c.8-.78.8-2.07 0-2.86zM5.41 20L4 18.59l7.72-7.72 1.47 1.35L5.41 20z\"/>\n",
              "  </svg>\n",
              "      </button>\n",
              "      \n",
              "  <style>\n",
              "    .colab-df-container {\n",
              "      display:flex;\n",
              "      flex-wrap:wrap;\n",
              "      gap: 12px;\n",
              "    }\n",
              "\n",
              "    .colab-df-convert {\n",
              "      background-color: #E8F0FE;\n",
              "      border: none;\n",
              "      border-radius: 50%;\n",
              "      cursor: pointer;\n",
              "      display: none;\n",
              "      fill: #1967D2;\n",
              "      height: 32px;\n",
              "      padding: 0 0 0 0;\n",
              "      width: 32px;\n",
              "    }\n",
              "\n",
              "    .colab-df-convert:hover {\n",
              "      background-color: #E2EBFA;\n",
              "      box-shadow: 0px 1px 2px rgba(60, 64, 67, 0.3), 0px 1px 3px 1px rgba(60, 64, 67, 0.15);\n",
              "      fill: #174EA6;\n",
              "    }\n",
              "\n",
              "    [theme=dark] .colab-df-convert {\n",
              "      background-color: #3B4455;\n",
              "      fill: #D2E3FC;\n",
              "    }\n",
              "\n",
              "    [theme=dark] .colab-df-convert:hover {\n",
              "      background-color: #434B5C;\n",
              "      box-shadow: 0px 1px 3px 1px rgba(0, 0, 0, 0.15);\n",
              "      filter: drop-shadow(0px 1px 2px rgba(0, 0, 0, 0.3));\n",
              "      fill: #FFFFFF;\n",
              "    }\n",
              "  </style>\n",
              "\n",
              "      <script>\n",
              "        const buttonEl =\n",
              "          document.querySelector('#df-7ca78e9a-c7a3-436c-b5d1-1abd7789963c button.colab-df-convert');\n",
              "        buttonEl.style.display =\n",
              "          google.colab.kernel.accessAllowed ? 'block' : 'none';\n",
              "\n",
              "        async function convertToInteractive(key) {\n",
              "          const element = document.querySelector('#df-7ca78e9a-c7a3-436c-b5d1-1abd7789963c');\n",
              "          const dataTable =\n",
              "            await google.colab.kernel.invokeFunction('convertToInteractive',\n",
              "                                                     [key], {});\n",
              "          if (!dataTable) return;\n",
              "\n",
              "          const docLinkHtml = 'Like what you see? Visit the ' +\n",
              "            '<a target=\"_blank\" href=https://colab.research.google.com/notebooks/data_table.ipynb>data table notebook</a>'\n",
              "            + ' to learn more about interactive tables.';\n",
              "          element.innerHTML = '';\n",
              "          dataTable['output_type'] = 'display_data';\n",
              "          await google.colab.output.renderOutput(dataTable, element);\n",
              "          const docLink = document.createElement('div');\n",
              "          docLink.innerHTML = docLinkHtml;\n",
              "          element.appendChild(docLink);\n",
              "        }\n",
              "      </script>\n",
              "    </div>\n",
              "  </div>\n",
              "  "
            ]
          },
          "metadata": {},
          "execution_count": 879
        }
      ],
      "source": [
        "data_mlt_sgd = pd.get_dummies(data_mlt_sgd, columns=['DRAFT','POSITION','TEAM_NAME'])\n",
        "data_mlt_sgd.head()"
      ]
    },
    {
      "cell_type": "code",
      "source": [
        "data_mlt_sgd.info()"
      ],
      "metadata": {
        "colab": {
          "base_uri": "https://localhost:8080/"
        },
        "id": "Naci_fgyVHqI",
        "outputId": "c81edbe2-166c-4362-a98b-a81e4ce02893"
      },
      "id": "Naci_fgyVHqI",
      "execution_count": 880,
      "outputs": [
        {
          "output_type": "stream",
          "name": "stdout",
          "text": [
            "<class 'pandas.core.frame.DataFrame'>\n",
            "Int64Index: 437 entries, 1630173 to 1627826\n",
            "Data columns (total 43 columns):\n",
            " #   Column                        Non-Null Count  Dtype  \n",
            "---  ------                        --------------  -----  \n",
            " 0   PTS                           437 non-null    float64\n",
            " 1   REB                           437 non-null    float64\n",
            " 2   AST                           437 non-null    float64\n",
            " 3   BLK                           437 non-null    float64\n",
            " 4   SEASON_EXP                    437 non-null    int64  \n",
            " 5   Salary                        437 non-null    int64  \n",
            " 6   DRAFT_firstround_lottery      437 non-null    uint8  \n",
            " 7   DRAFT_firstround_non_lottery  437 non-null    uint8  \n",
            " 8   DRAFT_second_round            437 non-null    uint8  \n",
            " 9   DRAFT_undrafted               437 non-null    uint8  \n",
            " 10  POSITION_Center               437 non-null    uint8  \n",
            " 11  POSITION_Forward              437 non-null    uint8  \n",
            " 12  POSITION_Guard                437 non-null    uint8  \n",
            " 13  TEAM_NAME_76ers               437 non-null    uint8  \n",
            " 14  TEAM_NAME_Bucks               437 non-null    uint8  \n",
            " 15  TEAM_NAME_Bulls               437 non-null    uint8  \n",
            " 16  TEAM_NAME_Cavaliers           437 non-null    uint8  \n",
            " 17  TEAM_NAME_Celtics             437 non-null    uint8  \n",
            " 18  TEAM_NAME_Clippers            437 non-null    uint8  \n",
            " 19  TEAM_NAME_Grizzlies           437 non-null    uint8  \n",
            " 20  TEAM_NAME_Hawks               437 non-null    uint8  \n",
            " 21  TEAM_NAME_Heat                437 non-null    uint8  \n",
            " 22  TEAM_NAME_Hornets             437 non-null    uint8  \n",
            " 23  TEAM_NAME_Jazz                437 non-null    uint8  \n",
            " 24  TEAM_NAME_Kings               437 non-null    uint8  \n",
            " 25  TEAM_NAME_Knicks              437 non-null    uint8  \n",
            " 26  TEAM_NAME_Lakers              437 non-null    uint8  \n",
            " 27  TEAM_NAME_Magic               437 non-null    uint8  \n",
            " 28  TEAM_NAME_Mavericks           437 non-null    uint8  \n",
            " 29  TEAM_NAME_Nets                437 non-null    uint8  \n",
            " 30  TEAM_NAME_Nuggets             437 non-null    uint8  \n",
            " 31  TEAM_NAME_Pacers              437 non-null    uint8  \n",
            " 32  TEAM_NAME_Pelicans            437 non-null    uint8  \n",
            " 33  TEAM_NAME_Pistons             437 non-null    uint8  \n",
            " 34  TEAM_NAME_Raptors             437 non-null    uint8  \n",
            " 35  TEAM_NAME_Rockets             437 non-null    uint8  \n",
            " 36  TEAM_NAME_Spurs               437 non-null    uint8  \n",
            " 37  TEAM_NAME_Suns                437 non-null    uint8  \n",
            " 38  TEAM_NAME_Thunder             437 non-null    uint8  \n",
            " 39  TEAM_NAME_Timberwolves        437 non-null    uint8  \n",
            " 40  TEAM_NAME_Trail Blazers       437 non-null    uint8  \n",
            " 41  TEAM_NAME_Warriors            437 non-null    uint8  \n",
            " 42  TEAM_NAME_Wizards             437 non-null    uint8  \n",
            "dtypes: float64(4), int64(2), uint8(37)\n",
            "memory usage: 39.7 KB\n"
          ]
        }
      ]
    },
    {
      "cell_type": "markdown",
      "id": "9816d9d4-b44d-4bb7-9cad-156daee9dc50",
      "metadata": {
        "id": "9816d9d4-b44d-4bb7-9cad-156daee9dc50"
      },
      "source": [
        "#### Modeling"
      ]
    },
    {
      "cell_type": "markdown",
      "id": "1eb528f1-852e-428e-b97c-40b412985f98",
      "metadata": {
        "id": "1eb528f1-852e-428e-b97c-40b412985f98"
      },
      "source": [
        "1.13. Split the dataset into train and test"
      ]
    },
    {
      "cell_type": "code",
      "source": [
        "target_mlt_sgd = \"Salary\"\n",
        "labels_mlt_sgd = data_mlt_sgd.columns.drop(\"Salary\").values\n",
        "y = data_mlt_sgd[target_mlt_sgd]\n",
        "X = data_mlt_sgd[labels_mlt_sgd]"
      ],
      "metadata": {
        "id": "CQODU63vVNvw"
      },
      "id": "CQODU63vVNvw",
      "execution_count": 881,
      "outputs": []
    },
    {
      "cell_type": "code",
      "source": [
        "X_train, X_test, y_train, y_test = train_test_split(X, y, test_size=0.10, random_state=8)"
      ],
      "metadata": {
        "id": "hVpZXgXSVPbC"
      },
      "id": "hVpZXgXSVPbC",
      "execution_count": 882,
      "outputs": []
    },
    {
      "cell_type": "markdown",
      "id": "b2540df8-ac16-4ad1-b8cf-028f566faa06",
      "metadata": {
        "id": "b2540df8-ac16-4ad1-b8cf-028f566faa06"
      },
      "source": [
        "1.14. Perform feature scaling in all the numerical features (\"PTS\", \"REB\", \"AST\", \"BLK\", \"SEASON_EXP\") except for draft number (which we will tackle next)"
      ]
    },
    {
      "cell_type": "code",
      "execution_count": 883,
      "id": "7696efd0-94f8-49ce-846f-4fd24a01b0fd",
      "metadata": {
        "id": "7696efd0-94f8-49ce-846f-4fd24a01b0fd"
      },
      "outputs": [],
      "source": [
        "mult_sgd_scaler = MinMaxScaler()"
      ]
    },
    {
      "cell_type": "code",
      "source": [
        "mult_sgd_scaler.fit(X_train[[\"PTS\", \"REB\", \"AST\", \"BLK\", \"SEASON_EXP\"]])"
      ],
      "metadata": {
        "colab": {
          "base_uri": "https://localhost:8080/"
        },
        "id": "1Zi_VBbVVS3I",
        "outputId": "3a32d1b4-737a-4368-e532-223ce1049069"
      },
      "id": "1Zi_VBbVVS3I",
      "execution_count": 884,
      "outputs": [
        {
          "output_type": "execute_result",
          "data": {
            "text/plain": [
              "MinMaxScaler()"
            ]
          },
          "metadata": {},
          "execution_count": 884
        }
      ]
    },
    {
      "cell_type": "code",
      "source": [
        "X_train[[\"PTS\", \"REB\", \"AST\", \"BLK\", \"SEASON_EXP\"]] = mult_sgd_scaler.transform(X_train[[\"PTS\", \"REB\", \"AST\", \"BLK\", \"SEASON_EXP\"]])"
      ],
      "metadata": {
        "id": "bu3v_FpZVS7V"
      },
      "id": "bu3v_FpZVS7V",
      "execution_count": 885,
      "outputs": []
    },
    {
      "cell_type": "code",
      "source": [
        "X_test[[\"PTS\", \"REB\", \"AST\", \"BLK\", \"SEASON_EXP\"]] = mult_sgd_scaler.transform(X_test[[\"PTS\", \"REB\", \"AST\", \"BLK\", \"SEASON_EXP\"]])"
      ],
      "metadata": {
        "id": "paTj05gdVTDC"
      },
      "id": "paTj05gdVTDC",
      "execution_count": 886,
      "outputs": []
    },
    {
      "cell_type": "code",
      "source": [
        "X_train.head()"
      ],
      "metadata": {
        "colab": {
          "base_uri": "https://localhost:8080/",
          "height": 317
        },
        "id": "lCG5hxpkVciZ",
        "outputId": "19ba2c71-488f-48e8-b599-ce46b59ad898"
      },
      "id": "lCG5hxpkVciZ",
      "execution_count": 887,
      "outputs": [
        {
          "output_type": "execute_result",
          "data": {
            "text/plain": [
              "              PTS       REB       AST       BLK  SEASON_EXP  \\\n",
              "1629642  0.214022  0.226562  0.073684  0.217391    0.111111   \n",
              "203925   0.409594  0.210938  0.168421  0.086957    0.388889   \n",
              "200794   0.494465  0.515625  0.231579  0.434783    0.833333   \n",
              "200746   0.704797  0.593750  0.200000  0.478261    0.833333   \n",
              "1630172  0.335793  0.304688  0.136842  0.260870    0.055556   \n",
              "\n",
              "         DRAFT_firstround_lottery  DRAFT_firstround_non_lottery  \\\n",
              "1629642                         0                             1   \n",
              "203925                          0                             0   \n",
              "200794                          0                             0   \n",
              "200746                          1                             0   \n",
              "1630172                         1                             0   \n",
              "\n",
              "         DRAFT_second_round  DRAFT_undrafted  POSITION_Center  ...  \\\n",
              "1629642                   0                0                0  ...   \n",
              "203925                    1                0                0  ...   \n",
              "200794                    1                0                0  ...   \n",
              "200746                    0                0                1  ...   \n",
              "1630172                   0                0                0  ...   \n",
              "\n",
              "         TEAM_NAME_Pistons  TEAM_NAME_Raptors  TEAM_NAME_Rockets  \\\n",
              "1629642                  0                  0                  0   \n",
              "203925                   0                  0                  0   \n",
              "200794                   0                  0                  0   \n",
              "200746                   0                  0                  0   \n",
              "1630172                  0                  0                  0   \n",
              "\n",
              "         TEAM_NAME_Spurs  TEAM_NAME_Suns  TEAM_NAME_Thunder  \\\n",
              "1629642                0               0                  0   \n",
              "203925                 0               0                  0   \n",
              "200794                 0               0                  0   \n",
              "200746                 0               0                  0   \n",
              "1630172                0               0                  0   \n",
              "\n",
              "         TEAM_NAME_Timberwolves  TEAM_NAME_Trail Blazers  TEAM_NAME_Warriors  \\\n",
              "1629642                       0                        1                   0   \n",
              "203925                        0                        0                   0   \n",
              "200794                        0                        0                   0   \n",
              "200746                        0                        0                   0   \n",
              "1630172                       0                        0                   0   \n",
              "\n",
              "         TEAM_NAME_Wizards  \n",
              "1629642                  0  \n",
              "203925                   0  \n",
              "200794                   0  \n",
              "200746                   0  \n",
              "1630172                  0  \n",
              "\n",
              "[5 rows x 42 columns]"
            ],
            "text/html": [
              "\n",
              "  <div id=\"df-90356fcc-a402-45d3-a9db-a3ede31455aa\">\n",
              "    <div class=\"colab-df-container\">\n",
              "      <div>\n",
              "<style scoped>\n",
              "    .dataframe tbody tr th:only-of-type {\n",
              "        vertical-align: middle;\n",
              "    }\n",
              "\n",
              "    .dataframe tbody tr th {\n",
              "        vertical-align: top;\n",
              "    }\n",
              "\n",
              "    .dataframe thead th {\n",
              "        text-align: right;\n",
              "    }\n",
              "</style>\n",
              "<table border=\"1\" class=\"dataframe\">\n",
              "  <thead>\n",
              "    <tr style=\"text-align: right;\">\n",
              "      <th></th>\n",
              "      <th>PTS</th>\n",
              "      <th>REB</th>\n",
              "      <th>AST</th>\n",
              "      <th>BLK</th>\n",
              "      <th>SEASON_EXP</th>\n",
              "      <th>DRAFT_firstround_lottery</th>\n",
              "      <th>DRAFT_firstround_non_lottery</th>\n",
              "      <th>DRAFT_second_round</th>\n",
              "      <th>DRAFT_undrafted</th>\n",
              "      <th>POSITION_Center</th>\n",
              "      <th>...</th>\n",
              "      <th>TEAM_NAME_Pistons</th>\n",
              "      <th>TEAM_NAME_Raptors</th>\n",
              "      <th>TEAM_NAME_Rockets</th>\n",
              "      <th>TEAM_NAME_Spurs</th>\n",
              "      <th>TEAM_NAME_Suns</th>\n",
              "      <th>TEAM_NAME_Thunder</th>\n",
              "      <th>TEAM_NAME_Timberwolves</th>\n",
              "      <th>TEAM_NAME_Trail Blazers</th>\n",
              "      <th>TEAM_NAME_Warriors</th>\n",
              "      <th>TEAM_NAME_Wizards</th>\n",
              "    </tr>\n",
              "  </thead>\n",
              "  <tbody>\n",
              "    <tr>\n",
              "      <th>1629642</th>\n",
              "      <td>0.214022</td>\n",
              "      <td>0.226562</td>\n",
              "      <td>0.073684</td>\n",
              "      <td>0.217391</td>\n",
              "      <td>0.111111</td>\n",
              "      <td>0</td>\n",
              "      <td>1</td>\n",
              "      <td>0</td>\n",
              "      <td>0</td>\n",
              "      <td>0</td>\n",
              "      <td>...</td>\n",
              "      <td>0</td>\n",
              "      <td>0</td>\n",
              "      <td>0</td>\n",
              "      <td>0</td>\n",
              "      <td>0</td>\n",
              "      <td>0</td>\n",
              "      <td>0</td>\n",
              "      <td>1</td>\n",
              "      <td>0</td>\n",
              "      <td>0</td>\n",
              "    </tr>\n",
              "    <tr>\n",
              "      <th>203925</th>\n",
              "      <td>0.409594</td>\n",
              "      <td>0.210938</td>\n",
              "      <td>0.168421</td>\n",
              "      <td>0.086957</td>\n",
              "      <td>0.388889</td>\n",
              "      <td>0</td>\n",
              "      <td>0</td>\n",
              "      <td>1</td>\n",
              "      <td>0</td>\n",
              "      <td>0</td>\n",
              "      <td>...</td>\n",
              "      <td>0</td>\n",
              "      <td>0</td>\n",
              "      <td>0</td>\n",
              "      <td>0</td>\n",
              "      <td>0</td>\n",
              "      <td>0</td>\n",
              "      <td>0</td>\n",
              "      <td>0</td>\n",
              "      <td>0</td>\n",
              "      <td>0</td>\n",
              "    </tr>\n",
              "    <tr>\n",
              "      <th>200794</th>\n",
              "      <td>0.494465</td>\n",
              "      <td>0.515625</td>\n",
              "      <td>0.231579</td>\n",
              "      <td>0.434783</td>\n",
              "      <td>0.833333</td>\n",
              "      <td>0</td>\n",
              "      <td>0</td>\n",
              "      <td>1</td>\n",
              "      <td>0</td>\n",
              "      <td>0</td>\n",
              "      <td>...</td>\n",
              "      <td>0</td>\n",
              "      <td>0</td>\n",
              "      <td>0</td>\n",
              "      <td>0</td>\n",
              "      <td>0</td>\n",
              "      <td>0</td>\n",
              "      <td>0</td>\n",
              "      <td>0</td>\n",
              "      <td>0</td>\n",
              "      <td>0</td>\n",
              "    </tr>\n",
              "    <tr>\n",
              "      <th>200746</th>\n",
              "      <td>0.704797</td>\n",
              "      <td>0.593750</td>\n",
              "      <td>0.200000</td>\n",
              "      <td>0.478261</td>\n",
              "      <td>0.833333</td>\n",
              "      <td>1</td>\n",
              "      <td>0</td>\n",
              "      <td>0</td>\n",
              "      <td>0</td>\n",
              "      <td>1</td>\n",
              "      <td>...</td>\n",
              "      <td>0</td>\n",
              "      <td>0</td>\n",
              "      <td>0</td>\n",
              "      <td>0</td>\n",
              "      <td>0</td>\n",
              "      <td>0</td>\n",
              "      <td>0</td>\n",
              "      <td>0</td>\n",
              "      <td>0</td>\n",
              "      <td>0</td>\n",
              "    </tr>\n",
              "    <tr>\n",
              "      <th>1630172</th>\n",
              "      <td>0.335793</td>\n",
              "      <td>0.304688</td>\n",
              "      <td>0.136842</td>\n",
              "      <td>0.260870</td>\n",
              "      <td>0.055556</td>\n",
              "      <td>1</td>\n",
              "      <td>0</td>\n",
              "      <td>0</td>\n",
              "      <td>0</td>\n",
              "      <td>0</td>\n",
              "      <td>...</td>\n",
              "      <td>0</td>\n",
              "      <td>0</td>\n",
              "      <td>0</td>\n",
              "      <td>0</td>\n",
              "      <td>0</td>\n",
              "      <td>0</td>\n",
              "      <td>0</td>\n",
              "      <td>0</td>\n",
              "      <td>0</td>\n",
              "      <td>0</td>\n",
              "    </tr>\n",
              "  </tbody>\n",
              "</table>\n",
              "<p>5 rows × 42 columns</p>\n",
              "</div>\n",
              "      <button class=\"colab-df-convert\" onclick=\"convertToInteractive('df-90356fcc-a402-45d3-a9db-a3ede31455aa')\"\n",
              "              title=\"Convert this dataframe to an interactive table.\"\n",
              "              style=\"display:none;\">\n",
              "        \n",
              "  <svg xmlns=\"http://www.w3.org/2000/svg\" height=\"24px\"viewBox=\"0 0 24 24\"\n",
              "       width=\"24px\">\n",
              "    <path d=\"M0 0h24v24H0V0z\" fill=\"none\"/>\n",
              "    <path d=\"M18.56 5.44l.94 2.06.94-2.06 2.06-.94-2.06-.94-.94-2.06-.94 2.06-2.06.94zm-11 1L8.5 8.5l.94-2.06 2.06-.94-2.06-.94L8.5 2.5l-.94 2.06-2.06.94zm10 10l.94 2.06.94-2.06 2.06-.94-2.06-.94-.94-2.06-.94 2.06-2.06.94z\"/><path d=\"M17.41 7.96l-1.37-1.37c-.4-.4-.92-.59-1.43-.59-.52 0-1.04.2-1.43.59L10.3 9.45l-7.72 7.72c-.78.78-.78 2.05 0 2.83L4 21.41c.39.39.9.59 1.41.59.51 0 1.02-.2 1.41-.59l7.78-7.78 2.81-2.81c.8-.78.8-2.07 0-2.86zM5.41 20L4 18.59l7.72-7.72 1.47 1.35L5.41 20z\"/>\n",
              "  </svg>\n",
              "      </button>\n",
              "      \n",
              "  <style>\n",
              "    .colab-df-container {\n",
              "      display:flex;\n",
              "      flex-wrap:wrap;\n",
              "      gap: 12px;\n",
              "    }\n",
              "\n",
              "    .colab-df-convert {\n",
              "      background-color: #E8F0FE;\n",
              "      border: none;\n",
              "      border-radius: 50%;\n",
              "      cursor: pointer;\n",
              "      display: none;\n",
              "      fill: #1967D2;\n",
              "      height: 32px;\n",
              "      padding: 0 0 0 0;\n",
              "      width: 32px;\n",
              "    }\n",
              "\n",
              "    .colab-df-convert:hover {\n",
              "      background-color: #E2EBFA;\n",
              "      box-shadow: 0px 1px 2px rgba(60, 64, 67, 0.3), 0px 1px 3px 1px rgba(60, 64, 67, 0.15);\n",
              "      fill: #174EA6;\n",
              "    }\n",
              "\n",
              "    [theme=dark] .colab-df-convert {\n",
              "      background-color: #3B4455;\n",
              "      fill: #D2E3FC;\n",
              "    }\n",
              "\n",
              "    [theme=dark] .colab-df-convert:hover {\n",
              "      background-color: #434B5C;\n",
              "      box-shadow: 0px 1px 3px 1px rgba(0, 0, 0, 0.15);\n",
              "      filter: drop-shadow(0px 1px 2px rgba(0, 0, 0, 0.3));\n",
              "      fill: #FFFFFF;\n",
              "    }\n",
              "  </style>\n",
              "\n",
              "      <script>\n",
              "        const buttonEl =\n",
              "          document.querySelector('#df-90356fcc-a402-45d3-a9db-a3ede31455aa button.colab-df-convert');\n",
              "        buttonEl.style.display =\n",
              "          google.colab.kernel.accessAllowed ? 'block' : 'none';\n",
              "\n",
              "        async function convertToInteractive(key) {\n",
              "          const element = document.querySelector('#df-90356fcc-a402-45d3-a9db-a3ede31455aa');\n",
              "          const dataTable =\n",
              "            await google.colab.kernel.invokeFunction('convertToInteractive',\n",
              "                                                     [key], {});\n",
              "          if (!dataTable) return;\n",
              "\n",
              "          const docLinkHtml = 'Like what you see? Visit the ' +\n",
              "            '<a target=\"_blank\" href=https://colab.research.google.com/notebooks/data_table.ipynb>data table notebook</a>'\n",
              "            + ' to learn more about interactive tables.';\n",
              "          element.innerHTML = '';\n",
              "          dataTable['output_type'] = 'display_data';\n",
              "          await google.colab.output.renderOutput(dataTable, element);\n",
              "          const docLink = document.createElement('div');\n",
              "          docLink.innerHTML = docLinkHtml;\n",
              "          element.appendChild(docLink);\n",
              "        }\n",
              "      </script>\n",
              "    </div>\n",
              "  </div>\n",
              "  "
            ]
          },
          "metadata": {},
          "execution_count": 887
        }
      ]
    },
    {
      "cell_type": "markdown",
      "id": "7790c25a-b516-4e3f-b311-6e5b026bfb80",
      "metadata": {
        "id": "7790c25a-b516-4e3f-b311-6e5b026bfb80"
      },
      "source": [
        "1.15. Write a function to train a SGDRegressor model with the new dataset, trying different hyperparameters, and selecting the one that performs the best."
      ]
    },
    {
      "cell_type": "code",
      "execution_count": 888,
      "id": "7d8642f3-895c-4d8d-85b7-80a087a0adef",
      "metadata": {
        "id": "7d8642f3-895c-4d8d-85b7-80a087a0adef"
      },
      "outputs": [],
      "source": [
        "def search_best_hyperparameters_m(max_iter, eta0):   \n",
        "    result = {}\n",
        "    for ep in max_iter:\n",
        "        for lr in eta0:\n",
        "            append_value(result,\"hyperparameters\",{\"max_iter\": ep, \"eta0\": lr})\n",
        "            append_value(result,\"mae\",9999999999)\n",
        "    for i in result[\"hyperparameters\"]:\n",
        "        sg_t_model = SGDRegressor(eta0=i[\"eta0\"], max_iter=i[\"max_iter\"],random_state=8) \n",
        "        sg_t_model.fit(X_train,y_train)\n",
        "        y_pred = sg_t_model.predict(X_test)\n",
        "        ind = result[\"hyperparameters\"].index(i)\n",
        "        result[\"mae\"][ind] = int(round(mean_absolute_error(y_test,y_pred)))\n",
        "    return result"
      ]
    },
    {
      "cell_type": "code",
      "source": [
        "max_iter = [100000, 1300, 1200, 1500]\n",
        "eta0 = [ 0.001, 0.01, 0.1, 0.05]\n",
        "\n",
        "result = search_best_hyperparameters_m(max_iter,eta0)"
      ],
      "metadata": {
        "colab": {
          "base_uri": "https://localhost:8080/"
        },
        "id": "w2osXqY3Vkdl",
        "outputId": "5218b806-a2ff-43a1-83fb-e434f3b6d402"
      },
      "id": "w2osXqY3Vkdl",
      "execution_count": 889,
      "outputs": [
        {
          "output_type": "stream",
          "name": "stderr",
          "text": [
            "/usr/local/lib/python3.7/dist-packages/sklearn/linear_model/_stochastic_gradient.py:1507: ConvergenceWarning: Maximum number of iteration reached before convergence. Consider increasing max_iter to improve the fit.\n",
            "  ConvergenceWarning,\n",
            "/usr/local/lib/python3.7/dist-packages/sklearn/linear_model/_stochastic_gradient.py:1507: ConvergenceWarning: Maximum number of iteration reached before convergence. Consider increasing max_iter to improve the fit.\n",
            "  ConvergenceWarning,\n",
            "/usr/local/lib/python3.7/dist-packages/sklearn/linear_model/_stochastic_gradient.py:1507: ConvergenceWarning: Maximum number of iteration reached before convergence. Consider increasing max_iter to improve the fit.\n",
            "  ConvergenceWarning,\n"
          ]
        }
      ]
    },
    {
      "cell_type": "code",
      "source": [
        "print(\"Best combination of parameters\\nMax iter: \", end=\"\")\n",
        "print(result[\"hyperparameters\"][result[\"mae\"].index(sorted(result[\"mae\"], reverse=False)[0])][\"max_iter\"])\n",
        "print(\"eta0: \", end=\"\")\n",
        "print(result[\"hyperparameters\"][result[\"mae\"].index(sorted(result[\"mae\"], reverse=False)[0])][\"eta0\"])\n",
        "print(\"MAE obtained: \", end=\"\")\n",
        "print(result[\"mae\"][result[\"mae\"].index(sorted(result[\"mae\"], reverse=False)[0])])"
      ],
      "metadata": {
        "colab": {
          "base_uri": "https://localhost:8080/"
        },
        "id": "ItbX8H0MVkfy",
        "outputId": "cd686006-8e75-4d7f-e180-92bcce506991"
      },
      "id": "ItbX8H0MVkfy",
      "execution_count": 890,
      "outputs": [
        {
          "output_type": "stream",
          "name": "stdout",
          "text": [
            "Best combination of parameters\n",
            "Max iter: 1200\n",
            "eta0: 0.001\n",
            "MAE obtained: 4816581\n"
          ]
        }
      ]
    },
    {
      "cell_type": "code",
      "source": [
        "mult_sgd_model = SGDRegressor(eta0=0.001, max_iter=1200, random_state=8)\n",
        "mult_sgd_model.fit(X=X_train, y=y_train)\n",
        "mult_sgd_pred = mult_sgd_model.predict(X_test)\n",
        "mult_sgd_mae = int(round(mean_absolute_error(y_test, mult_sgd_pred)))\n",
        "mult_sgd_mae"
      ],
      "metadata": {
        "colab": {
          "base_uri": "https://localhost:8080/"
        },
        "id": "8kpgetF7Vkh6",
        "outputId": "8259bcdf-ad55-4d6e-d132-d4112bdf3abf"
      },
      "id": "8kpgetF7Vkh6",
      "execution_count": 891,
      "outputs": [
        {
          "output_type": "stream",
          "name": "stderr",
          "text": [
            "/usr/local/lib/python3.7/dist-packages/sklearn/linear_model/_stochastic_gradient.py:1507: ConvergenceWarning: Maximum number of iteration reached before convergence. Consider increasing max_iter to improve the fit.\n",
            "  ConvergenceWarning,\n"
          ]
        },
        {
          "output_type": "execute_result",
          "data": {
            "text/plain": [
              "4816581"
            ]
          },
          "metadata": {},
          "execution_count": 891
        }
      ]
    },
    {
      "cell_type": "markdown",
      "id": "33d63bc7-448d-40a6-a314-6602c75e2284",
      "metadata": {
        "id": "33d63bc7-448d-40a6-a314-6602c75e2284"
      },
      "source": [
        "1.16. How did the model performed compared to our univariate models? "
      ]
    },
    {
      "cell_type": "code",
      "execution_count": 892,
      "id": "b8dc264b-1fde-4de3-9099-a526210075fa",
      "metadata": {
        "id": "b8dc264b-1fde-4de3-9099-a526210075fa",
        "colab": {
          "base_uri": "https://localhost:8080/"
        },
        "outputId": "477a7dc2-2f39-4d78-d611-87e7fe7dc387"
      },
      "outputs": [
        {
          "output_type": "stream",
          "name": "stdout",
          "text": [
            "Mean Absolute Error for each model:\n",
            "Baseline: 6716417\n",
            "Default SGDRegressor: 4744814\n",
            "Best SGDRegressor: 4637747\n",
            "Best SGDRegressor multi_feature: 4816581\n"
          ]
        }
      ],
      "source": [
        "print(\"Mean Absolute Error for each model:\")\n",
        "print(f\"Baseline: {baseline_mae}\")\n",
        "print(f\"Default SGDRegressor: {sgd_default_mae}\")\n",
        "print(f\"Best SGDRegressor: {sgd_tuned_mae}\")\n",
        "print(f\"Best SGDRegressor multi_feature: {mult_sgd_mae}\")"
      ]
    },
    {
      "cell_type": "markdown",
      "source": [
        "The model perfomed a 4% worse than the single feature one"
      ],
      "metadata": {
        "id": "PkIYOE2tV1q4"
      },
      "id": "PkIYOE2tV1q4"
    },
    {
      "cell_type": "markdown",
      "id": "e9992197-563b-4a69-9cd7-97fcb9ee3677",
      "metadata": {
        "tags": [],
        "id": "e9992197-563b-4a69-9cd7-97fcb9ee3677"
      },
      "source": [
        "### DecisionTreeRegressor\n",
        "\n",
        "It is possible that this problem might not be easily resolvable by a linear model, or that there could be better types of algorithms to tackle it. As an example, let's try with a very used algorithm, a Decision Tree.\n",
        "\n"
      ]
    },
    {
      "cell_type": "markdown",
      "id": "61930247-d4b0-4bdf-ad98-a421457e2c4a",
      "metadata": {
        "id": "61930247-d4b0-4bdf-ad98-a421457e2c4a"
      },
      "source": [
        "1.17. Create new model using [DecisionTreeRegressor](https://scikit-learn.org/stable/auto_examples/tree/plot_tree_regression.html) from scikit learn. We will use again all variables, and try different configuration for the following hyperparameters:\n",
        "\n",
        "- max_depth\n",
        "- min_samples_leaf\n",
        "- max_features\n",
        "\n",
        "These are all regularization hyperparameters for this algorithm. Read the documentation to get a better grasp of what each one does."
      ]
    },
    {
      "cell_type": "code",
      "source": [
        "x_tree_train = X_train.copy()\n",
        "x_tree_test = X_test.copy()"
      ],
      "metadata": {
        "id": "BqBG5lE6V7Z1"
      },
      "id": "BqBG5lE6V7Z1",
      "execution_count": 893,
      "outputs": []
    },
    {
      "cell_type": "code",
      "source": [
        "x_tree_train.head()"
      ],
      "metadata": {
        "colab": {
          "base_uri": "https://localhost:8080/",
          "height": 317
        },
        "id": "zC4UflMkV7cC",
        "outputId": "d4bcc56d-0e37-4dfd-f8e4-373c36e65d5f"
      },
      "id": "zC4UflMkV7cC",
      "execution_count": 894,
      "outputs": [
        {
          "output_type": "execute_result",
          "data": {
            "text/plain": [
              "              PTS       REB       AST       BLK  SEASON_EXP  \\\n",
              "1629642  0.214022  0.226562  0.073684  0.217391    0.111111   \n",
              "203925   0.409594  0.210938  0.168421  0.086957    0.388889   \n",
              "200794   0.494465  0.515625  0.231579  0.434783    0.833333   \n",
              "200746   0.704797  0.593750  0.200000  0.478261    0.833333   \n",
              "1630172  0.335793  0.304688  0.136842  0.260870    0.055556   \n",
              "\n",
              "         DRAFT_firstround_lottery  DRAFT_firstround_non_lottery  \\\n",
              "1629642                         0                             1   \n",
              "203925                          0                             0   \n",
              "200794                          0                             0   \n",
              "200746                          1                             0   \n",
              "1630172                         1                             0   \n",
              "\n",
              "         DRAFT_second_round  DRAFT_undrafted  POSITION_Center  ...  \\\n",
              "1629642                   0                0                0  ...   \n",
              "203925                    1                0                0  ...   \n",
              "200794                    1                0                0  ...   \n",
              "200746                    0                0                1  ...   \n",
              "1630172                   0                0                0  ...   \n",
              "\n",
              "         TEAM_NAME_Pistons  TEAM_NAME_Raptors  TEAM_NAME_Rockets  \\\n",
              "1629642                  0                  0                  0   \n",
              "203925                   0                  0                  0   \n",
              "200794                   0                  0                  0   \n",
              "200746                   0                  0                  0   \n",
              "1630172                  0                  0                  0   \n",
              "\n",
              "         TEAM_NAME_Spurs  TEAM_NAME_Suns  TEAM_NAME_Thunder  \\\n",
              "1629642                0               0                  0   \n",
              "203925                 0               0                  0   \n",
              "200794                 0               0                  0   \n",
              "200746                 0               0                  0   \n",
              "1630172                0               0                  0   \n",
              "\n",
              "         TEAM_NAME_Timberwolves  TEAM_NAME_Trail Blazers  TEAM_NAME_Warriors  \\\n",
              "1629642                       0                        1                   0   \n",
              "203925                        0                        0                   0   \n",
              "200794                        0                        0                   0   \n",
              "200746                        0                        0                   0   \n",
              "1630172                       0                        0                   0   \n",
              "\n",
              "         TEAM_NAME_Wizards  \n",
              "1629642                  0  \n",
              "203925                   0  \n",
              "200794                   0  \n",
              "200746                   0  \n",
              "1630172                  0  \n",
              "\n",
              "[5 rows x 42 columns]"
            ],
            "text/html": [
              "\n",
              "  <div id=\"df-c8245759-ce10-4074-85cf-1cfae1b55b31\">\n",
              "    <div class=\"colab-df-container\">\n",
              "      <div>\n",
              "<style scoped>\n",
              "    .dataframe tbody tr th:only-of-type {\n",
              "        vertical-align: middle;\n",
              "    }\n",
              "\n",
              "    .dataframe tbody tr th {\n",
              "        vertical-align: top;\n",
              "    }\n",
              "\n",
              "    .dataframe thead th {\n",
              "        text-align: right;\n",
              "    }\n",
              "</style>\n",
              "<table border=\"1\" class=\"dataframe\">\n",
              "  <thead>\n",
              "    <tr style=\"text-align: right;\">\n",
              "      <th></th>\n",
              "      <th>PTS</th>\n",
              "      <th>REB</th>\n",
              "      <th>AST</th>\n",
              "      <th>BLK</th>\n",
              "      <th>SEASON_EXP</th>\n",
              "      <th>DRAFT_firstround_lottery</th>\n",
              "      <th>DRAFT_firstround_non_lottery</th>\n",
              "      <th>DRAFT_second_round</th>\n",
              "      <th>DRAFT_undrafted</th>\n",
              "      <th>POSITION_Center</th>\n",
              "      <th>...</th>\n",
              "      <th>TEAM_NAME_Pistons</th>\n",
              "      <th>TEAM_NAME_Raptors</th>\n",
              "      <th>TEAM_NAME_Rockets</th>\n",
              "      <th>TEAM_NAME_Spurs</th>\n",
              "      <th>TEAM_NAME_Suns</th>\n",
              "      <th>TEAM_NAME_Thunder</th>\n",
              "      <th>TEAM_NAME_Timberwolves</th>\n",
              "      <th>TEAM_NAME_Trail Blazers</th>\n",
              "      <th>TEAM_NAME_Warriors</th>\n",
              "      <th>TEAM_NAME_Wizards</th>\n",
              "    </tr>\n",
              "  </thead>\n",
              "  <tbody>\n",
              "    <tr>\n",
              "      <th>1629642</th>\n",
              "      <td>0.214022</td>\n",
              "      <td>0.226562</td>\n",
              "      <td>0.073684</td>\n",
              "      <td>0.217391</td>\n",
              "      <td>0.111111</td>\n",
              "      <td>0</td>\n",
              "      <td>1</td>\n",
              "      <td>0</td>\n",
              "      <td>0</td>\n",
              "      <td>0</td>\n",
              "      <td>...</td>\n",
              "      <td>0</td>\n",
              "      <td>0</td>\n",
              "      <td>0</td>\n",
              "      <td>0</td>\n",
              "      <td>0</td>\n",
              "      <td>0</td>\n",
              "      <td>0</td>\n",
              "      <td>1</td>\n",
              "      <td>0</td>\n",
              "      <td>0</td>\n",
              "    </tr>\n",
              "    <tr>\n",
              "      <th>203925</th>\n",
              "      <td>0.409594</td>\n",
              "      <td>0.210938</td>\n",
              "      <td>0.168421</td>\n",
              "      <td>0.086957</td>\n",
              "      <td>0.388889</td>\n",
              "      <td>0</td>\n",
              "      <td>0</td>\n",
              "      <td>1</td>\n",
              "      <td>0</td>\n",
              "      <td>0</td>\n",
              "      <td>...</td>\n",
              "      <td>0</td>\n",
              "      <td>0</td>\n",
              "      <td>0</td>\n",
              "      <td>0</td>\n",
              "      <td>0</td>\n",
              "      <td>0</td>\n",
              "      <td>0</td>\n",
              "      <td>0</td>\n",
              "      <td>0</td>\n",
              "      <td>0</td>\n",
              "    </tr>\n",
              "    <tr>\n",
              "      <th>200794</th>\n",
              "      <td>0.494465</td>\n",
              "      <td>0.515625</td>\n",
              "      <td>0.231579</td>\n",
              "      <td>0.434783</td>\n",
              "      <td>0.833333</td>\n",
              "      <td>0</td>\n",
              "      <td>0</td>\n",
              "      <td>1</td>\n",
              "      <td>0</td>\n",
              "      <td>0</td>\n",
              "      <td>...</td>\n",
              "      <td>0</td>\n",
              "      <td>0</td>\n",
              "      <td>0</td>\n",
              "      <td>0</td>\n",
              "      <td>0</td>\n",
              "      <td>0</td>\n",
              "      <td>0</td>\n",
              "      <td>0</td>\n",
              "      <td>0</td>\n",
              "      <td>0</td>\n",
              "    </tr>\n",
              "    <tr>\n",
              "      <th>200746</th>\n",
              "      <td>0.704797</td>\n",
              "      <td>0.593750</td>\n",
              "      <td>0.200000</td>\n",
              "      <td>0.478261</td>\n",
              "      <td>0.833333</td>\n",
              "      <td>1</td>\n",
              "      <td>0</td>\n",
              "      <td>0</td>\n",
              "      <td>0</td>\n",
              "      <td>1</td>\n",
              "      <td>...</td>\n",
              "      <td>0</td>\n",
              "      <td>0</td>\n",
              "      <td>0</td>\n",
              "      <td>0</td>\n",
              "      <td>0</td>\n",
              "      <td>0</td>\n",
              "      <td>0</td>\n",
              "      <td>0</td>\n",
              "      <td>0</td>\n",
              "      <td>0</td>\n",
              "    </tr>\n",
              "    <tr>\n",
              "      <th>1630172</th>\n",
              "      <td>0.335793</td>\n",
              "      <td>0.304688</td>\n",
              "      <td>0.136842</td>\n",
              "      <td>0.260870</td>\n",
              "      <td>0.055556</td>\n",
              "      <td>1</td>\n",
              "      <td>0</td>\n",
              "      <td>0</td>\n",
              "      <td>0</td>\n",
              "      <td>0</td>\n",
              "      <td>...</td>\n",
              "      <td>0</td>\n",
              "      <td>0</td>\n",
              "      <td>0</td>\n",
              "      <td>0</td>\n",
              "      <td>0</td>\n",
              "      <td>0</td>\n",
              "      <td>0</td>\n",
              "      <td>0</td>\n",
              "      <td>0</td>\n",
              "      <td>0</td>\n",
              "    </tr>\n",
              "  </tbody>\n",
              "</table>\n",
              "<p>5 rows × 42 columns</p>\n",
              "</div>\n",
              "      <button class=\"colab-df-convert\" onclick=\"convertToInteractive('df-c8245759-ce10-4074-85cf-1cfae1b55b31')\"\n",
              "              title=\"Convert this dataframe to an interactive table.\"\n",
              "              style=\"display:none;\">\n",
              "        \n",
              "  <svg xmlns=\"http://www.w3.org/2000/svg\" height=\"24px\"viewBox=\"0 0 24 24\"\n",
              "       width=\"24px\">\n",
              "    <path d=\"M0 0h24v24H0V0z\" fill=\"none\"/>\n",
              "    <path d=\"M18.56 5.44l.94 2.06.94-2.06 2.06-.94-2.06-.94-.94-2.06-.94 2.06-2.06.94zm-11 1L8.5 8.5l.94-2.06 2.06-.94-2.06-.94L8.5 2.5l-.94 2.06-2.06.94zm10 10l.94 2.06.94-2.06 2.06-.94-2.06-.94-.94-2.06-.94 2.06-2.06.94z\"/><path d=\"M17.41 7.96l-1.37-1.37c-.4-.4-.92-.59-1.43-.59-.52 0-1.04.2-1.43.59L10.3 9.45l-7.72 7.72c-.78.78-.78 2.05 0 2.83L4 21.41c.39.39.9.59 1.41.59.51 0 1.02-.2 1.41-.59l7.78-7.78 2.81-2.81c.8-.78.8-2.07 0-2.86zM5.41 20L4 18.59l7.72-7.72 1.47 1.35L5.41 20z\"/>\n",
              "  </svg>\n",
              "      </button>\n",
              "      \n",
              "  <style>\n",
              "    .colab-df-container {\n",
              "      display:flex;\n",
              "      flex-wrap:wrap;\n",
              "      gap: 12px;\n",
              "    }\n",
              "\n",
              "    .colab-df-convert {\n",
              "      background-color: #E8F0FE;\n",
              "      border: none;\n",
              "      border-radius: 50%;\n",
              "      cursor: pointer;\n",
              "      display: none;\n",
              "      fill: #1967D2;\n",
              "      height: 32px;\n",
              "      padding: 0 0 0 0;\n",
              "      width: 32px;\n",
              "    }\n",
              "\n",
              "    .colab-df-convert:hover {\n",
              "      background-color: #E2EBFA;\n",
              "      box-shadow: 0px 1px 2px rgba(60, 64, 67, 0.3), 0px 1px 3px 1px rgba(60, 64, 67, 0.15);\n",
              "      fill: #174EA6;\n",
              "    }\n",
              "\n",
              "    [theme=dark] .colab-df-convert {\n",
              "      background-color: #3B4455;\n",
              "      fill: #D2E3FC;\n",
              "    }\n",
              "\n",
              "    [theme=dark] .colab-df-convert:hover {\n",
              "      background-color: #434B5C;\n",
              "      box-shadow: 0px 1px 3px 1px rgba(0, 0, 0, 0.15);\n",
              "      filter: drop-shadow(0px 1px 2px rgba(0, 0, 0, 0.3));\n",
              "      fill: #FFFFFF;\n",
              "    }\n",
              "  </style>\n",
              "\n",
              "      <script>\n",
              "        const buttonEl =\n",
              "          document.querySelector('#df-c8245759-ce10-4074-85cf-1cfae1b55b31 button.colab-df-convert');\n",
              "        buttonEl.style.display =\n",
              "          google.colab.kernel.accessAllowed ? 'block' : 'none';\n",
              "\n",
              "        async function convertToInteractive(key) {\n",
              "          const element = document.querySelector('#df-c8245759-ce10-4074-85cf-1cfae1b55b31');\n",
              "          const dataTable =\n",
              "            await google.colab.kernel.invokeFunction('convertToInteractive',\n",
              "                                                     [key], {});\n",
              "          if (!dataTable) return;\n",
              "\n",
              "          const docLinkHtml = 'Like what you see? Visit the ' +\n",
              "            '<a target=\"_blank\" href=https://colab.research.google.com/notebooks/data_table.ipynb>data table notebook</a>'\n",
              "            + ' to learn more about interactive tables.';\n",
              "          element.innerHTML = '';\n",
              "          dataTable['output_type'] = 'display_data';\n",
              "          await google.colab.output.renderOutput(dataTable, element);\n",
              "          const docLink = document.createElement('div');\n",
              "          docLink.innerHTML = docLinkHtml;\n",
              "          element.appendChild(docLink);\n",
              "        }\n",
              "      </script>\n",
              "    </div>\n",
              "  </div>\n",
              "  "
            ]
          },
          "metadata": {},
          "execution_count": 894
        }
      ]
    },
    {
      "cell_type": "code",
      "source": [
        "def search_best_hyperparameters_tree(max_depth, min_samples_leaf, max_features):   \n",
        "    result = {}\n",
        "    for ep in max_depth:\n",
        "        for lr in min_samples_leaf:\n",
        "            for a in max_features:\n",
        "                append_value(result,\"hyperparameters\",{\"max_depth\": ep, \"min_samples_leaf\": lr, \"max_features\": a})\n",
        "                append_value(result,\"mae\",9999999999)\n",
        "    for i in result[\"hyperparameters\"]:\n",
        "        tree_model = DecisionTreeRegressor(max_depth=i[\"max_depth\"] , min_samples_leaf=i[\"min_samples_leaf\"], max_features=i[\"max_features\"], random_state=8)   \n",
        "        tree_model.fit(x_tree_train,y_train)\n",
        "        y_pred = tree_model.predict(x_tree_test)\n",
        "        ind = result[\"hyperparameters\"].index(i)\n",
        "        result[\"mae\"][ind] = int(round(mean_absolute_error(y_test,y_pred)))\n",
        "    return result"
      ],
      "metadata": {
        "id": "aHXcLM0nV7eW"
      },
      "id": "aHXcLM0nV7eW",
      "execution_count": 895,
      "outputs": []
    },
    {
      "cell_type": "code",
      "source": [
        "# List of hyperparameter example values\n",
        "max_depth = [22, 10, 15, 20, 25, 18]\n",
        "min_samples_leaf = [1, 2, 10, 20, 50]\n",
        "max_features = [5, 10, 20, 30 , 40, None]\n",
        "\n",
        "result = search_best_hyperparameters_tree(max_depth,min_samples_leaf,max_features)"
      ],
      "metadata": {
        "id": "Ie3j3VtpV9yX"
      },
      "id": "Ie3j3VtpV9yX",
      "execution_count": 896,
      "outputs": []
    },
    {
      "cell_type": "code",
      "source": [
        "print(\"Best combination of parameters\\nMax depth: \", end=\"\")\n",
        "print(result[\"hyperparameters\"][result[\"mae\"].index(sorted(result[\"mae\"], reverse=False)[0])][\"max_depth\"])\n",
        "print(\"Min sample leaf: \", end=\"\")\n",
        "print(result[\"hyperparameters\"][result[\"mae\"].index(sorted(result[\"mae\"], reverse=False)[0])][\"min_samples_leaf\"])\n",
        "print(\"Max features: \", end=\"\")\n",
        "print(result[\"hyperparameters\"][result[\"mae\"].index(sorted(result[\"mae\"], reverse=False)[0])][\"max_features\"])\n",
        "print(\"MAE obtained: \", end=\"\")\n",
        "print(result[\"mae\"][result[\"mae\"].index(sorted(result[\"mae\"], reverse=False)[0])])"
      ],
      "metadata": {
        "colab": {
          "base_uri": "https://localhost:8080/"
        },
        "id": "IfDlrhYhV908",
        "outputId": "702ea0c9-610d-4325-e0f8-bc1fa8089dc4"
      },
      "id": "IfDlrhYhV908",
      "execution_count": 897,
      "outputs": [
        {
          "output_type": "stream",
          "name": "stdout",
          "text": [
            "Best combination of parameters\n",
            "Max depth: 22\n",
            "Min sample leaf: 1\n",
            "Max features: 30\n",
            "MAE obtained: 2146411\n"
          ]
        }
      ]
    },
    {
      "cell_type": "code",
      "source": [
        "tree_model = DecisionTreeRegressor(max_depth=22, max_features=30, random_state=8)\n",
        "tree_model.fit(x_tree_train,y_train)\n",
        "y_p = tree_model.predict(x_tree_test)\n",
        "error_tree = int(round(mean_absolute_error(y_test,y_p)))\n",
        "error_tree"
      ],
      "metadata": {
        "colab": {
          "base_uri": "https://localhost:8080/"
        },
        "id": "5DWBAfNAV93S",
        "outputId": "da451008-f216-436a-d5c8-ab6c2780d1cf"
      },
      "id": "5DWBAfNAV93S",
      "execution_count": 898,
      "outputs": [
        {
          "output_type": "execute_result",
          "data": {
            "text/plain": [
              "2146411"
            ]
          },
          "metadata": {},
          "execution_count": 898
        }
      ]
    },
    {
      "cell_type": "code",
      "source": [
        "cols = pd.DataFrame(x_tree_train.columns, columns=[\"Features\"])\n",
        "imp = pd.DataFrame(tree_model.feature_importances_, columns=[\"Importance\"])\n",
        "col_imp = cols.join(imp)\n",
        "col_imp.sort_values(\"Importance\", ascending=False).head(8)"
      ],
      "metadata": {
        "colab": {
          "base_uri": "https://localhost:8080/",
          "height": 300
        },
        "id": "B2-9L5j5WMXd",
        "outputId": "863476e2-6ab3-4d2f-91d1-e6086019520b"
      },
      "id": "B2-9L5j5WMXd",
      "execution_count": 899,
      "outputs": [
        {
          "output_type": "execute_result",
          "data": {
            "text/plain": [
              "              Features  Importance\n",
              "2                  AST    0.319276\n",
              "0                  PTS    0.294030\n",
              "4           SEASON_EXP    0.198506\n",
              "1                  REB    0.038849\n",
              "3                  BLK    0.035487\n",
              "24    TEAM_NAME_Knicks    0.022849\n",
              "20      TEAM_NAME_Heat    0.013934\n",
              "17  TEAM_NAME_Clippers    0.012234"
            ],
            "text/html": [
              "\n",
              "  <div id=\"df-e0e05ed5-7828-46ad-a0ba-8034c3c8fddb\">\n",
              "    <div class=\"colab-df-container\">\n",
              "      <div>\n",
              "<style scoped>\n",
              "    .dataframe tbody tr th:only-of-type {\n",
              "        vertical-align: middle;\n",
              "    }\n",
              "\n",
              "    .dataframe tbody tr th {\n",
              "        vertical-align: top;\n",
              "    }\n",
              "\n",
              "    .dataframe thead th {\n",
              "        text-align: right;\n",
              "    }\n",
              "</style>\n",
              "<table border=\"1\" class=\"dataframe\">\n",
              "  <thead>\n",
              "    <tr style=\"text-align: right;\">\n",
              "      <th></th>\n",
              "      <th>Features</th>\n",
              "      <th>Importance</th>\n",
              "    </tr>\n",
              "  </thead>\n",
              "  <tbody>\n",
              "    <tr>\n",
              "      <th>2</th>\n",
              "      <td>AST</td>\n",
              "      <td>0.319276</td>\n",
              "    </tr>\n",
              "    <tr>\n",
              "      <th>0</th>\n",
              "      <td>PTS</td>\n",
              "      <td>0.294030</td>\n",
              "    </tr>\n",
              "    <tr>\n",
              "      <th>4</th>\n",
              "      <td>SEASON_EXP</td>\n",
              "      <td>0.198506</td>\n",
              "    </tr>\n",
              "    <tr>\n",
              "      <th>1</th>\n",
              "      <td>REB</td>\n",
              "      <td>0.038849</td>\n",
              "    </tr>\n",
              "    <tr>\n",
              "      <th>3</th>\n",
              "      <td>BLK</td>\n",
              "      <td>0.035487</td>\n",
              "    </tr>\n",
              "    <tr>\n",
              "      <th>24</th>\n",
              "      <td>TEAM_NAME_Knicks</td>\n",
              "      <td>0.022849</td>\n",
              "    </tr>\n",
              "    <tr>\n",
              "      <th>20</th>\n",
              "      <td>TEAM_NAME_Heat</td>\n",
              "      <td>0.013934</td>\n",
              "    </tr>\n",
              "    <tr>\n",
              "      <th>17</th>\n",
              "      <td>TEAM_NAME_Clippers</td>\n",
              "      <td>0.012234</td>\n",
              "    </tr>\n",
              "  </tbody>\n",
              "</table>\n",
              "</div>\n",
              "      <button class=\"colab-df-convert\" onclick=\"convertToInteractive('df-e0e05ed5-7828-46ad-a0ba-8034c3c8fddb')\"\n",
              "              title=\"Convert this dataframe to an interactive table.\"\n",
              "              style=\"display:none;\">\n",
              "        \n",
              "  <svg xmlns=\"http://www.w3.org/2000/svg\" height=\"24px\"viewBox=\"0 0 24 24\"\n",
              "       width=\"24px\">\n",
              "    <path d=\"M0 0h24v24H0V0z\" fill=\"none\"/>\n",
              "    <path d=\"M18.56 5.44l.94 2.06.94-2.06 2.06-.94-2.06-.94-.94-2.06-.94 2.06-2.06.94zm-11 1L8.5 8.5l.94-2.06 2.06-.94-2.06-.94L8.5 2.5l-.94 2.06-2.06.94zm10 10l.94 2.06.94-2.06 2.06-.94-2.06-.94-.94-2.06-.94 2.06-2.06.94z\"/><path d=\"M17.41 7.96l-1.37-1.37c-.4-.4-.92-.59-1.43-.59-.52 0-1.04.2-1.43.59L10.3 9.45l-7.72 7.72c-.78.78-.78 2.05 0 2.83L4 21.41c.39.39.9.59 1.41.59.51 0 1.02-.2 1.41-.59l7.78-7.78 2.81-2.81c.8-.78.8-2.07 0-2.86zM5.41 20L4 18.59l7.72-7.72 1.47 1.35L5.41 20z\"/>\n",
              "  </svg>\n",
              "      </button>\n",
              "      \n",
              "  <style>\n",
              "    .colab-df-container {\n",
              "      display:flex;\n",
              "      flex-wrap:wrap;\n",
              "      gap: 12px;\n",
              "    }\n",
              "\n",
              "    .colab-df-convert {\n",
              "      background-color: #E8F0FE;\n",
              "      border: none;\n",
              "      border-radius: 50%;\n",
              "      cursor: pointer;\n",
              "      display: none;\n",
              "      fill: #1967D2;\n",
              "      height: 32px;\n",
              "      padding: 0 0 0 0;\n",
              "      width: 32px;\n",
              "    }\n",
              "\n",
              "    .colab-df-convert:hover {\n",
              "      background-color: #E2EBFA;\n",
              "      box-shadow: 0px 1px 2px rgba(60, 64, 67, 0.3), 0px 1px 3px 1px rgba(60, 64, 67, 0.15);\n",
              "      fill: #174EA6;\n",
              "    }\n",
              "\n",
              "    [theme=dark] .colab-df-convert {\n",
              "      background-color: #3B4455;\n",
              "      fill: #D2E3FC;\n",
              "    }\n",
              "\n",
              "    [theme=dark] .colab-df-convert:hover {\n",
              "      background-color: #434B5C;\n",
              "      box-shadow: 0px 1px 3px 1px rgba(0, 0, 0, 0.15);\n",
              "      filter: drop-shadow(0px 1px 2px rgba(0, 0, 0, 0.3));\n",
              "      fill: #FFFFFF;\n",
              "    }\n",
              "  </style>\n",
              "\n",
              "      <script>\n",
              "        const buttonEl =\n",
              "          document.querySelector('#df-e0e05ed5-7828-46ad-a0ba-8034c3c8fddb button.colab-df-convert');\n",
              "        buttonEl.style.display =\n",
              "          google.colab.kernel.accessAllowed ? 'block' : 'none';\n",
              "\n",
              "        async function convertToInteractive(key) {\n",
              "          const element = document.querySelector('#df-e0e05ed5-7828-46ad-a0ba-8034c3c8fddb');\n",
              "          const dataTable =\n",
              "            await google.colab.kernel.invokeFunction('convertToInteractive',\n",
              "                                                     [key], {});\n",
              "          if (!dataTable) return;\n",
              "\n",
              "          const docLinkHtml = 'Like what you see? Visit the ' +\n",
              "            '<a target=\"_blank\" href=https://colab.research.google.com/notebooks/data_table.ipynb>data table notebook</a>'\n",
              "            + ' to learn more about interactive tables.';\n",
              "          element.innerHTML = '';\n",
              "          dataTable['output_type'] = 'display_data';\n",
              "          await google.colab.output.renderOutput(dataTable, element);\n",
              "          const docLink = document.createElement('div');\n",
              "          docLink.innerHTML = docLinkHtml;\n",
              "          element.appendChild(docLink);\n",
              "        }\n",
              "      </script>\n",
              "    </div>\n",
              "  </div>\n",
              "  "
            ]
          },
          "metadata": {},
          "execution_count": 899
        }
      ]
    },
    {
      "cell_type": "markdown",
      "id": "71ef72fc-7386-433c-9725-2055f4016ae9",
      "metadata": {
        "id": "71ef72fc-7386-433c-9725-2055f4016ae9"
      },
      "source": [
        "1.18. Compare the results obtained with the best decision tree model against the baseline, default and the best params sgd regressors-"
      ]
    },
    {
      "cell_type": "code",
      "execution_count": 900,
      "id": "af1084d8-97a4-4618-b4f4-0952e0b39f09",
      "metadata": {
        "id": "af1084d8-97a4-4618-b4f4-0952e0b39f09",
        "colab": {
          "base_uri": "https://localhost:8080/"
        },
        "outputId": "02dc065e-2054-44b2-995f-93f41c3bbf67"
      },
      "outputs": [
        {
          "output_type": "stream",
          "name": "stdout",
          "text": [
            "Mean Absolute Error for each model:\n",
            "Baseline: 6716417\n",
            "Default SGDRegressor: 4744814\n",
            "Best SGDRegressor: 4637747\n",
            "Best SGDRegressor multi_feature: 4816581\n",
            "Best DecisionTreeRegressor: 2146411\n"
          ]
        }
      ],
      "source": [
        "print(\"Mean Absolute Error for each model:\")\n",
        "print(f\"Baseline: {baseline_mae}\")\n",
        "print(f\"Default SGDRegressor: {sgd_default_mae}\")\n",
        "print(f\"Best SGDRegressor: {sgd_tuned_mae}\")\n",
        "print(f\"Best SGDRegressor multi_feature: {mult_sgd_mae}\")\n",
        "print(f\"Best DecisionTreeRegressor: {error_tree}\")"
      ]
    },
    {
      "cell_type": "markdown",
      "id": "ce424a87-37af-470d-9a14-ec6ae2258eb1",
      "metadata": {
        "id": "ce424a87-37af-470d-9a14-ec6ae2258eb1"
      },
      "source": [
        "### Analyzing our results"
      ]
    },
    {
      "cell_type": "markdown",
      "id": "ed6c9746-ed98-4075-9a6a-adb24056d217",
      "metadata": {
        "id": "ed6c9746-ed98-4075-9a6a-adb24056d217"
      },
      "source": [
        "Based on what you found, and what you read about players salaries above, answer the following: "
      ]
    },
    {
      "cell_type": "markdown",
      "id": "e204456d-cb86-47a0-9c3c-6307d8a831fa",
      "metadata": {
        "id": "e204456d-cb86-47a0-9c3c-6307d8a831fa"
      },
      "source": [
        "1.19. Which kind of model worked better in this dataset, linear or non linear models? Do you have any hypothesis about why? "
      ]
    },
    {
      "cell_type": "markdown",
      "source": [
        "The nonlinear model worked better and I think that the players whose season exp is lesser than 4 years are affecting the linear models because their salary does not correspond to their game statistics"
      ],
      "metadata": {
        "id": "EzE9yTSfWTKR"
      },
      "id": "EzE9yTSfWTKR"
    },
    {
      "cell_type": "markdown",
      "id": "f09e5c20-3f7b-4938-a1b3-34ada990f181",
      "metadata": {
        "id": "f09e5c20-3f7b-4938-a1b3-34ada990f181"
      },
      "source": [
        "1.20. Is there something else we could do to improve our results if wanted to make a more accurate model?"
      ]
    },
    {
      "cell_type": "markdown",
      "source": [
        "We might gather more information about player's salaries and separate the problem into two models one trained with rookies players and another with the rest of the players"
      ],
      "metadata": {
        "id": "CPLbl2S0WUEA"
      },
      "id": "CPLbl2S0WUEA"
    },
    {
      "cell_type": "markdown",
      "id": "25e23c2a-a0bf-4d39-bc1b-9524107f3a02",
      "metadata": {
        "id": "25e23c2a-a0bf-4d39-bc1b-9524107f3a02"
      },
      "source": [
        "## Star or no Star? Predicting players All-NBA selections"
      ]
    },
    {
      "cell_type": "markdown",
      "id": "26cd4fec-1b8b-4bfc-8024-dcdd5b8b803a",
      "metadata": {
        "id": "26cd4fec-1b8b-4bfc-8024-dcdd5b8b803a"
      },
      "source": [
        "In this section we're going to try to solve a different question:\n",
        "\n",
        "Can we train a model to predict which players are going to be selected to ALL-NBA teams at the end of the season? This is a [binary classification](https://en.wikipedia.org/wiki/Binary_classification) task, so we're training our first classifier model to solve this problem.\n",
        "\n",
        "Consider that:\n",
        "\n",
        "- Being selected as part of the [All-NBA teams](https://en.wikipedia.org/wiki/All-NBA_Team) is different than being selected for [All-Star Game](https://en.wikipedia.org/wiki/NBA_All-Star_Game). \n",
        "- You're trying to predict All-NBA selections, which takes place after the regular season but before playoffs start, so we're only going to use players and teams statistics about the regular season (you're not going to consider if the players got to the NBA finals for example). \n",
        "- All Star game takes place at the middle point of the regular season, players are selected based on partial season performance, and the general public has 50% of the votes, so it is also a more popularity-based award.\n",
        "- All-NBA teams are divided in first, second and third teams of 5 players each, divided by position: 2 front court players (guards), 2 backcourt players (forwards) and 1 center.\n",
        "- As only 15 players are selected to All-NBA teams each year (out of more than 400 qualifying players), our dataset is going to be imbalanced. You're going to have to find a good strategy to deal with this inbalance."
      ]
    },
    {
      "cell_type": "markdown",
      "id": "ef2353fa-10d7-48d1-85d7-f8743ee86698",
      "metadata": {
        "id": "ef2353fa-10d7-48d1-85d7-f8743ee86698"
      },
      "source": [
        "### Analyzing the data"
      ]
    },
    {
      "cell_type": "markdown",
      "id": "d4159ce5-fec3-48bb-93c5-058f2cbb55c5",
      "metadata": {
        "id": "d4159ce5-fec3-48bb-93c5-058f2cbb55c5"
      },
      "source": [
        "To do this task, you're going to need historical information about All-NBA selections. We'll use a dataset that contains information about players from season starting in 1990 and ending in the 2018-2019 season.\n",
        "The dataset contains statistics for all players, and a column named \"all-nba\" that is going to be our target variable, 1 means the player was selected to an All-NBA team that season.\n"
      ]
    },
    {
      "cell_type": "markdown",
      "id": "e6d64103-d6b5-4544-8ca5-81f99c937d73",
      "metadata": {
        "id": "e6d64103-d6b5-4544-8ca5-81f99c937d73"
      },
      "source": [
        "2.1. Load the dataset \"all_nba_1990_2017_dataset.csv\" from disk, look at the data inside it and print:\n",
        "- number of rows\n",
        "- number of seasons\n",
        "- number of unique players\n",
        "- number of all-nba selections vs non selected "
      ]
    },
    {
      "cell_type": "code",
      "execution_count": 901,
      "id": "bb6725f6-418d-4159-b046-3bf33a8ead0b",
      "metadata": {
        "id": "bb6725f6-418d-4159-b046-3bf33a8ead0b"
      },
      "outputs": [],
      "source": [
        "all_nba_df = pd.read_csv(\"https://raw.githubusercontent.com/anyoneai/notebooks/main/datasets/all_nba_1990_2017_dataset.csv\", index_col=0)"
      ]
    },
    {
      "cell_type": "code",
      "execution_count": 902,
      "id": "9ef709ab-8d07-4c4d-b2db-9e910d265d56",
      "metadata": {
        "id": "9ef709ab-8d07-4c4d-b2db-9e910d265d56",
        "colab": {
          "base_uri": "https://localhost:8080/",
          "height": 235
        },
        "outputId": "92c5977b-7319-4397-fef0-ab6bfafe79d5"
      },
      "outputs": [
        {
          "output_type": "execute_result",
          "data": {
            "text/plain": [
              "   season_id  player_id  player_season          player   season  season_start  \\\n",
              "0          0          0              1  Alaa Abdelnaby  1990-91          1990   \n",
              "1          1          0              2  Alaa Abdelnaby  1991-92          1991   \n",
              "2          2          0              3  Alaa Abdelnaby  1992-93          1992   \n",
              "3          3          0              4  Alaa Abdelnaby  1993-94          1993   \n",
              "4          4          0              5  Alaa Abdelnaby  1994-95          1994   \n",
              "\n",
              "  team  games  gamesstarted    mp  ...  2p_perc  ft_perc  trb  ast  stl  blk  \\\n",
              "0  POR     43             0   6.7  ...    0.474    0.568  2.1  0.3  0.1  0.3   \n",
              "1  POR     71             1  13.2  ...    0.493    0.752  3.7  0.4  0.4  0.2   \n",
              "2  TOT     75            52  17.5  ...    0.519    0.759  4.5  0.4  0.3  0.3   \n",
              "3  BOS     13             0  12.2  ...    0.436    0.640  3.5  0.2  0.2  0.2   \n",
              "4  TOT     54             0   9.4  ...    0.515    0.571  2.1  0.2  0.3  0.2   \n",
              "\n",
              "   tov   pf  pts  all_nba  \n",
              "0  0.5  0.9  3.1        0  \n",
              "1  0.9  1.9  6.1        0  \n",
              "2  1.3  2.5  7.7        0  \n",
              "3  1.3  1.5  4.9        0  \n",
              "4  0.8  1.9  4.7        0  \n",
              "\n",
              "[5 rows x 22 columns]"
            ],
            "text/html": [
              "\n",
              "  <div id=\"df-815f85e7-e487-4c15-bb40-2c14046b9a4a\">\n",
              "    <div class=\"colab-df-container\">\n",
              "      <div>\n",
              "<style scoped>\n",
              "    .dataframe tbody tr th:only-of-type {\n",
              "        vertical-align: middle;\n",
              "    }\n",
              "\n",
              "    .dataframe tbody tr th {\n",
              "        vertical-align: top;\n",
              "    }\n",
              "\n",
              "    .dataframe thead th {\n",
              "        text-align: right;\n",
              "    }\n",
              "</style>\n",
              "<table border=\"1\" class=\"dataframe\">\n",
              "  <thead>\n",
              "    <tr style=\"text-align: right;\">\n",
              "      <th></th>\n",
              "      <th>season_id</th>\n",
              "      <th>player_id</th>\n",
              "      <th>player_season</th>\n",
              "      <th>player</th>\n",
              "      <th>season</th>\n",
              "      <th>season_start</th>\n",
              "      <th>team</th>\n",
              "      <th>games</th>\n",
              "      <th>gamesstarted</th>\n",
              "      <th>mp</th>\n",
              "      <th>...</th>\n",
              "      <th>2p_perc</th>\n",
              "      <th>ft_perc</th>\n",
              "      <th>trb</th>\n",
              "      <th>ast</th>\n",
              "      <th>stl</th>\n",
              "      <th>blk</th>\n",
              "      <th>tov</th>\n",
              "      <th>pf</th>\n",
              "      <th>pts</th>\n",
              "      <th>all_nba</th>\n",
              "    </tr>\n",
              "  </thead>\n",
              "  <tbody>\n",
              "    <tr>\n",
              "      <th>0</th>\n",
              "      <td>0</td>\n",
              "      <td>0</td>\n",
              "      <td>1</td>\n",
              "      <td>Alaa Abdelnaby</td>\n",
              "      <td>1990-91</td>\n",
              "      <td>1990</td>\n",
              "      <td>POR</td>\n",
              "      <td>43</td>\n",
              "      <td>0</td>\n",
              "      <td>6.7</td>\n",
              "      <td>...</td>\n",
              "      <td>0.474</td>\n",
              "      <td>0.568</td>\n",
              "      <td>2.1</td>\n",
              "      <td>0.3</td>\n",
              "      <td>0.1</td>\n",
              "      <td>0.3</td>\n",
              "      <td>0.5</td>\n",
              "      <td>0.9</td>\n",
              "      <td>3.1</td>\n",
              "      <td>0</td>\n",
              "    </tr>\n",
              "    <tr>\n",
              "      <th>1</th>\n",
              "      <td>1</td>\n",
              "      <td>0</td>\n",
              "      <td>2</td>\n",
              "      <td>Alaa Abdelnaby</td>\n",
              "      <td>1991-92</td>\n",
              "      <td>1991</td>\n",
              "      <td>POR</td>\n",
              "      <td>71</td>\n",
              "      <td>1</td>\n",
              "      <td>13.2</td>\n",
              "      <td>...</td>\n",
              "      <td>0.493</td>\n",
              "      <td>0.752</td>\n",
              "      <td>3.7</td>\n",
              "      <td>0.4</td>\n",
              "      <td>0.4</td>\n",
              "      <td>0.2</td>\n",
              "      <td>0.9</td>\n",
              "      <td>1.9</td>\n",
              "      <td>6.1</td>\n",
              "      <td>0</td>\n",
              "    </tr>\n",
              "    <tr>\n",
              "      <th>2</th>\n",
              "      <td>2</td>\n",
              "      <td>0</td>\n",
              "      <td>3</td>\n",
              "      <td>Alaa Abdelnaby</td>\n",
              "      <td>1992-93</td>\n",
              "      <td>1992</td>\n",
              "      <td>TOT</td>\n",
              "      <td>75</td>\n",
              "      <td>52</td>\n",
              "      <td>17.5</td>\n",
              "      <td>...</td>\n",
              "      <td>0.519</td>\n",
              "      <td>0.759</td>\n",
              "      <td>4.5</td>\n",
              "      <td>0.4</td>\n",
              "      <td>0.3</td>\n",
              "      <td>0.3</td>\n",
              "      <td>1.3</td>\n",
              "      <td>2.5</td>\n",
              "      <td>7.7</td>\n",
              "      <td>0</td>\n",
              "    </tr>\n",
              "    <tr>\n",
              "      <th>3</th>\n",
              "      <td>3</td>\n",
              "      <td>0</td>\n",
              "      <td>4</td>\n",
              "      <td>Alaa Abdelnaby</td>\n",
              "      <td>1993-94</td>\n",
              "      <td>1993</td>\n",
              "      <td>BOS</td>\n",
              "      <td>13</td>\n",
              "      <td>0</td>\n",
              "      <td>12.2</td>\n",
              "      <td>...</td>\n",
              "      <td>0.436</td>\n",
              "      <td>0.640</td>\n",
              "      <td>3.5</td>\n",
              "      <td>0.2</td>\n",
              "      <td>0.2</td>\n",
              "      <td>0.2</td>\n",
              "      <td>1.3</td>\n",
              "      <td>1.5</td>\n",
              "      <td>4.9</td>\n",
              "      <td>0</td>\n",
              "    </tr>\n",
              "    <tr>\n",
              "      <th>4</th>\n",
              "      <td>4</td>\n",
              "      <td>0</td>\n",
              "      <td>5</td>\n",
              "      <td>Alaa Abdelnaby</td>\n",
              "      <td>1994-95</td>\n",
              "      <td>1994</td>\n",
              "      <td>TOT</td>\n",
              "      <td>54</td>\n",
              "      <td>0</td>\n",
              "      <td>9.4</td>\n",
              "      <td>...</td>\n",
              "      <td>0.515</td>\n",
              "      <td>0.571</td>\n",
              "      <td>2.1</td>\n",
              "      <td>0.2</td>\n",
              "      <td>0.3</td>\n",
              "      <td>0.2</td>\n",
              "      <td>0.8</td>\n",
              "      <td>1.9</td>\n",
              "      <td>4.7</td>\n",
              "      <td>0</td>\n",
              "    </tr>\n",
              "  </tbody>\n",
              "</table>\n",
              "<p>5 rows × 22 columns</p>\n",
              "</div>\n",
              "      <button class=\"colab-df-convert\" onclick=\"convertToInteractive('df-815f85e7-e487-4c15-bb40-2c14046b9a4a')\"\n",
              "              title=\"Convert this dataframe to an interactive table.\"\n",
              "              style=\"display:none;\">\n",
              "        \n",
              "  <svg xmlns=\"http://www.w3.org/2000/svg\" height=\"24px\"viewBox=\"0 0 24 24\"\n",
              "       width=\"24px\">\n",
              "    <path d=\"M0 0h24v24H0V0z\" fill=\"none\"/>\n",
              "    <path d=\"M18.56 5.44l.94 2.06.94-2.06 2.06-.94-2.06-.94-.94-2.06-.94 2.06-2.06.94zm-11 1L8.5 8.5l.94-2.06 2.06-.94-2.06-.94L8.5 2.5l-.94 2.06-2.06.94zm10 10l.94 2.06.94-2.06 2.06-.94-2.06-.94-.94-2.06-.94 2.06-2.06.94z\"/><path d=\"M17.41 7.96l-1.37-1.37c-.4-.4-.92-.59-1.43-.59-.52 0-1.04.2-1.43.59L10.3 9.45l-7.72 7.72c-.78.78-.78 2.05 0 2.83L4 21.41c.39.39.9.59 1.41.59.51 0 1.02-.2 1.41-.59l7.78-7.78 2.81-2.81c.8-.78.8-2.07 0-2.86zM5.41 20L4 18.59l7.72-7.72 1.47 1.35L5.41 20z\"/>\n",
              "  </svg>\n",
              "      </button>\n",
              "      \n",
              "  <style>\n",
              "    .colab-df-container {\n",
              "      display:flex;\n",
              "      flex-wrap:wrap;\n",
              "      gap: 12px;\n",
              "    }\n",
              "\n",
              "    .colab-df-convert {\n",
              "      background-color: #E8F0FE;\n",
              "      border: none;\n",
              "      border-radius: 50%;\n",
              "      cursor: pointer;\n",
              "      display: none;\n",
              "      fill: #1967D2;\n",
              "      height: 32px;\n",
              "      padding: 0 0 0 0;\n",
              "      width: 32px;\n",
              "    }\n",
              "\n",
              "    .colab-df-convert:hover {\n",
              "      background-color: #E2EBFA;\n",
              "      box-shadow: 0px 1px 2px rgba(60, 64, 67, 0.3), 0px 1px 3px 1px rgba(60, 64, 67, 0.15);\n",
              "      fill: #174EA6;\n",
              "    }\n",
              "\n",
              "    [theme=dark] .colab-df-convert {\n",
              "      background-color: #3B4455;\n",
              "      fill: #D2E3FC;\n",
              "    }\n",
              "\n",
              "    [theme=dark] .colab-df-convert:hover {\n",
              "      background-color: #434B5C;\n",
              "      box-shadow: 0px 1px 3px 1px rgba(0, 0, 0, 0.15);\n",
              "      filter: drop-shadow(0px 1px 2px rgba(0, 0, 0, 0.3));\n",
              "      fill: #FFFFFF;\n",
              "    }\n",
              "  </style>\n",
              "\n",
              "      <script>\n",
              "        const buttonEl =\n",
              "          document.querySelector('#df-815f85e7-e487-4c15-bb40-2c14046b9a4a button.colab-df-convert');\n",
              "        buttonEl.style.display =\n",
              "          google.colab.kernel.accessAllowed ? 'block' : 'none';\n",
              "\n",
              "        async function convertToInteractive(key) {\n",
              "          const element = document.querySelector('#df-815f85e7-e487-4c15-bb40-2c14046b9a4a');\n",
              "          const dataTable =\n",
              "            await google.colab.kernel.invokeFunction('convertToInteractive',\n",
              "                                                     [key], {});\n",
              "          if (!dataTable) return;\n",
              "\n",
              "          const docLinkHtml = 'Like what you see? Visit the ' +\n",
              "            '<a target=\"_blank\" href=https://colab.research.google.com/notebooks/data_table.ipynb>data table notebook</a>'\n",
              "            + ' to learn more about interactive tables.';\n",
              "          element.innerHTML = '';\n",
              "          dataTable['output_type'] = 'display_data';\n",
              "          await google.colab.output.renderOutput(dataTable, element);\n",
              "          const docLink = document.createElement('div');\n",
              "          docLink.innerHTML = docLinkHtml;\n",
              "          element.appendChild(docLink);\n",
              "        }\n",
              "      </script>\n",
              "    </div>\n",
              "  </div>\n",
              "  "
            ]
          },
          "metadata": {},
          "execution_count": 902
        }
      ],
      "source": [
        "all_nba_df.head()"
      ]
    },
    {
      "cell_type": "code",
      "source": [
        "num_rows = len(all_nba_df)\n",
        "num_seasons = all_nba_df.season.nunique()\n",
        "num_players = all_nba_df.player_id.nunique()\n",
        "n_selected = len(all_nba_df.loc[all_nba_df.all_nba==0])\n",
        "selected = len(all_nba_df.loc[all_nba_df.all_nba==1])\n",
        "print(f\"The dataset has {num_rows} rows\")\n",
        "print(f\"The dataset has {num_seasons} seasons\")\n",
        "print(f\"The dataset has {num_players} different players\")\n",
        "print(f\"The dataset has {selected} selected players and {n_selected} non selected players\")"
      ],
      "metadata": {
        "colab": {
          "base_uri": "https://localhost:8080/"
        },
        "id": "4NapOQXEWesO",
        "outputId": "04b3af8d-255c-4b91-e10a-940e05cd401e"
      },
      "id": "4NapOQXEWesO",
      "execution_count": 903,
      "outputs": [
        {
          "output_type": "stream",
          "name": "stdout",
          "text": [
            "The dataset has 14825 rows\n",
            "The dataset has 39 seasons\n",
            "The dataset has 2718 different players\n",
            "The dataset has 496 selected players and 14329 non selected players\n"
          ]
        }
      ]
    },
    {
      "cell_type": "markdown",
      "id": "f268db59-8c9e-446b-be19-290e608169d2",
      "metadata": {
        "id": "f268db59-8c9e-446b-be19-290e608169d2"
      },
      "source": [
        "### Splitting the dataset"
      ]
    },
    {
      "cell_type": "markdown",
      "id": "6b4916b2-e8cf-4e30-a2ac-e1538c2f5cd5",
      "metadata": {
        "id": "6b4916b2-e8cf-4e30-a2ac-e1538c2f5cd5"
      },
      "source": [
        "2.2. Split the dataset in training and test sets. Make sure to keep the distribution of values in the target variable.\n",
        "\n",
        "Use columns: 'team', 'games', 'games_started', 'mp', 'fg_perc', '3p_perc',\n",
        "       '2p_perc', 'ft_perc', 'trb', 'ast', 'stl', 'blk', 'tov', 'pf', 'pts','all_nba'\n",
        "       \n",
        "    "
      ]
    },
    {
      "cell_type": "code",
      "execution_count": 904,
      "id": "25cfc4ee-98e7-4b84-98d3-80a91fb44912",
      "metadata": {
        "id": "25cfc4ee-98e7-4b84-98d3-80a91fb44912"
      },
      "outputs": [],
      "source": [
        "X = all_nba_df[['team', 'games', 'gamesstarted', 'mp', 'fg_perc', '3p_perc',\n",
        "                '2p_perc', 'ft_perc', 'trb', 'ast', 'stl', 'blk', 'tov', 'pf', 'pts']].copy()\n",
        "y = all_nba_df[\"all_nba\"].copy()"
      ]
    },
    {
      "cell_type": "code",
      "source": [
        "X_nba_train, X_nba_test, y_nba_train, y_nba_test = train_test_split(\n",
        "    X, y, test_size=0.20, random_state=8, stratify=y)"
      ],
      "metadata": {
        "id": "1FVR1-AqWiK_"
      },
      "id": "1FVR1-AqWiK_",
      "execution_count": 905,
      "outputs": []
    },
    {
      "cell_type": "markdown",
      "id": "7043db6e-da74-4a04-91d9-4dd0cd830f22",
      "metadata": {
        "id": "7043db6e-da74-4a04-91d9-4dd0cd830f22"
      },
      "source": [
        "### Baseline model and Evaluation Metrics"
      ]
    },
    {
      "cell_type": "markdown",
      "id": "cedaf085-2a23-41ab-a55f-474e2ae6bb9c",
      "metadata": {
        "id": "cedaf085-2a23-41ab-a55f-474e2ae6bb9c"
      },
      "source": [
        "In this oportunity we'll define our baseline model as the model we can train with the minimun amount of work on the dataset. For this you're gonna train a [LogisticRegression](https://scikit-learn.org/stable/modules/generated/sklearn.linear_model.LogisticRegression.html) with default parameters, and without doing any preprocessing to our data."
      ]
    },
    {
      "cell_type": "markdown",
      "id": "67a8999b-2dfe-466b-814c-94ecced9f8dc",
      "metadata": {
        "id": "67a8999b-2dfe-466b-814c-94ecced9f8dc"
      },
      "source": [
        "2.3. Let's start with a simple test. What accuracy would we get if we had a baseline model that always predicted 0 (player not selected to all nba)?"
      ]
    },
    {
      "cell_type": "code",
      "execution_count": 906,
      "id": "4aa3bbfb-d2ce-43bc-aea4-f6f7aab0933c",
      "metadata": {
        "id": "4aa3bbfb-d2ce-43bc-aea4-f6f7aab0933c",
        "colab": {
          "base_uri": "https://localhost:8080/"
        },
        "outputId": "95653904-82c1-4d61-daaf-6ce25ae374df"
      },
      "outputs": [
        {
          "output_type": "stream",
          "name": "stdout",
          "text": [
            "We would get an accuracy of 96.66%\n"
          ]
        }
      ],
      "source": [
        "ac = round(len(X_nba_test.loc[y_nba_test == 0])/len(X_nba_test)*100, 2)\n",
        "print(f\"We would get an accuracy of {ac}%\")"
      ]
    },
    {
      "cell_type": "markdown",
      "id": "a7f436a6-d3fe-4ead-8c09-b450d850b36f",
      "metadata": {
        "id": "a7f436a6-d3fe-4ead-8c09-b450d850b36f"
      },
      "source": [
        "2.4. What does this tells us about the data and the use of accuracy as an evaluation metric?"
      ]
    },
    {
      "cell_type": "markdown",
      "source": [
        "That the accuracy it´s not representative of the performance of the model"
      ],
      "metadata": {
        "id": "0El95pX9Wo_W"
      },
      "id": "0El95pX9Wo_W"
    },
    {
      "cell_type": "markdown",
      "id": "df1a22d1-3fd1-4e6f-9139-52a3466fb1c4",
      "metadata": {
        "id": "df1a22d1-3fd1-4e6f-9139-52a3466fb1c4"
      },
      "source": [
        "2.5. Scale all numerical features in the dataset (we will keep this scaling for future modeling, so make sure to do it in place"
      ]
    },
    {
      "cell_type": "code",
      "execution_count": 907,
      "id": "e4d2a505-f193-4b94-89c3-56cba2c4db54",
      "metadata": {
        "id": "e4d2a505-f193-4b94-89c3-56cba2c4db54"
      },
      "outputs": [],
      "source": [
        "numerical_columns = []\n",
        "\n",
        "for i in X_nba_train.columns:\n",
        "    if X_nba_train[i].dtype in [\"int64\", \"float64\"]:\n",
        "        numerical_columns.append(i)"
      ]
    },
    {
      "cell_type": "code",
      "source": [
        "X_nba_train.describe()"
      ],
      "metadata": {
        "colab": {
          "base_uri": "https://localhost:8080/",
          "height": 364
        },
        "id": "NyWY9vLrWsDz",
        "outputId": "c33e602e-0eae-4eac-b68e-17e8a211997e"
      },
      "id": "NyWY9vLrWsDz",
      "execution_count": 908,
      "outputs": [
        {
          "output_type": "execute_result",
          "data": {
            "text/plain": [
              "              games  gamesstarted            mp       fg_perc       3p_perc  \\\n",
              "count  11860.000000  11860.000000  11860.000000  11860.000000  11860.000000   \n",
              "mean      54.225295     25.807083     20.276113      0.439289      0.214585   \n",
              "std       25.246637     29.542962     10.266152      0.094959      0.183125   \n",
              "min        1.000000      0.000000      0.000000      0.000000      0.000000   \n",
              "25%       35.000000      0.000000     11.800000      0.403000      0.000000   \n",
              "50%       62.000000     10.000000     19.600000      0.445000      0.260000   \n",
              "75%       77.000000     52.000000     28.800000      0.486000      0.355000   \n",
              "max       85.000000     83.000000     43.700000      1.000000      1.000000   \n",
              "\n",
              "            2p_perc       ft_perc           trb           ast           stl  \\\n",
              "count  11860.000000  11860.000000  11860.000000  11860.000000  11860.000000   \n",
              "mean       0.458830      0.699783      3.545708      1.875261      0.673449   \n",
              "std        0.100011      0.187232      2.551933      1.893211      0.483422   \n",
              "min        0.000000      0.000000      0.000000      0.000000      0.000000   \n",
              "25%        0.426000      0.647000      1.700000      0.600000      0.300000   \n",
              "50%        0.469000      0.743000      2.900000      1.300000      0.600000   \n",
              "75%        0.505000      0.810000      4.700000      2.500000      0.900000   \n",
              "max        1.000000      1.000000     18.700000     14.200000      3.700000   \n",
              "\n",
              "                blk           tov            pf           pts  \n",
              "count  11860.000000  11860.000000  11860.000000  11860.000000  \n",
              "mean       0.417681      1.251847      1.930852      8.218331  \n",
              "std        0.513256      0.817982      0.852718      5.993780  \n",
              "min        0.000000      0.000000      0.000000      0.000000  \n",
              "25%        0.100000      0.600000      1.300000      3.500000  \n",
              "50%        0.200000      1.100000      1.900000      6.600000  \n",
              "75%        0.500000      1.700000      2.500000     11.700000  \n",
              "max        5.600000      5.700000      6.000000     35.400000  "
            ],
            "text/html": [
              "\n",
              "  <div id=\"df-bba23c0d-ffd4-43d2-b0e7-71eb992ba3aa\">\n",
              "    <div class=\"colab-df-container\">\n",
              "      <div>\n",
              "<style scoped>\n",
              "    .dataframe tbody tr th:only-of-type {\n",
              "        vertical-align: middle;\n",
              "    }\n",
              "\n",
              "    .dataframe tbody tr th {\n",
              "        vertical-align: top;\n",
              "    }\n",
              "\n",
              "    .dataframe thead th {\n",
              "        text-align: right;\n",
              "    }\n",
              "</style>\n",
              "<table border=\"1\" class=\"dataframe\">\n",
              "  <thead>\n",
              "    <tr style=\"text-align: right;\">\n",
              "      <th></th>\n",
              "      <th>games</th>\n",
              "      <th>gamesstarted</th>\n",
              "      <th>mp</th>\n",
              "      <th>fg_perc</th>\n",
              "      <th>3p_perc</th>\n",
              "      <th>2p_perc</th>\n",
              "      <th>ft_perc</th>\n",
              "      <th>trb</th>\n",
              "      <th>ast</th>\n",
              "      <th>stl</th>\n",
              "      <th>blk</th>\n",
              "      <th>tov</th>\n",
              "      <th>pf</th>\n",
              "      <th>pts</th>\n",
              "    </tr>\n",
              "  </thead>\n",
              "  <tbody>\n",
              "    <tr>\n",
              "      <th>count</th>\n",
              "      <td>11860.000000</td>\n",
              "      <td>11860.000000</td>\n",
              "      <td>11860.000000</td>\n",
              "      <td>11860.000000</td>\n",
              "      <td>11860.000000</td>\n",
              "      <td>11860.000000</td>\n",
              "      <td>11860.000000</td>\n",
              "      <td>11860.000000</td>\n",
              "      <td>11860.000000</td>\n",
              "      <td>11860.000000</td>\n",
              "      <td>11860.000000</td>\n",
              "      <td>11860.000000</td>\n",
              "      <td>11860.000000</td>\n",
              "      <td>11860.000000</td>\n",
              "    </tr>\n",
              "    <tr>\n",
              "      <th>mean</th>\n",
              "      <td>54.225295</td>\n",
              "      <td>25.807083</td>\n",
              "      <td>20.276113</td>\n",
              "      <td>0.439289</td>\n",
              "      <td>0.214585</td>\n",
              "      <td>0.458830</td>\n",
              "      <td>0.699783</td>\n",
              "      <td>3.545708</td>\n",
              "      <td>1.875261</td>\n",
              "      <td>0.673449</td>\n",
              "      <td>0.417681</td>\n",
              "      <td>1.251847</td>\n",
              "      <td>1.930852</td>\n",
              "      <td>8.218331</td>\n",
              "    </tr>\n",
              "    <tr>\n",
              "      <th>std</th>\n",
              "      <td>25.246637</td>\n",
              "      <td>29.542962</td>\n",
              "      <td>10.266152</td>\n",
              "      <td>0.094959</td>\n",
              "      <td>0.183125</td>\n",
              "      <td>0.100011</td>\n",
              "      <td>0.187232</td>\n",
              "      <td>2.551933</td>\n",
              "      <td>1.893211</td>\n",
              "      <td>0.483422</td>\n",
              "      <td>0.513256</td>\n",
              "      <td>0.817982</td>\n",
              "      <td>0.852718</td>\n",
              "      <td>5.993780</td>\n",
              "    </tr>\n",
              "    <tr>\n",
              "      <th>min</th>\n",
              "      <td>1.000000</td>\n",
              "      <td>0.000000</td>\n",
              "      <td>0.000000</td>\n",
              "      <td>0.000000</td>\n",
              "      <td>0.000000</td>\n",
              "      <td>0.000000</td>\n",
              "      <td>0.000000</td>\n",
              "      <td>0.000000</td>\n",
              "      <td>0.000000</td>\n",
              "      <td>0.000000</td>\n",
              "      <td>0.000000</td>\n",
              "      <td>0.000000</td>\n",
              "      <td>0.000000</td>\n",
              "      <td>0.000000</td>\n",
              "    </tr>\n",
              "    <tr>\n",
              "      <th>25%</th>\n",
              "      <td>35.000000</td>\n",
              "      <td>0.000000</td>\n",
              "      <td>11.800000</td>\n",
              "      <td>0.403000</td>\n",
              "      <td>0.000000</td>\n",
              "      <td>0.426000</td>\n",
              "      <td>0.647000</td>\n",
              "      <td>1.700000</td>\n",
              "      <td>0.600000</td>\n",
              "      <td>0.300000</td>\n",
              "      <td>0.100000</td>\n",
              "      <td>0.600000</td>\n",
              "      <td>1.300000</td>\n",
              "      <td>3.500000</td>\n",
              "    </tr>\n",
              "    <tr>\n",
              "      <th>50%</th>\n",
              "      <td>62.000000</td>\n",
              "      <td>10.000000</td>\n",
              "      <td>19.600000</td>\n",
              "      <td>0.445000</td>\n",
              "      <td>0.260000</td>\n",
              "      <td>0.469000</td>\n",
              "      <td>0.743000</td>\n",
              "      <td>2.900000</td>\n",
              "      <td>1.300000</td>\n",
              "      <td>0.600000</td>\n",
              "      <td>0.200000</td>\n",
              "      <td>1.100000</td>\n",
              "      <td>1.900000</td>\n",
              "      <td>6.600000</td>\n",
              "    </tr>\n",
              "    <tr>\n",
              "      <th>75%</th>\n",
              "      <td>77.000000</td>\n",
              "      <td>52.000000</td>\n",
              "      <td>28.800000</td>\n",
              "      <td>0.486000</td>\n",
              "      <td>0.355000</td>\n",
              "      <td>0.505000</td>\n",
              "      <td>0.810000</td>\n",
              "      <td>4.700000</td>\n",
              "      <td>2.500000</td>\n",
              "      <td>0.900000</td>\n",
              "      <td>0.500000</td>\n",
              "      <td>1.700000</td>\n",
              "      <td>2.500000</td>\n",
              "      <td>11.700000</td>\n",
              "    </tr>\n",
              "    <tr>\n",
              "      <th>max</th>\n",
              "      <td>85.000000</td>\n",
              "      <td>83.000000</td>\n",
              "      <td>43.700000</td>\n",
              "      <td>1.000000</td>\n",
              "      <td>1.000000</td>\n",
              "      <td>1.000000</td>\n",
              "      <td>1.000000</td>\n",
              "      <td>18.700000</td>\n",
              "      <td>14.200000</td>\n",
              "      <td>3.700000</td>\n",
              "      <td>5.600000</td>\n",
              "      <td>5.700000</td>\n",
              "      <td>6.000000</td>\n",
              "      <td>35.400000</td>\n",
              "    </tr>\n",
              "  </tbody>\n",
              "</table>\n",
              "</div>\n",
              "      <button class=\"colab-df-convert\" onclick=\"convertToInteractive('df-bba23c0d-ffd4-43d2-b0e7-71eb992ba3aa')\"\n",
              "              title=\"Convert this dataframe to an interactive table.\"\n",
              "              style=\"display:none;\">\n",
              "        \n",
              "  <svg xmlns=\"http://www.w3.org/2000/svg\" height=\"24px\"viewBox=\"0 0 24 24\"\n",
              "       width=\"24px\">\n",
              "    <path d=\"M0 0h24v24H0V0z\" fill=\"none\"/>\n",
              "    <path d=\"M18.56 5.44l.94 2.06.94-2.06 2.06-.94-2.06-.94-.94-2.06-.94 2.06-2.06.94zm-11 1L8.5 8.5l.94-2.06 2.06-.94-2.06-.94L8.5 2.5l-.94 2.06-2.06.94zm10 10l.94 2.06.94-2.06 2.06-.94-2.06-.94-.94-2.06-.94 2.06-2.06.94z\"/><path d=\"M17.41 7.96l-1.37-1.37c-.4-.4-.92-.59-1.43-.59-.52 0-1.04.2-1.43.59L10.3 9.45l-7.72 7.72c-.78.78-.78 2.05 0 2.83L4 21.41c.39.39.9.59 1.41.59.51 0 1.02-.2 1.41-.59l7.78-7.78 2.81-2.81c.8-.78.8-2.07 0-2.86zM5.41 20L4 18.59l7.72-7.72 1.47 1.35L5.41 20z\"/>\n",
              "  </svg>\n",
              "      </button>\n",
              "      \n",
              "  <style>\n",
              "    .colab-df-container {\n",
              "      display:flex;\n",
              "      flex-wrap:wrap;\n",
              "      gap: 12px;\n",
              "    }\n",
              "\n",
              "    .colab-df-convert {\n",
              "      background-color: #E8F0FE;\n",
              "      border: none;\n",
              "      border-radius: 50%;\n",
              "      cursor: pointer;\n",
              "      display: none;\n",
              "      fill: #1967D2;\n",
              "      height: 32px;\n",
              "      padding: 0 0 0 0;\n",
              "      width: 32px;\n",
              "    }\n",
              "\n",
              "    .colab-df-convert:hover {\n",
              "      background-color: #E2EBFA;\n",
              "      box-shadow: 0px 1px 2px rgba(60, 64, 67, 0.3), 0px 1px 3px 1px rgba(60, 64, 67, 0.15);\n",
              "      fill: #174EA6;\n",
              "    }\n",
              "\n",
              "    [theme=dark] .colab-df-convert {\n",
              "      background-color: #3B4455;\n",
              "      fill: #D2E3FC;\n",
              "    }\n",
              "\n",
              "    [theme=dark] .colab-df-convert:hover {\n",
              "      background-color: #434B5C;\n",
              "      box-shadow: 0px 1px 3px 1px rgba(0, 0, 0, 0.15);\n",
              "      filter: drop-shadow(0px 1px 2px rgba(0, 0, 0, 0.3));\n",
              "      fill: #FFFFFF;\n",
              "    }\n",
              "  </style>\n",
              "\n",
              "      <script>\n",
              "        const buttonEl =\n",
              "          document.querySelector('#df-bba23c0d-ffd4-43d2-b0e7-71eb992ba3aa button.colab-df-convert');\n",
              "        buttonEl.style.display =\n",
              "          google.colab.kernel.accessAllowed ? 'block' : 'none';\n",
              "\n",
              "        async function convertToInteractive(key) {\n",
              "          const element = document.querySelector('#df-bba23c0d-ffd4-43d2-b0e7-71eb992ba3aa');\n",
              "          const dataTable =\n",
              "            await google.colab.kernel.invokeFunction('convertToInteractive',\n",
              "                                                     [key], {});\n",
              "          if (!dataTable) return;\n",
              "\n",
              "          const docLinkHtml = 'Like what you see? Visit the ' +\n",
              "            '<a target=\"_blank\" href=https://colab.research.google.com/notebooks/data_table.ipynb>data table notebook</a>'\n",
              "            + ' to learn more about interactive tables.';\n",
              "          element.innerHTML = '';\n",
              "          dataTable['output_type'] = 'display_data';\n",
              "          await google.colab.output.renderOutput(dataTable, element);\n",
              "          const docLink = document.createElement('div');\n",
              "          docLink.innerHTML = docLinkHtml;\n",
              "          element.appendChild(docLink);\n",
              "        }\n",
              "      </script>\n",
              "    </div>\n",
              "  </div>\n",
              "  "
            ]
          },
          "metadata": {},
          "execution_count": 908
        }
      ]
    },
    {
      "cell_type": "markdown",
      "source": [
        "We have to scale only the columns   \n",
        "[\"games\", \"gamesstarted\", \"mp\", \"trb\", \"ast\", \"stl\", \"blk\", \"tov\", \"pf\", \"pts\"]"
      ],
      "metadata": {
        "id": "OJv31et9Wx95"
      },
      "id": "OJv31et9Wx95"
    },
    {
      "cell_type": "code",
      "source": [
        "allnba_scaler = StandardScaler()"
      ],
      "metadata": {
        "id": "4w-tOXamWsJi"
      },
      "id": "4w-tOXamWsJi",
      "execution_count": 909,
      "outputs": []
    },
    {
      "cell_type": "code",
      "source": [
        "allnba_scaler.fit(X_nba_train[[\"games\", \"gamesstarted\",\n",
        "                  \"mp\", \"trb\", \"ast\", \"stl\", \"blk\", \"tov\", \"pf\", \"pts\"]])"
      ],
      "metadata": {
        "colab": {
          "base_uri": "https://localhost:8080/"
        },
        "id": "5LksHcCDWsLy",
        "outputId": "c8c1bdea-b1c8-44af-f112-ed1921de42f3"
      },
      "id": "5LksHcCDWsLy",
      "execution_count": 910,
      "outputs": [
        {
          "output_type": "execute_result",
          "data": {
            "text/plain": [
              "StandardScaler()"
            ]
          },
          "metadata": {},
          "execution_count": 910
        }
      ]
    },
    {
      "cell_type": "code",
      "source": [
        "X_nba_train[[\"games\", \"gamesstarted\", \"mp\", \"trb\", \"ast\", \"stl\", \"blk\", \"tov\", \"pf\", \"pts\"]] = allnba_scaler.transform(\n",
        "    X_nba_train[[\"games\", \"gamesstarted\", \"mp\", \"trb\", \"ast\", \"stl\", \"blk\", \"tov\", \"pf\", \"pts\"]])"
      ],
      "metadata": {
        "id": "-XkH4Oz_W2Pr"
      },
      "id": "-XkH4Oz_W2Pr",
      "execution_count": 911,
      "outputs": []
    },
    {
      "cell_type": "code",
      "source": [
        "X_nba_test[[\"games\", \"gamesstarted\", \"mp\", \"trb\", \"ast\", \"stl\", \"blk\", \"tov\", \"pf\", \"pts\"]] = allnba_scaler.transform(\n",
        "    X_nba_test[[\"games\", \"gamesstarted\", \"mp\", \"trb\", \"ast\", \"stl\", \"blk\", \"tov\", \"pf\", \"pts\"]])"
      ],
      "metadata": {
        "id": "pRQDWbRzW2SD"
      },
      "id": "pRQDWbRzW2SD",
      "execution_count": 912,
      "outputs": []
    },
    {
      "cell_type": "markdown",
      "id": "0ccfd642-fd2a-4ce6-af92-901156e2a009",
      "metadata": {
        "id": "0ccfd642-fd2a-4ce6-af92-901156e2a009"
      },
      "source": [
        "2.6. Train a LogisticRegression with default parameters, use only the numerical features (omit the team information for now). This will be our baseline model. "
      ]
    },
    {
      "cell_type": "code",
      "execution_count": 913,
      "id": "6f9ffef5-6333-481e-816f-9125c95fe117",
      "metadata": {
        "id": "6f9ffef5-6333-481e-816f-9125c95fe117"
      },
      "outputs": [],
      "source": [
        "f_nba_model = LogisticRegression(max_iter=1000)"
      ]
    },
    {
      "cell_type": "code",
      "source": [
        "f_nba_model.fit(X_nba_train[numerical_columns], y_nba_train)"
      ],
      "metadata": {
        "colab": {
          "base_uri": "https://localhost:8080/"
        },
        "id": "xjaa_pJkW8Ud",
        "outputId": "e2d01a38-5c03-4b46-c2c4-7978dd9beed0"
      },
      "id": "xjaa_pJkW8Ud",
      "execution_count": 914,
      "outputs": [
        {
          "output_type": "execute_result",
          "data": {
            "text/plain": [
              "LogisticRegression(max_iter=1000)"
            ]
          },
          "metadata": {},
          "execution_count": 914
        }
      ]
    },
    {
      "cell_type": "code",
      "source": [
        "y_nba_p = f_nba_model.predict(X_nba_test[numerical_columns])\n",
        "y_nba_p"
      ],
      "metadata": {
        "colab": {
          "base_uri": "https://localhost:8080/"
        },
        "id": "Kmk57TKMW8Wp",
        "outputId": "1f5ae5da-2158-4ca2-d087-8466acc0c3ff"
      },
      "id": "Kmk57TKMW8Wp",
      "execution_count": 915,
      "outputs": [
        {
          "output_type": "execute_result",
          "data": {
            "text/plain": [
              "array([0, 0, 0, ..., 0, 0, 0])"
            ]
          },
          "metadata": {},
          "execution_count": 915
        }
      ]
    },
    {
      "cell_type": "markdown",
      "id": "0f06758a-f2dd-4339-b170-275b428fdb4e",
      "metadata": {
        "id": "0f06758a-f2dd-4339-b170-275b428fdb4e"
      },
      "source": [
        "2.7. Evaluate our baseline model using this metrics: \n",
        "\n",
        "    - accuracy\n",
        "    - precision\n",
        "    - recall\n",
        "    - f1"
      ]
    },
    {
      "cell_type": "code",
      "execution_count": 916,
      "id": "b953324f-f7ae-4823-a801-f06d27d6eb43",
      "metadata": {
        "id": "b953324f-f7ae-4823-a801-f06d27d6eb43"
      },
      "outputs": [],
      "source": [
        "f1 = round(f1_score(y_nba_test, y_nba_p),4)\n",
        "acc = round(accuracy_score(y_nba_test, y_nba_p),4)\n",
        "prec = round(precision_score(y_nba_test, y_nba_p),4)\n",
        "rec = round(recall_score(y_nba_test, y_nba_p),4)"
      ]
    },
    {
      "cell_type": "code",
      "source": [
        "print(f\"Accuracy: {acc}%\\nPrecision: {prec}%\\nRecall: {rec}%\\nf1: {f1}%\")"
      ],
      "metadata": {
        "colab": {
          "base_uri": "https://localhost:8080/"
        },
        "id": "vKH4S5CFXECm",
        "outputId": "5292aeda-398e-4824-ba1c-21e011e32b2b"
      },
      "id": "vKH4S5CFXECm",
      "execution_count": 917,
      "outputs": [
        {
          "output_type": "stream",
          "name": "stdout",
          "text": [
            "Accuracy: 0.9838%\n",
            "Precision: 0.8592%\n",
            "Recall: 0.6162%\n",
            "f1: 0.7176%\n"
          ]
        }
      ]
    },
    {
      "cell_type": "markdown",
      "id": "7a540e7b-387d-4e2b-a441-d0c5173bdbf7",
      "metadata": {
        "id": "7a540e7b-387d-4e2b-a441-d0c5173bdbf7"
      },
      "source": [
        "From now on, you'll be evaluating you model primarily using the F1 Score metric, but we also want to avoid models that have very low recall. "
      ]
    },
    {
      "cell_type": "markdown",
      "id": "2054a43f-55ec-45fc-9ead-a7699d8aa2b0",
      "metadata": {
        "id": "2054a43f-55ec-45fc-9ead-a7699d8aa2b0"
      },
      "source": [
        "### Classification"
      ]
    },
    {
      "cell_type": "markdown",
      "id": "1e2847f3-f02c-4308-8a0c-41ba79af0781",
      "metadata": {
        "id": "1e2847f3-f02c-4308-8a0c-41ba79af0781"
      },
      "source": [
        "#### Feature engineering"
      ]
    },
    {
      "cell_type": "markdown",
      "id": "27b6ddb3-576c-4238-9ec3-534aafee764b",
      "metadata": {
        "id": "27b6ddb3-576c-4238-9ec3-534aafee764b"
      },
      "source": [
        "2.8. One hot encode the Team feature. Make sure to drop the original column."
      ]
    },
    {
      "cell_type": "code",
      "execution_count": 918,
      "id": "f4ca83ec-7aab-4cff-8ac7-1b224ff54dde",
      "metadata": {
        "id": "f4ca83ec-7aab-4cff-8ac7-1b224ff54dde",
        "colab": {
          "base_uri": "https://localhost:8080/",
          "height": 206
        },
        "outputId": "66c5e167-c664-4ebe-c1d0-62d38b8c5568"
      },
      "outputs": [
        {
          "output_type": "execute_result",
          "data": {
            "text/plain": [
              "      team     games  gamesstarted        mp  fg_perc  3p_perc  2p_perc  \\\n",
              "14212  LAL  0.585239     -0.670478 -0.095085    0.412    0.327    0.429   \n",
              "15260  PHI  0.704072     -0.331974  0.411456    0.427    0.213    0.492   \n",
              "243    IND  0.189130     -0.704329 -0.552919    0.451    0.000    0.453   \n",
              "5480   LAC -2.029080     -0.873581 -1.361435    0.222    0.000    0.222   \n",
              "14192  BRK  0.585239      1.428249  0.956960    0.397    0.282    0.461   \n",
              "\n",
              "       ft_perc       trb       ast       stl       blk       tov        pf  \\\n",
              "14212    0.750  0.021276  0.224358 -0.151941 -0.424136 -0.185643 -0.270736   \n",
              "15260    0.641 -0.135475  0.594116  0.882396 -0.424136  1.892730  0.198372   \n",
              "243      0.688  0.021276 -0.515158 -0.772543 -0.034451 -0.919187 -0.739844   \n",
              "5480     0.625 -0.331413 -0.990561 -1.393145 -0.813821 -0.674672 -0.739844   \n",
              "14192    0.637  0.413152  0.382825  1.502998  0.550077  0.425643 -0.270736   \n",
              "\n",
              "            pts  \n",
              "14212 -0.536968  \n",
              "15260  0.797806  \n",
              "243   -0.904030  \n",
              "5480  -0.870661  \n",
              "14192 -0.086482  "
            ],
            "text/html": [
              "\n",
              "  <div id=\"df-95bf03f5-0328-47e3-92fd-1e7cffa2fbf4\">\n",
              "    <div class=\"colab-df-container\">\n",
              "      <div>\n",
              "<style scoped>\n",
              "    .dataframe tbody tr th:only-of-type {\n",
              "        vertical-align: middle;\n",
              "    }\n",
              "\n",
              "    .dataframe tbody tr th {\n",
              "        vertical-align: top;\n",
              "    }\n",
              "\n",
              "    .dataframe thead th {\n",
              "        text-align: right;\n",
              "    }\n",
              "</style>\n",
              "<table border=\"1\" class=\"dataframe\">\n",
              "  <thead>\n",
              "    <tr style=\"text-align: right;\">\n",
              "      <th></th>\n",
              "      <th>team</th>\n",
              "      <th>games</th>\n",
              "      <th>gamesstarted</th>\n",
              "      <th>mp</th>\n",
              "      <th>fg_perc</th>\n",
              "      <th>3p_perc</th>\n",
              "      <th>2p_perc</th>\n",
              "      <th>ft_perc</th>\n",
              "      <th>trb</th>\n",
              "      <th>ast</th>\n",
              "      <th>stl</th>\n",
              "      <th>blk</th>\n",
              "      <th>tov</th>\n",
              "      <th>pf</th>\n",
              "      <th>pts</th>\n",
              "    </tr>\n",
              "  </thead>\n",
              "  <tbody>\n",
              "    <tr>\n",
              "      <th>14212</th>\n",
              "      <td>LAL</td>\n",
              "      <td>0.585239</td>\n",
              "      <td>-0.670478</td>\n",
              "      <td>-0.095085</td>\n",
              "      <td>0.412</td>\n",
              "      <td>0.327</td>\n",
              "      <td>0.429</td>\n",
              "      <td>0.750</td>\n",
              "      <td>0.021276</td>\n",
              "      <td>0.224358</td>\n",
              "      <td>-0.151941</td>\n",
              "      <td>-0.424136</td>\n",
              "      <td>-0.185643</td>\n",
              "      <td>-0.270736</td>\n",
              "      <td>-0.536968</td>\n",
              "    </tr>\n",
              "    <tr>\n",
              "      <th>15260</th>\n",
              "      <td>PHI</td>\n",
              "      <td>0.704072</td>\n",
              "      <td>-0.331974</td>\n",
              "      <td>0.411456</td>\n",
              "      <td>0.427</td>\n",
              "      <td>0.213</td>\n",
              "      <td>0.492</td>\n",
              "      <td>0.641</td>\n",
              "      <td>-0.135475</td>\n",
              "      <td>0.594116</td>\n",
              "      <td>0.882396</td>\n",
              "      <td>-0.424136</td>\n",
              "      <td>1.892730</td>\n",
              "      <td>0.198372</td>\n",
              "      <td>0.797806</td>\n",
              "    </tr>\n",
              "    <tr>\n",
              "      <th>243</th>\n",
              "      <td>IND</td>\n",
              "      <td>0.189130</td>\n",
              "      <td>-0.704329</td>\n",
              "      <td>-0.552919</td>\n",
              "      <td>0.451</td>\n",
              "      <td>0.000</td>\n",
              "      <td>0.453</td>\n",
              "      <td>0.688</td>\n",
              "      <td>0.021276</td>\n",
              "      <td>-0.515158</td>\n",
              "      <td>-0.772543</td>\n",
              "      <td>-0.034451</td>\n",
              "      <td>-0.919187</td>\n",
              "      <td>-0.739844</td>\n",
              "      <td>-0.904030</td>\n",
              "    </tr>\n",
              "    <tr>\n",
              "      <th>5480</th>\n",
              "      <td>LAC</td>\n",
              "      <td>-2.029080</td>\n",
              "      <td>-0.873581</td>\n",
              "      <td>-1.361435</td>\n",
              "      <td>0.222</td>\n",
              "      <td>0.000</td>\n",
              "      <td>0.222</td>\n",
              "      <td>0.625</td>\n",
              "      <td>-0.331413</td>\n",
              "      <td>-0.990561</td>\n",
              "      <td>-1.393145</td>\n",
              "      <td>-0.813821</td>\n",
              "      <td>-0.674672</td>\n",
              "      <td>-0.739844</td>\n",
              "      <td>-0.870661</td>\n",
              "    </tr>\n",
              "    <tr>\n",
              "      <th>14192</th>\n",
              "      <td>BRK</td>\n",
              "      <td>0.585239</td>\n",
              "      <td>1.428249</td>\n",
              "      <td>0.956960</td>\n",
              "      <td>0.397</td>\n",
              "      <td>0.282</td>\n",
              "      <td>0.461</td>\n",
              "      <td>0.637</td>\n",
              "      <td>0.413152</td>\n",
              "      <td>0.382825</td>\n",
              "      <td>1.502998</td>\n",
              "      <td>0.550077</td>\n",
              "      <td>0.425643</td>\n",
              "      <td>-0.270736</td>\n",
              "      <td>-0.086482</td>\n",
              "    </tr>\n",
              "  </tbody>\n",
              "</table>\n",
              "</div>\n",
              "      <button class=\"colab-df-convert\" onclick=\"convertToInteractive('df-95bf03f5-0328-47e3-92fd-1e7cffa2fbf4')\"\n",
              "              title=\"Convert this dataframe to an interactive table.\"\n",
              "              style=\"display:none;\">\n",
              "        \n",
              "  <svg xmlns=\"http://www.w3.org/2000/svg\" height=\"24px\"viewBox=\"0 0 24 24\"\n",
              "       width=\"24px\">\n",
              "    <path d=\"M0 0h24v24H0V0z\" fill=\"none\"/>\n",
              "    <path d=\"M18.56 5.44l.94 2.06.94-2.06 2.06-.94-2.06-.94-.94-2.06-.94 2.06-2.06.94zm-11 1L8.5 8.5l.94-2.06 2.06-.94-2.06-.94L8.5 2.5l-.94 2.06-2.06.94zm10 10l.94 2.06.94-2.06 2.06-.94-2.06-.94-.94-2.06-.94 2.06-2.06.94z\"/><path d=\"M17.41 7.96l-1.37-1.37c-.4-.4-.92-.59-1.43-.59-.52 0-1.04.2-1.43.59L10.3 9.45l-7.72 7.72c-.78.78-.78 2.05 0 2.83L4 21.41c.39.39.9.59 1.41.59.51 0 1.02-.2 1.41-.59l7.78-7.78 2.81-2.81c.8-.78.8-2.07 0-2.86zM5.41 20L4 18.59l7.72-7.72 1.47 1.35L5.41 20z\"/>\n",
              "  </svg>\n",
              "      </button>\n",
              "      \n",
              "  <style>\n",
              "    .colab-df-container {\n",
              "      display:flex;\n",
              "      flex-wrap:wrap;\n",
              "      gap: 12px;\n",
              "    }\n",
              "\n",
              "    .colab-df-convert {\n",
              "      background-color: #E8F0FE;\n",
              "      border: none;\n",
              "      border-radius: 50%;\n",
              "      cursor: pointer;\n",
              "      display: none;\n",
              "      fill: #1967D2;\n",
              "      height: 32px;\n",
              "      padding: 0 0 0 0;\n",
              "      width: 32px;\n",
              "    }\n",
              "\n",
              "    .colab-df-convert:hover {\n",
              "      background-color: #E2EBFA;\n",
              "      box-shadow: 0px 1px 2px rgba(60, 64, 67, 0.3), 0px 1px 3px 1px rgba(60, 64, 67, 0.15);\n",
              "      fill: #174EA6;\n",
              "    }\n",
              "\n",
              "    [theme=dark] .colab-df-convert {\n",
              "      background-color: #3B4455;\n",
              "      fill: #D2E3FC;\n",
              "    }\n",
              "\n",
              "    [theme=dark] .colab-df-convert:hover {\n",
              "      background-color: #434B5C;\n",
              "      box-shadow: 0px 1px 3px 1px rgba(0, 0, 0, 0.15);\n",
              "      filter: drop-shadow(0px 1px 2px rgba(0, 0, 0, 0.3));\n",
              "      fill: #FFFFFF;\n",
              "    }\n",
              "  </style>\n",
              "\n",
              "      <script>\n",
              "        const buttonEl =\n",
              "          document.querySelector('#df-95bf03f5-0328-47e3-92fd-1e7cffa2fbf4 button.colab-df-convert');\n",
              "        buttonEl.style.display =\n",
              "          google.colab.kernel.accessAllowed ? 'block' : 'none';\n",
              "\n",
              "        async function convertToInteractive(key) {\n",
              "          const element = document.querySelector('#df-95bf03f5-0328-47e3-92fd-1e7cffa2fbf4');\n",
              "          const dataTable =\n",
              "            await google.colab.kernel.invokeFunction('convertToInteractive',\n",
              "                                                     [key], {});\n",
              "          if (!dataTable) return;\n",
              "\n",
              "          const docLinkHtml = 'Like what you see? Visit the ' +\n",
              "            '<a target=\"_blank\" href=https://colab.research.google.com/notebooks/data_table.ipynb>data table notebook</a>'\n",
              "            + ' to learn more about interactive tables.';\n",
              "          element.innerHTML = '';\n",
              "          dataTable['output_type'] = 'display_data';\n",
              "          await google.colab.output.renderOutput(dataTable, element);\n",
              "          const docLink = document.createElement('div');\n",
              "          docLink.innerHTML = docLinkHtml;\n",
              "          element.appendChild(docLink);\n",
              "        }\n",
              "      </script>\n",
              "    </div>\n",
              "  </div>\n",
              "  "
            ]
          },
          "metadata": {},
          "execution_count": 918
        }
      ],
      "source": [
        "X_nba_train.head()"
      ]
    },
    {
      "cell_type": "code",
      "source": [
        "X_nba_train = pd.get_dummies(X_nba_train, columns=[\"team\"])\n",
        "X_nba_test = pd.get_dummies(X_nba_test, columns=[\"team\"])"
      ],
      "metadata": {
        "id": "cIBuveewXMz0"
      },
      "id": "cIBuveewXMz0",
      "execution_count": 919,
      "outputs": []
    },
    {
      "cell_type": "code",
      "source": [
        "X_nba_train.head()"
      ],
      "metadata": {
        "colab": {
          "base_uri": "https://localhost:8080/",
          "height": 299
        },
        "id": "36ylHOnLXPbh",
        "outputId": "8284d0bd-1d31-43e4-dc77-80eeab76066d"
      },
      "id": "36ylHOnLXPbh",
      "execution_count": 920,
      "outputs": [
        {
          "output_type": "execute_result",
          "data": {
            "text/plain": [
              "          games  gamesstarted        mp  fg_perc  3p_perc  2p_perc  ft_perc  \\\n",
              "14212  0.585239     -0.670478 -0.095085    0.412    0.327    0.429    0.750   \n",
              "15260  0.704072     -0.331974  0.411456    0.427    0.213    0.492    0.641   \n",
              "243    0.189130     -0.704329 -0.552919    0.451    0.000    0.453    0.688   \n",
              "5480  -2.029080     -0.873581 -1.361435    0.222    0.000    0.222    0.625   \n",
              "14192  0.585239      1.428249  0.956960    0.397    0.282    0.461    0.637   \n",
              "\n",
              "            trb       ast       stl  ...  team_SAC  team_SAS  team_SDC  \\\n",
              "14212  0.021276  0.224358 -0.151941  ...         0         0         0   \n",
              "15260 -0.135475  0.594116  0.882396  ...         0         0         0   \n",
              "243    0.021276 -0.515158 -0.772543  ...         0         0         0   \n",
              "5480  -0.331413 -0.990561 -1.393145  ...         0         0         0   \n",
              "14192  0.413152  0.382825  1.502998  ...         0         0         0   \n",
              "\n",
              "       team_SEA  team_TOR  team_TOT  team_UTA  team_VAN  team_WAS  team_WSB  \n",
              "14212         0         0         0         0         0         0         0  \n",
              "15260         0         0         0         0         0         0         0  \n",
              "243           0         0         0         0         0         0         0  \n",
              "5480          0         0         0         0         0         0         0  \n",
              "14192         0         0         0         0         0         0         0  \n",
              "\n",
              "[5 rows x 55 columns]"
            ],
            "text/html": [
              "\n",
              "  <div id=\"df-209501a0-ee0e-46da-b278-8ab303e75374\">\n",
              "    <div class=\"colab-df-container\">\n",
              "      <div>\n",
              "<style scoped>\n",
              "    .dataframe tbody tr th:only-of-type {\n",
              "        vertical-align: middle;\n",
              "    }\n",
              "\n",
              "    .dataframe tbody tr th {\n",
              "        vertical-align: top;\n",
              "    }\n",
              "\n",
              "    .dataframe thead th {\n",
              "        text-align: right;\n",
              "    }\n",
              "</style>\n",
              "<table border=\"1\" class=\"dataframe\">\n",
              "  <thead>\n",
              "    <tr style=\"text-align: right;\">\n",
              "      <th></th>\n",
              "      <th>games</th>\n",
              "      <th>gamesstarted</th>\n",
              "      <th>mp</th>\n",
              "      <th>fg_perc</th>\n",
              "      <th>3p_perc</th>\n",
              "      <th>2p_perc</th>\n",
              "      <th>ft_perc</th>\n",
              "      <th>trb</th>\n",
              "      <th>ast</th>\n",
              "      <th>stl</th>\n",
              "      <th>...</th>\n",
              "      <th>team_SAC</th>\n",
              "      <th>team_SAS</th>\n",
              "      <th>team_SDC</th>\n",
              "      <th>team_SEA</th>\n",
              "      <th>team_TOR</th>\n",
              "      <th>team_TOT</th>\n",
              "      <th>team_UTA</th>\n",
              "      <th>team_VAN</th>\n",
              "      <th>team_WAS</th>\n",
              "      <th>team_WSB</th>\n",
              "    </tr>\n",
              "  </thead>\n",
              "  <tbody>\n",
              "    <tr>\n",
              "      <th>14212</th>\n",
              "      <td>0.585239</td>\n",
              "      <td>-0.670478</td>\n",
              "      <td>-0.095085</td>\n",
              "      <td>0.412</td>\n",
              "      <td>0.327</td>\n",
              "      <td>0.429</td>\n",
              "      <td>0.750</td>\n",
              "      <td>0.021276</td>\n",
              "      <td>0.224358</td>\n",
              "      <td>-0.151941</td>\n",
              "      <td>...</td>\n",
              "      <td>0</td>\n",
              "      <td>0</td>\n",
              "      <td>0</td>\n",
              "      <td>0</td>\n",
              "      <td>0</td>\n",
              "      <td>0</td>\n",
              "      <td>0</td>\n",
              "      <td>0</td>\n",
              "      <td>0</td>\n",
              "      <td>0</td>\n",
              "    </tr>\n",
              "    <tr>\n",
              "      <th>15260</th>\n",
              "      <td>0.704072</td>\n",
              "      <td>-0.331974</td>\n",
              "      <td>0.411456</td>\n",
              "      <td>0.427</td>\n",
              "      <td>0.213</td>\n",
              "      <td>0.492</td>\n",
              "      <td>0.641</td>\n",
              "      <td>-0.135475</td>\n",
              "      <td>0.594116</td>\n",
              "      <td>0.882396</td>\n",
              "      <td>...</td>\n",
              "      <td>0</td>\n",
              "      <td>0</td>\n",
              "      <td>0</td>\n",
              "      <td>0</td>\n",
              "      <td>0</td>\n",
              "      <td>0</td>\n",
              "      <td>0</td>\n",
              "      <td>0</td>\n",
              "      <td>0</td>\n",
              "      <td>0</td>\n",
              "    </tr>\n",
              "    <tr>\n",
              "      <th>243</th>\n",
              "      <td>0.189130</td>\n",
              "      <td>-0.704329</td>\n",
              "      <td>-0.552919</td>\n",
              "      <td>0.451</td>\n",
              "      <td>0.000</td>\n",
              "      <td>0.453</td>\n",
              "      <td>0.688</td>\n",
              "      <td>0.021276</td>\n",
              "      <td>-0.515158</td>\n",
              "      <td>-0.772543</td>\n",
              "      <td>...</td>\n",
              "      <td>0</td>\n",
              "      <td>0</td>\n",
              "      <td>0</td>\n",
              "      <td>0</td>\n",
              "      <td>0</td>\n",
              "      <td>0</td>\n",
              "      <td>0</td>\n",
              "      <td>0</td>\n",
              "      <td>0</td>\n",
              "      <td>0</td>\n",
              "    </tr>\n",
              "    <tr>\n",
              "      <th>5480</th>\n",
              "      <td>-2.029080</td>\n",
              "      <td>-0.873581</td>\n",
              "      <td>-1.361435</td>\n",
              "      <td>0.222</td>\n",
              "      <td>0.000</td>\n",
              "      <td>0.222</td>\n",
              "      <td>0.625</td>\n",
              "      <td>-0.331413</td>\n",
              "      <td>-0.990561</td>\n",
              "      <td>-1.393145</td>\n",
              "      <td>...</td>\n",
              "      <td>0</td>\n",
              "      <td>0</td>\n",
              "      <td>0</td>\n",
              "      <td>0</td>\n",
              "      <td>0</td>\n",
              "      <td>0</td>\n",
              "      <td>0</td>\n",
              "      <td>0</td>\n",
              "      <td>0</td>\n",
              "      <td>0</td>\n",
              "    </tr>\n",
              "    <tr>\n",
              "      <th>14192</th>\n",
              "      <td>0.585239</td>\n",
              "      <td>1.428249</td>\n",
              "      <td>0.956960</td>\n",
              "      <td>0.397</td>\n",
              "      <td>0.282</td>\n",
              "      <td>0.461</td>\n",
              "      <td>0.637</td>\n",
              "      <td>0.413152</td>\n",
              "      <td>0.382825</td>\n",
              "      <td>1.502998</td>\n",
              "      <td>...</td>\n",
              "      <td>0</td>\n",
              "      <td>0</td>\n",
              "      <td>0</td>\n",
              "      <td>0</td>\n",
              "      <td>0</td>\n",
              "      <td>0</td>\n",
              "      <td>0</td>\n",
              "      <td>0</td>\n",
              "      <td>0</td>\n",
              "      <td>0</td>\n",
              "    </tr>\n",
              "  </tbody>\n",
              "</table>\n",
              "<p>5 rows × 55 columns</p>\n",
              "</div>\n",
              "      <button class=\"colab-df-convert\" onclick=\"convertToInteractive('df-209501a0-ee0e-46da-b278-8ab303e75374')\"\n",
              "              title=\"Convert this dataframe to an interactive table.\"\n",
              "              style=\"display:none;\">\n",
              "        \n",
              "  <svg xmlns=\"http://www.w3.org/2000/svg\" height=\"24px\"viewBox=\"0 0 24 24\"\n",
              "       width=\"24px\">\n",
              "    <path d=\"M0 0h24v24H0V0z\" fill=\"none\"/>\n",
              "    <path d=\"M18.56 5.44l.94 2.06.94-2.06 2.06-.94-2.06-.94-.94-2.06-.94 2.06-2.06.94zm-11 1L8.5 8.5l.94-2.06 2.06-.94-2.06-.94L8.5 2.5l-.94 2.06-2.06.94zm10 10l.94 2.06.94-2.06 2.06-.94-2.06-.94-.94-2.06-.94 2.06-2.06.94z\"/><path d=\"M17.41 7.96l-1.37-1.37c-.4-.4-.92-.59-1.43-.59-.52 0-1.04.2-1.43.59L10.3 9.45l-7.72 7.72c-.78.78-.78 2.05 0 2.83L4 21.41c.39.39.9.59 1.41.59.51 0 1.02-.2 1.41-.59l7.78-7.78 2.81-2.81c.8-.78.8-2.07 0-2.86zM5.41 20L4 18.59l7.72-7.72 1.47 1.35L5.41 20z\"/>\n",
              "  </svg>\n",
              "      </button>\n",
              "      \n",
              "  <style>\n",
              "    .colab-df-container {\n",
              "      display:flex;\n",
              "      flex-wrap:wrap;\n",
              "      gap: 12px;\n",
              "    }\n",
              "\n",
              "    .colab-df-convert {\n",
              "      background-color: #E8F0FE;\n",
              "      border: none;\n",
              "      border-radius: 50%;\n",
              "      cursor: pointer;\n",
              "      display: none;\n",
              "      fill: #1967D2;\n",
              "      height: 32px;\n",
              "      padding: 0 0 0 0;\n",
              "      width: 32px;\n",
              "    }\n",
              "\n",
              "    .colab-df-convert:hover {\n",
              "      background-color: #E2EBFA;\n",
              "      box-shadow: 0px 1px 2px rgba(60, 64, 67, 0.3), 0px 1px 3px 1px rgba(60, 64, 67, 0.15);\n",
              "      fill: #174EA6;\n",
              "    }\n",
              "\n",
              "    [theme=dark] .colab-df-convert {\n",
              "      background-color: #3B4455;\n",
              "      fill: #D2E3FC;\n",
              "    }\n",
              "\n",
              "    [theme=dark] .colab-df-convert:hover {\n",
              "      background-color: #434B5C;\n",
              "      box-shadow: 0px 1px 3px 1px rgba(0, 0, 0, 0.15);\n",
              "      filter: drop-shadow(0px 1px 2px rgba(0, 0, 0, 0.3));\n",
              "      fill: #FFFFFF;\n",
              "    }\n",
              "  </style>\n",
              "\n",
              "      <script>\n",
              "        const buttonEl =\n",
              "          document.querySelector('#df-209501a0-ee0e-46da-b278-8ab303e75374 button.colab-df-convert');\n",
              "        buttonEl.style.display =\n",
              "          google.colab.kernel.accessAllowed ? 'block' : 'none';\n",
              "\n",
              "        async function convertToInteractive(key) {\n",
              "          const element = document.querySelector('#df-209501a0-ee0e-46da-b278-8ab303e75374');\n",
              "          const dataTable =\n",
              "            await google.colab.kernel.invokeFunction('convertToInteractive',\n",
              "                                                     [key], {});\n",
              "          if (!dataTable) return;\n",
              "\n",
              "          const docLinkHtml = 'Like what you see? Visit the ' +\n",
              "            '<a target=\"_blank\" href=https://colab.research.google.com/notebooks/data_table.ipynb>data table notebook</a>'\n",
              "            + ' to learn more about interactive tables.';\n",
              "          element.innerHTML = '';\n",
              "          dataTable['output_type'] = 'display_data';\n",
              "          await google.colab.output.renderOutput(dataTable, element);\n",
              "          const docLink = document.createElement('div');\n",
              "          docLink.innerHTML = docLinkHtml;\n",
              "          element.appendChild(docLink);\n",
              "        }\n",
              "      </script>\n",
              "    </div>\n",
              "  </div>\n",
              "  "
            ]
          },
          "metadata": {},
          "execution_count": 920
        }
      ]
    },
    {
      "cell_type": "markdown",
      "id": "6592c6c0-7ec8-49ac-936c-2d0fb84ccfef",
      "metadata": {
        "tags": [],
        "id": "6592c6c0-7ec8-49ac-936c-2d0fb84ccfef"
      },
      "source": [
        "#### Modeling"
      ]
    },
    {
      "cell_type": "markdown",
      "id": "06240cb2-de21-4d4e-ae0e-0f90c3c0453a",
      "metadata": {
        "id": "06240cb2-de21-4d4e-ae0e-0f90c3c0453a"
      },
      "source": [
        "2.9. Train a logistic regresion model, find the best hyperparameters for: tols, C and max_iter. Try at least 4 values of each parameter. Remember to select based on f1 score, but report also precision and recall. Save the best performing model to use in the next steps."
      ]
    },
    {
      "cell_type": "code",
      "execution_count": 921,
      "id": "4bdc4abf-ded3-4d8b-9170-c1d5b4951ba7",
      "metadata": {
        "id": "4bdc4abf-ded3-4d8b-9170-c1d5b4951ba7"
      },
      "outputs": [],
      "source": [
        "nba_model = LogisticRegression(max_iter=1000, C=0.2)"
      ]
    },
    {
      "cell_type": "code",
      "source": [
        "nba_model.fit(X_nba_train, y_nba_train)"
      ],
      "metadata": {
        "colab": {
          "base_uri": "https://localhost:8080/"
        },
        "id": "5JPfW1S7XUiZ",
        "outputId": "394aeac1-e702-48f7-b832-8450003e2ae8"
      },
      "id": "5JPfW1S7XUiZ",
      "execution_count": 922,
      "outputs": [
        {
          "output_type": "execute_result",
          "data": {
            "text/plain": [
              "LogisticRegression(C=0.2, max_iter=1000)"
            ]
          },
          "metadata": {},
          "execution_count": 922
        }
      ]
    },
    {
      "cell_type": "code",
      "source": [
        "ypred = nba_model.predict(X_nba_test)"
      ],
      "metadata": {
        "id": "e7MaQbKXXUlu"
      },
      "id": "e7MaQbKXXUlu",
      "execution_count": 923,
      "outputs": []
    },
    {
      "cell_type": "code",
      "source": [
        "f1_1 = round(f1_score(y_nba_test, ypred),4)\n",
        "rec_1 = round(recall_score(y_nba_test, ypred),4)"
      ],
      "metadata": {
        "id": "2Shwmh_yXUoq"
      },
      "id": "2Shwmh_yXUoq",
      "execution_count": 924,
      "outputs": []
    },
    {
      "cell_type": "code",
      "source": [
        "print(f\"Recall: {rec_1}%\\nf1: {f1_1}%\")"
      ],
      "metadata": {
        "colab": {
          "base_uri": "https://localhost:8080/"
        },
        "id": "oT9aUFdoXY_z",
        "outputId": "d4a778f7-eca3-4a0d-9536-f210d0e5344c"
      },
      "id": "oT9aUFdoXY_z",
      "execution_count": 925,
      "outputs": [
        {
          "output_type": "stream",
          "name": "stdout",
          "text": [
            "Recall: 0.6162%\n",
            "f1: 0.7219%\n"
          ]
        }
      ]
    },
    {
      "cell_type": "markdown",
      "id": "45c0c3bd-b431-40f1-abbb-4e90b7479411",
      "metadata": {
        "id": "45c0c3bd-b431-40f1-abbb-4e90b7479411"
      },
      "source": [
        "#### Evaluating on New Data"
      ]
    },
    {
      "cell_type": "markdown",
      "id": "3a5352ce-df8a-4c9d-b583-65255774f9d9",
      "metadata": {
        "id": "3a5352ce-df8a-4c9d-b583-65255774f9d9"
      },
      "source": [
        "You're now going to evaluate the results on a test dataset that has not being used to train or do hyperparameter tuning, this is sometimes known as a Test set (in this cases the test set used for training is known as validation set, yeah, it's confusing, but you can read about it [here](https://machinelearningmastery.com/difference-test-validation-datasets/))"
      ]
    },
    {
      "cell_type": "markdown",
      "id": "9da9e93b-6265-44e4-89be-75e7178800e2",
      "metadata": {
        "id": "9da9e93b-6265-44e4-89be-75e7178800e2"
      },
      "source": [
        "2.10. Load the dataset [all_nba_2018_dataset.csv](https://raw.githubusercontent.com/anyoneai/notebooks/main/datasets/all_nba_2018_dataset.csv) in one dataframe and [all_nba_2018_selections.csv](https://raw.githubusercontent.com/anyoneai/notebooks/main/datasets/all_nba_2018_selections.csv)) in another, then:\n",
        "\n",
        "    - Scale the numerical features. Columns season_id, player_id, player_season, player, season and season_start will not be used for prediction, you can keep them but remember not to pass them to the classifier.\n",
        "    \n",
        "    - Create the one hot encoded features for team. This step will be complex, as you will have to consider that in the 2018 season there are 30 teams, but the previous dataset contains 40 teams, that is because a lot of teams changed names or cities over the years. You need to add those 10 different team names in this dataset (with all values in 0) to make the classifier work."
      ]
    },
    {
      "cell_type": "code",
      "execution_count": 926,
      "id": "79ea153a-b061-4df9-9c3d-1aaa0526c700",
      "metadata": {
        "id": "79ea153a-b061-4df9-9c3d-1aaa0526c700"
      },
      "outputs": [],
      "source": [
        "all_nba_2018_df = pd.read_csv(\"https://raw.githubusercontent.com/anyoneai/notebooks/main/datasets/all_nba_2018_dataset.csv\", index_col=0)\n",
        "all_nba_2018_selections = pd.read_csv(\"https://raw.githubusercontent.com/anyoneai/notebooks/main/datasets/all_nba_2018_selections.csv\", index_col=0)"
      ]
    },
    {
      "cell_type": "code",
      "source": [
        "all_nba_2018_selections.head()"
      ],
      "metadata": {
        "colab": {
          "base_uri": "https://localhost:8080/",
          "height": 206
        },
        "id": "8BQOObn2XfQC",
        "outputId": "c8f26739-4dd1-46af-e1ff-c8e04513cde1"
      },
      "id": "8BQOObn2XfQC",
      "execution_count": 927,
      "outputs": [
        {
          "output_type": "execute_result",
          "data": {
            "text/plain": [
              "    player_id        player  all_nba\n",
              "34          5  Alex Abrines        0\n",
              "49          8    Quincy Acy        0\n",
              "70         10  Jaylen Adams        0\n",
              "71         13  Steven Adams        0\n",
              "79         15   Bam Adebayo        0"
            ],
            "text/html": [
              "\n",
              "  <div id=\"df-db85636e-61f5-49f8-833a-8e0d1dc4ddef\">\n",
              "    <div class=\"colab-df-container\">\n",
              "      <div>\n",
              "<style scoped>\n",
              "    .dataframe tbody tr th:only-of-type {\n",
              "        vertical-align: middle;\n",
              "    }\n",
              "\n",
              "    .dataframe tbody tr th {\n",
              "        vertical-align: top;\n",
              "    }\n",
              "\n",
              "    .dataframe thead th {\n",
              "        text-align: right;\n",
              "    }\n",
              "</style>\n",
              "<table border=\"1\" class=\"dataframe\">\n",
              "  <thead>\n",
              "    <tr style=\"text-align: right;\">\n",
              "      <th></th>\n",
              "      <th>player_id</th>\n",
              "      <th>player</th>\n",
              "      <th>all_nba</th>\n",
              "    </tr>\n",
              "  </thead>\n",
              "  <tbody>\n",
              "    <tr>\n",
              "      <th>34</th>\n",
              "      <td>5</td>\n",
              "      <td>Alex Abrines</td>\n",
              "      <td>0</td>\n",
              "    </tr>\n",
              "    <tr>\n",
              "      <th>49</th>\n",
              "      <td>8</td>\n",
              "      <td>Quincy Acy</td>\n",
              "      <td>0</td>\n",
              "    </tr>\n",
              "    <tr>\n",
              "      <th>70</th>\n",
              "      <td>10</td>\n",
              "      <td>Jaylen Adams</td>\n",
              "      <td>0</td>\n",
              "    </tr>\n",
              "    <tr>\n",
              "      <th>71</th>\n",
              "      <td>13</td>\n",
              "      <td>Steven Adams</td>\n",
              "      <td>0</td>\n",
              "    </tr>\n",
              "    <tr>\n",
              "      <th>79</th>\n",
              "      <td>15</td>\n",
              "      <td>Bam Adebayo</td>\n",
              "      <td>0</td>\n",
              "    </tr>\n",
              "  </tbody>\n",
              "</table>\n",
              "</div>\n",
              "      <button class=\"colab-df-convert\" onclick=\"convertToInteractive('df-db85636e-61f5-49f8-833a-8e0d1dc4ddef')\"\n",
              "              title=\"Convert this dataframe to an interactive table.\"\n",
              "              style=\"display:none;\">\n",
              "        \n",
              "  <svg xmlns=\"http://www.w3.org/2000/svg\" height=\"24px\"viewBox=\"0 0 24 24\"\n",
              "       width=\"24px\">\n",
              "    <path d=\"M0 0h24v24H0V0z\" fill=\"none\"/>\n",
              "    <path d=\"M18.56 5.44l.94 2.06.94-2.06 2.06-.94-2.06-.94-.94-2.06-.94 2.06-2.06.94zm-11 1L8.5 8.5l.94-2.06 2.06-.94-2.06-.94L8.5 2.5l-.94 2.06-2.06.94zm10 10l.94 2.06.94-2.06 2.06-.94-2.06-.94-.94-2.06-.94 2.06-2.06.94z\"/><path d=\"M17.41 7.96l-1.37-1.37c-.4-.4-.92-.59-1.43-.59-.52 0-1.04.2-1.43.59L10.3 9.45l-7.72 7.72c-.78.78-.78 2.05 0 2.83L4 21.41c.39.39.9.59 1.41.59.51 0 1.02-.2 1.41-.59l7.78-7.78 2.81-2.81c.8-.78.8-2.07 0-2.86zM5.41 20L4 18.59l7.72-7.72 1.47 1.35L5.41 20z\"/>\n",
              "  </svg>\n",
              "      </button>\n",
              "      \n",
              "  <style>\n",
              "    .colab-df-container {\n",
              "      display:flex;\n",
              "      flex-wrap:wrap;\n",
              "      gap: 12px;\n",
              "    }\n",
              "\n",
              "    .colab-df-convert {\n",
              "      background-color: #E8F0FE;\n",
              "      border: none;\n",
              "      border-radius: 50%;\n",
              "      cursor: pointer;\n",
              "      display: none;\n",
              "      fill: #1967D2;\n",
              "      height: 32px;\n",
              "      padding: 0 0 0 0;\n",
              "      width: 32px;\n",
              "    }\n",
              "\n",
              "    .colab-df-convert:hover {\n",
              "      background-color: #E2EBFA;\n",
              "      box-shadow: 0px 1px 2px rgba(60, 64, 67, 0.3), 0px 1px 3px 1px rgba(60, 64, 67, 0.15);\n",
              "      fill: #174EA6;\n",
              "    }\n",
              "\n",
              "    [theme=dark] .colab-df-convert {\n",
              "      background-color: #3B4455;\n",
              "      fill: #D2E3FC;\n",
              "    }\n",
              "\n",
              "    [theme=dark] .colab-df-convert:hover {\n",
              "      background-color: #434B5C;\n",
              "      box-shadow: 0px 1px 3px 1px rgba(0, 0, 0, 0.15);\n",
              "      filter: drop-shadow(0px 1px 2px rgba(0, 0, 0, 0.3));\n",
              "      fill: #FFFFFF;\n",
              "    }\n",
              "  </style>\n",
              "\n",
              "      <script>\n",
              "        const buttonEl =\n",
              "          document.querySelector('#df-db85636e-61f5-49f8-833a-8e0d1dc4ddef button.colab-df-convert');\n",
              "        buttonEl.style.display =\n",
              "          google.colab.kernel.accessAllowed ? 'block' : 'none';\n",
              "\n",
              "        async function convertToInteractive(key) {\n",
              "          const element = document.querySelector('#df-db85636e-61f5-49f8-833a-8e0d1dc4ddef');\n",
              "          const dataTable =\n",
              "            await google.colab.kernel.invokeFunction('convertToInteractive',\n",
              "                                                     [key], {});\n",
              "          if (!dataTable) return;\n",
              "\n",
              "          const docLinkHtml = 'Like what you see? Visit the ' +\n",
              "            '<a target=\"_blank\" href=https://colab.research.google.com/notebooks/data_table.ipynb>data table notebook</a>'\n",
              "            + ' to learn more about interactive tables.';\n",
              "          element.innerHTML = '';\n",
              "          dataTable['output_type'] = 'display_data';\n",
              "          await google.colab.output.renderOutput(dataTable, element);\n",
              "          const docLink = document.createElement('div');\n",
              "          docLink.innerHTML = docLinkHtml;\n",
              "          element.appendChild(docLink);\n",
              "        }\n",
              "      </script>\n",
              "    </div>\n",
              "  </div>\n",
              "  "
            ]
          },
          "metadata": {},
          "execution_count": 927
        }
      ]
    },
    {
      "cell_type": "code",
      "source": [
        "all_nba_2018_df.head()"
      ],
      "metadata": {
        "colab": {
          "base_uri": "https://localhost:8080/",
          "height": 235
        },
        "id": "xKZsUPOiXfSS",
        "outputId": "8ffececa-6241-4618-bdf8-0140909e129b"
      },
      "id": "xKZsUPOiXfSS",
      "execution_count": 928,
      "outputs": [
        {
          "output_type": "execute_result",
          "data": {
            "text/plain": [
              "    season_id  player_id  player_season        player   season  season_start  \\\n",
              "34         34          5              2  Alex Abrines  2018-19          2018   \n",
              "49         49          8              7    Quincy Acy  2018-19          2018   \n",
              "70         52         10              1  Jaylen Adams  2018-19          2018   \n",
              "71         71         13              6  Steven Adams  2018-19          2018   \n",
              "79         79         15              2   Bam Adebayo  2018-19          2018   \n",
              "\n",
              "   team  games  gamesstarted    mp  ...  3p_perc  2p_perc  ft_perc  trb  ast  \\\n",
              "34  OKC     31             2  19.0  ...    0.323    0.500    0.923  1.5  0.6   \n",
              "49  PHO     10             0  12.3  ...    0.133    0.667    0.700  2.5  0.8   \n",
              "70  ATL     34             1  12.6  ...    0.338    0.361    0.778  1.8  1.9   \n",
              "71  OKC     80            80  33.4  ...    0.000    0.596    0.500  9.5  1.6   \n",
              "79  MIA     82            28  23.3  ...    0.200    0.588    0.735  7.3  2.2   \n",
              "\n",
              "    stl  blk  tov   pf   pts  \n",
              "34  0.5  0.2  0.5  1.7   5.3  \n",
              "49  0.1  0.4  0.4  2.4   1.7  \n",
              "70  0.4  0.1  0.8  1.3   3.2  \n",
              "71  1.5  1.0  1.7  2.6  13.9  \n",
              "79  0.9  0.8  1.5  2.5   8.9  \n",
              "\n",
              "[5 rows x 21 columns]"
            ],
            "text/html": [
              "\n",
              "  <div id=\"df-77ab272e-16d3-49fe-9958-0fc17d586756\">\n",
              "    <div class=\"colab-df-container\">\n",
              "      <div>\n",
              "<style scoped>\n",
              "    .dataframe tbody tr th:only-of-type {\n",
              "        vertical-align: middle;\n",
              "    }\n",
              "\n",
              "    .dataframe tbody tr th {\n",
              "        vertical-align: top;\n",
              "    }\n",
              "\n",
              "    .dataframe thead th {\n",
              "        text-align: right;\n",
              "    }\n",
              "</style>\n",
              "<table border=\"1\" class=\"dataframe\">\n",
              "  <thead>\n",
              "    <tr style=\"text-align: right;\">\n",
              "      <th></th>\n",
              "      <th>season_id</th>\n",
              "      <th>player_id</th>\n",
              "      <th>player_season</th>\n",
              "      <th>player</th>\n",
              "      <th>season</th>\n",
              "      <th>season_start</th>\n",
              "      <th>team</th>\n",
              "      <th>games</th>\n",
              "      <th>gamesstarted</th>\n",
              "      <th>mp</th>\n",
              "      <th>...</th>\n",
              "      <th>3p_perc</th>\n",
              "      <th>2p_perc</th>\n",
              "      <th>ft_perc</th>\n",
              "      <th>trb</th>\n",
              "      <th>ast</th>\n",
              "      <th>stl</th>\n",
              "      <th>blk</th>\n",
              "      <th>tov</th>\n",
              "      <th>pf</th>\n",
              "      <th>pts</th>\n",
              "    </tr>\n",
              "  </thead>\n",
              "  <tbody>\n",
              "    <tr>\n",
              "      <th>34</th>\n",
              "      <td>34</td>\n",
              "      <td>5</td>\n",
              "      <td>2</td>\n",
              "      <td>Alex Abrines</td>\n",
              "      <td>2018-19</td>\n",
              "      <td>2018</td>\n",
              "      <td>OKC</td>\n",
              "      <td>31</td>\n",
              "      <td>2</td>\n",
              "      <td>19.0</td>\n",
              "      <td>...</td>\n",
              "      <td>0.323</td>\n",
              "      <td>0.500</td>\n",
              "      <td>0.923</td>\n",
              "      <td>1.5</td>\n",
              "      <td>0.6</td>\n",
              "      <td>0.5</td>\n",
              "      <td>0.2</td>\n",
              "      <td>0.5</td>\n",
              "      <td>1.7</td>\n",
              "      <td>5.3</td>\n",
              "    </tr>\n",
              "    <tr>\n",
              "      <th>49</th>\n",
              "      <td>49</td>\n",
              "      <td>8</td>\n",
              "      <td>7</td>\n",
              "      <td>Quincy Acy</td>\n",
              "      <td>2018-19</td>\n",
              "      <td>2018</td>\n",
              "      <td>PHO</td>\n",
              "      <td>10</td>\n",
              "      <td>0</td>\n",
              "      <td>12.3</td>\n",
              "      <td>...</td>\n",
              "      <td>0.133</td>\n",
              "      <td>0.667</td>\n",
              "      <td>0.700</td>\n",
              "      <td>2.5</td>\n",
              "      <td>0.8</td>\n",
              "      <td>0.1</td>\n",
              "      <td>0.4</td>\n",
              "      <td>0.4</td>\n",
              "      <td>2.4</td>\n",
              "      <td>1.7</td>\n",
              "    </tr>\n",
              "    <tr>\n",
              "      <th>70</th>\n",
              "      <td>52</td>\n",
              "      <td>10</td>\n",
              "      <td>1</td>\n",
              "      <td>Jaylen Adams</td>\n",
              "      <td>2018-19</td>\n",
              "      <td>2018</td>\n",
              "      <td>ATL</td>\n",
              "      <td>34</td>\n",
              "      <td>1</td>\n",
              "      <td>12.6</td>\n",
              "      <td>...</td>\n",
              "      <td>0.338</td>\n",
              "      <td>0.361</td>\n",
              "      <td>0.778</td>\n",
              "      <td>1.8</td>\n",
              "      <td>1.9</td>\n",
              "      <td>0.4</td>\n",
              "      <td>0.1</td>\n",
              "      <td>0.8</td>\n",
              "      <td>1.3</td>\n",
              "      <td>3.2</td>\n",
              "    </tr>\n",
              "    <tr>\n",
              "      <th>71</th>\n",
              "      <td>71</td>\n",
              "      <td>13</td>\n",
              "      <td>6</td>\n",
              "      <td>Steven Adams</td>\n",
              "      <td>2018-19</td>\n",
              "      <td>2018</td>\n",
              "      <td>OKC</td>\n",
              "      <td>80</td>\n",
              "      <td>80</td>\n",
              "      <td>33.4</td>\n",
              "      <td>...</td>\n",
              "      <td>0.000</td>\n",
              "      <td>0.596</td>\n",
              "      <td>0.500</td>\n",
              "      <td>9.5</td>\n",
              "      <td>1.6</td>\n",
              "      <td>1.5</td>\n",
              "      <td>1.0</td>\n",
              "      <td>1.7</td>\n",
              "      <td>2.6</td>\n",
              "      <td>13.9</td>\n",
              "    </tr>\n",
              "    <tr>\n",
              "      <th>79</th>\n",
              "      <td>79</td>\n",
              "      <td>15</td>\n",
              "      <td>2</td>\n",
              "      <td>Bam Adebayo</td>\n",
              "      <td>2018-19</td>\n",
              "      <td>2018</td>\n",
              "      <td>MIA</td>\n",
              "      <td>82</td>\n",
              "      <td>28</td>\n",
              "      <td>23.3</td>\n",
              "      <td>...</td>\n",
              "      <td>0.200</td>\n",
              "      <td>0.588</td>\n",
              "      <td>0.735</td>\n",
              "      <td>7.3</td>\n",
              "      <td>2.2</td>\n",
              "      <td>0.9</td>\n",
              "      <td>0.8</td>\n",
              "      <td>1.5</td>\n",
              "      <td>2.5</td>\n",
              "      <td>8.9</td>\n",
              "    </tr>\n",
              "  </tbody>\n",
              "</table>\n",
              "<p>5 rows × 21 columns</p>\n",
              "</div>\n",
              "      <button class=\"colab-df-convert\" onclick=\"convertToInteractive('df-77ab272e-16d3-49fe-9958-0fc17d586756')\"\n",
              "              title=\"Convert this dataframe to an interactive table.\"\n",
              "              style=\"display:none;\">\n",
              "        \n",
              "  <svg xmlns=\"http://www.w3.org/2000/svg\" height=\"24px\"viewBox=\"0 0 24 24\"\n",
              "       width=\"24px\">\n",
              "    <path d=\"M0 0h24v24H0V0z\" fill=\"none\"/>\n",
              "    <path d=\"M18.56 5.44l.94 2.06.94-2.06 2.06-.94-2.06-.94-.94-2.06-.94 2.06-2.06.94zm-11 1L8.5 8.5l.94-2.06 2.06-.94-2.06-.94L8.5 2.5l-.94 2.06-2.06.94zm10 10l.94 2.06.94-2.06 2.06-.94-2.06-.94-.94-2.06-.94 2.06-2.06.94z\"/><path d=\"M17.41 7.96l-1.37-1.37c-.4-.4-.92-.59-1.43-.59-.52 0-1.04.2-1.43.59L10.3 9.45l-7.72 7.72c-.78.78-.78 2.05 0 2.83L4 21.41c.39.39.9.59 1.41.59.51 0 1.02-.2 1.41-.59l7.78-7.78 2.81-2.81c.8-.78.8-2.07 0-2.86zM5.41 20L4 18.59l7.72-7.72 1.47 1.35L5.41 20z\"/>\n",
              "  </svg>\n",
              "      </button>\n",
              "      \n",
              "  <style>\n",
              "    .colab-df-container {\n",
              "      display:flex;\n",
              "      flex-wrap:wrap;\n",
              "      gap: 12px;\n",
              "    }\n",
              "\n",
              "    .colab-df-convert {\n",
              "      background-color: #E8F0FE;\n",
              "      border: none;\n",
              "      border-radius: 50%;\n",
              "      cursor: pointer;\n",
              "      display: none;\n",
              "      fill: #1967D2;\n",
              "      height: 32px;\n",
              "      padding: 0 0 0 0;\n",
              "      width: 32px;\n",
              "    }\n",
              "\n",
              "    .colab-df-convert:hover {\n",
              "      background-color: #E2EBFA;\n",
              "      box-shadow: 0px 1px 2px rgba(60, 64, 67, 0.3), 0px 1px 3px 1px rgba(60, 64, 67, 0.15);\n",
              "      fill: #174EA6;\n",
              "    }\n",
              "\n",
              "    [theme=dark] .colab-df-convert {\n",
              "      background-color: #3B4455;\n",
              "      fill: #D2E3FC;\n",
              "    }\n",
              "\n",
              "    [theme=dark] .colab-df-convert:hover {\n",
              "      background-color: #434B5C;\n",
              "      box-shadow: 0px 1px 3px 1px rgba(0, 0, 0, 0.15);\n",
              "      filter: drop-shadow(0px 1px 2px rgba(0, 0, 0, 0.3));\n",
              "      fill: #FFFFFF;\n",
              "    }\n",
              "  </style>\n",
              "\n",
              "      <script>\n",
              "        const buttonEl =\n",
              "          document.querySelector('#df-77ab272e-16d3-49fe-9958-0fc17d586756 button.colab-df-convert');\n",
              "        buttonEl.style.display =\n",
              "          google.colab.kernel.accessAllowed ? 'block' : 'none';\n",
              "\n",
              "        async function convertToInteractive(key) {\n",
              "          const element = document.querySelector('#df-77ab272e-16d3-49fe-9958-0fc17d586756');\n",
              "          const dataTable =\n",
              "            await google.colab.kernel.invokeFunction('convertToInteractive',\n",
              "                                                     [key], {});\n",
              "          if (!dataTable) return;\n",
              "\n",
              "          const docLinkHtml = 'Like what you see? Visit the ' +\n",
              "            '<a target=\"_blank\" href=https://colab.research.google.com/notebooks/data_table.ipynb>data table notebook</a>'\n",
              "            + ' to learn more about interactive tables.';\n",
              "          element.innerHTML = '';\n",
              "          dataTable['output_type'] = 'display_data';\n",
              "          await google.colab.output.renderOutput(dataTable, element);\n",
              "          const docLink = document.createElement('div');\n",
              "          docLink.innerHTML = docLinkHtml;\n",
              "          element.appendChild(docLink);\n",
              "        }\n",
              "      </script>\n",
              "    </div>\n",
              "  </div>\n",
              "  "
            ]
          },
          "metadata": {},
          "execution_count": 928
        }
      ]
    },
    {
      "cell_type": "code",
      "execution_count": 929,
      "id": "b00ddffa-3f09-4294-beb5-098c2d698af0",
      "metadata": {
        "id": "b00ddffa-3f09-4294-beb5-098c2d698af0"
      },
      "outputs": [],
      "source": [
        "X_nd = all_nba_2018_df[['team', 'games', 'gamesstarted', 'mp', 'fg_perc', '3p_perc',\n",
        "                '2p_perc', 'ft_perc', 'trb', 'ast', 'stl', 'blk', 'tov', 'pf', 'pts']].copy()"
      ]
    },
    {
      "cell_type": "code",
      "source": [
        "X_nd[[\"games\", \"gamesstarted\", \"mp\", \"trb\", \"ast\", \"stl\", \"blk\", \"tov\", \"pf\", \"pts\"]] = allnba_scaler.transform(\n",
        "    X_nd[[\"games\", \"gamesstarted\", \"mp\", \"trb\", \"ast\", \"stl\", \"blk\", \"tov\", \"pf\", \"pts\"]])"
      ],
      "metadata": {
        "id": "IYi7ShuHXkiT"
      },
      "id": "IYi7ShuHXkiT",
      "execution_count": 930,
      "outputs": []
    },
    {
      "cell_type": "code",
      "source": [
        "X_nd = pd.get_dummies(X_nd, columns=[\"team\"])"
      ],
      "metadata": {
        "id": "5qqeva5qXkkm"
      },
      "id": "5qqeva5qXkkm",
      "execution_count": 931,
      "outputs": []
    },
    {
      "cell_type": "markdown",
      "source": [
        "The next steps are made so the new data has the same columns and in the same order of our training data."
      ],
      "metadata": {
        "id": "98pSg3IncZR9"
      },
      "id": "98pSg3IncZR9"
    },
    {
      "cell_type": "code",
      "source": [
        "set(X_nba_train.columns)-set(X_nd.columns)"
      ],
      "metadata": {
        "colab": {
          "base_uri": "https://localhost:8080/"
        },
        "id": "YBHkg_WmXknB",
        "outputId": "d9dfe8c7-bf24-4da7-d2f4-36ce428e31af"
      },
      "id": "YBHkg_WmXknB",
      "execution_count": 932,
      "outputs": [
        {
          "output_type": "execute_result",
          "data": {
            "text/plain": [
              "{'team_CHA',\n",
              " 'team_CHH',\n",
              " 'team_KCK',\n",
              " 'team_NJN',\n",
              " 'team_NOH',\n",
              " 'team_NOK',\n",
              " 'team_SDC',\n",
              " 'team_SEA',\n",
              " 'team_VAN',\n",
              " 'team_WSB'}"
            ]
          },
          "metadata": {},
          "execution_count": 932
        }
      ]
    },
    {
      "cell_type": "code",
      "source": [
        "X_nd[['team_CHA', 'team_CHH', 'team_KCK', 'team_NJN', 'team_NOH','team_NOK', 'team_SDC', 'team_SEA', 'team_VAN', 'team_WSB']] = 0"
      ],
      "metadata": {
        "id": "MCzkGwDaXp8L"
      },
      "id": "MCzkGwDaXp8L",
      "execution_count": 933,
      "outputs": []
    },
    {
      "cell_type": "code",
      "source": [
        "X_nd.columns = X_nba_train.columns"
      ],
      "metadata": {
        "id": "_Mp5bdxzXrmC"
      },
      "id": "_Mp5bdxzXrmC",
      "execution_count": 934,
      "outputs": []
    },
    {
      "cell_type": "code",
      "source": [
        "X_nd.head()"
      ],
      "metadata": {
        "colab": {
          "base_uri": "https://localhost:8080/",
          "height": 299
        },
        "id": "chOqDOCfcK4I",
        "outputId": "b76f8f50-a0f3-452e-a2e6-e6302a751666"
      },
      "id": "chOqDOCfcK4I",
      "execution_count": 935,
      "outputs": [
        {
          "output_type": "execute_result",
          "data": {
            "text/plain": [
              "       games  gamesstarted        mp  fg_perc  3p_perc  2p_perc  ft_perc  \\\n",
              "34 -0.919975     -0.805880 -0.124308    0.357    0.323    0.500    0.923   \n",
              "49 -1.751804     -0.873581 -0.776966    0.222    0.133    0.667    0.700   \n",
              "70 -0.801142     -0.839731 -0.747742    0.345    0.338    0.361    0.778   \n",
              "71  1.020959      1.834454  1.278419    0.595    0.000    0.596    0.500   \n",
              "79  1.100181      0.074231  0.294562    0.576    0.200    0.588    0.735   \n",
              "\n",
              "         trb       ast       stl  ...  team_SAC  team_SAS  team_SDC  team_SEA  \\\n",
              "34 -0.801665 -0.673626 -0.358809  ...         0         0         0         0   \n",
              "49 -0.409788 -0.567980 -1.186278  ...         0         0         0         0   \n",
              "70 -0.684102  0.013068 -0.565676  ...         0         0         0         0   \n",
              "71  2.333346 -0.145400  1.709865  ...         0         0         0         0   \n",
              "79  1.471218  0.171535  0.468661  ...         0         0         0         0   \n",
              "\n",
              "    team_TOR  team_TOT  team_UTA  team_VAN  team_WAS  team_WSB  \n",
              "34         0         0         0         0         0         0  \n",
              "49         0         0         0         0         0         0  \n",
              "70         0         0         0         0         0         0  \n",
              "71         0         0         0         0         0         0  \n",
              "79         0         0         0         0         0         0  \n",
              "\n",
              "[5 rows x 55 columns]"
            ],
            "text/html": [
              "\n",
              "  <div id=\"df-c50ac7f1-fd28-43e3-b618-b4a89bfdf624\">\n",
              "    <div class=\"colab-df-container\">\n",
              "      <div>\n",
              "<style scoped>\n",
              "    .dataframe tbody tr th:only-of-type {\n",
              "        vertical-align: middle;\n",
              "    }\n",
              "\n",
              "    .dataframe tbody tr th {\n",
              "        vertical-align: top;\n",
              "    }\n",
              "\n",
              "    .dataframe thead th {\n",
              "        text-align: right;\n",
              "    }\n",
              "</style>\n",
              "<table border=\"1\" class=\"dataframe\">\n",
              "  <thead>\n",
              "    <tr style=\"text-align: right;\">\n",
              "      <th></th>\n",
              "      <th>games</th>\n",
              "      <th>gamesstarted</th>\n",
              "      <th>mp</th>\n",
              "      <th>fg_perc</th>\n",
              "      <th>3p_perc</th>\n",
              "      <th>2p_perc</th>\n",
              "      <th>ft_perc</th>\n",
              "      <th>trb</th>\n",
              "      <th>ast</th>\n",
              "      <th>stl</th>\n",
              "      <th>...</th>\n",
              "      <th>team_SAC</th>\n",
              "      <th>team_SAS</th>\n",
              "      <th>team_SDC</th>\n",
              "      <th>team_SEA</th>\n",
              "      <th>team_TOR</th>\n",
              "      <th>team_TOT</th>\n",
              "      <th>team_UTA</th>\n",
              "      <th>team_VAN</th>\n",
              "      <th>team_WAS</th>\n",
              "      <th>team_WSB</th>\n",
              "    </tr>\n",
              "  </thead>\n",
              "  <tbody>\n",
              "    <tr>\n",
              "      <th>34</th>\n",
              "      <td>-0.919975</td>\n",
              "      <td>-0.805880</td>\n",
              "      <td>-0.124308</td>\n",
              "      <td>0.357</td>\n",
              "      <td>0.323</td>\n",
              "      <td>0.500</td>\n",
              "      <td>0.923</td>\n",
              "      <td>-0.801665</td>\n",
              "      <td>-0.673626</td>\n",
              "      <td>-0.358809</td>\n",
              "      <td>...</td>\n",
              "      <td>0</td>\n",
              "      <td>0</td>\n",
              "      <td>0</td>\n",
              "      <td>0</td>\n",
              "      <td>0</td>\n",
              "      <td>0</td>\n",
              "      <td>0</td>\n",
              "      <td>0</td>\n",
              "      <td>0</td>\n",
              "      <td>0</td>\n",
              "    </tr>\n",
              "    <tr>\n",
              "      <th>49</th>\n",
              "      <td>-1.751804</td>\n",
              "      <td>-0.873581</td>\n",
              "      <td>-0.776966</td>\n",
              "      <td>0.222</td>\n",
              "      <td>0.133</td>\n",
              "      <td>0.667</td>\n",
              "      <td>0.700</td>\n",
              "      <td>-0.409788</td>\n",
              "      <td>-0.567980</td>\n",
              "      <td>-1.186278</td>\n",
              "      <td>...</td>\n",
              "      <td>0</td>\n",
              "      <td>0</td>\n",
              "      <td>0</td>\n",
              "      <td>0</td>\n",
              "      <td>0</td>\n",
              "      <td>0</td>\n",
              "      <td>0</td>\n",
              "      <td>0</td>\n",
              "      <td>0</td>\n",
              "      <td>0</td>\n",
              "    </tr>\n",
              "    <tr>\n",
              "      <th>70</th>\n",
              "      <td>-0.801142</td>\n",
              "      <td>-0.839731</td>\n",
              "      <td>-0.747742</td>\n",
              "      <td>0.345</td>\n",
              "      <td>0.338</td>\n",
              "      <td>0.361</td>\n",
              "      <td>0.778</td>\n",
              "      <td>-0.684102</td>\n",
              "      <td>0.013068</td>\n",
              "      <td>-0.565676</td>\n",
              "      <td>...</td>\n",
              "      <td>0</td>\n",
              "      <td>0</td>\n",
              "      <td>0</td>\n",
              "      <td>0</td>\n",
              "      <td>0</td>\n",
              "      <td>0</td>\n",
              "      <td>0</td>\n",
              "      <td>0</td>\n",
              "      <td>0</td>\n",
              "      <td>0</td>\n",
              "    </tr>\n",
              "    <tr>\n",
              "      <th>71</th>\n",
              "      <td>1.020959</td>\n",
              "      <td>1.834454</td>\n",
              "      <td>1.278419</td>\n",
              "      <td>0.595</td>\n",
              "      <td>0.000</td>\n",
              "      <td>0.596</td>\n",
              "      <td>0.500</td>\n",
              "      <td>2.333346</td>\n",
              "      <td>-0.145400</td>\n",
              "      <td>1.709865</td>\n",
              "      <td>...</td>\n",
              "      <td>0</td>\n",
              "      <td>0</td>\n",
              "      <td>0</td>\n",
              "      <td>0</td>\n",
              "      <td>0</td>\n",
              "      <td>0</td>\n",
              "      <td>0</td>\n",
              "      <td>0</td>\n",
              "      <td>0</td>\n",
              "      <td>0</td>\n",
              "    </tr>\n",
              "    <tr>\n",
              "      <th>79</th>\n",
              "      <td>1.100181</td>\n",
              "      <td>0.074231</td>\n",
              "      <td>0.294562</td>\n",
              "      <td>0.576</td>\n",
              "      <td>0.200</td>\n",
              "      <td>0.588</td>\n",
              "      <td>0.735</td>\n",
              "      <td>1.471218</td>\n",
              "      <td>0.171535</td>\n",
              "      <td>0.468661</td>\n",
              "      <td>...</td>\n",
              "      <td>0</td>\n",
              "      <td>0</td>\n",
              "      <td>0</td>\n",
              "      <td>0</td>\n",
              "      <td>0</td>\n",
              "      <td>0</td>\n",
              "      <td>0</td>\n",
              "      <td>0</td>\n",
              "      <td>0</td>\n",
              "      <td>0</td>\n",
              "    </tr>\n",
              "  </tbody>\n",
              "</table>\n",
              "<p>5 rows × 55 columns</p>\n",
              "</div>\n",
              "      <button class=\"colab-df-convert\" onclick=\"convertToInteractive('df-c50ac7f1-fd28-43e3-b618-b4a89bfdf624')\"\n",
              "              title=\"Convert this dataframe to an interactive table.\"\n",
              "              style=\"display:none;\">\n",
              "        \n",
              "  <svg xmlns=\"http://www.w3.org/2000/svg\" height=\"24px\"viewBox=\"0 0 24 24\"\n",
              "       width=\"24px\">\n",
              "    <path d=\"M0 0h24v24H0V0z\" fill=\"none\"/>\n",
              "    <path d=\"M18.56 5.44l.94 2.06.94-2.06 2.06-.94-2.06-.94-.94-2.06-.94 2.06-2.06.94zm-11 1L8.5 8.5l.94-2.06 2.06-.94-2.06-.94L8.5 2.5l-.94 2.06-2.06.94zm10 10l.94 2.06.94-2.06 2.06-.94-2.06-.94-.94-2.06-.94 2.06-2.06.94z\"/><path d=\"M17.41 7.96l-1.37-1.37c-.4-.4-.92-.59-1.43-.59-.52 0-1.04.2-1.43.59L10.3 9.45l-7.72 7.72c-.78.78-.78 2.05 0 2.83L4 21.41c.39.39.9.59 1.41.59.51 0 1.02-.2 1.41-.59l7.78-7.78 2.81-2.81c.8-.78.8-2.07 0-2.86zM5.41 20L4 18.59l7.72-7.72 1.47 1.35L5.41 20z\"/>\n",
              "  </svg>\n",
              "      </button>\n",
              "      \n",
              "  <style>\n",
              "    .colab-df-container {\n",
              "      display:flex;\n",
              "      flex-wrap:wrap;\n",
              "      gap: 12px;\n",
              "    }\n",
              "\n",
              "    .colab-df-convert {\n",
              "      background-color: #E8F0FE;\n",
              "      border: none;\n",
              "      border-radius: 50%;\n",
              "      cursor: pointer;\n",
              "      display: none;\n",
              "      fill: #1967D2;\n",
              "      height: 32px;\n",
              "      padding: 0 0 0 0;\n",
              "      width: 32px;\n",
              "    }\n",
              "\n",
              "    .colab-df-convert:hover {\n",
              "      background-color: #E2EBFA;\n",
              "      box-shadow: 0px 1px 2px rgba(60, 64, 67, 0.3), 0px 1px 3px 1px rgba(60, 64, 67, 0.15);\n",
              "      fill: #174EA6;\n",
              "    }\n",
              "\n",
              "    [theme=dark] .colab-df-convert {\n",
              "      background-color: #3B4455;\n",
              "      fill: #D2E3FC;\n",
              "    }\n",
              "\n",
              "    [theme=dark] .colab-df-convert:hover {\n",
              "      background-color: #434B5C;\n",
              "      box-shadow: 0px 1px 3px 1px rgba(0, 0, 0, 0.15);\n",
              "      filter: drop-shadow(0px 1px 2px rgba(0, 0, 0, 0.3));\n",
              "      fill: #FFFFFF;\n",
              "    }\n",
              "  </style>\n",
              "\n",
              "      <script>\n",
              "        const buttonEl =\n",
              "          document.querySelector('#df-c50ac7f1-fd28-43e3-b618-b4a89bfdf624 button.colab-df-convert');\n",
              "        buttonEl.style.display =\n",
              "          google.colab.kernel.accessAllowed ? 'block' : 'none';\n",
              "\n",
              "        async function convertToInteractive(key) {\n",
              "          const element = document.querySelector('#df-c50ac7f1-fd28-43e3-b618-b4a89bfdf624');\n",
              "          const dataTable =\n",
              "            await google.colab.kernel.invokeFunction('convertToInteractive',\n",
              "                                                     [key], {});\n",
              "          if (!dataTable) return;\n",
              "\n",
              "          const docLinkHtml = 'Like what you see? Visit the ' +\n",
              "            '<a target=\"_blank\" href=https://colab.research.google.com/notebooks/data_table.ipynb>data table notebook</a>'\n",
              "            + ' to learn more about interactive tables.';\n",
              "          element.innerHTML = '';\n",
              "          dataTable['output_type'] = 'display_data';\n",
              "          await google.colab.output.renderOutput(dataTable, element);\n",
              "          const docLink = document.createElement('div');\n",
              "          docLink.innerHTML = docLinkHtml;\n",
              "          element.appendChild(docLink);\n",
              "        }\n",
              "      </script>\n",
              "    </div>\n",
              "  </div>\n",
              "  "
            ]
          },
          "metadata": {},
          "execution_count": 935
        }
      ]
    },
    {
      "cell_type": "markdown",
      "id": "8b0bb296-b1b3-4ae4-b199-b11224c78a82",
      "metadata": {
        "id": "8b0bb296-b1b3-4ae4-b199-b11224c78a82"
      },
      "source": [
        "2.11. Predict and evaluate the model using precision, recall and f1 score. "
      ]
    },
    {
      "cell_type": "code",
      "source": [
        "y_nbaall = nba_model.predict(X_nd)"
      ],
      "metadata": {
        "id": "4Q2FZRM1X4o5"
      },
      "id": "4Q2FZRM1X4o5",
      "execution_count": 936,
      "outputs": []
    },
    {
      "cell_type": "code",
      "source": [
        "y_nbaall = pd.DataFrame(y_nbaall)\n",
        "data_selected = all_nba_2018_selections.copy()\n",
        "data_selected.reset_index(inplace=True)\n",
        "data_selected = data_selected.join(y_nbaall)\n",
        "data_selected.drop(columns=[\"index\"], inplace=True)\n",
        "data_selected.set_index(\"player_id\", drop=True, inplace=True)\n",
        "data_selected.index.name = None\n",
        "data_selected.columns = [\"PLAYER_NAME\",\"ALL_NBA\",\"PREDICTION\"]\n",
        "data_selected.head()"
      ],
      "metadata": {
        "colab": {
          "base_uri": "https://localhost:8080/",
          "height": 206
        },
        "id": "bwzIoRS5X6Yd",
        "outputId": "485a3089-0e2f-4932-c8de-5c69c77263d2"
      },
      "id": "bwzIoRS5X6Yd",
      "execution_count": 937,
      "outputs": [
        {
          "output_type": "execute_result",
          "data": {
            "text/plain": [
              "     PLAYER_NAME  ALL_NBA  PREDICTION\n",
              "5   Alex Abrines        0           0\n",
              "8     Quincy Acy        0           0\n",
              "10  Jaylen Adams        0           0\n",
              "13  Steven Adams        0           0\n",
              "15   Bam Adebayo        0           0"
            ],
            "text/html": [
              "\n",
              "  <div id=\"df-dea4c800-7575-4403-b38b-a43c5c974064\">\n",
              "    <div class=\"colab-df-container\">\n",
              "      <div>\n",
              "<style scoped>\n",
              "    .dataframe tbody tr th:only-of-type {\n",
              "        vertical-align: middle;\n",
              "    }\n",
              "\n",
              "    .dataframe tbody tr th {\n",
              "        vertical-align: top;\n",
              "    }\n",
              "\n",
              "    .dataframe thead th {\n",
              "        text-align: right;\n",
              "    }\n",
              "</style>\n",
              "<table border=\"1\" class=\"dataframe\">\n",
              "  <thead>\n",
              "    <tr style=\"text-align: right;\">\n",
              "      <th></th>\n",
              "      <th>PLAYER_NAME</th>\n",
              "      <th>ALL_NBA</th>\n",
              "      <th>PREDICTION</th>\n",
              "    </tr>\n",
              "  </thead>\n",
              "  <tbody>\n",
              "    <tr>\n",
              "      <th>5</th>\n",
              "      <td>Alex Abrines</td>\n",
              "      <td>0</td>\n",
              "      <td>0</td>\n",
              "    </tr>\n",
              "    <tr>\n",
              "      <th>8</th>\n",
              "      <td>Quincy Acy</td>\n",
              "      <td>0</td>\n",
              "      <td>0</td>\n",
              "    </tr>\n",
              "    <tr>\n",
              "      <th>10</th>\n",
              "      <td>Jaylen Adams</td>\n",
              "      <td>0</td>\n",
              "      <td>0</td>\n",
              "    </tr>\n",
              "    <tr>\n",
              "      <th>13</th>\n",
              "      <td>Steven Adams</td>\n",
              "      <td>0</td>\n",
              "      <td>0</td>\n",
              "    </tr>\n",
              "    <tr>\n",
              "      <th>15</th>\n",
              "      <td>Bam Adebayo</td>\n",
              "      <td>0</td>\n",
              "      <td>0</td>\n",
              "    </tr>\n",
              "  </tbody>\n",
              "</table>\n",
              "</div>\n",
              "      <button class=\"colab-df-convert\" onclick=\"convertToInteractive('df-dea4c800-7575-4403-b38b-a43c5c974064')\"\n",
              "              title=\"Convert this dataframe to an interactive table.\"\n",
              "              style=\"display:none;\">\n",
              "        \n",
              "  <svg xmlns=\"http://www.w3.org/2000/svg\" height=\"24px\"viewBox=\"0 0 24 24\"\n",
              "       width=\"24px\">\n",
              "    <path d=\"M0 0h24v24H0V0z\" fill=\"none\"/>\n",
              "    <path d=\"M18.56 5.44l.94 2.06.94-2.06 2.06-.94-2.06-.94-.94-2.06-.94 2.06-2.06.94zm-11 1L8.5 8.5l.94-2.06 2.06-.94-2.06-.94L8.5 2.5l-.94 2.06-2.06.94zm10 10l.94 2.06.94-2.06 2.06-.94-2.06-.94-.94-2.06-.94 2.06-2.06.94z\"/><path d=\"M17.41 7.96l-1.37-1.37c-.4-.4-.92-.59-1.43-.59-.52 0-1.04.2-1.43.59L10.3 9.45l-7.72 7.72c-.78.78-.78 2.05 0 2.83L4 21.41c.39.39.9.59 1.41.59.51 0 1.02-.2 1.41-.59l7.78-7.78 2.81-2.81c.8-.78.8-2.07 0-2.86zM5.41 20L4 18.59l7.72-7.72 1.47 1.35L5.41 20z\"/>\n",
              "  </svg>\n",
              "      </button>\n",
              "      \n",
              "  <style>\n",
              "    .colab-df-container {\n",
              "      display:flex;\n",
              "      flex-wrap:wrap;\n",
              "      gap: 12px;\n",
              "    }\n",
              "\n",
              "    .colab-df-convert {\n",
              "      background-color: #E8F0FE;\n",
              "      border: none;\n",
              "      border-radius: 50%;\n",
              "      cursor: pointer;\n",
              "      display: none;\n",
              "      fill: #1967D2;\n",
              "      height: 32px;\n",
              "      padding: 0 0 0 0;\n",
              "      width: 32px;\n",
              "    }\n",
              "\n",
              "    .colab-df-convert:hover {\n",
              "      background-color: #E2EBFA;\n",
              "      box-shadow: 0px 1px 2px rgba(60, 64, 67, 0.3), 0px 1px 3px 1px rgba(60, 64, 67, 0.15);\n",
              "      fill: #174EA6;\n",
              "    }\n",
              "\n",
              "    [theme=dark] .colab-df-convert {\n",
              "      background-color: #3B4455;\n",
              "      fill: #D2E3FC;\n",
              "    }\n",
              "\n",
              "    [theme=dark] .colab-df-convert:hover {\n",
              "      background-color: #434B5C;\n",
              "      box-shadow: 0px 1px 3px 1px rgba(0, 0, 0, 0.15);\n",
              "      filter: drop-shadow(0px 1px 2px rgba(0, 0, 0, 0.3));\n",
              "      fill: #FFFFFF;\n",
              "    }\n",
              "  </style>\n",
              "\n",
              "      <script>\n",
              "        const buttonEl =\n",
              "          document.querySelector('#df-dea4c800-7575-4403-b38b-a43c5c974064 button.colab-df-convert');\n",
              "        buttonEl.style.display =\n",
              "          google.colab.kernel.accessAllowed ? 'block' : 'none';\n",
              "\n",
              "        async function convertToInteractive(key) {\n",
              "          const element = document.querySelector('#df-dea4c800-7575-4403-b38b-a43c5c974064');\n",
              "          const dataTable =\n",
              "            await google.colab.kernel.invokeFunction('convertToInteractive',\n",
              "                                                     [key], {});\n",
              "          if (!dataTable) return;\n",
              "\n",
              "          const docLinkHtml = 'Like what you see? Visit the ' +\n",
              "            '<a target=\"_blank\" href=https://colab.research.google.com/notebooks/data_table.ipynb>data table notebook</a>'\n",
              "            + ' to learn more about interactive tables.';\n",
              "          element.innerHTML = '';\n",
              "          dataTable['output_type'] = 'display_data';\n",
              "          await google.colab.output.renderOutput(dataTable, element);\n",
              "          const docLink = document.createElement('div');\n",
              "          docLink.innerHTML = docLinkHtml;\n",
              "          element.appendChild(docLink);\n",
              "        }\n",
              "      </script>\n",
              "    </div>\n",
              "  </div>\n",
              "  "
            ]
          },
          "metadata": {},
          "execution_count": 937
        }
      ]
    },
    {
      "cell_type": "code",
      "source": [
        "data_selected.loc[data_selected[\"PREDICTION\"]==1]"
      ],
      "metadata": {
        "colab": {
          "base_uri": "https://localhost:8080/",
          "height": 770
        },
        "id": "RY_mPXabYAv_",
        "outputId": "bf267231-2db5-4e25-9d65-f99babf55c02"
      },
      "id": "RY_mPXabYAv_",
      "execution_count": 938,
      "outputs": [
        {
          "output_type": "execute_result",
          "data": {
            "text/plain": [
              "                PLAYER_NAME  ALL_NBA  PREDICTION\n",
              "30        LaMarcus Aldridge        0           1\n",
              "83    Giannis Antetokounmpo        1           1\n",
              "179            Bradley Beal        0           1\n",
              "570           Stephen Curry        1           1\n",
              "587           Anthony Davis        0           1\n",
              "682          Andre Drummond        0           1\n",
              "695            Kevin Durant        1           1\n",
              "740             Joel Embiid        1           1\n",
              "884             Paul George        1           1\n",
              "909             Rudy Gobert        1           1\n",
              "979           Blake Griffin        1           1\n",
              "1024           James Harden        1           1\n",
              "1131           Jrue Holiday        0           1\n",
              "1204           Kyrie Irving        1           1\n",
              "1240           LeBron James        1           1\n",
              "1315           Nikola Jokic        1           1\n",
              "1492          Kawhi Leonard        1           1\n",
              "1511         Damian Lillard        1           1\n",
              "2267            Ben Simmons        0           1\n",
              "2501     Karl-Anthony Towns        0           1\n",
              "2572         Nikola Vucevic        0           1\n",
              "2585           Kemba Walker        1           1\n",
              "2648      Russell Westbrook        1           1"
            ],
            "text/html": [
              "\n",
              "  <div id=\"df-725d1ade-c20f-4454-b7f4-4497834a302a\">\n",
              "    <div class=\"colab-df-container\">\n",
              "      <div>\n",
              "<style scoped>\n",
              "    .dataframe tbody tr th:only-of-type {\n",
              "        vertical-align: middle;\n",
              "    }\n",
              "\n",
              "    .dataframe tbody tr th {\n",
              "        vertical-align: top;\n",
              "    }\n",
              "\n",
              "    .dataframe thead th {\n",
              "        text-align: right;\n",
              "    }\n",
              "</style>\n",
              "<table border=\"1\" class=\"dataframe\">\n",
              "  <thead>\n",
              "    <tr style=\"text-align: right;\">\n",
              "      <th></th>\n",
              "      <th>PLAYER_NAME</th>\n",
              "      <th>ALL_NBA</th>\n",
              "      <th>PREDICTION</th>\n",
              "    </tr>\n",
              "  </thead>\n",
              "  <tbody>\n",
              "    <tr>\n",
              "      <th>30</th>\n",
              "      <td>LaMarcus Aldridge</td>\n",
              "      <td>0</td>\n",
              "      <td>1</td>\n",
              "    </tr>\n",
              "    <tr>\n",
              "      <th>83</th>\n",
              "      <td>Giannis Antetokounmpo</td>\n",
              "      <td>1</td>\n",
              "      <td>1</td>\n",
              "    </tr>\n",
              "    <tr>\n",
              "      <th>179</th>\n",
              "      <td>Bradley Beal</td>\n",
              "      <td>0</td>\n",
              "      <td>1</td>\n",
              "    </tr>\n",
              "    <tr>\n",
              "      <th>570</th>\n",
              "      <td>Stephen Curry</td>\n",
              "      <td>1</td>\n",
              "      <td>1</td>\n",
              "    </tr>\n",
              "    <tr>\n",
              "      <th>587</th>\n",
              "      <td>Anthony Davis</td>\n",
              "      <td>0</td>\n",
              "      <td>1</td>\n",
              "    </tr>\n",
              "    <tr>\n",
              "      <th>682</th>\n",
              "      <td>Andre Drummond</td>\n",
              "      <td>0</td>\n",
              "      <td>1</td>\n",
              "    </tr>\n",
              "    <tr>\n",
              "      <th>695</th>\n",
              "      <td>Kevin Durant</td>\n",
              "      <td>1</td>\n",
              "      <td>1</td>\n",
              "    </tr>\n",
              "    <tr>\n",
              "      <th>740</th>\n",
              "      <td>Joel Embiid</td>\n",
              "      <td>1</td>\n",
              "      <td>1</td>\n",
              "    </tr>\n",
              "    <tr>\n",
              "      <th>884</th>\n",
              "      <td>Paul George</td>\n",
              "      <td>1</td>\n",
              "      <td>1</td>\n",
              "    </tr>\n",
              "    <tr>\n",
              "      <th>909</th>\n",
              "      <td>Rudy Gobert</td>\n",
              "      <td>1</td>\n",
              "      <td>1</td>\n",
              "    </tr>\n",
              "    <tr>\n",
              "      <th>979</th>\n",
              "      <td>Blake Griffin</td>\n",
              "      <td>1</td>\n",
              "      <td>1</td>\n",
              "    </tr>\n",
              "    <tr>\n",
              "      <th>1024</th>\n",
              "      <td>James Harden</td>\n",
              "      <td>1</td>\n",
              "      <td>1</td>\n",
              "    </tr>\n",
              "    <tr>\n",
              "      <th>1131</th>\n",
              "      <td>Jrue Holiday</td>\n",
              "      <td>0</td>\n",
              "      <td>1</td>\n",
              "    </tr>\n",
              "    <tr>\n",
              "      <th>1204</th>\n",
              "      <td>Kyrie Irving</td>\n",
              "      <td>1</td>\n",
              "      <td>1</td>\n",
              "    </tr>\n",
              "    <tr>\n",
              "      <th>1240</th>\n",
              "      <td>LeBron James</td>\n",
              "      <td>1</td>\n",
              "      <td>1</td>\n",
              "    </tr>\n",
              "    <tr>\n",
              "      <th>1315</th>\n",
              "      <td>Nikola Jokic</td>\n",
              "      <td>1</td>\n",
              "      <td>1</td>\n",
              "    </tr>\n",
              "    <tr>\n",
              "      <th>1492</th>\n",
              "      <td>Kawhi Leonard</td>\n",
              "      <td>1</td>\n",
              "      <td>1</td>\n",
              "    </tr>\n",
              "    <tr>\n",
              "      <th>1511</th>\n",
              "      <td>Damian Lillard</td>\n",
              "      <td>1</td>\n",
              "      <td>1</td>\n",
              "    </tr>\n",
              "    <tr>\n",
              "      <th>2267</th>\n",
              "      <td>Ben Simmons</td>\n",
              "      <td>0</td>\n",
              "      <td>1</td>\n",
              "    </tr>\n",
              "    <tr>\n",
              "      <th>2501</th>\n",
              "      <td>Karl-Anthony Towns</td>\n",
              "      <td>0</td>\n",
              "      <td>1</td>\n",
              "    </tr>\n",
              "    <tr>\n",
              "      <th>2572</th>\n",
              "      <td>Nikola Vucevic</td>\n",
              "      <td>0</td>\n",
              "      <td>1</td>\n",
              "    </tr>\n",
              "    <tr>\n",
              "      <th>2585</th>\n",
              "      <td>Kemba Walker</td>\n",
              "      <td>1</td>\n",
              "      <td>1</td>\n",
              "    </tr>\n",
              "    <tr>\n",
              "      <th>2648</th>\n",
              "      <td>Russell Westbrook</td>\n",
              "      <td>1</td>\n",
              "      <td>1</td>\n",
              "    </tr>\n",
              "  </tbody>\n",
              "</table>\n",
              "</div>\n",
              "      <button class=\"colab-df-convert\" onclick=\"convertToInteractive('df-725d1ade-c20f-4454-b7f4-4497834a302a')\"\n",
              "              title=\"Convert this dataframe to an interactive table.\"\n",
              "              style=\"display:none;\">\n",
              "        \n",
              "  <svg xmlns=\"http://www.w3.org/2000/svg\" height=\"24px\"viewBox=\"0 0 24 24\"\n",
              "       width=\"24px\">\n",
              "    <path d=\"M0 0h24v24H0V0z\" fill=\"none\"/>\n",
              "    <path d=\"M18.56 5.44l.94 2.06.94-2.06 2.06-.94-2.06-.94-.94-2.06-.94 2.06-2.06.94zm-11 1L8.5 8.5l.94-2.06 2.06-.94-2.06-.94L8.5 2.5l-.94 2.06-2.06.94zm10 10l.94 2.06.94-2.06 2.06-.94-2.06-.94-.94-2.06-.94 2.06-2.06.94z\"/><path d=\"M17.41 7.96l-1.37-1.37c-.4-.4-.92-.59-1.43-.59-.52 0-1.04.2-1.43.59L10.3 9.45l-7.72 7.72c-.78.78-.78 2.05 0 2.83L4 21.41c.39.39.9.59 1.41.59.51 0 1.02-.2 1.41-.59l7.78-7.78 2.81-2.81c.8-.78.8-2.07 0-2.86zM5.41 20L4 18.59l7.72-7.72 1.47 1.35L5.41 20z\"/>\n",
              "  </svg>\n",
              "      </button>\n",
              "      \n",
              "  <style>\n",
              "    .colab-df-container {\n",
              "      display:flex;\n",
              "      flex-wrap:wrap;\n",
              "      gap: 12px;\n",
              "    }\n",
              "\n",
              "    .colab-df-convert {\n",
              "      background-color: #E8F0FE;\n",
              "      border: none;\n",
              "      border-radius: 50%;\n",
              "      cursor: pointer;\n",
              "      display: none;\n",
              "      fill: #1967D2;\n",
              "      height: 32px;\n",
              "      padding: 0 0 0 0;\n",
              "      width: 32px;\n",
              "    }\n",
              "\n",
              "    .colab-df-convert:hover {\n",
              "      background-color: #E2EBFA;\n",
              "      box-shadow: 0px 1px 2px rgba(60, 64, 67, 0.3), 0px 1px 3px 1px rgba(60, 64, 67, 0.15);\n",
              "      fill: #174EA6;\n",
              "    }\n",
              "\n",
              "    [theme=dark] .colab-df-convert {\n",
              "      background-color: #3B4455;\n",
              "      fill: #D2E3FC;\n",
              "    }\n",
              "\n",
              "    [theme=dark] .colab-df-convert:hover {\n",
              "      background-color: #434B5C;\n",
              "      box-shadow: 0px 1px 3px 1px rgba(0, 0, 0, 0.15);\n",
              "      filter: drop-shadow(0px 1px 2px rgba(0, 0, 0, 0.3));\n",
              "      fill: #FFFFFF;\n",
              "    }\n",
              "  </style>\n",
              "\n",
              "      <script>\n",
              "        const buttonEl =\n",
              "          document.querySelector('#df-725d1ade-c20f-4454-b7f4-4497834a302a button.colab-df-convert');\n",
              "        buttonEl.style.display =\n",
              "          google.colab.kernel.accessAllowed ? 'block' : 'none';\n",
              "\n",
              "        async function convertToInteractive(key) {\n",
              "          const element = document.querySelector('#df-725d1ade-c20f-4454-b7f4-4497834a302a');\n",
              "          const dataTable =\n",
              "            await google.colab.kernel.invokeFunction('convertToInteractive',\n",
              "                                                     [key], {});\n",
              "          if (!dataTable) return;\n",
              "\n",
              "          const docLinkHtml = 'Like what you see? Visit the ' +\n",
              "            '<a target=\"_blank\" href=https://colab.research.google.com/notebooks/data_table.ipynb>data table notebook</a>'\n",
              "            + ' to learn more about interactive tables.';\n",
              "          element.innerHTML = '';\n",
              "          dataTable['output_type'] = 'display_data';\n",
              "          await google.colab.output.renderOutput(dataTable, element);\n",
              "          const docLink = document.createElement('div');\n",
              "          docLink.innerHTML = docLinkHtml;\n",
              "          element.appendChild(docLink);\n",
              "        }\n",
              "      </script>\n",
              "    </div>\n",
              "  </div>\n",
              "  "
            ]
          },
          "metadata": {},
          "execution_count": 938
        }
      ]
    },
    {
      "cell_type": "markdown",
      "id": "be98174e-4d1b-407d-8ecc-dd568f6e5368",
      "metadata": {
        "id": "be98174e-4d1b-407d-8ecc-dd568f6e5368"
      },
      "source": [
        "2.12. Analyze the results, what do you think it is happening?"
      ]
    },
    {
      "cell_type": "markdown",
      "source": [
        "The model it's selecting too many players due to the fact that it's giving a 1 value to all players with more than 50% of probability of being selected"
      ],
      "metadata": {
        "id": "5sm6oni3YFzy"
      },
      "id": "5sm6oni3YFzy"
    },
    {
      "cell_type": "markdown",
      "id": "77a8c607-5df7-43d2-8365-cbbb6f2b93e1",
      "metadata": {
        "id": "77a8c607-5df7-43d2-8365-cbbb6f2b93e1"
      },
      "source": [
        "#### Creating our custom Classifier"
      ]
    },
    {
      "cell_type": "markdown",
      "id": "21dc0d0a-1d15-4f9e-b3ed-f83df1f51ce0",
      "metadata": {
        "id": "21dc0d0a-1d15-4f9e-b3ed-f83df1f51ce0"
      },
      "source": [
        "One thing to consider in this problem, is that the number of ALl NBA selections is fixed each year, a total of 15 players are always selected. But our current model does not limit the number of positive classified players. So, we will have to wrap our model in a custom classifier that only returns as positive the 15 players with the higher probabilities. \n",
        "Fortunately, our chosen model provides access to the underlying probabilities."
      ]
    },
    {
      "cell_type": "markdown",
      "id": "e22326d3-c1ae-475b-9b31-7b02876f8bbc",
      "metadata": {
        "id": "e22326d3-c1ae-475b-9b31-7b02876f8bbc"
      },
      "source": [
        "2.13. Using the trained model, predict probabilities for all rows in the dataset, and create a new column that has the probability that the player was selected as all nba. Round the probability to 3 decimals."
      ]
    },
    {
      "cell_type": "code",
      "execution_count": 939,
      "id": "fddf0631-d676-485d-9748-a688e854c9f2",
      "metadata": {
        "id": "fddf0631-d676-485d-9748-a688e854c9f2"
      },
      "outputs": [],
      "source": [
        "y_nbaall = nba_model.predict_proba(X_nd)"
      ]
    },
    {
      "cell_type": "code",
      "source": [
        "y_nbaall"
      ],
      "metadata": {
        "colab": {
          "base_uri": "https://localhost:8080/"
        },
        "id": "SxUwIQnpfaPL",
        "outputId": "6f470e7e-0277-4a54-98d8-ade676f9984f"
      },
      "id": "SxUwIQnpfaPL",
      "execution_count": 940,
      "outputs": [
        {
          "output_type": "execute_result",
          "data": {
            "text/plain": [
              "array([[9.99998299e-01, 1.70080912e-06],\n",
              "       [9.99999410e-01, 5.90143617e-07],\n",
              "       [9.99998170e-01, 1.83038567e-06],\n",
              "       ...,\n",
              "       [9.99994651e-01, 5.34944712e-06],\n",
              "       [9.99916241e-01, 8.37586917e-05],\n",
              "       [9.99722921e-01, 2.77078990e-04]])"
            ]
          },
          "metadata": {},
          "execution_count": 940
        }
      ]
    },
    {
      "cell_type": "markdown",
      "id": "c1e5edbf-faee-4773-a114-eed5eab89242",
      "metadata": {
        "id": "c1e5edbf-faee-4773-a114-eed5eab89242"
      },
      "source": [
        "2.14. Sort the dataset by probabilities and show the 15 players with higher probability to have been selected"
      ]
    },
    {
      "cell_type": "code",
      "execution_count": 941,
      "id": "42562785-2d0d-4e11-a31f-3eca3f78c818",
      "metadata": {
        "id": "42562785-2d0d-4e11-a31f-3eca3f78c818",
        "colab": {
          "base_uri": "https://localhost:8080/",
          "height": 519
        },
        "outputId": "16f77267-26d6-4106-d13e-5773f6de8865"
      },
      "outputs": [
        {
          "output_type": "execute_result",
          "data": {
            "text/plain": [
              "     PLAYER_ID            PLAYER_NAME  ALL_NBA  PROB_SELECTED\n",
              "205       1024           James Harden        1       0.998102\n",
              "17          83  Giannis Antetokounmpo        1       0.995101\n",
              "125        587          Anthony Davis        0       0.992021\n",
              "257       1240           LeBron James        1       0.984453\n",
              "154        740            Joel Embiid        1       0.972071\n",
              "505       2648      Russell Westbrook        1       0.960029\n",
              "491       2572         Nikola Vucevic        0       0.886669\n",
              "182        884            Paul George        1       0.867475\n",
              "149        695           Kevin Durant        1       0.845875\n",
              "479       2501     Karl-Anthony Towns        0       0.829671\n",
              "268       1315           Nikola Jokic        1       0.826866\n",
              "495       2585           Kemba Walker        1       0.803116\n",
              "300       1492          Kawhi Leonard        1       0.802426\n",
              "304       1511         Damian Lillard        1       0.800036\n",
              "229       1131           Jrue Holiday        0       0.668894"
            ],
            "text/html": [
              "\n",
              "  <div id=\"df-7509c477-6179-45f3-a51c-e4aaa7ee1a9d\">\n",
              "    <div class=\"colab-df-container\">\n",
              "      <div>\n",
              "<style scoped>\n",
              "    .dataframe tbody tr th:only-of-type {\n",
              "        vertical-align: middle;\n",
              "    }\n",
              "\n",
              "    .dataframe tbody tr th {\n",
              "        vertical-align: top;\n",
              "    }\n",
              "\n",
              "    .dataframe thead th {\n",
              "        text-align: right;\n",
              "    }\n",
              "</style>\n",
              "<table border=\"1\" class=\"dataframe\">\n",
              "  <thead>\n",
              "    <tr style=\"text-align: right;\">\n",
              "      <th></th>\n",
              "      <th>PLAYER_ID</th>\n",
              "      <th>PLAYER_NAME</th>\n",
              "      <th>ALL_NBA</th>\n",
              "      <th>PROB_SELECTED</th>\n",
              "    </tr>\n",
              "  </thead>\n",
              "  <tbody>\n",
              "    <tr>\n",
              "      <th>205</th>\n",
              "      <td>1024</td>\n",
              "      <td>James Harden</td>\n",
              "      <td>1</td>\n",
              "      <td>0.998102</td>\n",
              "    </tr>\n",
              "    <tr>\n",
              "      <th>17</th>\n",
              "      <td>83</td>\n",
              "      <td>Giannis Antetokounmpo</td>\n",
              "      <td>1</td>\n",
              "      <td>0.995101</td>\n",
              "    </tr>\n",
              "    <tr>\n",
              "      <th>125</th>\n",
              "      <td>587</td>\n",
              "      <td>Anthony Davis</td>\n",
              "      <td>0</td>\n",
              "      <td>0.992021</td>\n",
              "    </tr>\n",
              "    <tr>\n",
              "      <th>257</th>\n",
              "      <td>1240</td>\n",
              "      <td>LeBron James</td>\n",
              "      <td>1</td>\n",
              "      <td>0.984453</td>\n",
              "    </tr>\n",
              "    <tr>\n",
              "      <th>154</th>\n",
              "      <td>740</td>\n",
              "      <td>Joel Embiid</td>\n",
              "      <td>1</td>\n",
              "      <td>0.972071</td>\n",
              "    </tr>\n",
              "    <tr>\n",
              "      <th>505</th>\n",
              "      <td>2648</td>\n",
              "      <td>Russell Westbrook</td>\n",
              "      <td>1</td>\n",
              "      <td>0.960029</td>\n",
              "    </tr>\n",
              "    <tr>\n",
              "      <th>491</th>\n",
              "      <td>2572</td>\n",
              "      <td>Nikola Vucevic</td>\n",
              "      <td>0</td>\n",
              "      <td>0.886669</td>\n",
              "    </tr>\n",
              "    <tr>\n",
              "      <th>182</th>\n",
              "      <td>884</td>\n",
              "      <td>Paul George</td>\n",
              "      <td>1</td>\n",
              "      <td>0.867475</td>\n",
              "    </tr>\n",
              "    <tr>\n",
              "      <th>149</th>\n",
              "      <td>695</td>\n",
              "      <td>Kevin Durant</td>\n",
              "      <td>1</td>\n",
              "      <td>0.845875</td>\n",
              "    </tr>\n",
              "    <tr>\n",
              "      <th>479</th>\n",
              "      <td>2501</td>\n",
              "      <td>Karl-Anthony Towns</td>\n",
              "      <td>0</td>\n",
              "      <td>0.829671</td>\n",
              "    </tr>\n",
              "    <tr>\n",
              "      <th>268</th>\n",
              "      <td>1315</td>\n",
              "      <td>Nikola Jokic</td>\n",
              "      <td>1</td>\n",
              "      <td>0.826866</td>\n",
              "    </tr>\n",
              "    <tr>\n",
              "      <th>495</th>\n",
              "      <td>2585</td>\n",
              "      <td>Kemba Walker</td>\n",
              "      <td>1</td>\n",
              "      <td>0.803116</td>\n",
              "    </tr>\n",
              "    <tr>\n",
              "      <th>300</th>\n",
              "      <td>1492</td>\n",
              "      <td>Kawhi Leonard</td>\n",
              "      <td>1</td>\n",
              "      <td>0.802426</td>\n",
              "    </tr>\n",
              "    <tr>\n",
              "      <th>304</th>\n",
              "      <td>1511</td>\n",
              "      <td>Damian Lillard</td>\n",
              "      <td>1</td>\n",
              "      <td>0.800036</td>\n",
              "    </tr>\n",
              "    <tr>\n",
              "      <th>229</th>\n",
              "      <td>1131</td>\n",
              "      <td>Jrue Holiday</td>\n",
              "      <td>0</td>\n",
              "      <td>0.668894</td>\n",
              "    </tr>\n",
              "  </tbody>\n",
              "</table>\n",
              "</div>\n",
              "      <button class=\"colab-df-convert\" onclick=\"convertToInteractive('df-7509c477-6179-45f3-a51c-e4aaa7ee1a9d')\"\n",
              "              title=\"Convert this dataframe to an interactive table.\"\n",
              "              style=\"display:none;\">\n",
              "        \n",
              "  <svg xmlns=\"http://www.w3.org/2000/svg\" height=\"24px\"viewBox=\"0 0 24 24\"\n",
              "       width=\"24px\">\n",
              "    <path d=\"M0 0h24v24H0V0z\" fill=\"none\"/>\n",
              "    <path d=\"M18.56 5.44l.94 2.06.94-2.06 2.06-.94-2.06-.94-.94-2.06-.94 2.06-2.06.94zm-11 1L8.5 8.5l.94-2.06 2.06-.94-2.06-.94L8.5 2.5l-.94 2.06-2.06.94zm10 10l.94 2.06.94-2.06 2.06-.94-2.06-.94-.94-2.06-.94 2.06-2.06.94z\"/><path d=\"M17.41 7.96l-1.37-1.37c-.4-.4-.92-.59-1.43-.59-.52 0-1.04.2-1.43.59L10.3 9.45l-7.72 7.72c-.78.78-.78 2.05 0 2.83L4 21.41c.39.39.9.59 1.41.59.51 0 1.02-.2 1.41-.59l7.78-7.78 2.81-2.81c.8-.78.8-2.07 0-2.86zM5.41 20L4 18.59l7.72-7.72 1.47 1.35L5.41 20z\"/>\n",
              "  </svg>\n",
              "      </button>\n",
              "      \n",
              "  <style>\n",
              "    .colab-df-container {\n",
              "      display:flex;\n",
              "      flex-wrap:wrap;\n",
              "      gap: 12px;\n",
              "    }\n",
              "\n",
              "    .colab-df-convert {\n",
              "      background-color: #E8F0FE;\n",
              "      border: none;\n",
              "      border-radius: 50%;\n",
              "      cursor: pointer;\n",
              "      display: none;\n",
              "      fill: #1967D2;\n",
              "      height: 32px;\n",
              "      padding: 0 0 0 0;\n",
              "      width: 32px;\n",
              "    }\n",
              "\n",
              "    .colab-df-convert:hover {\n",
              "      background-color: #E2EBFA;\n",
              "      box-shadow: 0px 1px 2px rgba(60, 64, 67, 0.3), 0px 1px 3px 1px rgba(60, 64, 67, 0.15);\n",
              "      fill: #174EA6;\n",
              "    }\n",
              "\n",
              "    [theme=dark] .colab-df-convert {\n",
              "      background-color: #3B4455;\n",
              "      fill: #D2E3FC;\n",
              "    }\n",
              "\n",
              "    [theme=dark] .colab-df-convert:hover {\n",
              "      background-color: #434B5C;\n",
              "      box-shadow: 0px 1px 3px 1px rgba(0, 0, 0, 0.15);\n",
              "      filter: drop-shadow(0px 1px 2px rgba(0, 0, 0, 0.3));\n",
              "      fill: #FFFFFF;\n",
              "    }\n",
              "  </style>\n",
              "\n",
              "      <script>\n",
              "        const buttonEl =\n",
              "          document.querySelector('#df-7509c477-6179-45f3-a51c-e4aaa7ee1a9d button.colab-df-convert');\n",
              "        buttonEl.style.display =\n",
              "          google.colab.kernel.accessAllowed ? 'block' : 'none';\n",
              "\n",
              "        async function convertToInteractive(key) {\n",
              "          const element = document.querySelector('#df-7509c477-6179-45f3-a51c-e4aaa7ee1a9d');\n",
              "          const dataTable =\n",
              "            await google.colab.kernel.invokeFunction('convertToInteractive',\n",
              "                                                     [key], {});\n",
              "          if (!dataTable) return;\n",
              "\n",
              "          const docLinkHtml = 'Like what you see? Visit the ' +\n",
              "            '<a target=\"_blank\" href=https://colab.research.google.com/notebooks/data_table.ipynb>data table notebook</a>'\n",
              "            + ' to learn more about interactive tables.';\n",
              "          element.innerHTML = '';\n",
              "          dataTable['output_type'] = 'display_data';\n",
              "          await google.colab.output.renderOutput(dataTable, element);\n",
              "          const docLink = document.createElement('div');\n",
              "          docLink.innerHTML = docLinkHtml;\n",
              "          element.appendChild(docLink);\n",
              "        }\n",
              "      </script>\n",
              "    </div>\n",
              "  </div>\n",
              "  "
            ]
          },
          "metadata": {},
          "execution_count": 941
        }
      ],
      "source": [
        "y_nbaall = pd.DataFrame(y_nbaall)\n",
        "data_selected = all_nba_2018_selections.copy()\n",
        "data_selected.reset_index(inplace=True)\n",
        "data_selected = data_selected.join(y_nbaall)\n",
        "data_selected.drop(columns=[\"index\",0], inplace=True)\n",
        "data_selected.index.name = None\n",
        "data_selected.columns = [\"PLAYER_ID\",\"PLAYER_NAME\",\"ALL_NBA\",\"PROB_SELECTED\"]\n",
        "data_selected.sort_values(\"PROB_SELECTED\", ascending=False).head(15)"
      ]
    },
    {
      "cell_type": "markdown",
      "id": "1c27683b-0256-40c5-929c-d5ed6cdf6d1f",
      "metadata": {
        "id": "1c27683b-0256-40c5-929c-d5ed6cdf6d1f"
      },
      "source": [
        "2.15. Print:\n",
        "\n",
        "    - Players actually selected from the all_nba_2018_selections dataset,\n",
        "    - Players actually selected missing from OUR predictions+\n",
        "    - Players in our predictions not selected "
      ]
    },
    {
      "cell_type": "code",
      "execution_count": 942,
      "id": "fdbcdcac-43bd-4936-8312-456b3b0bd842",
      "metadata": {
        "id": "fdbcdcac-43bd-4936-8312-456b3b0bd842",
        "colab": {
          "base_uri": "https://localhost:8080/",
          "height": 538
        },
        "outputId": "0d70a6f5-3c40-487d-eb06-4ad8f05d9a49"
      },
      "outputs": [
        {
          "output_type": "stream",
          "name": "stdout",
          "text": [
            "The selected players were:\n"
          ]
        },
        {
          "output_type": "execute_result",
          "data": {
            "text/plain": [
              "       player_id                 player  all_nba\n",
              "453           83  Giannis Antetokounmpo        1\n",
              "3168         570          Stephen Curry        1\n",
              "3908         695           Kevin Durant        1\n",
              "4145         740            Joel Embiid        1\n",
              "4895         884            Paul George        1\n",
              "5016         909            Rudy Gobert        1\n",
              "5399         979          Blake Griffin        1\n",
              "5604        1024           James Harden        1\n",
              "6634        1204           Kyrie Irving        1\n",
              "6857        1240           LeBron James        1\n",
              "7225        1315           Nikola Jokic        1\n",
              "8103        1492          Kawhi Leonard        1\n",
              "8206        1511         Damian Lillard        1\n",
              "14132       2585           Kemba Walker        1\n",
              "14479       2648      Russell Westbrook        1"
            ],
            "text/html": [
              "\n",
              "  <div id=\"df-bd95bcc5-c91a-401f-9e5f-8c7db76ef20f\">\n",
              "    <div class=\"colab-df-container\">\n",
              "      <div>\n",
              "<style scoped>\n",
              "    .dataframe tbody tr th:only-of-type {\n",
              "        vertical-align: middle;\n",
              "    }\n",
              "\n",
              "    .dataframe tbody tr th {\n",
              "        vertical-align: top;\n",
              "    }\n",
              "\n",
              "    .dataframe thead th {\n",
              "        text-align: right;\n",
              "    }\n",
              "</style>\n",
              "<table border=\"1\" class=\"dataframe\">\n",
              "  <thead>\n",
              "    <tr style=\"text-align: right;\">\n",
              "      <th></th>\n",
              "      <th>player_id</th>\n",
              "      <th>player</th>\n",
              "      <th>all_nba</th>\n",
              "    </tr>\n",
              "  </thead>\n",
              "  <tbody>\n",
              "    <tr>\n",
              "      <th>453</th>\n",
              "      <td>83</td>\n",
              "      <td>Giannis Antetokounmpo</td>\n",
              "      <td>1</td>\n",
              "    </tr>\n",
              "    <tr>\n",
              "      <th>3168</th>\n",
              "      <td>570</td>\n",
              "      <td>Stephen Curry</td>\n",
              "      <td>1</td>\n",
              "    </tr>\n",
              "    <tr>\n",
              "      <th>3908</th>\n",
              "      <td>695</td>\n",
              "      <td>Kevin Durant</td>\n",
              "      <td>1</td>\n",
              "    </tr>\n",
              "    <tr>\n",
              "      <th>4145</th>\n",
              "      <td>740</td>\n",
              "      <td>Joel Embiid</td>\n",
              "      <td>1</td>\n",
              "    </tr>\n",
              "    <tr>\n",
              "      <th>4895</th>\n",
              "      <td>884</td>\n",
              "      <td>Paul George</td>\n",
              "      <td>1</td>\n",
              "    </tr>\n",
              "    <tr>\n",
              "      <th>5016</th>\n",
              "      <td>909</td>\n",
              "      <td>Rudy Gobert</td>\n",
              "      <td>1</td>\n",
              "    </tr>\n",
              "    <tr>\n",
              "      <th>5399</th>\n",
              "      <td>979</td>\n",
              "      <td>Blake Griffin</td>\n",
              "      <td>1</td>\n",
              "    </tr>\n",
              "    <tr>\n",
              "      <th>5604</th>\n",
              "      <td>1024</td>\n",
              "      <td>James Harden</td>\n",
              "      <td>1</td>\n",
              "    </tr>\n",
              "    <tr>\n",
              "      <th>6634</th>\n",
              "      <td>1204</td>\n",
              "      <td>Kyrie Irving</td>\n",
              "      <td>1</td>\n",
              "    </tr>\n",
              "    <tr>\n",
              "      <th>6857</th>\n",
              "      <td>1240</td>\n",
              "      <td>LeBron James</td>\n",
              "      <td>1</td>\n",
              "    </tr>\n",
              "    <tr>\n",
              "      <th>7225</th>\n",
              "      <td>1315</td>\n",
              "      <td>Nikola Jokic</td>\n",
              "      <td>1</td>\n",
              "    </tr>\n",
              "    <tr>\n",
              "      <th>8103</th>\n",
              "      <td>1492</td>\n",
              "      <td>Kawhi Leonard</td>\n",
              "      <td>1</td>\n",
              "    </tr>\n",
              "    <tr>\n",
              "      <th>8206</th>\n",
              "      <td>1511</td>\n",
              "      <td>Damian Lillard</td>\n",
              "      <td>1</td>\n",
              "    </tr>\n",
              "    <tr>\n",
              "      <th>14132</th>\n",
              "      <td>2585</td>\n",
              "      <td>Kemba Walker</td>\n",
              "      <td>1</td>\n",
              "    </tr>\n",
              "    <tr>\n",
              "      <th>14479</th>\n",
              "      <td>2648</td>\n",
              "      <td>Russell Westbrook</td>\n",
              "      <td>1</td>\n",
              "    </tr>\n",
              "  </tbody>\n",
              "</table>\n",
              "</div>\n",
              "      <button class=\"colab-df-convert\" onclick=\"convertToInteractive('df-bd95bcc5-c91a-401f-9e5f-8c7db76ef20f')\"\n",
              "              title=\"Convert this dataframe to an interactive table.\"\n",
              "              style=\"display:none;\">\n",
              "        \n",
              "  <svg xmlns=\"http://www.w3.org/2000/svg\" height=\"24px\"viewBox=\"0 0 24 24\"\n",
              "       width=\"24px\">\n",
              "    <path d=\"M0 0h24v24H0V0z\" fill=\"none\"/>\n",
              "    <path d=\"M18.56 5.44l.94 2.06.94-2.06 2.06-.94-2.06-.94-.94-2.06-.94 2.06-2.06.94zm-11 1L8.5 8.5l.94-2.06 2.06-.94-2.06-.94L8.5 2.5l-.94 2.06-2.06.94zm10 10l.94 2.06.94-2.06 2.06-.94-2.06-.94-.94-2.06-.94 2.06-2.06.94z\"/><path d=\"M17.41 7.96l-1.37-1.37c-.4-.4-.92-.59-1.43-.59-.52 0-1.04.2-1.43.59L10.3 9.45l-7.72 7.72c-.78.78-.78 2.05 0 2.83L4 21.41c.39.39.9.59 1.41.59.51 0 1.02-.2 1.41-.59l7.78-7.78 2.81-2.81c.8-.78.8-2.07 0-2.86zM5.41 20L4 18.59l7.72-7.72 1.47 1.35L5.41 20z\"/>\n",
              "  </svg>\n",
              "      </button>\n",
              "      \n",
              "  <style>\n",
              "    .colab-df-container {\n",
              "      display:flex;\n",
              "      flex-wrap:wrap;\n",
              "      gap: 12px;\n",
              "    }\n",
              "\n",
              "    .colab-df-convert {\n",
              "      background-color: #E8F0FE;\n",
              "      border: none;\n",
              "      border-radius: 50%;\n",
              "      cursor: pointer;\n",
              "      display: none;\n",
              "      fill: #1967D2;\n",
              "      height: 32px;\n",
              "      padding: 0 0 0 0;\n",
              "      width: 32px;\n",
              "    }\n",
              "\n",
              "    .colab-df-convert:hover {\n",
              "      background-color: #E2EBFA;\n",
              "      box-shadow: 0px 1px 2px rgba(60, 64, 67, 0.3), 0px 1px 3px 1px rgba(60, 64, 67, 0.15);\n",
              "      fill: #174EA6;\n",
              "    }\n",
              "\n",
              "    [theme=dark] .colab-df-convert {\n",
              "      background-color: #3B4455;\n",
              "      fill: #D2E3FC;\n",
              "    }\n",
              "\n",
              "    [theme=dark] .colab-df-convert:hover {\n",
              "      background-color: #434B5C;\n",
              "      box-shadow: 0px 1px 3px 1px rgba(0, 0, 0, 0.15);\n",
              "      filter: drop-shadow(0px 1px 2px rgba(0, 0, 0, 0.3));\n",
              "      fill: #FFFFFF;\n",
              "    }\n",
              "  </style>\n",
              "\n",
              "      <script>\n",
              "        const buttonEl =\n",
              "          document.querySelector('#df-bd95bcc5-c91a-401f-9e5f-8c7db76ef20f button.colab-df-convert');\n",
              "        buttonEl.style.display =\n",
              "          google.colab.kernel.accessAllowed ? 'block' : 'none';\n",
              "\n",
              "        async function convertToInteractive(key) {\n",
              "          const element = document.querySelector('#df-bd95bcc5-c91a-401f-9e5f-8c7db76ef20f');\n",
              "          const dataTable =\n",
              "            await google.colab.kernel.invokeFunction('convertToInteractive',\n",
              "                                                     [key], {});\n",
              "          if (!dataTable) return;\n",
              "\n",
              "          const docLinkHtml = 'Like what you see? Visit the ' +\n",
              "            '<a target=\"_blank\" href=https://colab.research.google.com/notebooks/data_table.ipynb>data table notebook</a>'\n",
              "            + ' to learn more about interactive tables.';\n",
              "          element.innerHTML = '';\n",
              "          dataTable['output_type'] = 'display_data';\n",
              "          await google.colab.output.renderOutput(dataTable, element);\n",
              "          const docLink = document.createElement('div');\n",
              "          docLink.innerHTML = docLinkHtml;\n",
              "          element.appendChild(docLink);\n",
              "        }\n",
              "      </script>\n",
              "    </div>\n",
              "  </div>\n",
              "  "
            ]
          },
          "metadata": {},
          "execution_count": 942
        }
      ],
      "source": [
        "print(\"The selected players were:\")\n",
        "all_nba_2018_selections.loc[all_nba_2018_selections.all_nba == 1]"
      ]
    },
    {
      "cell_type": "code",
      "source": [
        "print(\"The model failed to predict the following selected players:\")\n",
        "data_selected.sort_values(\"PROB_SELECTED\", ascending=False)[15:].loc[data_selected.ALL_NBA==1]"
      ],
      "metadata": {
        "colab": {
          "base_uri": "https://localhost:8080/",
          "height": 193
        },
        "id": "zyCRxwVUYcA-",
        "outputId": "f2fc0dbd-bec3-441b-8d95-f5d7d8c04cbf"
      },
      "id": "zyCRxwVUYcA-",
      "execution_count": 943,
      "outputs": [
        {
          "output_type": "stream",
          "name": "stdout",
          "text": [
            "The model failed to predict the following selected players:\n"
          ]
        },
        {
          "output_type": "execute_result",
          "data": {
            "text/plain": [
              "     PLAYER_ID    PLAYER_NAME  ALL_NBA  PROB_SELECTED\n",
              "186        909    Rudy Gobert        1       0.633975\n",
              "123        570  Stephen Curry        1       0.608238\n",
              "248       1204   Kyrie Irving        1       0.601938\n",
              "201        979  Blake Griffin        1       0.561307"
            ],
            "text/html": [
              "\n",
              "  <div id=\"df-771d6a42-1672-442f-acb3-290d68524332\">\n",
              "    <div class=\"colab-df-container\">\n",
              "      <div>\n",
              "<style scoped>\n",
              "    .dataframe tbody tr th:only-of-type {\n",
              "        vertical-align: middle;\n",
              "    }\n",
              "\n",
              "    .dataframe tbody tr th {\n",
              "        vertical-align: top;\n",
              "    }\n",
              "\n",
              "    .dataframe thead th {\n",
              "        text-align: right;\n",
              "    }\n",
              "</style>\n",
              "<table border=\"1\" class=\"dataframe\">\n",
              "  <thead>\n",
              "    <tr style=\"text-align: right;\">\n",
              "      <th></th>\n",
              "      <th>PLAYER_ID</th>\n",
              "      <th>PLAYER_NAME</th>\n",
              "      <th>ALL_NBA</th>\n",
              "      <th>PROB_SELECTED</th>\n",
              "    </tr>\n",
              "  </thead>\n",
              "  <tbody>\n",
              "    <tr>\n",
              "      <th>186</th>\n",
              "      <td>909</td>\n",
              "      <td>Rudy Gobert</td>\n",
              "      <td>1</td>\n",
              "      <td>0.633975</td>\n",
              "    </tr>\n",
              "    <tr>\n",
              "      <th>123</th>\n",
              "      <td>570</td>\n",
              "      <td>Stephen Curry</td>\n",
              "      <td>1</td>\n",
              "      <td>0.608238</td>\n",
              "    </tr>\n",
              "    <tr>\n",
              "      <th>248</th>\n",
              "      <td>1204</td>\n",
              "      <td>Kyrie Irving</td>\n",
              "      <td>1</td>\n",
              "      <td>0.601938</td>\n",
              "    </tr>\n",
              "    <tr>\n",
              "      <th>201</th>\n",
              "      <td>979</td>\n",
              "      <td>Blake Griffin</td>\n",
              "      <td>1</td>\n",
              "      <td>0.561307</td>\n",
              "    </tr>\n",
              "  </tbody>\n",
              "</table>\n",
              "</div>\n",
              "      <button class=\"colab-df-convert\" onclick=\"convertToInteractive('df-771d6a42-1672-442f-acb3-290d68524332')\"\n",
              "              title=\"Convert this dataframe to an interactive table.\"\n",
              "              style=\"display:none;\">\n",
              "        \n",
              "  <svg xmlns=\"http://www.w3.org/2000/svg\" height=\"24px\"viewBox=\"0 0 24 24\"\n",
              "       width=\"24px\">\n",
              "    <path d=\"M0 0h24v24H0V0z\" fill=\"none\"/>\n",
              "    <path d=\"M18.56 5.44l.94 2.06.94-2.06 2.06-.94-2.06-.94-.94-2.06-.94 2.06-2.06.94zm-11 1L8.5 8.5l.94-2.06 2.06-.94-2.06-.94L8.5 2.5l-.94 2.06-2.06.94zm10 10l.94 2.06.94-2.06 2.06-.94-2.06-.94-.94-2.06-.94 2.06-2.06.94z\"/><path d=\"M17.41 7.96l-1.37-1.37c-.4-.4-.92-.59-1.43-.59-.52 0-1.04.2-1.43.59L10.3 9.45l-7.72 7.72c-.78.78-.78 2.05 0 2.83L4 21.41c.39.39.9.59 1.41.59.51 0 1.02-.2 1.41-.59l7.78-7.78 2.81-2.81c.8-.78.8-2.07 0-2.86zM5.41 20L4 18.59l7.72-7.72 1.47 1.35L5.41 20z\"/>\n",
              "  </svg>\n",
              "      </button>\n",
              "      \n",
              "  <style>\n",
              "    .colab-df-container {\n",
              "      display:flex;\n",
              "      flex-wrap:wrap;\n",
              "      gap: 12px;\n",
              "    }\n",
              "\n",
              "    .colab-df-convert {\n",
              "      background-color: #E8F0FE;\n",
              "      border: none;\n",
              "      border-radius: 50%;\n",
              "      cursor: pointer;\n",
              "      display: none;\n",
              "      fill: #1967D2;\n",
              "      height: 32px;\n",
              "      padding: 0 0 0 0;\n",
              "      width: 32px;\n",
              "    }\n",
              "\n",
              "    .colab-df-convert:hover {\n",
              "      background-color: #E2EBFA;\n",
              "      box-shadow: 0px 1px 2px rgba(60, 64, 67, 0.3), 0px 1px 3px 1px rgba(60, 64, 67, 0.15);\n",
              "      fill: #174EA6;\n",
              "    }\n",
              "\n",
              "    [theme=dark] .colab-df-convert {\n",
              "      background-color: #3B4455;\n",
              "      fill: #D2E3FC;\n",
              "    }\n",
              "\n",
              "    [theme=dark] .colab-df-convert:hover {\n",
              "      background-color: #434B5C;\n",
              "      box-shadow: 0px 1px 3px 1px rgba(0, 0, 0, 0.15);\n",
              "      filter: drop-shadow(0px 1px 2px rgba(0, 0, 0, 0.3));\n",
              "      fill: #FFFFFF;\n",
              "    }\n",
              "  </style>\n",
              "\n",
              "      <script>\n",
              "        const buttonEl =\n",
              "          document.querySelector('#df-771d6a42-1672-442f-acb3-290d68524332 button.colab-df-convert');\n",
              "        buttonEl.style.display =\n",
              "          google.colab.kernel.accessAllowed ? 'block' : 'none';\n",
              "\n",
              "        async function convertToInteractive(key) {\n",
              "          const element = document.querySelector('#df-771d6a42-1672-442f-acb3-290d68524332');\n",
              "          const dataTable =\n",
              "            await google.colab.kernel.invokeFunction('convertToInteractive',\n",
              "                                                     [key], {});\n",
              "          if (!dataTable) return;\n",
              "\n",
              "          const docLinkHtml = 'Like what you see? Visit the ' +\n",
              "            '<a target=\"_blank\" href=https://colab.research.google.com/notebooks/data_table.ipynb>data table notebook</a>'\n",
              "            + ' to learn more about interactive tables.';\n",
              "          element.innerHTML = '';\n",
              "          dataTable['output_type'] = 'display_data';\n",
              "          await google.colab.output.renderOutput(dataTable, element);\n",
              "          const docLink = document.createElement('div');\n",
              "          docLink.innerHTML = docLinkHtml;\n",
              "          element.appendChild(docLink);\n",
              "        }\n",
              "      </script>\n",
              "    </div>\n",
              "  </div>\n",
              "  "
            ]
          },
          "metadata": {},
          "execution_count": 943
        }
      ]
    },
    {
      "cell_type": "code",
      "source": [
        "print(\"The model failed to predict the following non selected players:\")\n",
        "data_selected.sort_values(\"PROB_SELECTED\", ascending=False)[:15].loc[data_selected.ALL_NBA==0]"
      ],
      "metadata": {
        "colab": {
          "base_uri": "https://localhost:8080/",
          "height": 193
        },
        "id": "xSyIm3qvYcDZ",
        "outputId": "17a676c2-f5a1-4e2a-f9dd-8e6b0294a673"
      },
      "id": "xSyIm3qvYcDZ",
      "execution_count": 944,
      "outputs": [
        {
          "output_type": "stream",
          "name": "stdout",
          "text": [
            "The model failed to predict the following non selected players:\n"
          ]
        },
        {
          "output_type": "execute_result",
          "data": {
            "text/plain": [
              "     PLAYER_ID         PLAYER_NAME  ALL_NBA  PROB_SELECTED\n",
              "125        587       Anthony Davis        0       0.992021\n",
              "491       2572      Nikola Vucevic        0       0.886669\n",
              "479       2501  Karl-Anthony Towns        0       0.829671\n",
              "229       1131        Jrue Holiday        0       0.668894"
            ],
            "text/html": [
              "\n",
              "  <div id=\"df-c0c1da5e-99a6-497c-8aad-8d4cd009c6a1\">\n",
              "    <div class=\"colab-df-container\">\n",
              "      <div>\n",
              "<style scoped>\n",
              "    .dataframe tbody tr th:only-of-type {\n",
              "        vertical-align: middle;\n",
              "    }\n",
              "\n",
              "    .dataframe tbody tr th {\n",
              "        vertical-align: top;\n",
              "    }\n",
              "\n",
              "    .dataframe thead th {\n",
              "        text-align: right;\n",
              "    }\n",
              "</style>\n",
              "<table border=\"1\" class=\"dataframe\">\n",
              "  <thead>\n",
              "    <tr style=\"text-align: right;\">\n",
              "      <th></th>\n",
              "      <th>PLAYER_ID</th>\n",
              "      <th>PLAYER_NAME</th>\n",
              "      <th>ALL_NBA</th>\n",
              "      <th>PROB_SELECTED</th>\n",
              "    </tr>\n",
              "  </thead>\n",
              "  <tbody>\n",
              "    <tr>\n",
              "      <th>125</th>\n",
              "      <td>587</td>\n",
              "      <td>Anthony Davis</td>\n",
              "      <td>0</td>\n",
              "      <td>0.992021</td>\n",
              "    </tr>\n",
              "    <tr>\n",
              "      <th>491</th>\n",
              "      <td>2572</td>\n",
              "      <td>Nikola Vucevic</td>\n",
              "      <td>0</td>\n",
              "      <td>0.886669</td>\n",
              "    </tr>\n",
              "    <tr>\n",
              "      <th>479</th>\n",
              "      <td>2501</td>\n",
              "      <td>Karl-Anthony Towns</td>\n",
              "      <td>0</td>\n",
              "      <td>0.829671</td>\n",
              "    </tr>\n",
              "    <tr>\n",
              "      <th>229</th>\n",
              "      <td>1131</td>\n",
              "      <td>Jrue Holiday</td>\n",
              "      <td>0</td>\n",
              "      <td>0.668894</td>\n",
              "    </tr>\n",
              "  </tbody>\n",
              "</table>\n",
              "</div>\n",
              "      <button class=\"colab-df-convert\" onclick=\"convertToInteractive('df-c0c1da5e-99a6-497c-8aad-8d4cd009c6a1')\"\n",
              "              title=\"Convert this dataframe to an interactive table.\"\n",
              "              style=\"display:none;\">\n",
              "        \n",
              "  <svg xmlns=\"http://www.w3.org/2000/svg\" height=\"24px\"viewBox=\"0 0 24 24\"\n",
              "       width=\"24px\">\n",
              "    <path d=\"M0 0h24v24H0V0z\" fill=\"none\"/>\n",
              "    <path d=\"M18.56 5.44l.94 2.06.94-2.06 2.06-.94-2.06-.94-.94-2.06-.94 2.06-2.06.94zm-11 1L8.5 8.5l.94-2.06 2.06-.94-2.06-.94L8.5 2.5l-.94 2.06-2.06.94zm10 10l.94 2.06.94-2.06 2.06-.94-2.06-.94-.94-2.06-.94 2.06-2.06.94z\"/><path d=\"M17.41 7.96l-1.37-1.37c-.4-.4-.92-.59-1.43-.59-.52 0-1.04.2-1.43.59L10.3 9.45l-7.72 7.72c-.78.78-.78 2.05 0 2.83L4 21.41c.39.39.9.59 1.41.59.51 0 1.02-.2 1.41-.59l7.78-7.78 2.81-2.81c.8-.78.8-2.07 0-2.86zM5.41 20L4 18.59l7.72-7.72 1.47 1.35L5.41 20z\"/>\n",
              "  </svg>\n",
              "      </button>\n",
              "      \n",
              "  <style>\n",
              "    .colab-df-container {\n",
              "      display:flex;\n",
              "      flex-wrap:wrap;\n",
              "      gap: 12px;\n",
              "    }\n",
              "\n",
              "    .colab-df-convert {\n",
              "      background-color: #E8F0FE;\n",
              "      border: none;\n",
              "      border-radius: 50%;\n",
              "      cursor: pointer;\n",
              "      display: none;\n",
              "      fill: #1967D2;\n",
              "      height: 32px;\n",
              "      padding: 0 0 0 0;\n",
              "      width: 32px;\n",
              "    }\n",
              "\n",
              "    .colab-df-convert:hover {\n",
              "      background-color: #E2EBFA;\n",
              "      box-shadow: 0px 1px 2px rgba(60, 64, 67, 0.3), 0px 1px 3px 1px rgba(60, 64, 67, 0.15);\n",
              "      fill: #174EA6;\n",
              "    }\n",
              "\n",
              "    [theme=dark] .colab-df-convert {\n",
              "      background-color: #3B4455;\n",
              "      fill: #D2E3FC;\n",
              "    }\n",
              "\n",
              "    [theme=dark] .colab-df-convert:hover {\n",
              "      background-color: #434B5C;\n",
              "      box-shadow: 0px 1px 3px 1px rgba(0, 0, 0, 0.15);\n",
              "      filter: drop-shadow(0px 1px 2px rgba(0, 0, 0, 0.3));\n",
              "      fill: #FFFFFF;\n",
              "    }\n",
              "  </style>\n",
              "\n",
              "      <script>\n",
              "        const buttonEl =\n",
              "          document.querySelector('#df-c0c1da5e-99a6-497c-8aad-8d4cd009c6a1 button.colab-df-convert');\n",
              "        buttonEl.style.display =\n",
              "          google.colab.kernel.accessAllowed ? 'block' : 'none';\n",
              "\n",
              "        async function convertToInteractive(key) {\n",
              "          const element = document.querySelector('#df-c0c1da5e-99a6-497c-8aad-8d4cd009c6a1');\n",
              "          const dataTable =\n",
              "            await google.colab.kernel.invokeFunction('convertToInteractive',\n",
              "                                                     [key], {});\n",
              "          if (!dataTable) return;\n",
              "\n",
              "          const docLinkHtml = 'Like what you see? Visit the ' +\n",
              "            '<a target=\"_blank\" href=https://colab.research.google.com/notebooks/data_table.ipynb>data table notebook</a>'\n",
              "            + ' to learn more about interactive tables.';\n",
              "          element.innerHTML = '';\n",
              "          dataTable['output_type'] = 'display_data';\n",
              "          await google.colab.output.renderOutput(dataTable, element);\n",
              "          const docLink = document.createElement('div');\n",
              "          docLink.innerHTML = docLinkHtml;\n",
              "          element.appendChild(docLink);\n",
              "        }\n",
              "      </script>\n",
              "    </div>\n",
              "  </div>\n",
              "  "
            ]
          },
          "metadata": {},
          "execution_count": 944
        }
      ]
    },
    {
      "cell_type": "markdown",
      "id": "66b994d0-d37a-43c2-a38f-ea5e86afa512",
      "metadata": {
        "id": "66b994d0-d37a-43c2-a38f-ea5e86afa512"
      },
      "source": [
        "2.16. Create a class named AllNbaSingleSeasonClassifier that takes a scikit learn model in the constructor, then implements a predict method that returns predictions with only the 15 most probable selections."
      ]
    },
    {
      "cell_type": "code",
      "execution_count": 945,
      "id": "5fc85317-ffc5-45e9-8740-3703b5d1aa86",
      "metadata": {
        "id": "5fc85317-ffc5-45e9-8740-3703b5d1aa86"
      },
      "outputs": [],
      "source": [
        "class AllNbaSingleSeasonClassifier():\n",
        "    def __init__(self, model):\n",
        "        \"\"\"\n",
        "        Class constructor\n",
        "\n",
        "        Parameters\n",
        "        ----------\n",
        "        model: BaseEstimator\n",
        "            a Scikit learn estimator\n",
        "        \"\"\"\n",
        "        self._model = model\n",
        "\n",
        "    def predict(self, X):\n",
        "        \"\"\"\n",
        "        Predicts all nba selections. This classifier will limit the number\n",
        "        of positive instances to 15\n",
        "\n",
        "        Parameters\n",
        "        ----------\n",
        "        X: pd.DataFrame\n",
        "            a dataframe with the players data\n",
        "\n",
        "        Returns\n",
        "        -------\n",
        "        np.ndarray\n",
        "            An array of the same length as y, with 15 true results based on the players with most probabilities of\n",
        "            beign selected\n",
        "        \"\"\"\n",
        "        columns = ['games', 'gamesstarted', 'mp', 'fg_perc', '3p_perc', '2p_perc','ft_perc', 'trb', 'ast', 'stl', 'blk', 'tov', 'pf', 'pts', 'team_ATL','team_BOS', 'team_BRK', 'team_CHA', 'team_CHH', 'team_CHI', 'team_CHO','team_CLE', 'team_DAL', 'team_DEN', 'team_DET', 'team_GSW', 'team_HOU','team_IND', 'team_KCK', 'team_LAC', 'team_LAL', 'team_MEM', 'team_MIA','team_MIL', 'team_MIN', 'team_NJN', 'team_NOH', 'team_NOK', 'team_NOP','team_NYK', 'team_OKC', 'team_ORL', 'team_PHI', 'team_PHO', 'team_POR','team_SAC', 'team_SAS', 'team_SDC', 'team_SEA', 'team_TOR', 'team_TOT','team_UTA', 'team_VAN', 'team_WAS', 'team_WSB']  \n",
        "        X_nd = X[['team', 'games', 'gamesstarted', 'mp', 'fg_perc', '3p_perc',\n",
        "                '2p_perc', 'ft_perc', 'trb', 'ast', 'stl', 'blk', 'tov', 'pf', 'pts']].copy()\n",
        "        X_nd[[\"games\", \"gamesstarted\", \"mp\", \"trb\", \"ast\", \"stl\", \"blk\", \"tov\", \"pf\", \"pts\"]] = allnba_scaler.transform(\n",
        "            X[[\"games\", \"gamesstarted\", \"mp\", \"trb\", \"ast\", \"stl\", \"blk\", \"tov\", \"pf\", \"pts\"]])\n",
        "        X_nd = pd.get_dummies(X_nd, columns=[\"team\"])\n",
        "        miss_cols = list(set(columns)-set(X_nd.columns))\n",
        "        X_nd[miss_cols] = 0\n",
        "        X_nd.columns = list(columns)\n",
        "        allnba_pred = (self._model).predict_proba(X_nd)\n",
        "        allnba_pred = pd.DataFrame(allnba_pred)\n",
        "        selected = X[[\"player\",\"team\"]].copy()\n",
        "        \n",
        "        selected.reset_index(inplace=True)\n",
        "        selected = selected.join(allnba_pred)\n",
        "        selected.drop(columns=[\"index\",0], inplace=True)\n",
        "        selected.columns = [\"PLAYER_NAME\",\"TEAM\",\"PROB_SELECTED\"]\n",
        "        selected = selected.sort_values(\"PROB_SELECTED\", ascending=False)\n",
        "        selected[\"PROB_SELECTED\"] = round(selected[\"PROB_SELECTED\"],4)*100\n",
        "        return selected.head(15)"
      ]
    },
    {
      "cell_type": "markdown",
      "id": "0d83848f-8132-4205-bc18-88b8a5f07555",
      "metadata": {
        "id": "0d83848f-8132-4205-bc18-88b8a5f07555"
      },
      "source": [
        "2.17. Use the new classifier to make predictions and evaluate the result with precision, recall and f1"
      ]
    },
    {
      "cell_type": "code",
      "execution_count": 946,
      "id": "ac440daa-8a05-4a90-8729-a48af57092bb",
      "metadata": {
        "id": "ac440daa-8a05-4a90-8729-a48af57092bb"
      },
      "outputs": [],
      "source": [
        "predictor = AllNbaSingleSeasonClassifier(nba_model)"
      ]
    },
    {
      "cell_type": "code",
      "source": [
        "sel_players = predictor.predict(all_nba_2018_df)\n",
        "sel_players.sort_values(\"PLAYER_NAME\")"
      ],
      "metadata": {
        "colab": {
          "base_uri": "https://localhost:8080/",
          "height": 519
        },
        "id": "aqUMTpBRYteQ",
        "outputId": "1ae95ecd-7362-4575-faac-703602582a93"
      },
      "id": "aqUMTpBRYteQ",
      "execution_count": 947,
      "outputs": [
        {
          "output_type": "execute_result",
          "data": {
            "text/plain": [
              "               PLAYER_NAME TEAM  PROB_SELECTED\n",
              "125          Anthony Davis  NOP          99.20\n",
              "304         Damian Lillard  POR          80.00\n",
              "17   Giannis Antetokounmpo  MIL          99.51\n",
              "205           James Harden  HOU          99.81\n",
              "154            Joel Embiid  PHI          97.21\n",
              "229           Jrue Holiday  NOP          66.89\n",
              "479     Karl-Anthony Towns  MIN          82.97\n",
              "300          Kawhi Leonard  TOR          80.24\n",
              "495           Kemba Walker  CHO          80.31\n",
              "149           Kevin Durant  GSW          84.59\n",
              "257           LeBron James  LAL          98.45\n",
              "268           Nikola Jokic  DEN          82.69\n",
              "491         Nikola Vucevic  ORL          88.67\n",
              "182            Paul George  OKC          86.75\n",
              "505      Russell Westbrook  OKC          96.00"
            ],
            "text/html": [
              "\n",
              "  <div id=\"df-9bfa6866-1bc1-433e-97f4-9d09f2b769c5\">\n",
              "    <div class=\"colab-df-container\">\n",
              "      <div>\n",
              "<style scoped>\n",
              "    .dataframe tbody tr th:only-of-type {\n",
              "        vertical-align: middle;\n",
              "    }\n",
              "\n",
              "    .dataframe tbody tr th {\n",
              "        vertical-align: top;\n",
              "    }\n",
              "\n",
              "    .dataframe thead th {\n",
              "        text-align: right;\n",
              "    }\n",
              "</style>\n",
              "<table border=\"1\" class=\"dataframe\">\n",
              "  <thead>\n",
              "    <tr style=\"text-align: right;\">\n",
              "      <th></th>\n",
              "      <th>PLAYER_NAME</th>\n",
              "      <th>TEAM</th>\n",
              "      <th>PROB_SELECTED</th>\n",
              "    </tr>\n",
              "  </thead>\n",
              "  <tbody>\n",
              "    <tr>\n",
              "      <th>125</th>\n",
              "      <td>Anthony Davis</td>\n",
              "      <td>NOP</td>\n",
              "      <td>99.20</td>\n",
              "    </tr>\n",
              "    <tr>\n",
              "      <th>304</th>\n",
              "      <td>Damian Lillard</td>\n",
              "      <td>POR</td>\n",
              "      <td>80.00</td>\n",
              "    </tr>\n",
              "    <tr>\n",
              "      <th>17</th>\n",
              "      <td>Giannis Antetokounmpo</td>\n",
              "      <td>MIL</td>\n",
              "      <td>99.51</td>\n",
              "    </tr>\n",
              "    <tr>\n",
              "      <th>205</th>\n",
              "      <td>James Harden</td>\n",
              "      <td>HOU</td>\n",
              "      <td>99.81</td>\n",
              "    </tr>\n",
              "    <tr>\n",
              "      <th>154</th>\n",
              "      <td>Joel Embiid</td>\n",
              "      <td>PHI</td>\n",
              "      <td>97.21</td>\n",
              "    </tr>\n",
              "    <tr>\n",
              "      <th>229</th>\n",
              "      <td>Jrue Holiday</td>\n",
              "      <td>NOP</td>\n",
              "      <td>66.89</td>\n",
              "    </tr>\n",
              "    <tr>\n",
              "      <th>479</th>\n",
              "      <td>Karl-Anthony Towns</td>\n",
              "      <td>MIN</td>\n",
              "      <td>82.97</td>\n",
              "    </tr>\n",
              "    <tr>\n",
              "      <th>300</th>\n",
              "      <td>Kawhi Leonard</td>\n",
              "      <td>TOR</td>\n",
              "      <td>80.24</td>\n",
              "    </tr>\n",
              "    <tr>\n",
              "      <th>495</th>\n",
              "      <td>Kemba Walker</td>\n",
              "      <td>CHO</td>\n",
              "      <td>80.31</td>\n",
              "    </tr>\n",
              "    <tr>\n",
              "      <th>149</th>\n",
              "      <td>Kevin Durant</td>\n",
              "      <td>GSW</td>\n",
              "      <td>84.59</td>\n",
              "    </tr>\n",
              "    <tr>\n",
              "      <th>257</th>\n",
              "      <td>LeBron James</td>\n",
              "      <td>LAL</td>\n",
              "      <td>98.45</td>\n",
              "    </tr>\n",
              "    <tr>\n",
              "      <th>268</th>\n",
              "      <td>Nikola Jokic</td>\n",
              "      <td>DEN</td>\n",
              "      <td>82.69</td>\n",
              "    </tr>\n",
              "    <tr>\n",
              "      <th>491</th>\n",
              "      <td>Nikola Vucevic</td>\n",
              "      <td>ORL</td>\n",
              "      <td>88.67</td>\n",
              "    </tr>\n",
              "    <tr>\n",
              "      <th>182</th>\n",
              "      <td>Paul George</td>\n",
              "      <td>OKC</td>\n",
              "      <td>86.75</td>\n",
              "    </tr>\n",
              "    <tr>\n",
              "      <th>505</th>\n",
              "      <td>Russell Westbrook</td>\n",
              "      <td>OKC</td>\n",
              "      <td>96.00</td>\n",
              "    </tr>\n",
              "  </tbody>\n",
              "</table>\n",
              "</div>\n",
              "      <button class=\"colab-df-convert\" onclick=\"convertToInteractive('df-9bfa6866-1bc1-433e-97f4-9d09f2b769c5')\"\n",
              "              title=\"Convert this dataframe to an interactive table.\"\n",
              "              style=\"display:none;\">\n",
              "        \n",
              "  <svg xmlns=\"http://www.w3.org/2000/svg\" height=\"24px\"viewBox=\"0 0 24 24\"\n",
              "       width=\"24px\">\n",
              "    <path d=\"M0 0h24v24H0V0z\" fill=\"none\"/>\n",
              "    <path d=\"M18.56 5.44l.94 2.06.94-2.06 2.06-.94-2.06-.94-.94-2.06-.94 2.06-2.06.94zm-11 1L8.5 8.5l.94-2.06 2.06-.94-2.06-.94L8.5 2.5l-.94 2.06-2.06.94zm10 10l.94 2.06.94-2.06 2.06-.94-2.06-.94-.94-2.06-.94 2.06-2.06.94z\"/><path d=\"M17.41 7.96l-1.37-1.37c-.4-.4-.92-.59-1.43-.59-.52 0-1.04.2-1.43.59L10.3 9.45l-7.72 7.72c-.78.78-.78 2.05 0 2.83L4 21.41c.39.39.9.59 1.41.59.51 0 1.02-.2 1.41-.59l7.78-7.78 2.81-2.81c.8-.78.8-2.07 0-2.86zM5.41 20L4 18.59l7.72-7.72 1.47 1.35L5.41 20z\"/>\n",
              "  </svg>\n",
              "      </button>\n",
              "      \n",
              "  <style>\n",
              "    .colab-df-container {\n",
              "      display:flex;\n",
              "      flex-wrap:wrap;\n",
              "      gap: 12px;\n",
              "    }\n",
              "\n",
              "    .colab-df-convert {\n",
              "      background-color: #E8F0FE;\n",
              "      border: none;\n",
              "      border-radius: 50%;\n",
              "      cursor: pointer;\n",
              "      display: none;\n",
              "      fill: #1967D2;\n",
              "      height: 32px;\n",
              "      padding: 0 0 0 0;\n",
              "      width: 32px;\n",
              "    }\n",
              "\n",
              "    .colab-df-convert:hover {\n",
              "      background-color: #E2EBFA;\n",
              "      box-shadow: 0px 1px 2px rgba(60, 64, 67, 0.3), 0px 1px 3px 1px rgba(60, 64, 67, 0.15);\n",
              "      fill: #174EA6;\n",
              "    }\n",
              "\n",
              "    [theme=dark] .colab-df-convert {\n",
              "      background-color: #3B4455;\n",
              "      fill: #D2E3FC;\n",
              "    }\n",
              "\n",
              "    [theme=dark] .colab-df-convert:hover {\n",
              "      background-color: #434B5C;\n",
              "      box-shadow: 0px 1px 3px 1px rgba(0, 0, 0, 0.15);\n",
              "      filter: drop-shadow(0px 1px 2px rgba(0, 0, 0, 0.3));\n",
              "      fill: #FFFFFF;\n",
              "    }\n",
              "  </style>\n",
              "\n",
              "      <script>\n",
              "        const buttonEl =\n",
              "          document.querySelector('#df-9bfa6866-1bc1-433e-97f4-9d09f2b769c5 button.colab-df-convert');\n",
              "        buttonEl.style.display =\n",
              "          google.colab.kernel.accessAllowed ? 'block' : 'none';\n",
              "\n",
              "        async function convertToInteractive(key) {\n",
              "          const element = document.querySelector('#df-9bfa6866-1bc1-433e-97f4-9d09f2b769c5');\n",
              "          const dataTable =\n",
              "            await google.colab.kernel.invokeFunction('convertToInteractive',\n",
              "                                                     [key], {});\n",
              "          if (!dataTable) return;\n",
              "\n",
              "          const docLinkHtml = 'Like what you see? Visit the ' +\n",
              "            '<a target=\"_blank\" href=https://colab.research.google.com/notebooks/data_table.ipynb>data table notebook</a>'\n",
              "            + ' to learn more about interactive tables.';\n",
              "          element.innerHTML = '';\n",
              "          dataTable['output_type'] = 'display_data';\n",
              "          await google.colab.output.renderOutput(dataTable, element);\n",
              "          const docLink = document.createElement('div');\n",
              "          docLink.innerHTML = docLinkHtml;\n",
              "          element.appendChild(docLink);\n",
              "        }\n",
              "      </script>\n",
              "    </div>\n",
              "  </div>\n",
              "  "
            ]
          },
          "metadata": {},
          "execution_count": 947
        }
      ]
    },
    {
      "cell_type": "markdown",
      "id": "1dd382f9-9640-47ce-a077-41c8baeb2d9f",
      "metadata": {
        "tags": [],
        "id": "1dd382f9-9640-47ce-a077-41c8baeb2d9f"
      },
      "source": [
        "#### Analyzing our results"
      ]
    },
    {
      "cell_type": "markdown",
      "id": "f4eb9454-b0d5-40f0-8cb3-0af1ce8ade34",
      "metadata": {
        "id": "f4eb9454-b0d5-40f0-8cb3-0af1ce8ade34"
      },
      "source": [
        "2.18. What do you think it is the main problem with this dataset and the way we trained our model?"
      ]
    },
    {
      "cell_type": "markdown",
      "source": [
        "The main problem it's that we have a very unbalanced dataset with very few selected players in it.\n",
        "Also we are only gathering info about the game statistics of the players a not their popularity which is a very important part."
      ],
      "metadata": {
        "id": "dOHbefa5Y79I"
      },
      "id": "dOHbefa5Y79I"
    },
    {
      "cell_type": "markdown",
      "id": "e81ac1ea-75ab-4fee-8148-20a4ea663791",
      "metadata": {
        "id": "e81ac1ea-75ab-4fee-8148-20a4ea663791"
      },
      "source": [
        "2.19. What do you think we could do to improve our model?"
      ]
    },
    {
      "cell_type": "markdown",
      "source": [
        "We might try to gather more information about the player and maybe by reducing the size of the data by eliminating some non selected players to balance de dataset a bit more."
      ],
      "metadata": {
        "id": "_Lr_gN7iY9Ph"
      },
      "id": "_Lr_gN7iY9Ph"
    },
    {
      "cell_type": "markdown",
      "id": "0557c3f5-0e87-4a33-a1dc-fc20dd7d8fd7",
      "metadata": {
        "id": "0557c3f5-0e87-4a33-a1dc-fc20dd7d8fd7"
      },
      "source": [
        "### Optional: Oversampling"
      ]
    },
    {
      "cell_type": "markdown",
      "id": "0089fbf9-0625-4446-bf45-d00da9063b14",
      "metadata": {
        "id": "0089fbf9-0625-4446-bf45-d00da9063b14"
      },
      "source": [
        "2.19. Read about oversampling techniques, for example [SMOTE](https://imbalanced-learn.org/stable/references/generated/imblearn.over_sampling.SMOTE.html). Use this strategy to create synthetic data and retrain our model. Compare the results. "
      ]
    },
    {
      "cell_type": "code",
      "execution_count": 948,
      "id": "51a4b48d-cf26-4f14-a478-3b0afa8501dc",
      "metadata": {
        "id": "51a4b48d-cf26-4f14-a478-3b0afa8501dc",
        "colab": {
          "base_uri": "https://localhost:8080/",
          "height": 299
        },
        "outputId": "cdbc0a54-aba7-4197-8745-604b235f62c9"
      },
      "outputs": [
        {
          "output_type": "execute_result",
          "data": {
            "text/plain": [
              "          games  gamesstarted        mp  fg_perc  3p_perc  2p_perc  ft_perc  \\\n",
              "14212  0.585239     -0.670478 -0.095085    0.412    0.327    0.429    0.750   \n",
              "15260  0.704072     -0.331974  0.411456    0.427    0.213    0.492    0.641   \n",
              "243    0.189130     -0.704329 -0.552919    0.451    0.000    0.453    0.688   \n",
              "5480  -2.029080     -0.873581 -1.361435    0.222    0.000    0.222    0.625   \n",
              "14192  0.585239      1.428249  0.956960    0.397    0.282    0.461    0.637   \n",
              "\n",
              "            trb       ast       stl  ...  team_SAC  team_SAS  team_SDC  \\\n",
              "14212  0.021276  0.224358 -0.151941  ...         0         0         0   \n",
              "15260 -0.135475  0.594116  0.882396  ...         0         0         0   \n",
              "243    0.021276 -0.515158 -0.772543  ...         0         0         0   \n",
              "5480  -0.331413 -0.990561 -1.393145  ...         0         0         0   \n",
              "14192  0.413152  0.382825  1.502998  ...         0         0         0   \n",
              "\n",
              "       team_SEA  team_TOR  team_TOT  team_UTA  team_VAN  team_WAS  team_WSB  \n",
              "14212         0         0         0         0         0         0         0  \n",
              "15260         0         0         0         0         0         0         0  \n",
              "243           0         0         0         0         0         0         0  \n",
              "5480          0         0         0         0         0         0         0  \n",
              "14192         0         0         0         0         0         0         0  \n",
              "\n",
              "[5 rows x 55 columns]"
            ],
            "text/html": [
              "\n",
              "  <div id=\"df-703b0c7e-9cb1-4aaf-83c2-a4323f1f5a47\">\n",
              "    <div class=\"colab-df-container\">\n",
              "      <div>\n",
              "<style scoped>\n",
              "    .dataframe tbody tr th:only-of-type {\n",
              "        vertical-align: middle;\n",
              "    }\n",
              "\n",
              "    .dataframe tbody tr th {\n",
              "        vertical-align: top;\n",
              "    }\n",
              "\n",
              "    .dataframe thead th {\n",
              "        text-align: right;\n",
              "    }\n",
              "</style>\n",
              "<table border=\"1\" class=\"dataframe\">\n",
              "  <thead>\n",
              "    <tr style=\"text-align: right;\">\n",
              "      <th></th>\n",
              "      <th>games</th>\n",
              "      <th>gamesstarted</th>\n",
              "      <th>mp</th>\n",
              "      <th>fg_perc</th>\n",
              "      <th>3p_perc</th>\n",
              "      <th>2p_perc</th>\n",
              "      <th>ft_perc</th>\n",
              "      <th>trb</th>\n",
              "      <th>ast</th>\n",
              "      <th>stl</th>\n",
              "      <th>...</th>\n",
              "      <th>team_SAC</th>\n",
              "      <th>team_SAS</th>\n",
              "      <th>team_SDC</th>\n",
              "      <th>team_SEA</th>\n",
              "      <th>team_TOR</th>\n",
              "      <th>team_TOT</th>\n",
              "      <th>team_UTA</th>\n",
              "      <th>team_VAN</th>\n",
              "      <th>team_WAS</th>\n",
              "      <th>team_WSB</th>\n",
              "    </tr>\n",
              "  </thead>\n",
              "  <tbody>\n",
              "    <tr>\n",
              "      <th>14212</th>\n",
              "      <td>0.585239</td>\n",
              "      <td>-0.670478</td>\n",
              "      <td>-0.095085</td>\n",
              "      <td>0.412</td>\n",
              "      <td>0.327</td>\n",
              "      <td>0.429</td>\n",
              "      <td>0.750</td>\n",
              "      <td>0.021276</td>\n",
              "      <td>0.224358</td>\n",
              "      <td>-0.151941</td>\n",
              "      <td>...</td>\n",
              "      <td>0</td>\n",
              "      <td>0</td>\n",
              "      <td>0</td>\n",
              "      <td>0</td>\n",
              "      <td>0</td>\n",
              "      <td>0</td>\n",
              "      <td>0</td>\n",
              "      <td>0</td>\n",
              "      <td>0</td>\n",
              "      <td>0</td>\n",
              "    </tr>\n",
              "    <tr>\n",
              "      <th>15260</th>\n",
              "      <td>0.704072</td>\n",
              "      <td>-0.331974</td>\n",
              "      <td>0.411456</td>\n",
              "      <td>0.427</td>\n",
              "      <td>0.213</td>\n",
              "      <td>0.492</td>\n",
              "      <td>0.641</td>\n",
              "      <td>-0.135475</td>\n",
              "      <td>0.594116</td>\n",
              "      <td>0.882396</td>\n",
              "      <td>...</td>\n",
              "      <td>0</td>\n",
              "      <td>0</td>\n",
              "      <td>0</td>\n",
              "      <td>0</td>\n",
              "      <td>0</td>\n",
              "      <td>0</td>\n",
              "      <td>0</td>\n",
              "      <td>0</td>\n",
              "      <td>0</td>\n",
              "      <td>0</td>\n",
              "    </tr>\n",
              "    <tr>\n",
              "      <th>243</th>\n",
              "      <td>0.189130</td>\n",
              "      <td>-0.704329</td>\n",
              "      <td>-0.552919</td>\n",
              "      <td>0.451</td>\n",
              "      <td>0.000</td>\n",
              "      <td>0.453</td>\n",
              "      <td>0.688</td>\n",
              "      <td>0.021276</td>\n",
              "      <td>-0.515158</td>\n",
              "      <td>-0.772543</td>\n",
              "      <td>...</td>\n",
              "      <td>0</td>\n",
              "      <td>0</td>\n",
              "      <td>0</td>\n",
              "      <td>0</td>\n",
              "      <td>0</td>\n",
              "      <td>0</td>\n",
              "      <td>0</td>\n",
              "      <td>0</td>\n",
              "      <td>0</td>\n",
              "      <td>0</td>\n",
              "    </tr>\n",
              "    <tr>\n",
              "      <th>5480</th>\n",
              "      <td>-2.029080</td>\n",
              "      <td>-0.873581</td>\n",
              "      <td>-1.361435</td>\n",
              "      <td>0.222</td>\n",
              "      <td>0.000</td>\n",
              "      <td>0.222</td>\n",
              "      <td>0.625</td>\n",
              "      <td>-0.331413</td>\n",
              "      <td>-0.990561</td>\n",
              "      <td>-1.393145</td>\n",
              "      <td>...</td>\n",
              "      <td>0</td>\n",
              "      <td>0</td>\n",
              "      <td>0</td>\n",
              "      <td>0</td>\n",
              "      <td>0</td>\n",
              "      <td>0</td>\n",
              "      <td>0</td>\n",
              "      <td>0</td>\n",
              "      <td>0</td>\n",
              "      <td>0</td>\n",
              "    </tr>\n",
              "    <tr>\n",
              "      <th>14192</th>\n",
              "      <td>0.585239</td>\n",
              "      <td>1.428249</td>\n",
              "      <td>0.956960</td>\n",
              "      <td>0.397</td>\n",
              "      <td>0.282</td>\n",
              "      <td>0.461</td>\n",
              "      <td>0.637</td>\n",
              "      <td>0.413152</td>\n",
              "      <td>0.382825</td>\n",
              "      <td>1.502998</td>\n",
              "      <td>...</td>\n",
              "      <td>0</td>\n",
              "      <td>0</td>\n",
              "      <td>0</td>\n",
              "      <td>0</td>\n",
              "      <td>0</td>\n",
              "      <td>0</td>\n",
              "      <td>0</td>\n",
              "      <td>0</td>\n",
              "      <td>0</td>\n",
              "      <td>0</td>\n",
              "    </tr>\n",
              "  </tbody>\n",
              "</table>\n",
              "<p>5 rows × 55 columns</p>\n",
              "</div>\n",
              "      <button class=\"colab-df-convert\" onclick=\"convertToInteractive('df-703b0c7e-9cb1-4aaf-83c2-a4323f1f5a47')\"\n",
              "              title=\"Convert this dataframe to an interactive table.\"\n",
              "              style=\"display:none;\">\n",
              "        \n",
              "  <svg xmlns=\"http://www.w3.org/2000/svg\" height=\"24px\"viewBox=\"0 0 24 24\"\n",
              "       width=\"24px\">\n",
              "    <path d=\"M0 0h24v24H0V0z\" fill=\"none\"/>\n",
              "    <path d=\"M18.56 5.44l.94 2.06.94-2.06 2.06-.94-2.06-.94-.94-2.06-.94 2.06-2.06.94zm-11 1L8.5 8.5l.94-2.06 2.06-.94-2.06-.94L8.5 2.5l-.94 2.06-2.06.94zm10 10l.94 2.06.94-2.06 2.06-.94-2.06-.94-.94-2.06-.94 2.06-2.06.94z\"/><path d=\"M17.41 7.96l-1.37-1.37c-.4-.4-.92-.59-1.43-.59-.52 0-1.04.2-1.43.59L10.3 9.45l-7.72 7.72c-.78.78-.78 2.05 0 2.83L4 21.41c.39.39.9.59 1.41.59.51 0 1.02-.2 1.41-.59l7.78-7.78 2.81-2.81c.8-.78.8-2.07 0-2.86zM5.41 20L4 18.59l7.72-7.72 1.47 1.35L5.41 20z\"/>\n",
              "  </svg>\n",
              "      </button>\n",
              "      \n",
              "  <style>\n",
              "    .colab-df-container {\n",
              "      display:flex;\n",
              "      flex-wrap:wrap;\n",
              "      gap: 12px;\n",
              "    }\n",
              "\n",
              "    .colab-df-convert {\n",
              "      background-color: #E8F0FE;\n",
              "      border: none;\n",
              "      border-radius: 50%;\n",
              "      cursor: pointer;\n",
              "      display: none;\n",
              "      fill: #1967D2;\n",
              "      height: 32px;\n",
              "      padding: 0 0 0 0;\n",
              "      width: 32px;\n",
              "    }\n",
              "\n",
              "    .colab-df-convert:hover {\n",
              "      background-color: #E2EBFA;\n",
              "      box-shadow: 0px 1px 2px rgba(60, 64, 67, 0.3), 0px 1px 3px 1px rgba(60, 64, 67, 0.15);\n",
              "      fill: #174EA6;\n",
              "    }\n",
              "\n",
              "    [theme=dark] .colab-df-convert {\n",
              "      background-color: #3B4455;\n",
              "      fill: #D2E3FC;\n",
              "    }\n",
              "\n",
              "    [theme=dark] .colab-df-convert:hover {\n",
              "      background-color: #434B5C;\n",
              "      box-shadow: 0px 1px 3px 1px rgba(0, 0, 0, 0.15);\n",
              "      filter: drop-shadow(0px 1px 2px rgba(0, 0, 0, 0.3));\n",
              "      fill: #FFFFFF;\n",
              "    }\n",
              "  </style>\n",
              "\n",
              "      <script>\n",
              "        const buttonEl =\n",
              "          document.querySelector('#df-703b0c7e-9cb1-4aaf-83c2-a4323f1f5a47 button.colab-df-convert');\n",
              "        buttonEl.style.display =\n",
              "          google.colab.kernel.accessAllowed ? 'block' : 'none';\n",
              "\n",
              "        async function convertToInteractive(key) {\n",
              "          const element = document.querySelector('#df-703b0c7e-9cb1-4aaf-83c2-a4323f1f5a47');\n",
              "          const dataTable =\n",
              "            await google.colab.kernel.invokeFunction('convertToInteractive',\n",
              "                                                     [key], {});\n",
              "          if (!dataTable) return;\n",
              "\n",
              "          const docLinkHtml = 'Like what you see? Visit the ' +\n",
              "            '<a target=\"_blank\" href=https://colab.research.google.com/notebooks/data_table.ipynb>data table notebook</a>'\n",
              "            + ' to learn more about interactive tables.';\n",
              "          element.innerHTML = '';\n",
              "          dataTable['output_type'] = 'display_data';\n",
              "          await google.colab.output.renderOutput(dataTable, element);\n",
              "          const docLink = document.createElement('div');\n",
              "          docLink.innerHTML = docLinkHtml;\n",
              "          element.appendChild(docLink);\n",
              "        }\n",
              "      </script>\n",
              "    </div>\n",
              "  </div>\n",
              "  "
            ]
          },
          "metadata": {},
          "execution_count": 948
        }
      ],
      "source": [
        "X_nba_train.head()"
      ]
    },
    {
      "cell_type": "code",
      "source": [
        "print(\"Data distribution before SMOTE\\n\\nTraining dataset\")\n",
        "print(y_nba_train.value_counts())\n",
        "print(\"\\nTesting dataset\")\n",
        "print(y_nba_test.value_counts())"
      ],
      "metadata": {
        "colab": {
          "base_uri": "https://localhost:8080/"
        },
        "id": "Q3Uome5vZDWX",
        "outputId": "de166ad1-57b3-4ef6-ddb2-85e79a4fecce"
      },
      "id": "Q3Uome5vZDWX",
      "execution_count": 949,
      "outputs": [
        {
          "output_type": "stream",
          "name": "stdout",
          "text": [
            "Data distribution before SMOTE\n",
            "\n",
            "Training dataset\n",
            "0    11463\n",
            "1      397\n",
            "Name: all_nba, dtype: int64\n",
            "\n",
            "Testing dataset\n",
            "0    2866\n",
            "1      99\n",
            "Name: all_nba, dtype: int64\n"
          ]
        }
      ]
    },
    {
      "cell_type": "code",
      "source": [
        "smote = SMOTE(random_state=8,sampling_strategy=0.2)\n",
        "X_res, y_res = smote.fit_resample(X_nba_train, y_nba_train)"
      ],
      "metadata": {
        "id": "jBkWRwzkZIGz"
      },
      "id": "jBkWRwzkZIGz",
      "execution_count": 950,
      "outputs": []
    },
    {
      "cell_type": "code",
      "source": [
        "print(\"Data distribution after SMOTE\\n\\nTraining dataset\")\n",
        "print(y_res.value_counts())"
      ],
      "metadata": {
        "colab": {
          "base_uri": "https://localhost:8080/"
        },
        "id": "6jEIV5NlZII9",
        "outputId": "54be4dad-0ee0-48e4-f9dd-c2fb6aaa19e7"
      },
      "id": "6jEIV5NlZII9",
      "execution_count": 951,
      "outputs": [
        {
          "output_type": "stream",
          "name": "stdout",
          "text": [
            "Data distribution after SMOTE\n",
            "\n",
            "Training dataset\n",
            "0    11463\n",
            "1     2292\n",
            "Name: all_nba, dtype: int64\n"
          ]
        }
      ]
    },
    {
      "cell_type": "code",
      "source": [
        "nba_model2 = LogisticRegression(max_iter=1000, C=20)"
      ],
      "metadata": {
        "id": "lq3FiVd1ZPmm"
      },
      "id": "lq3FiVd1ZPmm",
      "execution_count": 952,
      "outputs": []
    },
    {
      "cell_type": "code",
      "source": [
        "nba_model2.fit(X_res,y_res)"
      ],
      "metadata": {
        "colab": {
          "base_uri": "https://localhost:8080/"
        },
        "id": "_37MmV3mZPpL",
        "outputId": "95d418a9-62f2-408b-d263-8e4c14a882a5"
      },
      "id": "_37MmV3mZPpL",
      "execution_count": 953,
      "outputs": [
        {
          "output_type": "execute_result",
          "data": {
            "text/plain": [
              "LogisticRegression(C=20, max_iter=1000)"
            ]
          },
          "metadata": {},
          "execution_count": 953
        }
      ]
    },
    {
      "cell_type": "code",
      "source": [
        "pr = nba_model2.predict(X_nba_test)"
      ],
      "metadata": {
        "id": "yfB3S_d3ZPrw"
      },
      "id": "yfB3S_d3ZPrw",
      "execution_count": 954,
      "outputs": []
    },
    {
      "cell_type": "code",
      "source": [
        "f1_smote = round(f1_score(y_nba_test, pr), 4)\n",
        "rec_smote = round(recall_score(y_nba_test, pr), 4)"
      ],
      "metadata": {
        "id": "UhsDienbZPuH"
      },
      "id": "UhsDienbZPuH",
      "execution_count": 955,
      "outputs": []
    },
    {
      "cell_type": "code",
      "source": [
        "print(f\"Recall: {rec_smote}%\\nf1: {f1_smote}%\")"
      ],
      "metadata": {
        "colab": {
          "base_uri": "https://localhost:8080/"
        },
        "id": "O20CQkZHZVfr",
        "outputId": "54168607-b371-4aa9-d153-a2edfdfe859c"
      },
      "id": "O20CQkZHZVfr",
      "execution_count": 956,
      "outputs": [
        {
          "output_type": "stream",
          "name": "stdout",
          "text": [
            "Recall: 0.7778%\n",
            "f1: 0.723%\n"
          ]
        }
      ]
    },
    {
      "cell_type": "markdown",
      "id": "8b1ee0ca-0d33-490c-9725-638fbd001f02",
      "metadata": {
        "id": "8b1ee0ca-0d33-490c-9725-638fbd001f02"
      },
      "source": [
        "## Optional: Developing a Linear Regressor class from scratch"
      ]
    },
    {
      "cell_type": "markdown",
      "id": "aa6d261c-5372-447d-afdf-820aaf3fef26",
      "metadata": {
        "id": "aa6d261c-5372-447d-afdf-820aaf3fef26"
      },
      "source": [
        "Our last task will be to code a Linear Regression algorithm using Gradient Descent as its optimization algorithm in Python. The structure of the class is presented below, you should use numpy for numerical computation."
      ]
    },
    {
      "cell_type": "markdown",
      "id": "8aebe22f-3a17-4404-a12f-918da6a26237",
      "metadata": {
        "id": "8aebe22f-3a17-4404-a12f-918da6a26237"
      },
      "source": [
        "3.1. Write a LinearRegression class that implements fit and predict methods, and uses gradient descent as optimization algorithm"
      ]
    },
    {
      "cell_type": "code",
      "execution_count": 967,
      "id": "b4326a55-6896-466d-9d60-3b2667e20de6",
      "metadata": {
        "id": "b4326a55-6896-466d-9d60-3b2667e20de6"
      },
      "outputs": [],
      "source": [
        "class LinearRegressor:\n",
        "    \"\"\"Linear regression algorithm class. Implements gradient descent as optimization algorithm\"\"\"\n",
        "    \n",
        "    def __init__(self, epochs: int, learning_rate: float):\n",
        "        \"\"\"\n",
        "        Class constructor\n",
        "        \n",
        "        Parameters\n",
        "        ----------\n",
        "        epochs: int\n",
        "            number of epochs to run gradient descent\n",
        "        learning_rate: float\n",
        "            rate of update of the gradients\n",
        "        \"\"\"\n",
        "        \n",
        "        self._epochs = epochs\n",
        "        self._lr = learning_rate\n",
        "\n",
        "    def _gradient_descent(X,h,y,w,lr):\n",
        "        \"\"\"\n",
        "        Gradient descent algorithm\n",
        "        w = [w1,wo]\n",
        "        X = [PTS]\n",
        "        y = [Salary]\n",
        "        h = [Salary_pred]\n",
        "        \"\"\"\n",
        "        X = np.array(X)\n",
        "        h = np.array(h)\n",
        "        y = np.array(y)\n",
        "        w = np.array(w)\n",
        "\n",
        "        w_new = [0,0]\n",
        "\n",
        "        w_new[1] = w[1] - lr*((h-y)@X)\n",
        "        w_new[0] = w[0] - lr*(sum(h-y))\n",
        "\n",
        "        return w_new\n",
        "\n",
        "    def fit(self, X, y):\n",
        "        \"\"\"\n",
        "        Fit the model according to the given training data.\n",
        "        \n",
        "        Parameters\n",
        "        ----------\n",
        "        X: np.ndarray\n",
        "        y: np.ndarray\n",
        "        \"\"\"\n",
        "        #Converts X in a list\n",
        "        X_t = []\n",
        "        for lista1 in X:\n",
        "            for numero in lista1:\n",
        "                X_t.append(numero)\n",
        "\n",
        "        #A first approximation of the model using 2 points\n",
        "        xmin = min(X_t)\n",
        "        ymin = y.iloc[X_t.index(xmin)]\n",
        "        xmax = max(X_t)\n",
        "        ymax = y.iloc[X_t.index(xmax)]\n",
        "        m = (ymax-ymin)/(xmax-xmin)\n",
        "        o = ymin-m*xmin\n",
        "        w = [o,m]\n",
        "\n",
        "        #Iterates and updates the weights\n",
        "        for iter in range(0,self._epochs):\n",
        "            h = []\n",
        "            for row in range(0,len(X_t)):\n",
        "                h.append(w[1]*X_t[row]+w[0])\n",
        "            w = LinearRegressor._gradient_descent(X_t,h,y,w,self._lr)\n",
        "\n",
        "        #Saves the weights\n",
        "        self._w = w\n",
        "            \n",
        "    def predict(self, X):\n",
        "        \"\"\"\n",
        "        Predict\n",
        "        \n",
        "        Parameters\n",
        "        ----------\n",
        "        X: np.ndarray\n",
        "        \n",
        "        Returns\n",
        "        -------\n",
        "        np.ndarray\n",
        "            array with predictions\n",
        "        \"\"\"\n",
        "        w = self._w\n",
        "        y = np.zeros(len(X))\n",
        "        i = 0\n",
        "\n",
        "        for val in X:\n",
        "            y[i] = (val[0]*w[1]+w[0])\n",
        "            i +=1\n",
        "\n",
        "        return y"
      ]
    },
    {
      "cell_type": "markdown",
      "id": "ac25e809-7bdf-4dfa-896a-bc4cb8964f94",
      "metadata": {
        "id": "ac25e809-7bdf-4dfa-896a-bc4cb8964f94"
      },
      "source": [
        "3.2. Train a regression model with the data from the first section to calculate players salaries using points per game. Try with a few different values (3 or 4 for each should suffice) for epochs and learning rate parameters, calculate MAE for all results and save the best result along with the parameters values used."
      ]
    },
    {
      "cell_type": "code",
      "source": [
        "x_train, x_val, y_train, y_val = train_test_split(x_train, y_train, test_size=0.15, random_state=8)"
      ],
      "metadata": {
        "id": "txXaFdVsAyJR"
      },
      "id": "txXaFdVsAyJR",
      "execution_count": 968,
      "outputs": []
    },
    {
      "cell_type": "code",
      "execution_count": 969,
      "id": "de1c2fe9-e67a-4399-95a1-81cbed3ada45",
      "metadata": {
        "id": "de1c2fe9-e67a-4399-95a1-81cbed3ada45"
      },
      "outputs": [],
      "source": [
        "first = LinearRegressor(epochs=10000, learning_rate=1e-10)"
      ]
    },
    {
      "cell_type": "code",
      "source": [
        "first.fit(x_train,y_train)"
      ],
      "metadata": {
        "id": "lWDB314EZhmA"
      },
      "id": "lWDB314EZhmA",
      "execution_count": 970,
      "outputs": []
    },
    {
      "cell_type": "code",
      "source": [
        "first._w"
      ],
      "metadata": {
        "colab": {
          "base_uri": "https://localhost:8080/"
        },
        "id": "OT6M6SYaZhoe",
        "outputId": "08eafa85-0f20-4e67-de0c-023dbbf23f6d"
      },
      "id": "OT6M6SYaZhoe",
      "execution_count": 971,
      "outputs": [
        {
          "output_type": "execute_result",
          "data": {
            "text/plain": [
              "[1561464.349472301, 39354574.04880245]"
            ]
          },
          "metadata": {},
          "execution_count": 971
        }
      ]
    },
    {
      "cell_type": "code",
      "source": [
        "second = LinearRegressor(epochs=100000, learning_rate=3e-7)"
      ],
      "metadata": {
        "id": "E2qm2dRJZhrC"
      },
      "id": "E2qm2dRJZhrC",
      "execution_count": 972,
      "outputs": []
    },
    {
      "cell_type": "code",
      "source": [
        "second.fit(x_train,y_train)"
      ],
      "metadata": {
        "id": "Yq19bLCjZhzq"
      },
      "id": "Yq19bLCjZhzq",
      "execution_count": 973,
      "outputs": []
    },
    {
      "cell_type": "code",
      "source": [
        "second._w"
      ],
      "metadata": {
        "colab": {
          "base_uri": "https://localhost:8080/"
        },
        "id": "e04xcCR_Zh2L",
        "outputId": "a99833f9-8c36-4381-e2b8-b46b9c07df26"
      },
      "id": "e04xcCR_Zh2L",
      "execution_count": 974,
      "outputs": [
        {
          "output_type": "execute_result",
          "data": {
            "text/plain": [
              "[-4743712.27838857, 36843677.01591874]"
            ]
          },
          "metadata": {},
          "execution_count": 974
        }
      ]
    },
    {
      "cell_type": "code",
      "source": [
        "third = LinearRegressor(epochs=1000000, learning_rate=1.5e-7)"
      ],
      "metadata": {
        "id": "Nqr7EtAfZh5Z"
      },
      "id": "Nqr7EtAfZh5Z",
      "execution_count": 979,
      "outputs": []
    },
    {
      "cell_type": "code",
      "source": [
        "third.fit(x_train,y_train)"
      ],
      "metadata": {
        "id": "3SJUqFngZh9i"
      },
      "id": "3SJUqFngZh9i",
      "execution_count": 980,
      "outputs": []
    },
    {
      "cell_type": "code",
      "source": [
        "third._w"
      ],
      "metadata": {
        "colab": {
          "base_uri": "https://localhost:8080/"
        },
        "id": "dwUAqAj1ZiBX",
        "outputId": "557c2249-9d6e-4d70-d4ee-a93f2effef16"
      },
      "id": "dwUAqAj1ZiBX",
      "execution_count": 981,
      "outputs": [
        {
          "output_type": "execute_result",
          "data": {
            "text/plain": [
              "[-4720819.952561217, 36784314.85073748]"
            ]
          },
          "metadata": {},
          "execution_count": 981
        }
      ]
    },
    {
      "cell_type": "markdown",
      "id": "ea78cfff-1216-486f-bd1e-7e42127c029d",
      "metadata": {
        "id": "ea78cfff-1216-486f-bd1e-7e42127c029d"
      },
      "source": [
        "3.3. Evaluate the model performance on the test set, and compare with the result you obtained using SGDRegressor from scikit-learn."
      ]
    },
    {
      "cell_type": "code",
      "source": [
        "print(\"First model mae: \", end=\"\")\n",
        "print(round(mean_absolute_error(y_val, y_pred=first.predict(x_val)),2))\n",
        "print(\"Second model mae: \", end=\"\")\n",
        "print(round(mean_absolute_error(y_val, y_pred=second.predict(x_val)),2))\n",
        "print(\"Third model mae: \", end=\"\")\n",
        "print(round(mean_absolute_error(y_val, y_pred=third.predict(x_val)),2))"
      ],
      "metadata": {
        "colab": {
          "base_uri": "https://localhost:8080/"
        },
        "id": "VM6VFAFlZvj0",
        "outputId": "4c5a108e-eb57-4266-c25d-f2e989571e56"
      },
      "id": "VM6VFAFlZvj0",
      "execution_count": 982,
      "outputs": [
        {
          "output_type": "stream",
          "name": "stdout",
          "text": [
            "First model mae: 8158233.24\n",
            "Second model mae: 5163067.21\n",
            "Third model mae: 5162433.45\n"
          ]
        }
      ]
    },
    {
      "cell_type": "code",
      "source": [
        "print(\"MAE of the training dataset to know if we underfitted or overfitted the model\")\n",
        "print(\"Third model mae: \", end=\"\")\n",
        "print(mean_absolute_error(y_train, y_pred=third.predict(x_train)))"
      ],
      "metadata": {
        "colab": {
          "base_uri": "https://localhost:8080/"
        },
        "id": "tzXPZW3ahBk6",
        "outputId": "a4283cfa-0d2f-419d-f23c-6e5110ccc808"
      },
      "id": "tzXPZW3ahBk6",
      "execution_count": 983,
      "outputs": [
        {
          "output_type": "stream",
          "name": "stdout",
          "text": [
            "MAE of the training dataset to know if we underfitted or overfitted the model\n",
            "Third model mae: 5044620.975306568\n"
          ]
        }
      ]
    },
    {
      "cell_type": "code",
      "source": [
        "print(\"MAE of the test dataset of the best of the three models\")\n",
        "newmodel_mae = int(round(mean_absolute_error(y_test, y_pred=third.predict(x_test))))\n",
        "print(newmodel_mae)"
      ],
      "metadata": {
        "colab": {
          "base_uri": "https://localhost:8080/"
        },
        "id": "pp-HbnlcC1p1",
        "outputId": "d60a04c2-d703-4d6b-c61e-3e52f8001e21"
      },
      "id": "pp-HbnlcC1p1",
      "execution_count": 987,
      "outputs": [
        {
          "output_type": "stream",
          "name": "stdout",
          "text": [
            "MAE of the test dataset of the best of the three models\n",
            "4737608\n"
          ]
        }
      ]
    },
    {
      "cell_type": "code",
      "source": [
        "print(\"Mean Absolute Error for each model:\")\n",
        "print(f\"Baseline: {baseline_mae}\")\n",
        "print(f\"Default SGDRegressor: {sgd_default_mae}\")\n",
        "print(f\"Linear model made from scratch: {newmodel_mae}\")\n",
        "print(f\"Best SGDRegressor: {sgd_tuned_mae}\")\n",
        "print(f\"Best SGDRegressor multi_feature: {mult_sgd_mae}\")\n",
        "print(f\"Best DecisionTreeRegressor: {error_tree}\")"
      ],
      "metadata": {
        "colab": {
          "base_uri": "https://localhost:8080/"
        },
        "id": "jeyBgTAzL74i",
        "outputId": "80f8f42f-29d5-4493-c19d-7a70b1d440f1"
      },
      "id": "jeyBgTAzL74i",
      "execution_count": 988,
      "outputs": [
        {
          "output_type": "stream",
          "name": "stdout",
          "text": [
            "Mean Absolute Error for each model:\n",
            "Baseline: 6716417\n",
            "Default SGDRegressor: 4744814\n",
            "Linear model made from scratch: 4737608\n",
            "Best SGDRegressor: 4637747\n",
            "Best SGDRegressor multi_feature: 4816581\n",
            "Best DecisionTreeRegressor: 2146411\n"
          ]
        }
      ]
    },
    {
      "cell_type": "markdown",
      "source": [
        "The linear model made from scratch performed a bit better than the SGDRegressor but only on the test data which means that was just a coincidence because in general (with train and val) its a bit worse than the SGDRegressor with default hyperparameters."
      ],
      "metadata": {
        "id": "c6qzj_3FNGAn"
      },
      "id": "c6qzj_3FNGAn"
    }
  ],
  "metadata": {
    "kernelspec": {
      "display_name": "Python 3 (ipykernel)",
      "language": "python",
      "name": "python3"
    },
    "language_info": {
      "codemirror_mode": {
        "name": "ipython",
        "version": 3
      },
      "file_extension": ".py",
      "mimetype": "text/x-python",
      "name": "python",
      "nbconvert_exporter": "python",
      "pygments_lexer": "ipython3",
      "version": "3.8.9"
    },
    "colab": {
      "name": "AnyoneAI_Project_2(Enzo_Matias_Gonzalez).ipynb",
      "provenance": [],
      "collapsed_sections": []
    }
  },
  "nbformat": 4,
  "nbformat_minor": 5
}