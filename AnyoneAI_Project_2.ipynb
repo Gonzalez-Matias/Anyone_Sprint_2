{
 "cells": [
  {
   "cell_type": "markdown",
   "id": "3d08028c-be52-4d84-a995-34b690c3e8a5",
   "metadata": {
    "id": "3d08028c-be52-4d84-a995-34b690c3e8a5"
   },
   "source": [
    "# AnyoneAI - Project II\n",
    "\n",
    "# Making Estimations with our NBA dataset"
   ]
  },
  {
   "cell_type": "markdown",
   "id": "4ff2f3cb-7e1a-4705-bce7-44a56c0113e1",
   "metadata": {
    "id": "4ff2f3cb-7e1a-4705-bce7-44a56c0113e1"
   },
   "source": [
    "In our first project, we learn how to create our own datasets by using a public API, Python and Pandas. We're now going to explore how to make predictive models for regression and classification tasks using ScikitLearn"
   ]
  },
  {
   "cell_type": "markdown",
   "id": "5b732b5b-8fcc-4917-85a1-035bfc00a7dd",
   "metadata": {
    "id": "5b732b5b-8fcc-4917-85a1-035bfc00a7dd"
   },
   "source": [
    "The goals of this project are:\n",
    "- Learn how to define a prediction task\n",
    "- Selecting evaluation metrics and baseline models\n",
    "- Perform feature engineering and standarization\n",
    "- Training and using predictive models: Univariable and Multivariate Linear Regression, Classification\n",
    "- Understand how Gradient Descent works by implementing a Linear Regressor in python"
   ]
  },
  {
   "cell_type": "markdown",
   "id": "73bd1212-887d-4b10-a277-30156aaf410b",
   "metadata": {
    "id": "73bd1212-887d-4b10-a277-30156aaf410b",
    "tags": []
   },
   "source": [
    "## Using Regression Models to Estimate players Salaries"
   ]
  },
  {
   "cell_type": "markdown",
   "id": "e51670c9-30ec-4dcf-b3f4-e5ba90019818",
   "metadata": {
    "id": "e51670c9-30ec-4dcf-b3f4-e5ba90019818"
   },
   "source": [
    "A player's salary can be explained by a lot of factors: \n",
    "\n",
    "- Years in the league: NBA contracts are limited in price, players have caps on how much money they make depending on their years playing in the league\n",
    "- Age: Highly correlated to the previous one, NBA players have a minimun age of 19 years\n",
    "- Draft position: players out of USA universities are selected each year through a process called draft, in which each team selects a player in a predefined order for 2 rounds (meaning only 60 players are drafted each year). A rookie contract value depends on the draft position. (Undrafted players have to negotiate a salary independently)\n",
    "- Performance in statistical categories: after the rookie contract, players can negotiate freely with teams, and usually statistical categories like points, rebounds and assists are extremely important.  \n",
    "- Team: Even though there are limits to what all teams can expend in players salary, they all allocate their resources differently, and can be more willing to pay the penalties incurred by exceeding those limitations.\n",
    "- Year in which the contract was signed: the mininum and maximum values of contracts possibles in the NBA changes depending on league revenue (television contracts, sponsorships, etc), so if the amount of money the teams make increases, players can negotiate bigger contracts.\n",
    "- Intangibles: players can be valued also in things that are not easily translated to a statistic, good defensive players might not always have great stats but can be extremely important for a team, the same can be said about veteran players that help young ones to learn and are good locker-room guys.\n",
    "\n",
    "But we're going to take a simplified approach, we'll try to use the data we already have to make the best estimator possible, and then we will analyze what went right and what could've gone wrong with our results."
   ]
  },
  {
   "cell_type": "markdown",
   "id": "6f110fec-8919-4427-89f7-b3e581176703",
   "metadata": {
    "id": "6f110fec-8919-4427-89f7-b3e581176703"
   },
   "source": [
    "### Analyzing our data"
   ]
  },
  {
   "cell_type": "code",
   "execution_count": 589,
   "id": "87fa8c8d",
   "metadata": {
    "ExecuteTime": {
     "end_time": "2022-05-07T22:48:05.238481Z",
     "start_time": "2022-05-07T22:48:05.224467Z"
    }
   },
   "outputs": [],
   "source": [
    "import seaborn as sns\n",
    "import numpy as np\n",
    "import pandas as pd\n",
    "import matplotlib.pyplot as plt\n",
    "import random\n",
    "from sklearn.model_selection import train_test_split\n",
    "from sklearn.metrics import mean_absolute_error, f1_score, accuracy_score\n",
    "from sklearn.metrics import precision_score, recall_score\n",
    "from sklearn.preprocessing import OneHotEncoder, MinMaxScaler, StandardScaler\n",
    "from sklearn.linear_model import SGDRegressor, LogisticRegression\n",
    "from imblearn.over_sampling import SMOTE \n",
    "from sklearn.tree import DecisionTreeRegressor\n",
    "sns.set_theme()\n",
    "sns.set(rc = {'figure.figsize':(8,7)})"
   ]
  },
  {
   "cell_type": "code",
   "execution_count": 2,
   "id": "bdac389b-e5f8-4563-a187-36b016c0641c",
   "metadata": {
    "ExecuteTime": {
     "end_time": "2022-05-06T16:02:46.182093Z",
     "start_time": "2022-05-06T16:02:44.580315Z"
    },
    "id": "bdac389b-e5f8-4563-a187-36b016c0641c"
   },
   "outputs": [],
   "source": [
    "data = pd.read_csv(\"https://raw.githubusercontent.com/anyoneai/notebooks/main/datasets/project2_players_df.csv\")\n",
    "data.dropna(subset=[\"PTS\",\"TEAM_NAME\"], inplace=True)"
   ]
  },
  {
   "cell_type": "code",
   "execution_count": 3,
   "id": "31a79301",
   "metadata": {
    "ExecuteTime": {
     "end_time": "2022-05-06T16:02:46.382440Z",
     "start_time": "2022-05-06T16:02:46.191178Z"
    },
    "scrolled": false
   },
   "outputs": [
    {
     "data": {
      "text/html": [
       "<div>\n",
       "<style scoped>\n",
       "    .dataframe tbody tr th:only-of-type {\n",
       "        vertical-align: middle;\n",
       "    }\n",
       "\n",
       "    .dataframe tbody tr th {\n",
       "        vertical-align: top;\n",
       "    }\n",
       "\n",
       "    .dataframe thead th {\n",
       "        text-align: right;\n",
       "    }\n",
       "</style>\n",
       "<table border=\"1\" class=\"dataframe\">\n",
       "  <thead>\n",
       "    <tr style=\"text-align: right;\">\n",
       "      <th></th>\n",
       "      <th>PERSON_ID</th>\n",
       "      <th>PLAYER_NAME</th>\n",
       "      <th>TEAM_NAME</th>\n",
       "      <th>POSITION</th>\n",
       "      <th>HEIGHT</th>\n",
       "      <th>WEIGHT</th>\n",
       "      <th>COUNTRY</th>\n",
       "      <th>BIRTHDATE</th>\n",
       "      <th>SEASON_EXP</th>\n",
       "      <th>DRAFT_NUMBER</th>\n",
       "      <th>GP</th>\n",
       "      <th>MIN</th>\n",
       "      <th>PTS</th>\n",
       "      <th>REB</th>\n",
       "      <th>AST</th>\n",
       "      <th>STL</th>\n",
       "      <th>BLK</th>\n",
       "      <th>GAME_DATE</th>\n",
       "      <th>Salary</th>\n",
       "      <th>AGE</th>\n",
       "    </tr>\n",
       "  </thead>\n",
       "  <tbody>\n",
       "    <tr>\n",
       "      <th>0</th>\n",
       "      <td>1630173</td>\n",
       "      <td>Precious Achiuwa</td>\n",
       "      <td>Raptors</td>\n",
       "      <td>Forward</td>\n",
       "      <td>203</td>\n",
       "      <td>102</td>\n",
       "      <td>Nigeria</td>\n",
       "      <td>1999-09-19</td>\n",
       "      <td>1</td>\n",
       "      <td>20</td>\n",
       "      <td>115.0</td>\n",
       "      <td>17.3</td>\n",
       "      <td>6.5</td>\n",
       "      <td>5.1</td>\n",
       "      <td>0.8</td>\n",
       "      <td>0.4</td>\n",
       "      <td>0.5</td>\n",
       "      <td>2022-03-06</td>\n",
       "      <td>2711280</td>\n",
       "      <td>22 years, 5 months, 25 days</td>\n",
       "    </tr>\n",
       "    <tr>\n",
       "      <th>1</th>\n",
       "      <td>203500</td>\n",
       "      <td>Steven Adams</td>\n",
       "      <td>Grizzlies</td>\n",
       "      <td>Center</td>\n",
       "      <td>211</td>\n",
       "      <td>120</td>\n",
       "      <td>New Zealand</td>\n",
       "      <td>1993-07-20</td>\n",
       "      <td>8</td>\n",
       "      <td>12</td>\n",
       "      <td>648.0</td>\n",
       "      <td>26.8</td>\n",
       "      <td>9.3</td>\n",
       "      <td>7.9</td>\n",
       "      <td>1.4</td>\n",
       "      <td>0.9</td>\n",
       "      <td>0.9</td>\n",
       "      <td>2022-03-06</td>\n",
       "      <td>17073171</td>\n",
       "      <td>28 years, 7 months, 24 days</td>\n",
       "    </tr>\n",
       "    <tr>\n",
       "      <th>2</th>\n",
       "      <td>1628389</td>\n",
       "      <td>Bam Adebayo</td>\n",
       "      <td>Heat</td>\n",
       "      <td>Center</td>\n",
       "      <td>206</td>\n",
       "      <td>116</td>\n",
       "      <td>USA</td>\n",
       "      <td>1997-07-18</td>\n",
       "      <td>4</td>\n",
       "      <td>14</td>\n",
       "      <td>326.0</td>\n",
       "      <td>28.0</td>\n",
       "      <td>13.2</td>\n",
       "      <td>8.2</td>\n",
       "      <td>3.5</td>\n",
       "      <td>1.0</td>\n",
       "      <td>0.9</td>\n",
       "      <td>2022-03-07</td>\n",
       "      <td>28103550</td>\n",
       "      <td>24 years, 7 months, 26 days</td>\n",
       "    </tr>\n",
       "    <tr>\n",
       "      <th>3</th>\n",
       "      <td>1630583</td>\n",
       "      <td>Santi Aldama</td>\n",
       "      <td>Grizzlies</td>\n",
       "      <td>Forward</td>\n",
       "      <td>211</td>\n",
       "      <td>98</td>\n",
       "      <td>Spain</td>\n",
       "      <td>2001-01-10</td>\n",
       "      <td>0</td>\n",
       "      <td>30</td>\n",
       "      <td>27.0</td>\n",
       "      <td>10.2</td>\n",
       "      <td>3.3</td>\n",
       "      <td>2.4</td>\n",
       "      <td>0.5</td>\n",
       "      <td>0.1</td>\n",
       "      <td>0.3</td>\n",
       "      <td>2022-03-06</td>\n",
       "      <td>1994520</td>\n",
       "      <td>21 years, 2 months, 6 days</td>\n",
       "    </tr>\n",
       "    <tr>\n",
       "      <th>4</th>\n",
       "      <td>200746</td>\n",
       "      <td>LaMarcus Aldridge</td>\n",
       "      <td>Nets</td>\n",
       "      <td>Center</td>\n",
       "      <td>211</td>\n",
       "      <td>113</td>\n",
       "      <td>USA</td>\n",
       "      <td>1985-07-19</td>\n",
       "      <td>15</td>\n",
       "      <td>2</td>\n",
       "      <td>1073.0</td>\n",
       "      <td>33.7</td>\n",
       "      <td>19.1</td>\n",
       "      <td>8.1</td>\n",
       "      <td>1.9</td>\n",
       "      <td>0.7</td>\n",
       "      <td>1.1</td>\n",
       "      <td>2022-03-06</td>\n",
       "      <td>2641691</td>\n",
       "      <td>36 years, 7 months, 25 days</td>\n",
       "    </tr>\n",
       "  </tbody>\n",
       "</table>\n",
       "</div>"
      ],
      "text/plain": [
       "   PERSON_ID        PLAYER_NAME  TEAM_NAME POSITION  HEIGHT  WEIGHT  \\\n",
       "0    1630173   Precious Achiuwa    Raptors  Forward     203     102   \n",
       "1     203500       Steven Adams  Grizzlies   Center     211     120   \n",
       "2    1628389        Bam Adebayo       Heat   Center     206     116   \n",
       "3    1630583       Santi Aldama  Grizzlies  Forward     211      98   \n",
       "4     200746  LaMarcus Aldridge       Nets   Center     211     113   \n",
       "\n",
       "       COUNTRY   BIRTHDATE  SEASON_EXP DRAFT_NUMBER      GP   MIN   PTS  REB  \\\n",
       "0      Nigeria  1999-09-19           1           20   115.0  17.3   6.5  5.1   \n",
       "1  New Zealand  1993-07-20           8           12   648.0  26.8   9.3  7.9   \n",
       "2          USA  1997-07-18           4           14   326.0  28.0  13.2  8.2   \n",
       "3        Spain  2001-01-10           0           30    27.0  10.2   3.3  2.4   \n",
       "4          USA  1985-07-19          15            2  1073.0  33.7  19.1  8.1   \n",
       "\n",
       "   AST  STL  BLK   GAME_DATE    Salary                          AGE  \n",
       "0  0.8  0.4  0.5  2022-03-06   2711280  22 years, 5 months, 25 days  \n",
       "1  1.4  0.9  0.9  2022-03-06  17073171  28 years, 7 months, 24 days  \n",
       "2  3.5  1.0  0.9  2022-03-07  28103550  24 years, 7 months, 26 days  \n",
       "3  0.5  0.1  0.3  2022-03-06   1994520   21 years, 2 months, 6 days  \n",
       "4  1.9  0.7  1.1  2022-03-06   2641691  36 years, 7 months, 25 days  "
      ]
     },
     "execution_count": 3,
     "metadata": {},
     "output_type": "execute_result"
    }
   ],
   "source": [
    "data.head()"
   ]
  },
  {
   "cell_type": "code",
   "execution_count": 4,
   "id": "1bcbfb0e",
   "metadata": {
    "ExecuteTime": {
     "end_time": "2022-05-06T16:02:46.597632Z",
     "start_time": "2022-05-06T16:02:46.391468Z"
    }
   },
   "outputs": [
    {
     "name": "stdout",
     "output_type": "stream",
     "text": [
      "<class 'pandas.core.frame.DataFrame'>\n",
      "Int64Index: 437 entries, 0 to 459\n",
      "Data columns (total 20 columns):\n",
      " #   Column        Non-Null Count  Dtype  \n",
      "---  ------        --------------  -----  \n",
      " 0   PERSON_ID     437 non-null    int64  \n",
      " 1   PLAYER_NAME   437 non-null    object \n",
      " 2   TEAM_NAME     437 non-null    object \n",
      " 3   POSITION      437 non-null    object \n",
      " 4   HEIGHT        437 non-null    int64  \n",
      " 5   WEIGHT        437 non-null    int64  \n",
      " 6   COUNTRY       437 non-null    object \n",
      " 7   BIRTHDATE     437 non-null    object \n",
      " 8   SEASON_EXP    437 non-null    int64  \n",
      " 9   DRAFT_NUMBER  435 non-null    object \n",
      " 10  GP            437 non-null    float64\n",
      " 11  MIN           437 non-null    float64\n",
      " 12  PTS           437 non-null    float64\n",
      " 13  REB           437 non-null    float64\n",
      " 14  AST           437 non-null    float64\n",
      " 15  STL           437 non-null    float64\n",
      " 16  BLK           437 non-null    float64\n",
      " 17  GAME_DATE     436 non-null    object \n",
      " 18  Salary        437 non-null    int64  \n",
      " 19  AGE           437 non-null    object \n",
      "dtypes: float64(7), int64(5), object(8)\n",
      "memory usage: 71.7+ KB\n"
     ]
    }
   ],
   "source": [
    "data.info()"
   ]
  },
  {
   "cell_type": "markdown",
   "id": "c3cc6b89-e698-4943-8562-160190b9cbd0",
   "metadata": {
    "id": "c3cc6b89-e698-4943-8562-160190b9cbd0"
   },
   "source": [
    "Let's have another look at our previously generated dataset. "
   ]
  },
  {
   "cell_type": "markdown",
   "id": "e098b76d-c520-474b-9998-a263354fe27b",
   "metadata": {
    "id": "e098b76d-c520-474b-9998-a263354fe27b"
   },
   "source": [
    "1.1. Plot all players statistics (\"PTS\", \"REB\", \"AST\",\"STL\",\"BLK\") against salary"
   ]
  },
  {
   "cell_type": "code",
   "execution_count": 5,
   "id": "50d589f1-25c1-48f8-88f3-e2c7f0e72625",
   "metadata": {
    "ExecuteTime": {
     "end_time": "2022-05-06T16:02:53.605566Z",
     "start_time": "2022-05-06T16:02:46.610289Z"
    },
    "id": "50d589f1-25c1-48f8-88f3-e2c7f0e72625",
    "scrolled": true
   },
   "outputs": [
    {
     "data": {
      "image/png": "[encoded data removed]",
      "text/plain": [
       "<Figure size 504x504 with 1 Axes>"
      ]
     },
     "metadata": {},
     "output_type": "display_data"
    },
    {
     "data": {
      "image/png": "[encoded data removed]",
      "text/plain": [
       "<Figure size 504x504 with 1 Axes>"
      ]
     },
     "metadata": {},
     "output_type": "display_data"
    },
    {
     "data": {
      "image/png": "[encoded data removed]",
      "text/plain": [
       "<Figure size 504x504 with 1 Axes>"
      ]
     },
     "metadata": {},
     "output_type": "display_data"
    },
    {
     "data": {
      "image/png": "[encoded data removed]",
      "text/plain": [
       "<Figure size 504x504 with 1 Axes>"
      ]
     },
     "metadata": {},
     "output_type": "display_data"
    },
    {
     "data": {
      "image/png": "[encoded data removed]",
      "text/plain": [
       "<Figure size 504x504 with 1 Axes>"
      ]
     },
     "metadata": {},
     "output_type": "display_data"
    }
   ],
   "source": [
    "sns.lmplot(data=data, x=\"PTS\", y=\"Salary\", markers=\".\", height=7, aspect=1)\n",
    "sns.lmplot(data=data, x=\"REB\", y=\"Salary\", markers=\".\", height=7, aspect=1)\n",
    "sns.lmplot(data=data, x=\"AST\", y=\"Salary\", markers=\".\", height=7, aspect=1)\n",
    "sns.lmplot(data=data, x=\"STL\", y=\"Salary\", markers=\".\", height=7, aspect=1)\n",
    "sns.lmplot(data=data, x=\"BLK\", y=\"Salary\", markers=\".\", height=7, aspect=1)\n",
    "sns.set(rc = {'figure.figsize':(9,7)})\n",
    "plt.show()"
   ]
  },
  {
   "cell_type": "code",
   "execution_count": 6,
   "id": "36d6a858",
   "metadata": {
    "ExecuteTime": {
     "end_time": "2022-05-06T16:02:56.569953Z",
     "start_time": "2022-05-06T16:02:53.609566Z"
    }
   },
   "outputs": [
    {
     "data": {
      "image/png": "[encoded data removed]",
      "text/plain": [
       "<Figure size 648x504 with 1 Axes>"
      ]
     },
     "metadata": {},
     "output_type": "display_data"
    },
    {
     "data": {
      "image/png": "[encoded data removed]",
      "text/plain": [
       "<Figure size 648x504 with 1 Axes>"
      ]
     },
     "metadata": {},
     "output_type": "display_data"
    },
    {
     "data": {
      "image/png": "[encoded data removed]",
      "text/plain": [
       "<Figure size 648x504 with 1 Axes>"
      ]
     },
     "metadata": {},
     "output_type": "display_data"
    },
    {
     "data": {
      "image/png": "[encoded data removed]",
      "text/plain": [
       "<Figure size 648x504 with 1 Axes>"
      ]
     },
     "metadata": {},
     "output_type": "display_data"
    },
    {
     "data": {
      "image/png": "[encoded data removed]",
      "text/plain": [
       "<Figure size 648x504 with 1 Axes>"
      ]
     },
     "metadata": {},
     "output_type": "display_data"
    }
   ],
   "source": [
    "sns.histplot(data=data, x=\"PTS\", bins=20, kde=True)\n",
    "plt.show()\n",
    "sns.histplot(data=data, x=\"REB\", bins=20, kde=True)\n",
    "plt.show()\n",
    "sns.histplot(data=data, x=\"AST\", bins=20, kde=True)\n",
    "plt.show()\n",
    "sns.histplot(data=data, x=\"STL\", bins=20, kde=True)\n",
    "plt.show()\n",
    "sns.histplot(data=data, x=\"BLK\", bins=20, kde=True)\n",
    "plt.show()"
   ]
  },
  {
   "cell_type": "markdown",
   "id": "bbf0fe81-4aed-4dd9-8500-0919b4ec1e07",
   "metadata": {
    "id": "bbf0fe81-4aed-4dd9-8500-0919b4ec1e07"
   },
   "source": [
    "1.2. What can we say about these distributions?"
   ]
  },
  {
   "cell_type": "markdown",
   "id": "68babc26",
   "metadata": {
    "id": "12b0fd30-0860-4ac3-8d52-5b072f1fd822"
   },
   "source": [
    "As we can see in the previous graphics the column PTS(points) its the one more correlated with the salary of the player, and also it's the one with a distribution more normal"
   ]
  },
  {
   "cell_type": "markdown",
   "id": "17735366-22bf-4cd8-a392-9dfb01652da0",
   "metadata": {
    "id": "17735366-22bf-4cd8-a392-9dfb01652da0"
   },
   "source": [
    "### Splitting the Dataset"
   ]
  },
  {
   "cell_type": "markdown",
   "id": "02450fb0-829c-420b-b65c-ea553a9a81a2",
   "metadata": {
    "id": "02450fb0-829c-420b-b65c-ea553a9a81a2"
   },
   "source": [
    "1.3. Split the dataset into train and testing sets. Use the Sklearn function for train/test splitting. Make sure to set the random state for reproducibility."
   ]
  },
  {
   "cell_type": "code",
   "execution_count": 440,
   "id": "d532e0fb-e478-48a0-971b-1ad1d428fe95",
   "metadata": {
    "ExecuteTime": {
     "end_time": "2022-05-06T19:59:40.731750Z",
     "start_time": "2022-05-06T19:59:40.723744Z"
    },
    "id": "d532e0fb-e478-48a0-971b-1ad1d428fe95"
   },
   "outputs": [],
   "source": [
    "target= \"Salary\"\n",
    "features = data.columns.drop(\"Salary\").values\n",
    "y = data[target]\n",
    "X = data[features]"
   ]
  },
  {
   "cell_type": "code",
   "execution_count": 441,
   "id": "5b72b515",
   "metadata": {
    "ExecuteTime": {
     "end_time": "2022-05-06T19:59:44.026177Z",
     "start_time": "2022-05-06T19:59:44.021175Z"
    }
   },
   "outputs": [],
   "source": [
    "X_train, X_test, y_train, y_test = train_test_split(X, y, test_size=0.10, random_state=8)"
   ]
  },
  {
   "cell_type": "markdown",
   "id": "6aec0deb-7efe-438c-8a4a-39f940aeb474",
   "metadata": {
    "id": "6aec0deb-7efe-438c-8a4a-39f940aeb474"
   },
   "source": [
    "### Baseline Model and Evaluation Metric"
   ]
  },
  {
   "cell_type": "markdown",
   "id": "40ca78ad-8dc1-4b13-99bd-27dcd138a809",
   "metadata": {
    "id": "40ca78ad-8dc1-4b13-99bd-27dcd138a809"
   },
   "source": [
    "In every project, we need a baseline model that implements a very simple algorithm or heuristic so we can compare our results with it. \n",
    "In this case, we could create a function that always returns the average player salary, evaluate that, and then compare the result with our modeling to see if we are improving. "
   ]
  },
  {
   "cell_type": "markdown",
   "id": "71a7eb29-2bdf-4faf-93e9-3206dbc9cca2",
   "metadata": {
    "id": "71a7eb29-2bdf-4faf-93e9-3206dbc9cca2"
   },
   "source": [
    "We need an evaluation metric to see how well our models fit the data. For this project we will use [Mean Absolute Error](https://scikit-learn.org/stable/modules/generated/sklearn.metrics.mean_absolute_error.html#sklearn.metrics.mean_absolute_error) as our regression evaluation metric, because it is a really simple metric to interpret. A lower value means the model performs better. \n",
    "\n",
    "For this particular problem, we will always round the value, as we don't need decimals for this task."
   ]
  },
  {
   "cell_type": "markdown",
   "id": "cefd619d-e6b0-4e70-acf8-f0f4a90fe896",
   "metadata": {
    "id": "cefd619d-e6b0-4e70-acf8-f0f4a90fe896"
   },
   "source": [
    "1.4. Create a Baseline model class that implements  fit() and predict() methods. As this model will not consider any other variable, the fit method should only receive a list of all players salaries. The predict method should receive and iterable and return a numpy array with the same length but every element should have the same value (the average salary)"
   ]
  },
  {
   "cell_type": "code",
   "execution_count": 9,
   "id": "8ee01164-1ef2-44dc-8baa-74b630444577",
   "metadata": {
    "ExecuteTime": {
     "end_time": "2022-05-06T16:02:56.941030Z",
     "start_time": "2022-05-06T16:02:56.796395Z"
    },
    "id": "8ee01164-1ef2-44dc-8baa-74b630444577"
   },
   "outputs": [],
   "source": [
    "class BaselineModel():\n",
    "    \"\"\"A baseline model that always returns the same value, the mean of the players salary in the train data\"\"\"\n",
    "    \n",
    "    def fit(self, y_train):\n",
    "        \"\"\"\n",
    "        Fit the training data. \n",
    "        \n",
    "        Parameters\n",
    "        ----------\n",
    "        y_train: Union[pd.Series, np.ndarray]\n",
    "            a pandas series or numpy array containing salary information\n",
    "        \"\"\"\n",
    "        self.mean_value = round(np.mean(y_train),0)\n",
    "    \n",
    "    def predict(self, X):\n",
    "        \"\"\"\n",
    "        Predict salaries \n",
    "        \n",
    "        Parameters\n",
    "        ----------\n",
    "        X: Union[pd.DataFrame, pd.Series, np.ndarray]\n",
    "            a pandas series, dataframe or numpy array with the \n",
    "            \n",
    "        Returns\n",
    "        -------\n",
    "        np.ndarray\n",
    "            a numpy array of the same length as X, with all elements equal to the mean salary calculated in fit()\n",
    "        \"\"\"\n",
    "        cant_pred = len(X)\n",
    "        pred = np.zeros(cant_pred)\n",
    "        pred.fill(self.mean_value)\n",
    "        pred = pred.astype(int)\n",
    "        return pred"
   ]
  },
  {
   "cell_type": "code",
   "execution_count": 10,
   "id": "d1743576",
   "metadata": {
    "ExecuteTime": {
     "end_time": "2022-05-06T16:02:57.169478Z",
     "start_time": "2022-05-06T16:02:56.946209Z"
    }
   },
   "outputs": [],
   "source": [
    "mean_pred =  BaselineModel()"
   ]
  },
  {
   "cell_type": "code",
   "execution_count": 11,
   "id": "e7552598",
   "metadata": {
    "ExecuteTime": {
     "end_time": "2022-05-06T16:02:57.400307Z",
     "start_time": "2022-05-06T16:02:57.179335Z"
    }
   },
   "outputs": [],
   "source": [
    "mean_pred.fit(y_train)"
   ]
  },
  {
   "cell_type": "code",
   "execution_count": 12,
   "id": "de11aa1a",
   "metadata": {
    "ExecuteTime": {
     "end_time": "2022-05-06T16:02:57.547795Z",
     "start_time": "2022-05-06T16:02:57.406191Z"
    },
    "scrolled": false
   },
   "outputs": [
    {
     "data": {
      "text/plain": [
       "array([9183697, 9183697, 9183697, 9183697, 9183697, 9183697, 9183697,\n",
       "       9183697, 9183697, 9183697, 9183697, 9183697, 9183697, 9183697,\n",
       "       9183697, 9183697, 9183697, 9183697, 9183697, 9183697, 9183697,\n",
       "       9183697, 9183697, 9183697, 9183697, 9183697, 9183697, 9183697,\n",
       "       9183697, 9183697, 9183697, 9183697, 9183697, 9183697, 9183697,\n",
       "       9183697, 9183697, 9183697, 9183697, 9183697, 9183697, 9183697,\n",
       "       9183697, 9183697])"
      ]
     },
     "execution_count": 12,
     "metadata": {},
     "output_type": "execute_result"
    }
   ],
   "source": [
    "baseline_pred = mean_pred.predict(X_test)\n",
    "baseline_pred"
   ]
  },
  {
   "cell_type": "markdown",
   "id": "6a1a8134-48a4-4c66-84d2-39030242ef5f",
   "metadata": {
    "id": "6a1a8134-48a4-4c66-84d2-39030242ef5f"
   },
   "source": [
    "1.5. Evaluate the performance of our BaselineModel on the test set using mean_absolute_error from Sklearn (round the result)"
   ]
  },
  {
   "cell_type": "code",
   "execution_count": 13,
   "id": "fb72f39b-e7fc-4cd8-bd23-ee4407a80eed",
   "metadata": {
    "ExecuteTime": {
     "end_time": "2022-05-06T16:02:57.719355Z",
     "start_time": "2022-05-06T16:02:57.559296Z"
    },
    "id": "fb72f39b-e7fc-4cd8-bd23-ee4407a80eed"
   },
   "outputs": [
    {
     "data": {
      "text/plain": [
       "6716417"
      ]
     },
     "execution_count": 13,
     "metadata": {},
     "output_type": "execute_result"
    }
   ],
   "source": [
    "baseline_mae = int(round(mean_absolute_error(y_test, baseline_pred)))\n",
    "baseline_mae"
   ]
  },
  {
   "cell_type": "markdown",
   "id": "fc4dff42-e36c-478d-bfd3-7541f3f36f16",
   "metadata": {
    "id": "fc4dff42-e36c-478d-bfd3-7541f3f36f16"
   },
   "source": [
    "### Regression with a single variable"
   ]
  },
  {
   "cell_type": "markdown",
   "id": "c9597b03-31fd-4a9c-8dad-9479666355cd",
   "metadata": {
    "id": "c9597b03-31fd-4a9c-8dad-9479666355cd"
   },
   "source": [
    "You're now going to start modeling data. We will start with a really simple approach, selecting just one variable, and doing a regression to see if we improve upon our baseline.\n"
   ]
  },
  {
   "cell_type": "markdown",
   "id": "af92eeac-cbfb-45cb-8626-246332c69624",
   "metadata": {
    "id": "af92eeac-cbfb-45cb-8626-246332c69624"
   },
   "source": [
    "1.6. Select the variable you think would provide the best fit. Perform feature scaling on this variable using a Sklearn scaler."
   ]
  },
  {
   "cell_type": "code",
   "execution_count": 14,
   "id": "4c0804fa",
   "metadata": {
    "ExecuteTime": {
     "end_time": "2022-05-06T16:02:57.899283Z",
     "start_time": "2022-05-06T16:02:57.724175Z"
    }
   },
   "outputs": [],
   "source": [
    "x_train = X_train[\"PTS\"]\n",
    "x_test = X_test[\"PTS\"]\n",
    "x_train = np.array(x_train).reshape(-1, 1)\n",
    "x_test = np.array(x_test).reshape(-1, 1)"
   ]
  },
  {
   "cell_type": "code",
   "execution_count": 15,
   "id": "173f1211-95e2-4bcb-ba7d-a40c516b4c24",
   "metadata": {
    "ExecuteTime": {
     "end_time": "2022-05-06T16:02:58.083880Z",
     "start_time": "2022-05-06T16:02:57.912782Z"
    },
    "id": "173f1211-95e2-4bcb-ba7d-a40c516b4c24"
   },
   "outputs": [],
   "source": [
    "a = MinMaxScaler()"
   ]
  },
  {
   "cell_type": "code",
   "execution_count": 16,
   "id": "cc42cb05",
   "metadata": {
    "ExecuteTime": {
     "end_time": "2022-05-06T16:02:58.316267Z",
     "start_time": "2022-05-06T16:02:58.091455Z"
    },
    "scrolled": true
   },
   "outputs": [
    {
     "data": {
      "text/plain": [
       "MinMaxScaler()"
      ]
     },
     "execution_count": 16,
     "metadata": {},
     "output_type": "execute_result"
    }
   ],
   "source": [
    "a.fit(x_train)"
   ]
  },
  {
   "cell_type": "code",
   "execution_count": 17,
   "id": "51cb13a4",
   "metadata": {
    "ExecuteTime": {
     "end_time": "2022-05-06T16:02:58.526284Z",
     "start_time": "2022-05-06T16:02:58.323454Z"
    }
   },
   "outputs": [],
   "source": [
    "x_train = a.transform(x_train)"
   ]
  },
  {
   "cell_type": "code",
   "execution_count": 18,
   "id": "a0e6abe5",
   "metadata": {
    "ExecuteTime": {
     "end_time": "2022-05-06T16:02:58.639736Z",
     "start_time": "2022-05-06T16:02:58.537597Z"
    }
   },
   "outputs": [],
   "source": [
    "x_test = a.transform(x_test)"
   ]
  },
  {
   "cell_type": "markdown",
   "id": "1c490e55-2bff-4a06-a01e-c6859d7edb52",
   "metadata": {
    "id": "1c490e55-2bff-4a06-a01e-c6859d7edb52"
   },
   "source": [
    "1.7. Train a model with [SGDRegressor](https://scikit-learn.org/stable/modules/generated/sklearn.linear_model.SGDRegressor.html) from Sklearn using the default parameters. Evaluate the model's performance on the test set using the selected metric."
   ]
  },
  {
   "cell_type": "code",
   "execution_count": 469,
   "id": "fc4cb171",
   "metadata": {
    "ExecuteTime": {
     "end_time": "2022-05-06T20:42:53.377380Z",
     "start_time": "2022-05-06T20:42:53.373379Z"
    }
   },
   "outputs": [],
   "source": [
    "sgd_default_model = SGDRegressor(random_state=8)"
   ]
  },
  {
   "cell_type": "code",
   "execution_count": 470,
   "id": "796f7d6d",
   "metadata": {
    "ExecuteTime": {
     "end_time": "2022-05-06T20:42:53.658377Z",
     "start_time": "2022-05-06T20:42:53.483383Z"
    }
   },
   "outputs": [
    {
     "data": {
      "text/plain": [
       "SGDRegressor(random_state=8)"
      ]
     },
     "execution_count": 470,
     "metadata": {},
     "output_type": "execute_result"
    }
   ],
   "source": [
    "sgd_default_model.fit(X = x_train, y = y_train)"
   ]
  },
  {
   "cell_type": "code",
   "execution_count": 471,
   "id": "e90d990c",
   "metadata": {
    "ExecuteTime": {
     "end_time": "2022-05-06T20:42:56.235386Z",
     "start_time": "2022-05-06T20:42:56.225384Z"
    }
   },
   "outputs": [],
   "source": [
    "sgd_default_pred = sgd_default_model.predict(x_test)"
   ]
  },
  {
   "cell_type": "code",
   "execution_count": 472,
   "id": "c4f8b8bf",
   "metadata": {
    "ExecuteTime": {
     "end_time": "2022-05-06T20:42:56.438380Z",
     "start_time": "2022-05-06T20:42:56.238382Z"
    }
   },
   "outputs": [
    {
     "data": {
      "text/plain": [
       "4744814"
      ]
     },
     "execution_count": 472,
     "metadata": {},
     "output_type": "execute_result"
    }
   ],
   "source": [
    "sgd_default_mae = int(round(mean_absolute_error(y_test, sgd_default_pred)))\n",
    "sgd_default_mae"
   ]
  },
  {
   "cell_type": "markdown",
   "id": "e87147d9-5b57-4984-9f0d-e595cd6d15d3",
   "metadata": {
    "id": "e87147d9-5b57-4984-9f0d-e595cd6d15d3"
   },
   "source": [
    "1.8. Read the Sklearn documentation, and write a function that tries different configurations for the hyperparameters for training: epochs, learning rate and alpha. For each combination of parameters, evaluate the trained algorithm on the test set, then save the results of each hyperparameter combination, finally select the one that has the best MAE (meaning the lowest number) and print the combination and the MAE."
   ]
  },
  {
   "cell_type": "code",
   "execution_count": 293,
   "id": "3413683c",
   "metadata": {
    "ExecuteTime": {
     "end_time": "2022-05-06T17:42:42.080791Z",
     "start_time": "2022-05-06T17:42:42.075788Z"
    },
    "code_folding": []
   },
   "outputs": [],
   "source": [
    "def append_value(dict_obj, key, value):\n",
    "    if key in dict_obj:\n",
    "        if not isinstance(dict_obj[key], list):\n",
    "            dict_obj[key] = [dict_obj[key]]\n",
    "        dict_obj[key].append(value)\n",
    "    else:\n",
    "        dict_obj[key] = value"
   ]
  },
  {
   "cell_type": "code",
   "execution_count": 625,
   "id": "ba2cdc88",
   "metadata": {
    "ExecuteTime": {
     "end_time": "2022-05-07T23:01:02.494762Z",
     "start_time": "2022-05-07T23:01:02.482730Z"
    },
    "code_folding": []
   },
   "outputs": [],
   "source": [
    "def search_best_hyperparameters(max_iter, eta0):   \n",
    "    \n",
    "    #Creates a dictionary with all the possible combinations\n",
    "    result = {}\n",
    "    for ep in max_iter:\n",
    "        for lr in eta0:\n",
    "                append_value(result,\"hyperparameters\",{\"max_iter\": ep, \"eta0\": lr})\n",
    "                append_value(result,\"mae\",9999999999)\n",
    "                \n",
    "    #Tries all the possible combinations stored in result and calculates the mae           \n",
    "    for i in result[\"hyperparameters\"]:\n",
    "        sg_t_model = SGDRegressor(eta0=i[\"eta0\"], max_iter=i[\"max_iter\"], random_state=8) \n",
    "        sg_t_model.fit(x_train,y_train)\n",
    "        y_pred = sg_t_model.predict(x_test)\n",
    "        ind = result[\"hyperparameters\"].index(i)\n",
    "        result[\"mae\"][ind] = int(round(mean_absolute_error(y_test,y_pred)))\n",
    "        \n",
    "    return result"
   ]
  },
  {
   "cell_type": "code",
   "execution_count": 635,
   "id": "d0db1bf0",
   "metadata": {
    "ExecuteTime": {
     "end_time": "2022-05-07T23:06:26.222674Z",
     "start_time": "2022-05-07T23:06:00.303679Z"
    },
    "scrolled": false
   },
   "outputs": [
    {
     "name": "stderr",
     "output_type": "stream",
     "text": [
      "C:\\Users\\dgenz\\miniconda3\\lib\\site-packages\\sklearn\\linear_model\\_stochastic_gradient.py:1503: ConvergenceWarning: Maximum number of iteration reached before convergence. Consider increasing max_iter to improve the fit.\n",
      "  warnings.warn(\n",
      "C:\\Users\\dgenz\\miniconda3\\lib\\site-packages\\sklearn\\linear_model\\_stochastic_gradient.py:1503: ConvergenceWarning: Maximum number of iteration reached before convergence. Consider increasing max_iter to improve the fit.\n",
      "  warnings.warn(\n",
      "C:\\Users\\dgenz\\miniconda3\\lib\\site-packages\\sklearn\\linear_model\\_stochastic_gradient.py:1503: ConvergenceWarning: Maximum number of iteration reached before convergence. Consider increasing max_iter to improve the fit.\n",
      "  warnings.warn(\n",
      "C:\\Users\\dgenz\\miniconda3\\lib\\site-packages\\sklearn\\linear_model\\_stochastic_gradient.py:1503: ConvergenceWarning: Maximum number of iteration reached before convergence. Consider increasing max_iter to improve the fit.\n",
      "  warnings.warn(\n",
      "C:\\Users\\dgenz\\miniconda3\\lib\\site-packages\\sklearn\\linear_model\\_stochastic_gradient.py:1503: ConvergenceWarning: Maximum number of iteration reached before convergence. Consider increasing max_iter to improve the fit.\n",
      "  warnings.warn(\n"
     ]
    }
   ],
   "source": [
    "max_iter = [100000, 1000000, 10000000, 1000, 5000]\n",
    "eta0 = [0.001, 0.01, 0.1, 0.0001]\n",
    "\n",
    "result = search_best_hyperparameters(max_iter,eta0)"
   ]
  },
  {
   "cell_type": "code",
   "execution_count": 637,
   "id": "58c834ed",
   "metadata": {
    "ExecuteTime": {
     "end_time": "2022-05-07T23:07:28.887346Z",
     "start_time": "2022-05-07T23:07:28.864351Z"
    }
   },
   "outputs": [
    {
     "name": "stdout",
     "output_type": "stream",
     "text": [
      "Best combination of parameters\n",
      "Max iter: 100000\n",
      "eta0: 0.0001\n",
      "MAE obtained: 4637747\n"
     ]
    }
   ],
   "source": [
    "print(\"Best combination of parameters\\nMax iter: \", end=\"\")\n",
    "print(result[\"hyperparameters\"][result[\"mae\"].index(sorted(result[\"mae\"], reverse=False)[0])][\"max_iter\"])\n",
    "print(\"eta0: \", end=\"\")\n",
    "print(result[\"hyperparameters\"][result[\"mae\"].index(sorted(result[\"mae\"], reverse=False)[0])][\"eta0\"])\n",
    "print(\"MAE obtained: \", end=\"\")\n",
    "print(result[\"mae\"][result[\"mae\"].index(sorted(result[\"mae\"], reverse=False)[0])])"
   ]
  },
  {
   "cell_type": "code",
   "execution_count": 475,
   "id": "a6934720",
   "metadata": {
    "ExecuteTime": {
     "end_time": "2022-05-06T20:44:29.294819Z",
     "start_time": "2022-05-06T20:44:25.271813Z"
    },
    "scrolled": true
   },
   "outputs": [
    {
     "name": "stderr",
     "output_type": "stream",
     "text": [
      "C:\\Users\\dgenz\\miniconda3\\lib\\site-packages\\sklearn\\linear_model\\_stochastic_gradient.py:1503: ConvergenceWarning: Maximum number of iteration reached before convergence. Consider increasing max_iter to improve the fit.\n",
      "  warnings.warn(\n"
     ]
    },
    {
     "data": {
      "text/plain": [
       "4637747"
      ]
     },
     "execution_count": 475,
     "metadata": {},
     "output_type": "execute_result"
    }
   ],
   "source": [
    "sgd_tuned_model = SGDRegressor(eta0=0.0001, max_iter=100000, random_state=8)\n",
    "sgd_tuned_model.fit(x_train, y_train)\n",
    "sgd_tuned_pred = sgd_tuned_model.predict(x_test)\n",
    "sgd_tuned_mae = int(round(mean_absolute_error(y_test, sgd_tuned_pred)))\n",
    "sgd_tuned_mae"
   ]
  },
  {
   "cell_type": "markdown",
   "id": "776e0c7a-d592-4479-aec6-870edff61def",
   "metadata": {
    "id": "776e0c7a-d592-4479-aec6-870edff61def"
   },
   "source": [
    "1.9. Compare the results of the baseline, the SGDRegressor with default parameters and the one with the best combination of hyperparameters you could find. (replace variables with the ones you used)"
   ]
  },
  {
   "cell_type": "code",
   "execution_count": 476,
   "id": "2e520ef6-52ed-48dc-8450-03031f3a03a6",
   "metadata": {
    "ExecuteTime": {
     "end_time": "2022-05-06T20:44:33.190299Z",
     "start_time": "2022-05-06T20:44:33.185274Z"
    },
    "id": "2e520ef6-52ed-48dc-8450-03031f3a03a6"
   },
   "outputs": [
    {
     "name": "stdout",
     "output_type": "stream",
     "text": [
      "Mean Absolute Error for each model:\n",
      "Baseline: 6716417\n",
      "Default SGDRegressor: 4744814\n",
      "Best SGDRegressor: 4637747\n"
     ]
    }
   ],
   "source": [
    "print(\"Mean Absolute Error for each model:\")\n",
    "print(f\"Baseline: {baseline_mae}\")\n",
    "print(f\"Default SGDRegressor: {sgd_default_mae}\")\n",
    "print(f\"Best SGDRegressor: {sgd_tuned_mae}\")"
   ]
  },
  {
   "cell_type": "markdown",
   "id": "19e281ec-d578-496d-9f5d-897a2e1986a2",
   "metadata": {
    "id": "19e281ec-d578-496d-9f5d-897a2e1986a2"
   },
   "source": [
    "### Multivariate Linear Regression"
   ]
  },
  {
   "cell_type": "markdown",
   "id": "4ff24d36-439a-478f-b0de-0021223f6e99",
   "metadata": {
    "id": "4ff24d36-439a-478f-b0de-0021223f6e99"
   },
   "source": [
    "To improve our model, we will add more features to it. We will have to do some processing to our dataset to be able to use the data.\n",
    "We'll start with the following variables:"
   ]
  },
  {
   "cell_type": "markdown",
   "id": "247f4716-496a-4040-9519-77f7a6839691",
   "metadata": {
    "id": "247f4716-496a-4040-9519-77f7a6839691"
   },
   "source": [
    "- Points\n",
    "- Rebounds\n",
    "- Assists\n",
    "- Blocks\n",
    "- Experience\n",
    "- Position\n",
    "- Draft Number\n",
    "- Team Name"
   ]
  },
  {
   "cell_type": "markdown",
   "id": "7958f7ec-45a0-4deb-bb79-3daa756dbcca",
   "metadata": {
    "id": "7958f7ec-45a0-4deb-bb79-3daa756dbcca"
   },
   "source": [
    "1.10. Create a copy of the dataset generated in the first project that only has the following columns (and player id as an index):\n",
    "\n",
    "[\"PTS\", \"REB\", \"AST\", \"BLK\", \"SEASON_EXP\", \"POSITION\", \"TEAM_NAME\", \"DRAFT_NUMBER\", \"SALARY\"]"
   ]
  },
  {
   "cell_type": "code",
   "execution_count": 477,
   "id": "64b265b4-d4e5-40a6-a9c3-cce920ecaa1b",
   "metadata": {
    "ExecuteTime": {
     "end_time": "2022-05-06T20:45:29.440714Z",
     "start_time": "2022-05-06T20:45:29.413713Z"
    },
    "id": "64b265b4-d4e5-40a6-a9c3-cce920ecaa1b",
    "scrolled": true
   },
   "outputs": [
    {
     "data": {
      "text/html": [
       "<div>\n",
       "<style scoped>\n",
       "    .dataframe tbody tr th:only-of-type {\n",
       "        vertical-align: middle;\n",
       "    }\n",
       "\n",
       "    .dataframe tbody tr th {\n",
       "        vertical-align: top;\n",
       "    }\n",
       "\n",
       "    .dataframe thead th {\n",
       "        text-align: right;\n",
       "    }\n",
       "</style>\n",
       "<table border=\"1\" class=\"dataframe\">\n",
       "  <thead>\n",
       "    <tr style=\"text-align: right;\">\n",
       "      <th></th>\n",
       "      <th>PTS</th>\n",
       "      <th>REB</th>\n",
       "      <th>AST</th>\n",
       "      <th>BLK</th>\n",
       "      <th>SEASON_EXP</th>\n",
       "      <th>POSITION</th>\n",
       "      <th>TEAM_NAME</th>\n",
       "      <th>DRAFT_NUMBER</th>\n",
       "      <th>Salary</th>\n",
       "    </tr>\n",
       "  </thead>\n",
       "  <tbody>\n",
       "    <tr>\n",
       "      <th>1630173</th>\n",
       "      <td>6.5</td>\n",
       "      <td>5.1</td>\n",
       "      <td>0.8</td>\n",
       "      <td>0.5</td>\n",
       "      <td>1</td>\n",
       "      <td>Forward</td>\n",
       "      <td>Raptors</td>\n",
       "      <td>20</td>\n",
       "      <td>2711280</td>\n",
       "    </tr>\n",
       "    <tr>\n",
       "      <th>203500</th>\n",
       "      <td>9.3</td>\n",
       "      <td>7.9</td>\n",
       "      <td>1.4</td>\n",
       "      <td>0.9</td>\n",
       "      <td>8</td>\n",
       "      <td>Center</td>\n",
       "      <td>Grizzlies</td>\n",
       "      <td>12</td>\n",
       "      <td>17073171</td>\n",
       "    </tr>\n",
       "    <tr>\n",
       "      <th>1628389</th>\n",
       "      <td>13.2</td>\n",
       "      <td>8.2</td>\n",
       "      <td>3.5</td>\n",
       "      <td>0.9</td>\n",
       "      <td>4</td>\n",
       "      <td>Center</td>\n",
       "      <td>Heat</td>\n",
       "      <td>14</td>\n",
       "      <td>28103550</td>\n",
       "    </tr>\n",
       "    <tr>\n",
       "      <th>1630583</th>\n",
       "      <td>3.3</td>\n",
       "      <td>2.4</td>\n",
       "      <td>0.5</td>\n",
       "      <td>0.3</td>\n",
       "      <td>0</td>\n",
       "      <td>Forward</td>\n",
       "      <td>Grizzlies</td>\n",
       "      <td>30</td>\n",
       "      <td>1994520</td>\n",
       "    </tr>\n",
       "    <tr>\n",
       "      <th>200746</th>\n",
       "      <td>19.1</td>\n",
       "      <td>8.1</td>\n",
       "      <td>1.9</td>\n",
       "      <td>1.1</td>\n",
       "      <td>15</td>\n",
       "      <td>Center</td>\n",
       "      <td>Nets</td>\n",
       "      <td>2</td>\n",
       "      <td>2641691</td>\n",
       "    </tr>\n",
       "  </tbody>\n",
       "</table>\n",
       "</div>"
      ],
      "text/plain": [
       "          PTS  REB  AST  BLK  SEASON_EXP POSITION  TEAM_NAME DRAFT_NUMBER  \\\n",
       "1630173   6.5  5.1  0.8  0.5           1  Forward    Raptors           20   \n",
       "203500    9.3  7.9  1.4  0.9           8   Center  Grizzlies           12   \n",
       "1628389  13.2  8.2  3.5  0.9           4   Center       Heat           14   \n",
       "1630583   3.3  2.4  0.5  0.3           0  Forward  Grizzlies           30   \n",
       "200746   19.1  8.1  1.9  1.1          15   Center       Nets            2   \n",
       "\n",
       "           Salary  \n",
       "1630173   2711280  \n",
       "203500   17073171  \n",
       "1628389  28103550  \n",
       "1630583   1994520  \n",
       "200746    2641691  "
      ]
     },
     "execution_count": 477,
     "metadata": {},
     "output_type": "execute_result"
    }
   ],
   "source": [
    "data_mlt_sgd = data[[\"PERSON_ID\", \"PTS\", \"REB\", \"AST\", \"BLK\", \"SEASON_EXP\", \"POSITION\", \"TEAM_NAME\", \"DRAFT_NUMBER\", \"Salary\"]].copy()\n",
    "data_mlt_sgd.set_index(\"PERSON_ID\", inplace=True, drop=True)\n",
    "data_mlt_sgd.index.name = None\n",
    "data_mlt_sgd.head()"
   ]
  },
  {
   "cell_type": "markdown",
   "id": "4865eb6e-d85d-4283-a67c-93df46a5b72e",
   "metadata": {
    "id": "4865eb6e-d85d-4283-a67c-93df46a5b72e"
   },
   "source": [
    "#### Feature Engineering"
   ]
  },
  {
   "cell_type": "markdown",
   "id": "ec9b71e8-57aa-405a-8b3b-b0585a45d64d",
   "metadata": {
    "id": "ec9b71e8-57aa-405a-8b3b-b0585a45d64d"
   },
   "source": [
    "1.11. Binning the DRAFT_NUMBER feature. Draft position directly impacts salaries during the first few years, but second round players and undrafted players don't have guaranteed contracts. So we're gonna divide the bins like this: \n",
    "\n",
    "       - 1 to 15: firstround_lottery\n",
    "       - 15 to 30: firstround_non_lottery\n",
    "       - 30 to 60: second_round\n",
    "       - Undrafted: undrafted\n",
    "       \n",
    "Create a new column named DRAFT using these 4 categories. Drop the draft number column."
   ]
  },
  {
   "cell_type": "code",
   "execution_count": 478,
   "id": "0334aee8",
   "metadata": {
    "ExecuteTime": {
     "end_time": "2022-05-06T20:45:30.949767Z",
     "start_time": "2022-05-06T20:45:30.939767Z"
    }
   },
   "outputs": [],
   "source": [
    "data_mlt_sgd.replace({\"Undrafted\":np.nan}, inplace=True)\n",
    "data_mlt_sgd['DRAFT_NUMBER'] = data_mlt_sgd['DRAFT_NUMBER'].str.extract('(\\d+)', expand=False).astype('float').astype('Int64')"
   ]
  },
  {
   "cell_type": "code",
   "execution_count": 479,
   "id": "8ad40e8e",
   "metadata": {
    "ExecuteTime": {
     "end_time": "2022-05-06T20:45:32.425762Z",
     "start_time": "2022-05-06T20:45:32.415763Z"
    }
   },
   "outputs": [
    {
     "data": {
      "text/plain": [
       "<IntegerArray>\n",
       "[  20,   12,   14,   30,    2,   17,   21,   22,   15,   51,    3,   23, <NA>,\n",
       "   43,    9,    1,   27,    6,   46,    7,    4,   40,   53,   48,   25,   19,\n",
       "   42,   18,   35,   31,   44,   39,   13,   11,   28,   10,   36,   45,   33,\n",
       "    8,   49,   32,   24,   41,    5,   34,   38,   29,   52,   26,   37,   50,\n",
       "   16,   47,   55,   54,   58]\n",
       "Length: 57, dtype: Int64"
      ]
     },
     "execution_count": 479,
     "metadata": {},
     "output_type": "execute_result"
    }
   ],
   "source": [
    "data_mlt_sgd.DRAFT_NUMBER.unique()"
   ]
  },
  {
   "cell_type": "code",
   "execution_count": 480,
   "id": "3ea6afa9-7df8-446c-b134-c832f3ca27b7",
   "metadata": {
    "ExecuteTime": {
     "end_time": "2022-05-06T20:45:33.774769Z",
     "start_time": "2022-05-06T20:45:33.762764Z"
    },
    "id": "3ea6afa9-7df8-446c-b134-c832f3ca27b7"
   },
   "outputs": [],
   "source": [
    "data_mlt_sgd[\"DRAFT\"] = data_mlt_sgd.DRAFT_NUMBER.apply(lambda draft: \n",
    "                  \"undrafted\" if str(draft)==\"<NA>\" else(                                       \n",
    "                  \"firstround_lottery\" if (draft>=1) and (draft<15) else (\n",
    "                  \"firstround_non_lottery\" if (draft>=15) and (draft<30) else \"second_round\" )))\n",
    "data_mlt_sgd.drop(\"DRAFT_NUMBER\", axis=1, inplace=True)"
   ]
  },
  {
   "cell_type": "code",
   "execution_count": 481,
   "id": "0a29c2b1",
   "metadata": {
    "ExecuteTime": {
     "end_time": "2022-05-06T20:45:35.124763Z",
     "start_time": "2022-05-06T20:45:35.099766Z"
    }
   },
   "outputs": [
    {
     "data": {
      "text/html": [
       "<div>\n",
       "<style scoped>\n",
       "    .dataframe tbody tr th:only-of-type {\n",
       "        vertical-align: middle;\n",
       "    }\n",
       "\n",
       "    .dataframe tbody tr th {\n",
       "        vertical-align: top;\n",
       "    }\n",
       "\n",
       "    .dataframe thead th {\n",
       "        text-align: right;\n",
       "    }\n",
       "</style>\n",
       "<table border=\"1\" class=\"dataframe\">\n",
       "  <thead>\n",
       "    <tr style=\"text-align: right;\">\n",
       "      <th></th>\n",
       "      <th>PTS</th>\n",
       "      <th>REB</th>\n",
       "      <th>AST</th>\n",
       "      <th>BLK</th>\n",
       "      <th>SEASON_EXP</th>\n",
       "      <th>POSITION</th>\n",
       "      <th>TEAM_NAME</th>\n",
       "      <th>Salary</th>\n",
       "      <th>DRAFT</th>\n",
       "    </tr>\n",
       "  </thead>\n",
       "  <tbody>\n",
       "    <tr>\n",
       "      <th>1630173</th>\n",
       "      <td>6.5</td>\n",
       "      <td>5.1</td>\n",
       "      <td>0.8</td>\n",
       "      <td>0.5</td>\n",
       "      <td>1</td>\n",
       "      <td>Forward</td>\n",
       "      <td>Raptors</td>\n",
       "      <td>2711280</td>\n",
       "      <td>firstround_non_lottery</td>\n",
       "    </tr>\n",
       "    <tr>\n",
       "      <th>203500</th>\n",
       "      <td>9.3</td>\n",
       "      <td>7.9</td>\n",
       "      <td>1.4</td>\n",
       "      <td>0.9</td>\n",
       "      <td>8</td>\n",
       "      <td>Center</td>\n",
       "      <td>Grizzlies</td>\n",
       "      <td>17073171</td>\n",
       "      <td>firstround_lottery</td>\n",
       "    </tr>\n",
       "    <tr>\n",
       "      <th>1628389</th>\n",
       "      <td>13.2</td>\n",
       "      <td>8.2</td>\n",
       "      <td>3.5</td>\n",
       "      <td>0.9</td>\n",
       "      <td>4</td>\n",
       "      <td>Center</td>\n",
       "      <td>Heat</td>\n",
       "      <td>28103550</td>\n",
       "      <td>firstround_lottery</td>\n",
       "    </tr>\n",
       "    <tr>\n",
       "      <th>1630583</th>\n",
       "      <td>3.3</td>\n",
       "      <td>2.4</td>\n",
       "      <td>0.5</td>\n",
       "      <td>0.3</td>\n",
       "      <td>0</td>\n",
       "      <td>Forward</td>\n",
       "      <td>Grizzlies</td>\n",
       "      <td>1994520</td>\n",
       "      <td>second_round</td>\n",
       "    </tr>\n",
       "    <tr>\n",
       "      <th>200746</th>\n",
       "      <td>19.1</td>\n",
       "      <td>8.1</td>\n",
       "      <td>1.9</td>\n",
       "      <td>1.1</td>\n",
       "      <td>15</td>\n",
       "      <td>Center</td>\n",
       "      <td>Nets</td>\n",
       "      <td>2641691</td>\n",
       "      <td>firstround_lottery</td>\n",
       "    </tr>\n",
       "  </tbody>\n",
       "</table>\n",
       "</div>"
      ],
      "text/plain": [
       "          PTS  REB  AST  BLK  SEASON_EXP POSITION  TEAM_NAME    Salary  \\\n",
       "1630173   6.5  5.1  0.8  0.5           1  Forward    Raptors   2711280   \n",
       "203500    9.3  7.9  1.4  0.9           8   Center  Grizzlies  17073171   \n",
       "1628389  13.2  8.2  3.5  0.9           4   Center       Heat  28103550   \n",
       "1630583   3.3  2.4  0.5  0.3           0  Forward  Grizzlies   1994520   \n",
       "200746   19.1  8.1  1.9  1.1          15   Center       Nets   2641691   \n",
       "\n",
       "                          DRAFT  \n",
       "1630173  firstround_non_lottery  \n",
       "203500       firstround_lottery  \n",
       "1628389      firstround_lottery  \n",
       "1630583            second_round  \n",
       "200746       firstround_lottery  "
      ]
     },
     "execution_count": 481,
     "metadata": {},
     "output_type": "execute_result"
    }
   ],
   "source": [
    "data_mlt_sgd.head()"
   ]
  },
  {
   "cell_type": "markdown",
   "id": "37a55237-cb04-4c38-bef3-8c363f9dbe5c",
   "metadata": {
    "id": "37a55237-cb04-4c38-bef3-8c363f9dbe5c"
   },
   "source": [
    "1.12. Encode the categorical features: DRAFT, POSITION and TEAM_NAME"
   ]
  },
  {
   "cell_type": "code",
   "execution_count": 482,
   "id": "c565394e-5d44-4418-a33b-eaa801062dbc",
   "metadata": {
    "ExecuteTime": {
     "end_time": "2022-05-06T20:45:36.450766Z",
     "start_time": "2022-05-06T20:45:36.355763Z"
    },
    "id": "c565394e-5d44-4418-a33b-eaa801062dbc"
   },
   "outputs": [
    {
     "data": {
      "text/html": [
       "<div>\n",
       "<style scoped>\n",
       "    .dataframe tbody tr th:only-of-type {\n",
       "        vertical-align: middle;\n",
       "    }\n",
       "\n",
       "    .dataframe tbody tr th {\n",
       "        vertical-align: top;\n",
       "    }\n",
       "\n",
       "    .dataframe thead th {\n",
       "        text-align: right;\n",
       "    }\n",
       "</style>\n",
       "<table border=\"1\" class=\"dataframe\">\n",
       "  <thead>\n",
       "    <tr style=\"text-align: right;\">\n",
       "      <th></th>\n",
       "      <th>PTS</th>\n",
       "      <th>REB</th>\n",
       "      <th>AST</th>\n",
       "      <th>BLK</th>\n",
       "      <th>SEASON_EXP</th>\n",
       "      <th>Salary</th>\n",
       "      <th>DRAFT_firstround_lottery</th>\n",
       "      <th>DRAFT_firstround_non_lottery</th>\n",
       "      <th>DRAFT_second_round</th>\n",
       "      <th>DRAFT_undrafted</th>\n",
       "      <th>...</th>\n",
       "      <th>TEAM_NAME_Pistons</th>\n",
       "      <th>TEAM_NAME_Raptors</th>\n",
       "      <th>TEAM_NAME_Rockets</th>\n",
       "      <th>TEAM_NAME_Spurs</th>\n",
       "      <th>TEAM_NAME_Suns</th>\n",
       "      <th>TEAM_NAME_Thunder</th>\n",
       "      <th>TEAM_NAME_Timberwolves</th>\n",
       "      <th>TEAM_NAME_Trail Blazers</th>\n",
       "      <th>TEAM_NAME_Warriors</th>\n",
       "      <th>TEAM_NAME_Wizards</th>\n",
       "    </tr>\n",
       "  </thead>\n",
       "  <tbody>\n",
       "    <tr>\n",
       "      <th>1630173</th>\n",
       "      <td>6.5</td>\n",
       "      <td>5.1</td>\n",
       "      <td>0.8</td>\n",
       "      <td>0.5</td>\n",
       "      <td>1</td>\n",
       "      <td>2711280</td>\n",
       "      <td>0</td>\n",
       "      <td>1</td>\n",
       "      <td>0</td>\n",
       "      <td>0</td>\n",
       "      <td>...</td>\n",
       "      <td>0</td>\n",
       "      <td>1</td>\n",
       "      <td>0</td>\n",
       "      <td>0</td>\n",
       "      <td>0</td>\n",
       "      <td>0</td>\n",
       "      <td>0</td>\n",
       "      <td>0</td>\n",
       "      <td>0</td>\n",
       "      <td>0</td>\n",
       "    </tr>\n",
       "    <tr>\n",
       "      <th>203500</th>\n",
       "      <td>9.3</td>\n",
       "      <td>7.9</td>\n",
       "      <td>1.4</td>\n",
       "      <td>0.9</td>\n",
       "      <td>8</td>\n",
       "      <td>17073171</td>\n",
       "      <td>1</td>\n",
       "      <td>0</td>\n",
       "      <td>0</td>\n",
       "      <td>0</td>\n",
       "      <td>...</td>\n",
       "      <td>0</td>\n",
       "      <td>0</td>\n",
       "      <td>0</td>\n",
       "      <td>0</td>\n",
       "      <td>0</td>\n",
       "      <td>0</td>\n",
       "      <td>0</td>\n",
       "      <td>0</td>\n",
       "      <td>0</td>\n",
       "      <td>0</td>\n",
       "    </tr>\n",
       "    <tr>\n",
       "      <th>1628389</th>\n",
       "      <td>13.2</td>\n",
       "      <td>8.2</td>\n",
       "      <td>3.5</td>\n",
       "      <td>0.9</td>\n",
       "      <td>4</td>\n",
       "      <td>28103550</td>\n",
       "      <td>1</td>\n",
       "      <td>0</td>\n",
       "      <td>0</td>\n",
       "      <td>0</td>\n",
       "      <td>...</td>\n",
       "      <td>0</td>\n",
       "      <td>0</td>\n",
       "      <td>0</td>\n",
       "      <td>0</td>\n",
       "      <td>0</td>\n",
       "      <td>0</td>\n",
       "      <td>0</td>\n",
       "      <td>0</td>\n",
       "      <td>0</td>\n",
       "      <td>0</td>\n",
       "    </tr>\n",
       "    <tr>\n",
       "      <th>1630583</th>\n",
       "      <td>3.3</td>\n",
       "      <td>2.4</td>\n",
       "      <td>0.5</td>\n",
       "      <td>0.3</td>\n",
       "      <td>0</td>\n",
       "      <td>1994520</td>\n",
       "      <td>0</td>\n",
       "      <td>0</td>\n",
       "      <td>1</td>\n",
       "      <td>0</td>\n",
       "      <td>...</td>\n",
       "      <td>0</td>\n",
       "      <td>0</td>\n",
       "      <td>0</td>\n",
       "      <td>0</td>\n",
       "      <td>0</td>\n",
       "      <td>0</td>\n",
       "      <td>0</td>\n",
       "      <td>0</td>\n",
       "      <td>0</td>\n",
       "      <td>0</td>\n",
       "    </tr>\n",
       "    <tr>\n",
       "      <th>200746</th>\n",
       "      <td>19.1</td>\n",
       "      <td>8.1</td>\n",
       "      <td>1.9</td>\n",
       "      <td>1.1</td>\n",
       "      <td>15</td>\n",
       "      <td>2641691</td>\n",
       "      <td>1</td>\n",
       "      <td>0</td>\n",
       "      <td>0</td>\n",
       "      <td>0</td>\n",
       "      <td>...</td>\n",
       "      <td>0</td>\n",
       "      <td>0</td>\n",
       "      <td>0</td>\n",
       "      <td>0</td>\n",
       "      <td>0</td>\n",
       "      <td>0</td>\n",
       "      <td>0</td>\n",
       "      <td>0</td>\n",
       "      <td>0</td>\n",
       "      <td>0</td>\n",
       "    </tr>\n",
       "  </tbody>\n",
       "</table>\n",
       "<p>5 rows × 43 columns</p>\n",
       "</div>"
      ],
      "text/plain": [
       "          PTS  REB  AST  BLK  SEASON_EXP    Salary  DRAFT_firstround_lottery  \\\n",
       "1630173   6.5  5.1  0.8  0.5           1   2711280                         0   \n",
       "203500    9.3  7.9  1.4  0.9           8  17073171                         1   \n",
       "1628389  13.2  8.2  3.5  0.9           4  28103550                         1   \n",
       "1630583   3.3  2.4  0.5  0.3           0   1994520                         0   \n",
       "200746   19.1  8.1  1.9  1.1          15   2641691                         1   \n",
       "\n",
       "         DRAFT_firstround_non_lottery  DRAFT_second_round  DRAFT_undrafted  \\\n",
       "1630173                             1                   0                0   \n",
       "203500                              0                   0                0   \n",
       "1628389                             0                   0                0   \n",
       "1630583                             0                   1                0   \n",
       "200746                              0                   0                0   \n",
       "\n",
       "         ...  TEAM_NAME_Pistons  TEAM_NAME_Raptors  TEAM_NAME_Rockets  \\\n",
       "1630173  ...                  0                  1                  0   \n",
       "203500   ...                  0                  0                  0   \n",
       "1628389  ...                  0                  0                  0   \n",
       "1630583  ...                  0                  0                  0   \n",
       "200746   ...                  0                  0                  0   \n",
       "\n",
       "         TEAM_NAME_Spurs  TEAM_NAME_Suns  TEAM_NAME_Thunder  \\\n",
       "1630173                0               0                  0   \n",
       "203500                 0               0                  0   \n",
       "1628389                0               0                  0   \n",
       "1630583                0               0                  0   \n",
       "200746                 0               0                  0   \n",
       "\n",
       "         TEAM_NAME_Timberwolves  TEAM_NAME_Trail Blazers  TEAM_NAME_Warriors  \\\n",
       "1630173                       0                        0                   0   \n",
       "203500                        0                        0                   0   \n",
       "1628389                       0                        0                   0   \n",
       "1630583                       0                        0                   0   \n",
       "200746                        0                        0                   0   \n",
       "\n",
       "         TEAM_NAME_Wizards  \n",
       "1630173                  0  \n",
       "203500                   0  \n",
       "1628389                  0  \n",
       "1630583                  0  \n",
       "200746                   0  \n",
       "\n",
       "[5 rows x 43 columns]"
      ]
     },
     "execution_count": 482,
     "metadata": {},
     "output_type": "execute_result"
    }
   ],
   "source": [
    "data_mlt_sgd = pd.get_dummies(data_mlt_sgd, columns=['DRAFT','POSITION','TEAM_NAME'])\n",
    "data_mlt_sgd.head()"
   ]
  },
  {
   "cell_type": "markdown",
   "id": "1eb528f1-852e-428e-b97c-40b412985f98",
   "metadata": {
    "id": "1eb528f1-852e-428e-b97c-40b412985f98"
   },
   "source": [
    "\n",
    "\n",
    "#### Modeling"
   ]
  },
  {
   "cell_type": "markdown",
   "id": "f6b1a251",
   "metadata": {},
   "source": [
    "1.13. Split the dataset into train and test"
   ]
  },
  {
   "cell_type": "code",
   "execution_count": 483,
   "id": "b494af3d",
   "metadata": {
    "ExecuteTime": {
     "end_time": "2022-05-06T20:45:37.948761Z",
     "start_time": "2022-05-06T20:45:37.939766Z"
    }
   },
   "outputs": [],
   "source": [
    "target_mlt_sgd = \"Salary\"\n",
    "labels_mlt_sgd = data_mlt_sgd.columns.drop(\"Salary\").values\n",
    "y = data_mlt_sgd[target_mlt_sgd]\n",
    "X = data_mlt_sgd[labels_mlt_sgd]"
   ]
  },
  {
   "cell_type": "code",
   "execution_count": 484,
   "id": "4c214d74",
   "metadata": {
    "ExecuteTime": {
     "end_time": "2022-05-06T20:45:39.344767Z",
     "start_time": "2022-05-06T20:45:39.333770Z"
    }
   },
   "outputs": [],
   "source": [
    "X_train, X_test, y_train, y_test = train_test_split(X, y, test_size=0.10, random_state=8)"
   ]
  },
  {
   "cell_type": "markdown",
   "id": "14255740",
   "metadata": {},
   "source": [
    "1.14. Perform feature scaling in all the numerical features (\"PTS\", \"REB\", \"AST\", \"BLK\", \"SEASON_EXP\") except for draft number (which we will tackle next)"
   ]
  },
  {
   "cell_type": "code",
   "execution_count": 485,
   "id": "5d897703",
   "metadata": {
    "ExecuteTime": {
     "end_time": "2022-05-06T20:45:40.677774Z",
     "start_time": "2022-05-06T20:45:40.674763Z"
    }
   },
   "outputs": [],
   "source": [
    "mult_sgd_scaler = MinMaxScaler()"
   ]
  },
  {
   "cell_type": "code",
   "execution_count": 486,
   "id": "1a0b31d6",
   "metadata": {
    "ExecuteTime": {
     "end_time": "2022-05-06T20:45:41.891764Z",
     "start_time": "2022-05-06T20:45:41.876770Z"
    }
   },
   "outputs": [
    {
     "data": {
      "text/plain": [
       "MinMaxScaler()"
      ]
     },
     "execution_count": 486,
     "metadata": {},
     "output_type": "execute_result"
    }
   ],
   "source": [
    "mult_sgd_scaler.fit(X_train[[\"PTS\", \"REB\", \"AST\", \"BLK\", \"SEASON_EXP\"]])"
   ]
  },
  {
   "cell_type": "code",
   "execution_count": 487,
   "id": "f04a527c",
   "metadata": {
    "ExecuteTime": {
     "end_time": "2022-05-06T20:45:43.410766Z",
     "start_time": "2022-05-06T20:45:43.383768Z"
    }
   },
   "outputs": [],
   "source": [
    "X_train[[\"PTS\", \"REB\", \"AST\", \"BLK\", \"SEASON_EXP\"]] = mult_sgd_scaler.transform(\n",
    "    X_train[[\"PTS\", \"REB\", \"AST\", \"BLK\", \"SEASON_EXP\"]])"
   ]
  },
  {
   "cell_type": "code",
   "execution_count": 488,
   "id": "c0fe4668",
   "metadata": {
    "ExecuteTime": {
     "end_time": "2022-05-06T20:45:45.264296Z",
     "start_time": "2022-05-06T20:45:45.252297Z"
    }
   },
   "outputs": [],
   "source": [
    "X_test[[\"PTS\", \"REB\", \"AST\", \"BLK\", \"SEASON_EXP\"]] = mult_sgd_scaler.transform(\n",
    "    X_test[[\"PTS\", \"REB\", \"AST\", \"BLK\", \"SEASON_EXP\"]])"
   ]
  },
  {
   "cell_type": "markdown",
   "id": "7790c25a-b516-4e3f-b311-6e5b026bfb80",
   "metadata": {
    "id": "7790c25a-b516-4e3f-b311-6e5b026bfb80"
   },
   "source": [
    "1.15. Write a function to train a SGDRegressor model with the new dataset, trying different hyperparameters, and selecting the one that performs the best."
   ]
  },
  {
   "cell_type": "code",
   "execution_count": 489,
   "id": "2a3ba7b2",
   "metadata": {
    "ExecuteTime": {
     "end_time": "2022-05-06T20:45:46.845300Z",
     "start_time": "2022-05-06T20:45:46.832301Z"
    },
    "code_folding": []
   },
   "outputs": [],
   "source": [
    "def search_best_hyperparameters_m(max_iter, eta0):   \n",
    "    result = {}\n",
    "    for ep in max_iter:\n",
    "        for lr in eta0:\n",
    "            append_value(result,\"hyperparameters\",{\"max_iter\": ep, \"eta0\": lr})\n",
    "            append_value(result,\"mae\",9999999999)\n",
    "    for i in result[\"hyperparameters\"]:\n",
    "        sg_t_model = SGDRegressor(eta0=i[\"eta0\"], max_iter=i[\"max_iter\"],random_state=8) \n",
    "        sg_t_model.fit(X_train,y_train)\n",
    "        y_pred = sg_t_model.predict(X_test)\n",
    "        ind = result[\"hyperparameters\"].index(i)\n",
    "        result[\"mae\"][ind] = int(round(mean_absolute_error(y_test,y_pred)))\n",
    "    return result"
   ]
  },
  {
   "cell_type": "code",
   "execution_count": 638,
   "id": "f07e7d94",
   "metadata": {
    "ExecuteTime": {
     "end_time": "2022-05-07T23:08:19.566573Z",
     "start_time": "2022-05-07T23:08:17.016809Z"
    }
   },
   "outputs": [
    {
     "name": "stderr",
     "output_type": "stream",
     "text": [
      "C:\\Users\\dgenz\\miniconda3\\lib\\site-packages\\sklearn\\linear_model\\_stochastic_gradient.py:1503: ConvergenceWarning: Maximum number of iteration reached before convergence. Consider increasing max_iter to improve the fit.\n",
      "  warnings.warn(\n",
      "C:\\Users\\dgenz\\miniconda3\\lib\\site-packages\\sklearn\\linear_model\\_stochastic_gradient.py:1503: ConvergenceWarning: Maximum number of iteration reached before convergence. Consider increasing max_iter to improve the fit.\n",
      "  warnings.warn(\n",
      "C:\\Users\\dgenz\\miniconda3\\lib\\site-packages\\sklearn\\linear_model\\_stochastic_gradient.py:1503: ConvergenceWarning: Maximum number of iteration reached before convergence. Consider increasing max_iter to improve the fit.\n",
      "  warnings.warn(\n"
     ]
    }
   ],
   "source": [
    "max_iter = [100000, 1300, 1200, 1500]\n",
    "eta0 = [ 0.001, 0.01, 0.1, 0.05]\n",
    "\n",
    "result = search_best_hyperparameters_m(max_iter,eta0)"
   ]
  },
  {
   "cell_type": "code",
   "execution_count": 639,
   "id": "2be313b4",
   "metadata": {
    "ExecuteTime": {
     "end_time": "2022-05-07T23:08:21.385979Z",
     "start_time": "2022-05-07T23:08:21.364975Z"
    }
   },
   "outputs": [
    {
     "name": "stdout",
     "output_type": "stream",
     "text": [
      "Best combination of parameters\n",
      "Max iter: 1200\n",
      "eta0: 0.001\n",
      "MAE obtained: 4816581\n"
     ]
    }
   ],
   "source": [
    "print(\"Best combination of parameters\\nMax iter: \", end=\"\")\n",
    "print(result[\"hyperparameters\"][result[\"mae\"].index(sorted(result[\"mae\"], reverse=False)[0])][\"max_iter\"])\n",
    "print(\"eta0: \", end=\"\")\n",
    "print(result[\"hyperparameters\"][result[\"mae\"].index(sorted(result[\"mae\"], reverse=False)[0])][\"eta0\"])\n",
    "print(\"MAE obtained: \", end=\"\")\n",
    "print(result[\"mae\"][result[\"mae\"].index(sorted(result[\"mae\"], reverse=False)[0])])"
   ]
  },
  {
   "cell_type": "code",
   "execution_count": 525,
   "id": "7d8642f3-895c-4d8d-85b7-80a087a0adef",
   "metadata": {
    "ExecuteTime": {
     "end_time": "2022-05-06T20:55:38.481751Z",
     "start_time": "2022-05-06T20:55:38.475751Z"
    },
    "id": "7d8642f3-895c-4d8d-85b7-80a087a0adef"
   },
   "outputs": [],
   "source": [
    "mult_sgd_model = SGDRegressor(eta0=0.001, max_iter=1200, random_state=8)"
   ]
  },
  {
   "cell_type": "code",
   "execution_count": 526,
   "id": "cf8f571f",
   "metadata": {
    "ExecuteTime": {
     "end_time": "2022-05-06T20:55:39.676254Z",
     "start_time": "2022-05-06T20:55:39.568244Z"
    }
   },
   "outputs": [
    {
     "name": "stderr",
     "output_type": "stream",
     "text": [
      "C:\\Users\\dgenz\\miniconda3\\lib\\site-packages\\sklearn\\linear_model\\_stochastic_gradient.py:1503: ConvergenceWarning: Maximum number of iteration reached before convergence. Consider increasing max_iter to improve the fit.\n",
      "  warnings.warn(\n"
     ]
    },
    {
     "data": {
      "text/plain": [
       "SGDRegressor(eta0=0.001, max_iter=1200, random_state=8)"
      ]
     },
     "execution_count": 526,
     "metadata": {},
     "output_type": "execute_result"
    }
   ],
   "source": [
    "mult_sgd_model.fit(X=X_train, y=y_train)"
   ]
  },
  {
   "cell_type": "code",
   "execution_count": 527,
   "id": "a144f811",
   "metadata": {
    "ExecuteTime": {
     "end_time": "2022-05-06T20:55:40.662277Z",
     "start_time": "2022-05-06T20:55:40.649245Z"
    }
   },
   "outputs": [],
   "source": [
    "mult_sgd_pred = mult_sgd_model.predict(X_test)"
   ]
  },
  {
   "cell_type": "code",
   "execution_count": 528,
   "id": "6c23c6c7",
   "metadata": {
    "ExecuteTime": {
     "end_time": "2022-05-06T20:55:41.661244Z",
     "start_time": "2022-05-06T20:55:41.649245Z"
    }
   },
   "outputs": [
    {
     "data": {
      "text/plain": [
       "4816581"
      ]
     },
     "execution_count": 528,
     "metadata": {},
     "output_type": "execute_result"
    }
   ],
   "source": [
    "mult_sgd_mae = int(round(mean_absolute_error(y_test, mult_sgd_pred)))\n",
    "mult_sgd_mae"
   ]
  },
  {
   "cell_type": "markdown",
   "id": "33d63bc7-448d-40a6-a314-6602c75e2284",
   "metadata": {
    "id": "33d63bc7-448d-40a6-a314-6602c75e2284"
   },
   "source": [
    "1.16. How did the model performed compared to our univariate models? "
   ]
  },
  {
   "cell_type": "code",
   "execution_count": 579,
   "id": "3391bc88",
   "metadata": {
    "ExecuteTime": {
     "end_time": "2022-05-07T22:27:17.069016Z",
     "start_time": "2022-05-07T22:27:17.058018Z"
    },
    "id": "b8dc264b-1fde-4de3-9099-a526210075fa",
    "scrolled": true
   },
   "outputs": [
    {
     "name": "stdout",
     "output_type": "stream",
     "text": [
      "Mean Absolute Error for each model:\n",
      "Baseline: 6716417\n",
      "Default SGDRegressor: 4744814\n",
      "Best SGDRegressor: 4637747\n",
      "Best SGDRegressor multi_feature: 4816581\n"
     ]
    }
   ],
   "source": [
    "print(\"Mean Absolute Error for each model:\")\n",
    "print(f\"Baseline: {baseline_mae}\")\n",
    "print(f\"Default SGDRegressor: {sgd_default_mae}\")\n",
    "print(f\"Best SGDRegressor: {sgd_tuned_mae}\")\n",
    "print(f\"Best SGDRegressor multi_feature: {mult_sgd_mae}\")"
   ]
  },
  {
   "cell_type": "markdown",
   "id": "3b32cdeb",
   "metadata": {},
   "source": [
    "The model perfomed a 4% worse than the single feature one"
   ]
  },
  {
   "cell_type": "markdown",
   "id": "e9992197-563b-4a69-9cd7-97fcb9ee3677",
   "metadata": {
    "id": "e9992197-563b-4a69-9cd7-97fcb9ee3677",
    "tags": []
   },
   "source": [
    "### DecisionTreeRegressor\n",
    "\n",
    "It is possible that this problem might not be easily resolvable by a linear model, or that there could be better types of algorithms to tackle it. As an example, let's try with a very used algorithm, a Decision Tree.\n",
    "\n"
   ]
  },
  {
   "cell_type": "markdown",
   "id": "61930247-d4b0-4bdf-ad98-a421457e2c4a",
   "metadata": {
    "id": "61930247-d4b0-4bdf-ad98-a421457e2c4a"
   },
   "source": [
    "1.17. Create new model using [DecisionTreeRegressor](https://scikit-learn.org/stable/auto_examples/tree/plot_tree_regression.html) from scikit learn. We will use again all variables, and try different configuration for the following hyperparameters:\n",
    "\n",
    "- max_depth\n",
    "- min_samples_leaf\n",
    "- max_features\n",
    "\n",
    "These are all regularization hyperparameters for this algorithm. Read the documentation to get a better grasp of what each one does."
   ]
  },
  {
   "cell_type": "code",
   "execution_count": 530,
   "id": "77ddf827",
   "metadata": {
    "ExecuteTime": {
     "end_time": "2022-05-06T20:55:49.578134Z",
     "start_time": "2022-05-06T20:55:49.573129Z"
    }
   },
   "outputs": [],
   "source": [
    "x_tree_train = X_train.copy()\n",
    "x_tree_test = X_test.copy()"
   ]
  },
  {
   "cell_type": "code",
   "execution_count": 531,
   "id": "cf155e77",
   "metadata": {
    "ExecuteTime": {
     "end_time": "2022-05-06T20:55:50.659131Z",
     "start_time": "2022-05-06T20:55:50.630159Z"
    },
    "scrolled": true
   },
   "outputs": [
    {
     "data": {
      "text/html": [
       "<div>\n",
       "<style scoped>\n",
       "    .dataframe tbody tr th:only-of-type {\n",
       "        vertical-align: middle;\n",
       "    }\n",
       "\n",
       "    .dataframe tbody tr th {\n",
       "        vertical-align: top;\n",
       "    }\n",
       "\n",
       "    .dataframe thead th {\n",
       "        text-align: right;\n",
       "    }\n",
       "</style>\n",
       "<table border=\"1\" class=\"dataframe\">\n",
       "  <thead>\n",
       "    <tr style=\"text-align: right;\">\n",
       "      <th></th>\n",
       "      <th>PTS</th>\n",
       "      <th>REB</th>\n",
       "      <th>AST</th>\n",
       "      <th>BLK</th>\n",
       "      <th>SEASON_EXP</th>\n",
       "      <th>DRAFT_firstround_lottery</th>\n",
       "      <th>DRAFT_firstround_non_lottery</th>\n",
       "      <th>DRAFT_second_round</th>\n",
       "      <th>DRAFT_undrafted</th>\n",
       "      <th>POSITION_Center</th>\n",
       "      <th>...</th>\n",
       "      <th>TEAM_NAME_Pistons</th>\n",
       "      <th>TEAM_NAME_Raptors</th>\n",
       "      <th>TEAM_NAME_Rockets</th>\n",
       "      <th>TEAM_NAME_Spurs</th>\n",
       "      <th>TEAM_NAME_Suns</th>\n",
       "      <th>TEAM_NAME_Thunder</th>\n",
       "      <th>TEAM_NAME_Timberwolves</th>\n",
       "      <th>TEAM_NAME_Trail Blazers</th>\n",
       "      <th>TEAM_NAME_Warriors</th>\n",
       "      <th>TEAM_NAME_Wizards</th>\n",
       "    </tr>\n",
       "  </thead>\n",
       "  <tbody>\n",
       "    <tr>\n",
       "      <th>1629642</th>\n",
       "      <td>0.214022</td>\n",
       "      <td>0.226562</td>\n",
       "      <td>0.073684</td>\n",
       "      <td>0.217391</td>\n",
       "      <td>0.111111</td>\n",
       "      <td>0</td>\n",
       "      <td>1</td>\n",
       "      <td>0</td>\n",
       "      <td>0</td>\n",
       "      <td>0</td>\n",
       "      <td>...</td>\n",
       "      <td>0</td>\n",
       "      <td>0</td>\n",
       "      <td>0</td>\n",
       "      <td>0</td>\n",
       "      <td>0</td>\n",
       "      <td>0</td>\n",
       "      <td>0</td>\n",
       "      <td>1</td>\n",
       "      <td>0</td>\n",
       "      <td>0</td>\n",
       "    </tr>\n",
       "    <tr>\n",
       "      <th>203925</th>\n",
       "      <td>0.409594</td>\n",
       "      <td>0.210938</td>\n",
       "      <td>0.168421</td>\n",
       "      <td>0.086957</td>\n",
       "      <td>0.388889</td>\n",
       "      <td>0</td>\n",
       "      <td>0</td>\n",
       "      <td>1</td>\n",
       "      <td>0</td>\n",
       "      <td>0</td>\n",
       "      <td>...</td>\n",
       "      <td>0</td>\n",
       "      <td>0</td>\n",
       "      <td>0</td>\n",
       "      <td>0</td>\n",
       "      <td>0</td>\n",
       "      <td>0</td>\n",
       "      <td>0</td>\n",
       "      <td>0</td>\n",
       "      <td>0</td>\n",
       "      <td>0</td>\n",
       "    </tr>\n",
       "    <tr>\n",
       "      <th>200794</th>\n",
       "      <td>0.494465</td>\n",
       "      <td>0.515625</td>\n",
       "      <td>0.231579</td>\n",
       "      <td>0.434783</td>\n",
       "      <td>0.833333</td>\n",
       "      <td>0</td>\n",
       "      <td>0</td>\n",
       "      <td>1</td>\n",
       "      <td>0</td>\n",
       "      <td>0</td>\n",
       "      <td>...</td>\n",
       "      <td>0</td>\n",
       "      <td>0</td>\n",
       "      <td>0</td>\n",
       "      <td>0</td>\n",
       "      <td>0</td>\n",
       "      <td>0</td>\n",
       "      <td>0</td>\n",
       "      <td>0</td>\n",
       "      <td>0</td>\n",
       "      <td>0</td>\n",
       "    </tr>\n",
       "    <tr>\n",
       "      <th>200746</th>\n",
       "      <td>0.704797</td>\n",
       "      <td>0.593750</td>\n",
       "      <td>0.200000</td>\n",
       "      <td>0.478261</td>\n",
       "      <td>0.833333</td>\n",
       "      <td>1</td>\n",
       "      <td>0</td>\n",
       "      <td>0</td>\n",
       "      <td>0</td>\n",
       "      <td>1</td>\n",
       "      <td>...</td>\n",
       "      <td>0</td>\n",
       "      <td>0</td>\n",
       "      <td>0</td>\n",
       "      <td>0</td>\n",
       "      <td>0</td>\n",
       "      <td>0</td>\n",
       "      <td>0</td>\n",
       "      <td>0</td>\n",
       "      <td>0</td>\n",
       "      <td>0</td>\n",
       "    </tr>\n",
       "    <tr>\n",
       "      <th>1630172</th>\n",
       "      <td>0.335793</td>\n",
       "      <td>0.304688</td>\n",
       "      <td>0.136842</td>\n",
       "      <td>0.260870</td>\n",
       "      <td>0.055556</td>\n",
       "      <td>1</td>\n",
       "      <td>0</td>\n",
       "      <td>0</td>\n",
       "      <td>0</td>\n",
       "      <td>0</td>\n",
       "      <td>...</td>\n",
       "      <td>0</td>\n",
       "      <td>0</td>\n",
       "      <td>0</td>\n",
       "      <td>0</td>\n",
       "      <td>0</td>\n",
       "      <td>0</td>\n",
       "      <td>0</td>\n",
       "      <td>0</td>\n",
       "      <td>0</td>\n",
       "      <td>0</td>\n",
       "    </tr>\n",
       "  </tbody>\n",
       "</table>\n",
       "<p>5 rows × 42 columns</p>\n",
       "</div>"
      ],
      "text/plain": [
       "              PTS       REB       AST       BLK  SEASON_EXP  \\\n",
       "1629642  0.214022  0.226562  0.073684  0.217391    0.111111   \n",
       "203925   0.409594  0.210938  0.168421  0.086957    0.388889   \n",
       "200794   0.494465  0.515625  0.231579  0.434783    0.833333   \n",
       "200746   0.704797  0.593750  0.200000  0.478261    0.833333   \n",
       "1630172  0.335793  0.304688  0.136842  0.260870    0.055556   \n",
       "\n",
       "         DRAFT_firstround_lottery  DRAFT_firstround_non_lottery  \\\n",
       "1629642                         0                             1   \n",
       "203925                          0                             0   \n",
       "200794                          0                             0   \n",
       "200746                          1                             0   \n",
       "1630172                         1                             0   \n",
       "\n",
       "         DRAFT_second_round  DRAFT_undrafted  POSITION_Center  ...  \\\n",
       "1629642                   0                0                0  ...   \n",
       "203925                    1                0                0  ...   \n",
       "200794                    1                0                0  ...   \n",
       "200746                    0                0                1  ...   \n",
       "1630172                   0                0                0  ...   \n",
       "\n",
       "         TEAM_NAME_Pistons  TEAM_NAME_Raptors  TEAM_NAME_Rockets  \\\n",
       "1629642                  0                  0                  0   \n",
       "203925                   0                  0                  0   \n",
       "200794                   0                  0                  0   \n",
       "200746                   0                  0                  0   \n",
       "1630172                  0                  0                  0   \n",
       "\n",
       "         TEAM_NAME_Spurs  TEAM_NAME_Suns  TEAM_NAME_Thunder  \\\n",
       "1629642                0               0                  0   \n",
       "203925                 0               0                  0   \n",
       "200794                 0               0                  0   \n",
       "200746                 0               0                  0   \n",
       "1630172                0               0                  0   \n",
       "\n",
       "         TEAM_NAME_Timberwolves  TEAM_NAME_Trail Blazers  TEAM_NAME_Warriors  \\\n",
       "1629642                       0                        1                   0   \n",
       "203925                        0                        0                   0   \n",
       "200794                        0                        0                   0   \n",
       "200746                        0                        0                   0   \n",
       "1630172                       0                        0                   0   \n",
       "\n",
       "         TEAM_NAME_Wizards  \n",
       "1629642                  0  \n",
       "203925                   0  \n",
       "200794                   0  \n",
       "200746                   0  \n",
       "1630172                  0  \n",
       "\n",
       "[5 rows x 42 columns]"
      ]
     },
     "execution_count": 531,
     "metadata": {},
     "output_type": "execute_result"
    }
   ],
   "source": [
    "x_tree_train.head()"
   ]
  },
  {
   "cell_type": "code",
   "execution_count": 532,
   "id": "e6a3c20e",
   "metadata": {
    "ExecuteTime": {
     "end_time": "2022-05-06T20:55:51.721752Z",
     "start_time": "2022-05-06T20:55:51.707754Z"
    },
    "code_folding": []
   },
   "outputs": [],
   "source": [
    "def search_best_hyperparameters_tree(max_depth, min_samples_leaf, max_features):   \n",
    "    result = {}\n",
    "    for ep in max_depth:\n",
    "        for lr in min_samples_leaf:\n",
    "            for a in max_features:\n",
    "                append_value(result,\"hyperparameters\",{\"max_depth\": ep, \"min_samples_leaf\": lr, \"max_features\": a})\n",
    "                append_value(result,\"mae\",9999999999)\n",
    "    for i in result[\"hyperparameters\"]:\n",
    "        tree_model = DecisionTreeRegressor(max_depth=i[\"max_depth\"] , min_samples_leaf=i[\"min_samples_leaf\"], max_features=i[\"max_features\"], random_state=8)   \n",
    "        tree_model.fit(x_tree_train,y_train)\n",
    "        y_pred = tree_model.predict(x_tree_test)\n",
    "        ind = result[\"hyperparameters\"].index(i)\n",
    "        result[\"mae\"][ind] = int(round(mean_absolute_error(y_test,y_pred)))\n",
    "    return result"
   ]
  },
  {
   "cell_type": "code",
   "execution_count": 640,
   "id": "3db3da4f",
   "metadata": {
    "ExecuteTime": {
     "end_time": "2022-05-07T23:09:42.751911Z",
     "start_time": "2022-05-07T23:09:41.710858Z"
    }
   },
   "outputs": [],
   "source": [
    "# List of hyperparameter example values\n",
    "max_depth = [22, 10, 15, 20, 25, 18]\n",
    "min_samples_leaf = [1, 2, 10, 20, 50]\n",
    "max_features = [5, 10, 20, 30 , 40, None]\n",
    "\n",
    "result = search_best_hyperparameters_tree(max_depth,min_samples_leaf,max_features)"
   ]
  },
  {
   "cell_type": "code",
   "execution_count": 641,
   "id": "4c36f930",
   "metadata": {
    "ExecuteTime": {
     "end_time": "2022-05-07T23:09:42.767855Z",
     "start_time": "2022-05-07T23:09:42.754848Z"
    },
    "code_folding": [
     1,
     14,
     21
    ]
   },
   "outputs": [
    {
     "name": "stdout",
     "output_type": "stream",
     "text": [
      "Best combination of parameters\n",
      "Max depth: 22\n",
      "Min sample leaf: 1\n",
      "Max features: 30\n",
      "MAE obtained: 2146411\n"
     ]
    }
   ],
   "source": [
    "print(\"Best combination of parameters\\nMax depth: \", end=\"\")\n",
    "print(result[\"hyperparameters\"][result[\"mae\"].index(sorted(result[\"mae\"], reverse=False)[0])][\"max_depth\"])\n",
    "print(\"Min sample leaf: \", end=\"\")\n",
    "print(result[\"hyperparameters\"][result[\"mae\"].index(sorted(result[\"mae\"], reverse=False)[0])][\"min_samples_leaf\"])\n",
    "print(\"Max features: \", end=\"\")\n",
    "print(result[\"hyperparameters\"][result[\"mae\"].index(sorted(result[\"mae\"], reverse=False)[0])][\"max_features\"])\n",
    "print(\"MAE obtained: \", end=\"\")\n",
    "print(result[\"mae\"][result[\"mae\"].index(sorted(result[\"mae\"], reverse=False)[0])])"
   ]
  },
  {
   "cell_type": "code",
   "execution_count": 542,
   "id": "a38507cd",
   "metadata": {
    "ExecuteTime": {
     "end_time": "2022-05-06T20:57:04.684491Z",
     "start_time": "2022-05-06T20:57:04.667493Z"
    }
   },
   "outputs": [],
   "source": [
    "tree_model = DecisionTreeRegressor(max_depth=22, max_features=30, random_state=8)"
   ]
  },
  {
   "cell_type": "code",
   "execution_count": 543,
   "id": "424a21e4",
   "metadata": {
    "ExecuteTime": {
     "end_time": "2022-05-06T20:57:05.749466Z",
     "start_time": "2022-05-06T20:57:05.737464Z"
    }
   },
   "outputs": [
    {
     "data": {
      "text/plain": [
       "DecisionTreeRegressor(max_depth=22, max_features=30, random_state=8)"
      ]
     },
     "execution_count": 543,
     "metadata": {},
     "output_type": "execute_result"
    }
   ],
   "source": [
    "tree_model.fit(x_tree_train,y_train)"
   ]
  },
  {
   "cell_type": "code",
   "execution_count": 546,
   "id": "6b736ad0",
   "metadata": {
    "ExecuteTime": {
     "end_time": "2022-05-06T20:57:14.343312Z",
     "start_time": "2022-05-06T20:57:14.321315Z"
    }
   },
   "outputs": [],
   "source": [
    "y_p = tree_model.predict(x_tree_test)"
   ]
  },
  {
   "cell_type": "code",
   "execution_count": 545,
   "id": "7432f438",
   "metadata": {
    "ExecuteTime": {
     "end_time": "2022-05-06T20:57:07.835731Z",
     "start_time": "2022-05-06T20:57:07.824736Z"
    },
    "scrolled": false
   },
   "outputs": [
    {
     "data": {
      "text/plain": [
       "2146411"
      ]
     },
     "execution_count": 545,
     "metadata": {},
     "output_type": "execute_result"
    }
   ],
   "source": [
    "error_tree = int(round(mean_absolute_error(y_test,y_p)))\n",
    "error_tree"
   ]
  },
  {
   "cell_type": "code",
   "execution_count": 642,
   "id": "fdaf8789",
   "metadata": {
    "ExecuteTime": {
     "end_time": "2022-05-07T23:10:43.222346Z",
     "start_time": "2022-05-07T23:10:43.201310Z"
    },
    "scrolled": true
   },
   "outputs": [
    {
     "data": {
      "text/html": [
       "<div>\n",
       "<style scoped>\n",
       "    .dataframe tbody tr th:only-of-type {\n",
       "        vertical-align: middle;\n",
       "    }\n",
       "\n",
       "    .dataframe tbody tr th {\n",
       "        vertical-align: top;\n",
       "    }\n",
       "\n",
       "    .dataframe thead th {\n",
       "        text-align: right;\n",
       "    }\n",
       "</style>\n",
       "<table border=\"1\" class=\"dataframe\">\n",
       "  <thead>\n",
       "    <tr style=\"text-align: right;\">\n",
       "      <th></th>\n",
       "      <th>Features</th>\n",
       "      <th>Importance</th>\n",
       "    </tr>\n",
       "  </thead>\n",
       "  <tbody>\n",
       "    <tr>\n",
       "      <th>2</th>\n",
       "      <td>AST</td>\n",
       "      <td>0.319276</td>\n",
       "    </tr>\n",
       "    <tr>\n",
       "      <th>0</th>\n",
       "      <td>PTS</td>\n",
       "      <td>0.294030</td>\n",
       "    </tr>\n",
       "    <tr>\n",
       "      <th>4</th>\n",
       "      <td>SEASON_EXP</td>\n",
       "      <td>0.198506</td>\n",
       "    </tr>\n",
       "    <tr>\n",
       "      <th>1</th>\n",
       "      <td>REB</td>\n",
       "      <td>0.038849</td>\n",
       "    </tr>\n",
       "    <tr>\n",
       "      <th>3</th>\n",
       "      <td>BLK</td>\n",
       "      <td>0.035487</td>\n",
       "    </tr>\n",
       "    <tr>\n",
       "      <th>24</th>\n",
       "      <td>TEAM_NAME_Knicks</td>\n",
       "      <td>0.022849</td>\n",
       "    </tr>\n",
       "    <tr>\n",
       "      <th>20</th>\n",
       "      <td>TEAM_NAME_Heat</td>\n",
       "      <td>0.013934</td>\n",
       "    </tr>\n",
       "    <tr>\n",
       "      <th>17</th>\n",
       "      <td>TEAM_NAME_Clippers</td>\n",
       "      <td>0.012234</td>\n",
       "    </tr>\n",
       "  </tbody>\n",
       "</table>\n",
       "</div>"
      ],
      "text/plain": [
       "              Features  Importance\n",
       "2                  AST    0.319276\n",
       "0                  PTS    0.294030\n",
       "4           SEASON_EXP    0.198506\n",
       "1                  REB    0.038849\n",
       "3                  BLK    0.035487\n",
       "24    TEAM_NAME_Knicks    0.022849\n",
       "20      TEAM_NAME_Heat    0.013934\n",
       "17  TEAM_NAME_Clippers    0.012234"
      ]
     },
     "execution_count": 642,
     "metadata": {},
     "output_type": "execute_result"
    }
   ],
   "source": [
    "cols = pd.DataFrame(x_tree_train.columns, columns=[\"Features\"])\n",
    "imp = pd.DataFrame(tree_model.feature_importances_, columns=[\"Importance\"])\n",
    "col_imp = cols.join(imp)\n",
    "col_imp.sort_values(\"Importance\", ascending=False).head(8)"
   ]
  },
  {
   "cell_type": "markdown",
   "id": "71ef72fc-7386-433c-9725-2055f4016ae9",
   "metadata": {
    "id": "71ef72fc-7386-433c-9725-2055f4016ae9"
   },
   "source": [
    "1.18. Compare the results obtained with the best decision tree model against the baseline, default and the best params sgd regressors-"
   ]
  },
  {
   "cell_type": "code",
   "execution_count": 548,
   "id": "af1084d8-97a4-4618-b4f4-0952e0b39f09",
   "metadata": {
    "ExecuteTime": {
     "end_time": "2022-05-06T20:57:33.209082Z",
     "start_time": "2022-05-06T20:57:33.189083Z"
    },
    "id": "af1084d8-97a4-4618-b4f4-0952e0b39f09",
    "scrolled": true
   },
   "outputs": [
    {
     "name": "stdout",
     "output_type": "stream",
     "text": [
      "Mean Absolute Error for each model:\n",
      "Baseline: 6716417\n",
      "Default SGDRegressor: 4744814\n",
      "Best SGDRegressor: 4637747\n",
      "Best SGDRegressor multi_feature: 4816581\n",
      "Best DecisionTreeRegressor: 2146411\n"
     ]
    }
   ],
   "source": [
    "print(\"Mean Absolute Error for each model:\")\n",
    "print(f\"Baseline: {baseline_mae}\")\n",
    "print(f\"Default SGDRegressor: {sgd_default_mae}\")\n",
    "print(f\"Best SGDRegressor: {sgd_tuned_mae}\")\n",
    "print(f\"Best SGDRegressor multi_feature: {mult_sgd_mae}\")\n",
    "print(f\"Best DecisionTreeRegressor: {error_tree}\")"
   ]
  },
  {
   "cell_type": "markdown",
   "id": "ce424a87-37af-470d-9a14-ec6ae2258eb1",
   "metadata": {
    "id": "ce424a87-37af-470d-9a14-ec6ae2258eb1"
   },
   "source": [
    "### Analyzing our results"
   ]
  },
  {
   "cell_type": "markdown",
   "id": "ed6c9746-ed98-4075-9a6a-adb24056d217",
   "metadata": {
    "id": "ed6c9746-ed98-4075-9a6a-adb24056d217"
   },
   "source": [
    "Based on what you found, and what you read about players salaries above, answer the following: "
   ]
  },
  {
   "cell_type": "markdown",
   "id": "e204456d-cb86-47a0-9c3c-6307d8a831fa",
   "metadata": {
    "id": "e204456d-cb86-47a0-9c3c-6307d8a831fa"
   },
   "source": [
    "1.19. Which kind of model worked better in this dataset, linear or non linear models? Do you have any hypothesis about why? "
   ]
  },
  {
   "cell_type": "markdown",
   "id": "c40f3efe",
   "metadata": {
    "id": "7f384324-76df-435c-97f5-57ccfd25157a"
   },
   "source": [
    "The nonlinear model worked better and I think that the players whose season exp is lesser than 4 years are affecting the linear models because their salary does not correspond to their game statistics"
   ]
  },
  {
   "cell_type": "markdown",
   "id": "f09e5c20-3f7b-4938-a1b3-34ada990f181",
   "metadata": {
    "id": "f09e5c20-3f7b-4938-a1b3-34ada990f181"
   },
   "source": [
    "1.20. Is there something else we could do to improve our results if wanted to make a more accurate model?"
   ]
  },
  {
   "cell_type": "markdown",
   "id": "8e13cd04-55a1-4d7c-a815-f9410c7ba2e6",
   "metadata": {
    "id": "8e13cd04-55a1-4d7c-a815-f9410c7ba2e6"
   },
   "source": [
    "We might gather more information about player's salaries and separate the problem into two models one trained with rookies players and another with the rest of the players"
   ]
  },
  {
   "cell_type": "markdown",
   "id": "25e23c2a-a0bf-4d39-bc1b-9524107f3a02",
   "metadata": {
    "id": "25e23c2a-a0bf-4d39-bc1b-9524107f3a02"
   },
   "source": [
    "## Star or no Star? Predicting players All-NBA selections"
   ]
  },
  {
   "cell_type": "markdown",
   "id": "26cd4fec-1b8b-4bfc-8024-dcdd5b8b803a",
   "metadata": {
    "id": "26cd4fec-1b8b-4bfc-8024-dcdd5b8b803a"
   },
   "source": [
    "In this section we're going to try to solve a different question:\n",
    "\n",
    "Can we train a model to predict which players are going to be selected to ALL-NBA teams at the end of the season? This is a [binary classification](https://en.wikipedia.org/wiki/Binary_classification) task, so we're training our first classifier model to solve this problem.\n",
    "\n",
    "Consider that:\n",
    "\n",
    "- Being selected as part of the [All-NBA teams](https://en.wikipedia.org/wiki/All-NBA_Team) is different than being selected for [All-Star Game](https://en.wikipedia.org/wiki/NBA_All-Star_Game). \n",
    "- You're trying to predict All-NBA selections, which takes place after the regular season but before playoffs start, so we're only going to use players and teams statistics about the regular season (you're not going to consider if the players got to the NBA finals for example). \n",
    "- All Star game takes place at the middle point of the regular season, players are selected based on partial season performance, and the general public has 50% of the votes, so it is also a more popularity-based award.\n",
    "- All-NBA teams are divided in first, second and third teams of 5 players each, divided by position: 2 front court players (guards), 2 backcourt players (forwards) and 1 center.\n",
    "- As only 15 players are selected to All-NBA teams each year (out of more than 400 qualifying players), our dataset is going to be imbalanced. You're going to have to find a good strategy to deal with this inbalance."
   ]
  },
  {
   "cell_type": "markdown",
   "id": "ef2353fa-10d7-48d1-85d7-f8743ee86698",
   "metadata": {
    "id": "ef2353fa-10d7-48d1-85d7-f8743ee86698"
   },
   "source": [
    "### Analyzing the data"
   ]
  },
  {
   "cell_type": "markdown",
   "id": "d4159ce5-fec3-48bb-93c5-058f2cbb55c5",
   "metadata": {
    "id": "d4159ce5-fec3-48bb-93c5-058f2cbb55c5"
   },
   "source": [
    "To do this task, you're going to need historical information about All-NBA selections. We'll use a dataset that contains information about players from season starting in 1990 and ending in the 2018-2019 season.\n",
    "The dataset contains statistics for all players, and a column named \"all-nba\" that is going to be our target variable, 1 means the player was selected to an All-NBA team that season.\n"
   ]
  },
  {
   "cell_type": "markdown",
   "id": "e6d64103-d6b5-4544-8ca5-81f99c937d73",
   "metadata": {
    "id": "e6d64103-d6b5-4544-8ca5-81f99c937d73"
   },
   "source": [
    "2.1. Load the dataset \"all_nba_1990_2017_dataset.csv\" from disk, look at the data inside it and print:\n",
    "- number of rows\n",
    "- number of seasons\n",
    "- number of unique players\n",
    "- number of all-nba selections vs non selected "
   ]
  },
  {
   "cell_type": "code",
   "execution_count": 560,
   "id": "bb6725f6-418d-4159-b046-3bf33a8ead0b",
   "metadata": {
    "ExecuteTime": {
     "end_time": "2022-05-06T21:10:59.919204Z",
     "start_time": "2022-05-06T21:10:57.690008Z"
    },
    "id": "bb6725f6-418d-4159-b046-3bf33a8ead0b"
   },
   "outputs": [],
   "source": [
    "all_nba_df = pd.read_csv(\"https://raw.githubusercontent.com/anyoneai/notebooks/main/datasets/all_nba_1990_2017_dataset.csv\", index_col=0)"
   ]
  },
  {
   "cell_type": "code",
   "execution_count": 561,
   "id": "9ef709ab-8d07-4c4d-b2db-9e910d265d56",
   "metadata": {
    "ExecuteTime": {
     "end_time": "2022-05-06T21:11:01.017249Z",
     "start_time": "2022-05-06T21:11:00.972140Z"
    },
    "id": "9ef709ab-8d07-4c4d-b2db-9e910d265d56",
    "scrolled": true
   },
   "outputs": [
    {
     "data": {
      "text/html": [
       "<div>\n",
       "<style scoped>\n",
       "    .dataframe tbody tr th:only-of-type {\n",
       "        vertical-align: middle;\n",
       "    }\n",
       "\n",
       "    .dataframe tbody tr th {\n",
       "        vertical-align: top;\n",
       "    }\n",
       "\n",
       "    .dataframe thead th {\n",
       "        text-align: right;\n",
       "    }\n",
       "</style>\n",
       "<table border=\"1\" class=\"dataframe\">\n",
       "  <thead>\n",
       "    <tr style=\"text-align: right;\">\n",
       "      <th></th>\n",
       "      <th>season_id</th>\n",
       "      <th>player_id</th>\n",
       "      <th>player_season</th>\n",
       "      <th>player</th>\n",
       "      <th>season</th>\n",
       "      <th>season_start</th>\n",
       "      <th>team</th>\n",
       "      <th>games</th>\n",
       "      <th>gamesstarted</th>\n",
       "      <th>mp</th>\n",
       "      <th>...</th>\n",
       "      <th>2p_perc</th>\n",
       "      <th>ft_perc</th>\n",
       "      <th>trb</th>\n",
       "      <th>ast</th>\n",
       "      <th>stl</th>\n",
       "      <th>blk</th>\n",
       "      <th>tov</th>\n",
       "      <th>pf</th>\n",
       "      <th>pts</th>\n",
       "      <th>all_nba</th>\n",
       "    </tr>\n",
       "  </thead>\n",
       "  <tbody>\n",
       "    <tr>\n",
       "      <th>0</th>\n",
       "      <td>0</td>\n",
       "      <td>0</td>\n",
       "      <td>1</td>\n",
       "      <td>Alaa Abdelnaby</td>\n",
       "      <td>1990-91</td>\n",
       "      <td>1990</td>\n",
       "      <td>POR</td>\n",
       "      <td>43</td>\n",
       "      <td>0</td>\n",
       "      <td>6.7</td>\n",
       "      <td>...</td>\n",
       "      <td>0.474</td>\n",
       "      <td>0.568</td>\n",
       "      <td>2.1</td>\n",
       "      <td>0.3</td>\n",
       "      <td>0.1</td>\n",
       "      <td>0.3</td>\n",
       "      <td>0.5</td>\n",
       "      <td>0.9</td>\n",
       "      <td>3.1</td>\n",
       "      <td>0</td>\n",
       "    </tr>\n",
       "    <tr>\n",
       "      <th>1</th>\n",
       "      <td>1</td>\n",
       "      <td>0</td>\n",
       "      <td>2</td>\n",
       "      <td>Alaa Abdelnaby</td>\n",
       "      <td>1991-92</td>\n",
       "      <td>1991</td>\n",
       "      <td>POR</td>\n",
       "      <td>71</td>\n",
       "      <td>1</td>\n",
       "      <td>13.2</td>\n",
       "      <td>...</td>\n",
       "      <td>0.493</td>\n",
       "      <td>0.752</td>\n",
       "      <td>3.7</td>\n",
       "      <td>0.4</td>\n",
       "      <td>0.4</td>\n",
       "      <td>0.2</td>\n",
       "      <td>0.9</td>\n",
       "      <td>1.9</td>\n",
       "      <td>6.1</td>\n",
       "      <td>0</td>\n",
       "    </tr>\n",
       "    <tr>\n",
       "      <th>2</th>\n",
       "      <td>2</td>\n",
       "      <td>0</td>\n",
       "      <td>3</td>\n",
       "      <td>Alaa Abdelnaby</td>\n",
       "      <td>1992-93</td>\n",
       "      <td>1992</td>\n",
       "      <td>TOT</td>\n",
       "      <td>75</td>\n",
       "      <td>52</td>\n",
       "      <td>17.5</td>\n",
       "      <td>...</td>\n",
       "      <td>0.519</td>\n",
       "      <td>0.759</td>\n",
       "      <td>4.5</td>\n",
       "      <td>0.4</td>\n",
       "      <td>0.3</td>\n",
       "      <td>0.3</td>\n",
       "      <td>1.3</td>\n",
       "      <td>2.5</td>\n",
       "      <td>7.7</td>\n",
       "      <td>0</td>\n",
       "    </tr>\n",
       "    <tr>\n",
       "      <th>3</th>\n",
       "      <td>3</td>\n",
       "      <td>0</td>\n",
       "      <td>4</td>\n",
       "      <td>Alaa Abdelnaby</td>\n",
       "      <td>1993-94</td>\n",
       "      <td>1993</td>\n",
       "      <td>BOS</td>\n",
       "      <td>13</td>\n",
       "      <td>0</td>\n",
       "      <td>12.2</td>\n",
       "      <td>...</td>\n",
       "      <td>0.436</td>\n",
       "      <td>0.640</td>\n",
       "      <td>3.5</td>\n",
       "      <td>0.2</td>\n",
       "      <td>0.2</td>\n",
       "      <td>0.2</td>\n",
       "      <td>1.3</td>\n",
       "      <td>1.5</td>\n",
       "      <td>4.9</td>\n",
       "      <td>0</td>\n",
       "    </tr>\n",
       "    <tr>\n",
       "      <th>4</th>\n",
       "      <td>4</td>\n",
       "      <td>0</td>\n",
       "      <td>5</td>\n",
       "      <td>Alaa Abdelnaby</td>\n",
       "      <td>1994-95</td>\n",
       "      <td>1994</td>\n",
       "      <td>TOT</td>\n",
       "      <td>54</td>\n",
       "      <td>0</td>\n",
       "      <td>9.4</td>\n",
       "      <td>...</td>\n",
       "      <td>0.515</td>\n",
       "      <td>0.571</td>\n",
       "      <td>2.1</td>\n",
       "      <td>0.2</td>\n",
       "      <td>0.3</td>\n",
       "      <td>0.2</td>\n",
       "      <td>0.8</td>\n",
       "      <td>1.9</td>\n",
       "      <td>4.7</td>\n",
       "      <td>0</td>\n",
       "    </tr>\n",
       "  </tbody>\n",
       "</table>\n",
       "<p>5 rows × 22 columns</p>\n",
       "</div>"
      ],
      "text/plain": [
       "   season_id  player_id  player_season          player   season  season_start  \\\n",
       "0          0          0              1  Alaa Abdelnaby  1990-91          1990   \n",
       "1          1          0              2  Alaa Abdelnaby  1991-92          1991   \n",
       "2          2          0              3  Alaa Abdelnaby  1992-93          1992   \n",
       "3          3          0              4  Alaa Abdelnaby  1993-94          1993   \n",
       "4          4          0              5  Alaa Abdelnaby  1994-95          1994   \n",
       "\n",
       "  team  games  gamesstarted    mp  ...  2p_perc  ft_perc  trb  ast  stl  blk  \\\n",
       "0  POR     43             0   6.7  ...    0.474    0.568  2.1  0.3  0.1  0.3   \n",
       "1  POR     71             1  13.2  ...    0.493    0.752  3.7  0.4  0.4  0.2   \n",
       "2  TOT     75            52  17.5  ...    0.519    0.759  4.5  0.4  0.3  0.3   \n",
       "3  BOS     13             0  12.2  ...    0.436    0.640  3.5  0.2  0.2  0.2   \n",
       "4  TOT     54             0   9.4  ...    0.515    0.571  2.1  0.2  0.3  0.2   \n",
       "\n",
       "   tov   pf  pts  all_nba  \n",
       "0  0.5  0.9  3.1        0  \n",
       "1  0.9  1.9  6.1        0  \n",
       "2  1.3  2.5  7.7        0  \n",
       "3  1.3  1.5  4.9        0  \n",
       "4  0.8  1.9  4.7        0  \n",
       "\n",
       "[5 rows x 22 columns]"
      ]
     },
     "execution_count": 561,
     "metadata": {},
     "output_type": "execute_result"
    }
   ],
   "source": [
    "all_nba_df.head()"
   ]
  },
  {
   "cell_type": "code",
   "execution_count": 562,
   "id": "3249339b",
   "metadata": {
    "ExecuteTime": {
     "end_time": "2022-05-06T21:11:02.049289Z",
     "start_time": "2022-05-06T21:11:02.020250Z"
    }
   },
   "outputs": [
    {
     "name": "stdout",
     "output_type": "stream",
     "text": [
      "The dataset has 14825 rows\n",
      "The dataset has 39 seasons\n",
      "The dataset has 2718 different players\n",
      "The dataset has 496 selected players and 14329 non selected players\n"
     ]
    }
   ],
   "source": [
    "num_rows = len(all_nba_df)\n",
    "num_seasons = all_nba_df.season.nunique()\n",
    "num_players = all_nba_df.player_id.nunique()\n",
    "n_selected = len(all_nba_df.loc[all_nba_df.all_nba==0])\n",
    "selected = len(all_nba_df.loc[all_nba_df.all_nba==1])\n",
    "print(f\"The dataset has {num_rows} rows\")\n",
    "print(f\"The dataset has {num_seasons} seasons\")\n",
    "print(f\"The dataset has {num_players} different players\")\n",
    "print(f\"The dataset has {selected} selected players and {n_selected} non selected players\")"
   ]
  },
  {
   "cell_type": "markdown",
   "id": "f268db59-8c9e-446b-be19-290e608169d2",
   "metadata": {
    "id": "f268db59-8c9e-446b-be19-290e608169d2"
   },
   "source": [
    "### Splitting the dataset"
   ]
  },
  {
   "cell_type": "markdown",
   "id": "6b4916b2-e8cf-4e30-a2ac-e1538c2f5cd5",
   "metadata": {
    "id": "6b4916b2-e8cf-4e30-a2ac-e1538c2f5cd5"
   },
   "source": [
    "2.2. Split the dataset in training and test sets. Make sure to keep the distribution of values in the target variable.\n",
    "\n",
    "Use columns: 'team', 'games', 'games_started', 'mp', 'fg_perc', '3p_perc',\n",
    "       '2p_perc', 'ft_perc', 'trb', 'ast', 'stl', 'blk', 'tov', 'pf', 'pts','all_nba'\n",
    "       \n",
    "    "
   ]
  },
  {
   "cell_type": "code",
   "execution_count": 563,
   "id": "2908a1e1",
   "metadata": {
    "ExecuteTime": {
     "end_time": "2022-05-06T21:11:03.052250Z",
     "start_time": "2022-05-06T21:11:03.040251Z"
    }
   },
   "outputs": [],
   "source": [
    "X = all_nba_df[['team', 'games', 'gamesstarted', 'mp', 'fg_perc', '3p_perc',\n",
    "                '2p_perc', 'ft_perc', 'trb', 'ast', 'stl', 'blk', 'tov', 'pf', 'pts']].copy()\n",
    "y = all_nba_df[\"all_nba\"].copy()"
   ]
  },
  {
   "cell_type": "code",
   "execution_count": 564,
   "id": "25cfc4ee-98e7-4b84-98d3-80a91fb44912",
   "metadata": {
    "ExecuteTime": {
     "end_time": "2022-05-06T21:11:04.087251Z",
     "start_time": "2022-05-06T21:11:04.073251Z"
    },
    "id": "25cfc4ee-98e7-4b84-98d3-80a91fb44912"
   },
   "outputs": [],
   "source": [
    "X_nba_train, X_nba_test, y_nba_train, y_nba_test = train_test_split(\n",
    "    X, y, test_size=0.20, random_state=8, stratify=y)"
   ]
  },
  {
   "cell_type": "markdown",
   "id": "7043db6e-da74-4a04-91d9-4dd0cd830f22",
   "metadata": {
    "id": "7043db6e-da74-4a04-91d9-4dd0cd830f22"
   },
   "source": [
    "### Baseline model and Evaluation Metrics"
   ]
  },
  {
   "cell_type": "markdown",
   "id": "cedaf085-2a23-41ab-a55f-474e2ae6bb9c",
   "metadata": {
    "id": "cedaf085-2a23-41ab-a55f-474e2ae6bb9c"
   },
   "source": [
    "In this oportunity we'll define our baseline model as the model we can train with the minimun amount of work on the dataset. For this you're gonna train a [LogisticRegression](https://scikit-learn.org/stable/modules/generated/sklearn.linear_model.LogisticRegression.html) with default parameters, and without doing any preprocessing to our data."
   ]
  },
  {
   "cell_type": "markdown",
   "id": "67a8999b-2dfe-466b-814c-94ecced9f8dc",
   "metadata": {
    "id": "67a8999b-2dfe-466b-814c-94ecced9f8dc"
   },
   "source": [
    "2.3. Let's start with a simple test. What accuracy would we get if we had a baseline model that always predicted 0 (player not selected to all nba)?"
   ]
  },
  {
   "cell_type": "code",
   "execution_count": 567,
   "id": "4aa3bbfb-d2ce-43bc-aea4-f6f7aab0933c",
   "metadata": {
    "ExecuteTime": {
     "end_time": "2022-05-06T21:12:09.553743Z",
     "start_time": "2022-05-06T21:12:09.543742Z"
    },
    "id": "4aa3bbfb-d2ce-43bc-aea4-f6f7aab0933c"
   },
   "outputs": [
    {
     "name": "stdout",
     "output_type": "stream",
     "text": [
      "We would get an accuracy of 96.66%\n"
     ]
    }
   ],
   "source": [
    "ac = round(len(X_nba_test.loc[y_nba_test == 0])/len(X_nba_test)*100, 2)\n",
    "print(f\"We would get an accuracy of {ac}%\")"
   ]
  },
  {
   "cell_type": "markdown",
   "id": "a7f436a6-d3fe-4ead-8c09-b450d850b36f",
   "metadata": {
    "id": "a7f436a6-d3fe-4ead-8c09-b450d850b36f"
   },
   "source": [
    "2.4. What does this tells us about the data and the use of accuracy as an evaluation metric?"
   ]
  },
  {
   "cell_type": "markdown",
   "id": "570abc71",
   "metadata": {
    "id": "6de87d7c-4f0e-4ffc-b063-cee6eadc4e16"
   },
   "source": [
    "That the accuracy it´s not representative of the performance of the model"
   ]
  },
  {
   "cell_type": "markdown",
   "id": "df1a22d1-3fd1-4e6f-9139-52a3466fb1c4",
   "metadata": {
    "id": "df1a22d1-3fd1-4e6f-9139-52a3466fb1c4"
   },
   "source": [
    "2.5. Scale all numerical features in the dataset (we will keep this scaling for future modeling, so make sure to do it in place"
   ]
  },
  {
   "cell_type": "code",
   "execution_count": 70,
   "id": "fc20f0d8",
   "metadata": {
    "ExecuteTime": {
     "end_time": "2022-05-06T16:05:55.572491Z",
     "start_time": "2022-05-06T16:05:55.463480Z"
    }
   },
   "outputs": [],
   "source": [
    "numerical_columns = []\n",
    "\n",
    "for i in X_nba_train.columns:\n",
    "    if X_nba_train[i].dtype in [\"int64\", \"float64\"]:\n",
    "        numerical_columns.append(i)"
   ]
  },
  {
   "cell_type": "code",
   "execution_count": 72,
   "id": "df010ad1",
   "metadata": {
    "ExecuteTime": {
     "end_time": "2022-05-06T16:05:56.059565Z",
     "start_time": "2022-05-06T16:05:55.709705Z"
    }
   },
   "outputs": [
    {
     "data": {
      "text/html": [
       "<div>\n",
       "<style scoped>\n",
       "    .dataframe tbody tr th:only-of-type {\n",
       "        vertical-align: middle;\n",
       "    }\n",
       "\n",
       "    .dataframe tbody tr th {\n",
       "        vertical-align: top;\n",
       "    }\n",
       "\n",
       "    .dataframe thead th {\n",
       "        text-align: right;\n",
       "    }\n",
       "</style>\n",
       "<table border=\"1\" class=\"dataframe\">\n",
       "  <thead>\n",
       "    <tr style=\"text-align: right;\">\n",
       "      <th></th>\n",
       "      <th>games</th>\n",
       "      <th>gamesstarted</th>\n",
       "      <th>mp</th>\n",
       "      <th>fg_perc</th>\n",
       "      <th>3p_perc</th>\n",
       "      <th>2p_perc</th>\n",
       "      <th>ft_perc</th>\n",
       "      <th>trb</th>\n",
       "      <th>ast</th>\n",
       "      <th>stl</th>\n",
       "      <th>blk</th>\n",
       "      <th>tov</th>\n",
       "      <th>pf</th>\n",
       "      <th>pts</th>\n",
       "    </tr>\n",
       "  </thead>\n",
       "  <tbody>\n",
       "    <tr>\n",
       "      <th>count</th>\n",
       "      <td>11860.000000</td>\n",
       "      <td>11860.000000</td>\n",
       "      <td>11860.000000</td>\n",
       "      <td>11860.000000</td>\n",
       "      <td>11860.000000</td>\n",
       "      <td>11860.000000</td>\n",
       "      <td>11860.000000</td>\n",
       "      <td>11860.000000</td>\n",
       "      <td>11860.000000</td>\n",
       "      <td>11860.000000</td>\n",
       "      <td>11860.000000</td>\n",
       "      <td>11860.000000</td>\n",
       "      <td>11860.000000</td>\n",
       "      <td>11860.000000</td>\n",
       "    </tr>\n",
       "    <tr>\n",
       "      <th>mean</th>\n",
       "      <td>54.225295</td>\n",
       "      <td>25.807083</td>\n",
       "      <td>20.276113</td>\n",
       "      <td>0.439289</td>\n",
       "      <td>0.214585</td>\n",
       "      <td>0.458830</td>\n",
       "      <td>0.699783</td>\n",
       "      <td>3.545708</td>\n",
       "      <td>1.875261</td>\n",
       "      <td>0.673449</td>\n",
       "      <td>0.417681</td>\n",
       "      <td>1.251847</td>\n",
       "      <td>1.930852</td>\n",
       "      <td>8.218331</td>\n",
       "    </tr>\n",
       "    <tr>\n",
       "      <th>std</th>\n",
       "      <td>25.246637</td>\n",
       "      <td>29.542962</td>\n",
       "      <td>10.266152</td>\n",
       "      <td>0.094959</td>\n",
       "      <td>0.183125</td>\n",
       "      <td>0.100011</td>\n",
       "      <td>0.187232</td>\n",
       "      <td>2.551933</td>\n",
       "      <td>1.893211</td>\n",
       "      <td>0.483422</td>\n",
       "      <td>0.513256</td>\n",
       "      <td>0.817982</td>\n",
       "      <td>0.852718</td>\n",
       "      <td>5.993780</td>\n",
       "    </tr>\n",
       "    <tr>\n",
       "      <th>min</th>\n",
       "      <td>1.000000</td>\n",
       "      <td>0.000000</td>\n",
       "      <td>0.000000</td>\n",
       "      <td>0.000000</td>\n",
       "      <td>0.000000</td>\n",
       "      <td>0.000000</td>\n",
       "      <td>0.000000</td>\n",
       "      <td>0.000000</td>\n",
       "      <td>0.000000</td>\n",
       "      <td>0.000000</td>\n",
       "      <td>0.000000</td>\n",
       "      <td>0.000000</td>\n",
       "      <td>0.000000</td>\n",
       "      <td>0.000000</td>\n",
       "    </tr>\n",
       "    <tr>\n",
       "      <th>25%</th>\n",
       "      <td>35.000000</td>\n",
       "      <td>0.000000</td>\n",
       "      <td>11.800000</td>\n",
       "      <td>0.403000</td>\n",
       "      <td>0.000000</td>\n",
       "      <td>0.426000</td>\n",
       "      <td>0.647000</td>\n",
       "      <td>1.700000</td>\n",
       "      <td>0.600000</td>\n",
       "      <td>0.300000</td>\n",
       "      <td>0.100000</td>\n",
       "      <td>0.600000</td>\n",
       "      <td>1.300000</td>\n",
       "      <td>3.500000</td>\n",
       "    </tr>\n",
       "    <tr>\n",
       "      <th>50%</th>\n",
       "      <td>62.000000</td>\n",
       "      <td>10.000000</td>\n",
       "      <td>19.600000</td>\n",
       "      <td>0.445000</td>\n",
       "      <td>0.260000</td>\n",
       "      <td>0.469000</td>\n",
       "      <td>0.743000</td>\n",
       "      <td>2.900000</td>\n",
       "      <td>1.300000</td>\n",
       "      <td>0.600000</td>\n",
       "      <td>0.200000</td>\n",
       "      <td>1.100000</td>\n",
       "      <td>1.900000</td>\n",
       "      <td>6.600000</td>\n",
       "    </tr>\n",
       "    <tr>\n",
       "      <th>75%</th>\n",
       "      <td>77.000000</td>\n",
       "      <td>52.000000</td>\n",
       "      <td>28.800000</td>\n",
       "      <td>0.486000</td>\n",
       "      <td>0.355000</td>\n",
       "      <td>0.505000</td>\n",
       "      <td>0.810000</td>\n",
       "      <td>4.700000</td>\n",
       "      <td>2.500000</td>\n",
       "      <td>0.900000</td>\n",
       "      <td>0.500000</td>\n",
       "      <td>1.700000</td>\n",
       "      <td>2.500000</td>\n",
       "      <td>11.700000</td>\n",
       "    </tr>\n",
       "    <tr>\n",
       "      <th>max</th>\n",
       "      <td>85.000000</td>\n",
       "      <td>83.000000</td>\n",
       "      <td>43.700000</td>\n",
       "      <td>1.000000</td>\n",
       "      <td>1.000000</td>\n",
       "      <td>1.000000</td>\n",
       "      <td>1.000000</td>\n",
       "      <td>18.700000</td>\n",
       "      <td>14.200000</td>\n",
       "      <td>3.700000</td>\n",
       "      <td>5.600000</td>\n",
       "      <td>5.700000</td>\n",
       "      <td>6.000000</td>\n",
       "      <td>35.400000</td>\n",
       "    </tr>\n",
       "  </tbody>\n",
       "</table>\n",
       "</div>"
      ],
      "text/plain": [
       "              games  gamesstarted            mp       fg_perc       3p_perc  \\\n",
       "count  11860.000000  11860.000000  11860.000000  11860.000000  11860.000000   \n",
       "mean      54.225295     25.807083     20.276113      0.439289      0.214585   \n",
       "std       25.246637     29.542962     10.266152      0.094959      0.183125   \n",
       "min        1.000000      0.000000      0.000000      0.000000      0.000000   \n",
       "25%       35.000000      0.000000     11.800000      0.403000      0.000000   \n",
       "50%       62.000000     10.000000     19.600000      0.445000      0.260000   \n",
       "75%       77.000000     52.000000     28.800000      0.486000      0.355000   \n",
       "max       85.000000     83.000000     43.700000      1.000000      1.000000   \n",
       "\n",
       "            2p_perc       ft_perc           trb           ast           stl  \\\n",
       "count  11860.000000  11860.000000  11860.000000  11860.000000  11860.000000   \n",
       "mean       0.458830      0.699783      3.545708      1.875261      0.673449   \n",
       "std        0.100011      0.187232      2.551933      1.893211      0.483422   \n",
       "min        0.000000      0.000000      0.000000      0.000000      0.000000   \n",
       "25%        0.426000      0.647000      1.700000      0.600000      0.300000   \n",
       "50%        0.469000      0.743000      2.900000      1.300000      0.600000   \n",
       "75%        0.505000      0.810000      4.700000      2.500000      0.900000   \n",
       "max        1.000000      1.000000     18.700000     14.200000      3.700000   \n",
       "\n",
       "                blk           tov            pf           pts  \n",
       "count  11860.000000  11860.000000  11860.000000  11860.000000  \n",
       "mean       0.417681      1.251847      1.930852      8.218331  \n",
       "std        0.513256      0.817982      0.852718      5.993780  \n",
       "min        0.000000      0.000000      0.000000      0.000000  \n",
       "25%        0.100000      0.600000      1.300000      3.500000  \n",
       "50%        0.200000      1.100000      1.900000      6.600000  \n",
       "75%        0.500000      1.700000      2.500000     11.700000  \n",
       "max        5.600000      5.700000      6.000000     35.400000  "
      ]
     },
     "execution_count": 72,
     "metadata": {},
     "output_type": "execute_result"
    }
   ],
   "source": [
    "X_nba_train.describe()"
   ]
  },
  {
   "cell_type": "markdown",
   "id": "bf1bd502",
   "metadata": {},
   "source": [
    "We have to scale only the columns   \n",
    "[\"games\", \"gamesstarted\", \"mp\", \"trb\", \"ast\", \"stl\", \"blk\", \"tov\", \"pf\", \"pts\"]"
   ]
  },
  {
   "cell_type": "code",
   "execution_count": 73,
   "id": "cc49110b",
   "metadata": {
    "ExecuteTime": {
     "end_time": "2022-05-06T16:05:56.080500Z",
     "start_time": "2022-05-06T16:05:56.072558Z"
    }
   },
   "outputs": [],
   "source": [
    "allnba_scaler = StandardScaler()"
   ]
  },
  {
   "cell_type": "code",
   "execution_count": 74,
   "id": "d8fb3803",
   "metadata": {
    "ExecuteTime": {
     "end_time": "2022-05-06T16:05:56.296429Z",
     "start_time": "2022-05-06T16:05:56.088496Z"
    }
   },
   "outputs": [
    {
     "data": {
      "text/plain": [
       "StandardScaler()"
      ]
     },
     "execution_count": 74,
     "metadata": {},
     "output_type": "execute_result"
    }
   ],
   "source": [
    "allnba_scaler.fit(X_nba_train[[\"games\", \"gamesstarted\",\n",
    "                  \"mp\", \"trb\", \"ast\", \"stl\", \"blk\", \"tov\", \"pf\", \"pts\"]])"
   ]
  },
  {
   "cell_type": "code",
   "execution_count": 75,
   "id": "a4e16e3f",
   "metadata": {
    "ExecuteTime": {
     "end_time": "2022-05-06T16:05:56.438646Z",
     "start_time": "2022-05-06T16:05:56.308340Z"
    }
   },
   "outputs": [],
   "source": [
    "X_nba_train[[\"games\", \"gamesstarted\", \"mp\", \"trb\", \"ast\", \"stl\", \"blk\", \"tov\", \"pf\", \"pts\"]] = allnba_scaler.transform(\n",
    "    X_nba_train[[\"games\", \"gamesstarted\", \"mp\", \"trb\", \"ast\", \"stl\", \"blk\", \"tov\", \"pf\", \"pts\"]])"
   ]
  },
  {
   "cell_type": "code",
   "execution_count": 76,
   "id": "0bdf7604",
   "metadata": {
    "ExecuteTime": {
     "end_time": "2022-05-06T16:05:56.565853Z",
     "start_time": "2022-05-06T16:05:56.441516Z"
    }
   },
   "outputs": [],
   "source": [
    "X_nba_test[[\"games\", \"gamesstarted\", \"mp\", \"trb\", \"ast\", \"stl\", \"blk\", \"tov\", \"pf\", \"pts\"]] = allnba_scaler.transform(\n",
    "    X_nba_test[[\"games\", \"gamesstarted\", \"mp\", \"trb\", \"ast\", \"stl\", \"blk\", \"tov\", \"pf\", \"pts\"]])"
   ]
  },
  {
   "cell_type": "markdown",
   "id": "0ccfd642-fd2a-4ce6-af92-901156e2a009",
   "metadata": {
    "id": "0ccfd642-fd2a-4ce6-af92-901156e2a009"
   },
   "source": [
    "2.6. Train a LogisticRegression with default parameters, use only the numerical features (omit the team information for now). This will be our baseline model. "
   ]
  },
  {
   "cell_type": "code",
   "execution_count": 568,
   "id": "ef3cc1fe",
   "metadata": {
    "ExecuteTime": {
     "end_time": "2022-05-06T21:13:06.931332Z",
     "start_time": "2022-05-06T21:13:06.923337Z"
    }
   },
   "outputs": [],
   "source": [
    "f_nba_model = LogisticRegression(max_iter=1000)"
   ]
  },
  {
   "cell_type": "code",
   "execution_count": 78,
   "id": "aab3e009",
   "metadata": {
    "ExecuteTime": {
     "end_time": "2022-05-06T16:05:57.431734Z",
     "start_time": "2022-05-06T16:05:56.712489Z"
    }
   },
   "outputs": [
    {
     "data": {
      "text/plain": [
       "LogisticRegression(max_iter=1000)"
      ]
     },
     "execution_count": 78,
     "metadata": {},
     "output_type": "execute_result"
    }
   ],
   "source": [
    "f_nba_model.fit(X_nba_train[numerical_columns], y_nba_train)"
   ]
  },
  {
   "cell_type": "code",
   "execution_count": 79,
   "id": "48b0cbb6",
   "metadata": {
    "ExecuteTime": {
     "end_time": "2022-05-06T16:05:57.450873Z",
     "start_time": "2022-05-06T16:05:57.435915Z"
    }
   },
   "outputs": [
    {
     "data": {
      "text/plain": [
       "array([0, 0, 0, ..., 0, 0, 0], dtype=int64)"
      ]
     },
     "execution_count": 79,
     "metadata": {},
     "output_type": "execute_result"
    }
   ],
   "source": [
    "y_nba_p = f_nba_model.predict(X_nba_test[numerical_columns])\n",
    "y_nba_p"
   ]
  },
  {
   "cell_type": "markdown",
   "id": "0f06758a-f2dd-4339-b170-275b428fdb4e",
   "metadata": {
    "id": "0f06758a-f2dd-4339-b170-275b428fdb4e"
   },
   "source": [
    "2.7. Evaluate our baseline model using this metrics: \n",
    "\n",
    "    - accuracy\n",
    "    - precision\n",
    "    - recall\n",
    "    - f1"
   ]
  },
  {
   "cell_type": "code",
   "execution_count": 575,
   "id": "74dfbe6f",
   "metadata": {
    "ExecuteTime": {
     "end_time": "2022-05-06T21:21:38.743867Z",
     "start_time": "2022-05-06T21:21:38.720870Z"
    }
   },
   "outputs": [],
   "source": [
    "f1 = round(f1_score(y_nba_test, y_nba_p),4)\n",
    "acc = round(accuracy_score(y_nba_test, y_nba_p),4)\n",
    "prec = round(precision_score(y_nba_test, y_nba_p),4)\n",
    "rec = round(recall_score(y_nba_test, y_nba_p),4)"
   ]
  },
  {
   "cell_type": "code",
   "execution_count": 576,
   "id": "75c0e6a6",
   "metadata": {
    "ExecuteTime": {
     "end_time": "2022-05-06T21:21:39.806871Z",
     "start_time": "2022-05-06T21:21:39.793867Z"
    }
   },
   "outputs": [
    {
     "name": "stdout",
     "output_type": "stream",
     "text": [
      "Accuracy: 0.9838%\n",
      "Precision: 0.8592%\n",
      "Recall: 0.6162%\n",
      "f1: 0.7176%\n"
     ]
    }
   ],
   "source": [
    "print(f\"Accuracy: {acc}%\\nPrecision: {prec}%\\nRecall: {rec}%\\nf1: {f1}%\")"
   ]
  },
  {
   "cell_type": "markdown",
   "id": "7a540e7b-387d-4e2b-a441-d0c5173bdbf7",
   "metadata": {
    "id": "7a540e7b-387d-4e2b-a441-d0c5173bdbf7"
   },
   "source": [
    "From now on, you'll be evaluating you model primarily using the F1 Score metric, but we also want to avoid models that have very low recall. "
   ]
  },
  {
   "cell_type": "markdown",
   "id": "2054a43f-55ec-45fc-9ead-a7699d8aa2b0",
   "metadata": {
    "id": "2054a43f-55ec-45fc-9ead-a7699d8aa2b0"
   },
   "source": [
    "### Classification"
   ]
  },
  {
   "cell_type": "markdown",
   "id": "1e2847f3-f02c-4308-8a0c-41ba79af0781",
   "metadata": {
    "id": "1e2847f3-f02c-4308-8a0c-41ba79af0781"
   },
   "source": [
    "#### Feature engineering"
   ]
  },
  {
   "cell_type": "markdown",
   "id": "27b6ddb3-576c-4238-9ec3-534aafee764b",
   "metadata": {
    "id": "27b6ddb3-576c-4238-9ec3-534aafee764b"
   },
   "source": [
    "2.8. One hot encode the Team feature. Make sure to drop the original column."
   ]
  },
  {
   "cell_type": "code",
   "execution_count": 82,
   "id": "0a844fc1",
   "metadata": {
    "ExecuteTime": {
     "end_time": "2022-05-06T16:05:57.901290Z",
     "start_time": "2022-05-06T16:05:57.657628Z"
    }
   },
   "outputs": [
    {
     "data": {
      "text/html": [
       "<div>\n",
       "<style scoped>\n",
       "    .dataframe tbody tr th:only-of-type {\n",
       "        vertical-align: middle;\n",
       "    }\n",
       "\n",
       "    .dataframe tbody tr th {\n",
       "        vertical-align: top;\n",
       "    }\n",
       "\n",
       "    .dataframe thead th {\n",
       "        text-align: right;\n",
       "    }\n",
       "</style>\n",
       "<table border=\"1\" class=\"dataframe\">\n",
       "  <thead>\n",
       "    <tr style=\"text-align: right;\">\n",
       "      <th></th>\n",
       "      <th>games</th>\n",
       "      <th>gamesstarted</th>\n",
       "      <th>mp</th>\n",
       "      <th>fg_perc</th>\n",
       "      <th>3p_perc</th>\n",
       "      <th>2p_perc</th>\n",
       "      <th>ft_perc</th>\n",
       "      <th>trb</th>\n",
       "      <th>ast</th>\n",
       "      <th>stl</th>\n",
       "      <th>blk</th>\n",
       "      <th>tov</th>\n",
       "      <th>pf</th>\n",
       "      <th>pts</th>\n",
       "    </tr>\n",
       "  </thead>\n",
       "  <tbody>\n",
       "    <tr>\n",
       "      <th>count</th>\n",
       "      <td>1.186000e+04</td>\n",
       "      <td>1.186000e+04</td>\n",
       "      <td>1.186000e+04</td>\n",
       "      <td>11860.000000</td>\n",
       "      <td>11860.000000</td>\n",
       "      <td>11860.000000</td>\n",
       "      <td>11860.000000</td>\n",
       "      <td>1.186000e+04</td>\n",
       "      <td>1.186000e+04</td>\n",
       "      <td>1.186000e+04</td>\n",
       "      <td>1.186000e+04</td>\n",
       "      <td>1.186000e+04</td>\n",
       "      <td>1.186000e+04</td>\n",
       "      <td>1.186000e+04</td>\n",
       "    </tr>\n",
       "    <tr>\n",
       "      <th>mean</th>\n",
       "      <td>3.984072e-17</td>\n",
       "      <td>5.391977e-18</td>\n",
       "      <td>4.373492e-17</td>\n",
       "      <td>0.439289</td>\n",
       "      <td>0.214585</td>\n",
       "      <td>0.458830</td>\n",
       "      <td>0.699783</td>\n",
       "      <td>-2.408416e-16</td>\n",
       "      <td>1.318039e-17</td>\n",
       "      <td>8.267698e-17</td>\n",
       "      <td>4.792868e-18</td>\n",
       "      <td>3.468838e-16</td>\n",
       "      <td>1.761379e-16</td>\n",
       "      <td>-1.611602e-16</td>\n",
       "    </tr>\n",
       "    <tr>\n",
       "      <th>std</th>\n",
       "      <td>1.000042e+00</td>\n",
       "      <td>1.000042e+00</td>\n",
       "      <td>1.000042e+00</td>\n",
       "      <td>0.094959</td>\n",
       "      <td>0.183125</td>\n",
       "      <td>0.100011</td>\n",
       "      <td>0.187232</td>\n",
       "      <td>1.000042e+00</td>\n",
       "      <td>1.000042e+00</td>\n",
       "      <td>1.000042e+00</td>\n",
       "      <td>1.000042e+00</td>\n",
       "      <td>1.000042e+00</td>\n",
       "      <td>1.000042e+00</td>\n",
       "      <td>1.000042e+00</td>\n",
       "    </tr>\n",
       "    <tr>\n",
       "      <th>min</th>\n",
       "      <td>-2.108302e+00</td>\n",
       "      <td>-8.735810e-01</td>\n",
       "      <td>-1.975128e+00</td>\n",
       "      <td>0.000000</td>\n",
       "      <td>0.000000</td>\n",
       "      <td>0.000000</td>\n",
       "      <td>0.000000</td>\n",
       "      <td>-1.389479e+00</td>\n",
       "      <td>-9.905609e-01</td>\n",
       "      <td>-1.393145e+00</td>\n",
       "      <td>-8.138210e-01</td>\n",
       "      <td>-1.530473e+00</td>\n",
       "      <td>-2.264446e+00</td>\n",
       "      <td>-1.371201e+00</td>\n",
       "    </tr>\n",
       "    <tr>\n",
       "      <th>25%</th>\n",
       "      <td>-7.615313e-01</td>\n",
       "      <td>-8.735810e-01</td>\n",
       "      <td>-8.256716e-01</td>\n",
       "      <td>0.403000</td>\n",
       "      <td>0.000000</td>\n",
       "      <td>0.426000</td>\n",
       "      <td>0.647000</td>\n",
       "      <td>-7.232893e-01</td>\n",
       "      <td>-6.736256e-01</td>\n",
       "      <td>-7.725433e-01</td>\n",
       "      <td>-6.189784e-01</td>\n",
       "      <td>-7.969297e-01</td>\n",
       "      <td>-7.398443e-01</td>\n",
       "      <td>-7.872377e-01</td>\n",
       "    </tr>\n",
       "    <tr>\n",
       "      <th>50%</th>\n",
       "      <td>3.079631e-01</td>\n",
       "      <td>-5.350766e-01</td>\n",
       "      <td>-6.586124e-02</td>\n",
       "      <td>0.445000</td>\n",
       "      <td>0.260000</td>\n",
       "      <td>0.469000</td>\n",
       "      <td>0.743000</td>\n",
       "      <td>-2.530377e-01</td>\n",
       "      <td>-3.038677e-01</td>\n",
       "      <td>-1.519411e-01</td>\n",
       "      <td>-4.241358e-01</td>\n",
       "      <td>-1.856434e-01</td>\n",
       "      <td>-3.618186e-02</td>\n",
       "      <td>-2.700130e-01</td>\n",
       "    </tr>\n",
       "    <tr>\n",
       "      <th>75%</th>\n",
       "      <td>9.021267e-01</td>\n",
       "      <td>8.866417e-01</td>\n",
       "      <td>8.303253e-01</td>\n",
       "      <td>0.486000</td>\n",
       "      <td>0.355000</td>\n",
       "      <td>0.505000</td>\n",
       "      <td>0.810000</td>\n",
       "      <td>4.523395e-01</td>\n",
       "      <td>3.300029e-01</td>\n",
       "      <td>4.686610e-01</td>\n",
       "      <td>1.603919e-01</td>\n",
       "      <td>5.479001e-01</td>\n",
       "      <td>6.674806e-01</td>\n",
       "      <td>5.809049e-01</td>\n",
       "    </tr>\n",
       "    <tr>\n",
       "      <th>max</th>\n",
       "      <td>1.219014e+00</td>\n",
       "      <td>1.936005e+00</td>\n",
       "      <td>2.281758e+00</td>\n",
       "      <td>1.000000</td>\n",
       "      <td>1.000000</td>\n",
       "      <td>1.000000</td>\n",
       "      <td>1.000000</td>\n",
       "      <td>5.938607e+00</td>\n",
       "      <td>6.510241e+00</td>\n",
       "      <td>6.260948e+00</td>\n",
       "      <td>1.009736e+01</td>\n",
       "      <td>5.438190e+00</td>\n",
       "      <td>4.772178e+00</td>\n",
       "      <td>4.535171e+00</td>\n",
       "    </tr>\n",
       "  </tbody>\n",
       "</table>\n",
       "</div>"
      ],
      "text/plain": [
       "              games  gamesstarted            mp       fg_perc       3p_perc  \\\n",
       "count  1.186000e+04  1.186000e+04  1.186000e+04  11860.000000  11860.000000   \n",
       "mean   3.984072e-17  5.391977e-18  4.373492e-17      0.439289      0.214585   \n",
       "std    1.000042e+00  1.000042e+00  1.000042e+00      0.094959      0.183125   \n",
       "min   -2.108302e+00 -8.735810e-01 -1.975128e+00      0.000000      0.000000   \n",
       "25%   -7.615313e-01 -8.735810e-01 -8.256716e-01      0.403000      0.000000   \n",
       "50%    3.079631e-01 -5.350766e-01 -6.586124e-02      0.445000      0.260000   \n",
       "75%    9.021267e-01  8.866417e-01  8.303253e-01      0.486000      0.355000   \n",
       "max    1.219014e+00  1.936005e+00  2.281758e+00      1.000000      1.000000   \n",
       "\n",
       "            2p_perc       ft_perc           trb           ast           stl  \\\n",
       "count  11860.000000  11860.000000  1.186000e+04  1.186000e+04  1.186000e+04   \n",
       "mean       0.458830      0.699783 -2.408416e-16  1.318039e-17  8.267698e-17   \n",
       "std        0.100011      0.187232  1.000042e+00  1.000042e+00  1.000042e+00   \n",
       "min        0.000000      0.000000 -1.389479e+00 -9.905609e-01 -1.393145e+00   \n",
       "25%        0.426000      0.647000 -7.232893e-01 -6.736256e-01 -7.725433e-01   \n",
       "50%        0.469000      0.743000 -2.530377e-01 -3.038677e-01 -1.519411e-01   \n",
       "75%        0.505000      0.810000  4.523395e-01  3.300029e-01  4.686610e-01   \n",
       "max        1.000000      1.000000  5.938607e+00  6.510241e+00  6.260948e+00   \n",
       "\n",
       "                blk           tov            pf           pts  \n",
       "count  1.186000e+04  1.186000e+04  1.186000e+04  1.186000e+04  \n",
       "mean   4.792868e-18  3.468838e-16  1.761379e-16 -1.611602e-16  \n",
       "std    1.000042e+00  1.000042e+00  1.000042e+00  1.000042e+00  \n",
       "min   -8.138210e-01 -1.530473e+00 -2.264446e+00 -1.371201e+00  \n",
       "25%   -6.189784e-01 -7.969297e-01 -7.398443e-01 -7.872377e-01  \n",
       "50%   -4.241358e-01 -1.856434e-01 -3.618186e-02 -2.700130e-01  \n",
       "75%    1.603919e-01  5.479001e-01  6.674806e-01  5.809049e-01  \n",
       "max    1.009736e+01  5.438190e+00  4.772178e+00  4.535171e+00  "
      ]
     },
     "execution_count": 82,
     "metadata": {},
     "output_type": "execute_result"
    }
   ],
   "source": [
    "X_nba_train.describe()"
   ]
  },
  {
   "cell_type": "code",
   "execution_count": 83,
   "id": "f4ca83ec-7aab-4cff-8ac7-1b224ff54dde",
   "metadata": {
    "ExecuteTime": {
     "end_time": "2022-05-06T16:05:57.959760Z",
     "start_time": "2022-05-06T16:05:57.903345Z"
    },
    "id": "f4ca83ec-7aab-4cff-8ac7-1b224ff54dde"
   },
   "outputs": [],
   "source": [
    "X_nba_train = pd.get_dummies(X_nba_train, columns=[\"team\"])\n",
    "X_nba_test = pd.get_dummies(X_nba_test, columns=[\"team\"])"
   ]
  },
  {
   "cell_type": "code",
   "execution_count": 84,
   "id": "8577de2b",
   "metadata": {
    "ExecuteTime": {
     "end_time": "2022-05-06T16:05:58.182365Z",
     "start_time": "2022-05-06T16:05:57.968753Z"
    },
    "scrolled": false
   },
   "outputs": [
    {
     "data": {
      "text/html": [
       "<div>\n",
       "<style scoped>\n",
       "    .dataframe tbody tr th:only-of-type {\n",
       "        vertical-align: middle;\n",
       "    }\n",
       "\n",
       "    .dataframe tbody tr th {\n",
       "        vertical-align: top;\n",
       "    }\n",
       "\n",
       "    .dataframe thead th {\n",
       "        text-align: right;\n",
       "    }\n",
       "</style>\n",
       "<table border=\"1\" class=\"dataframe\">\n",
       "  <thead>\n",
       "    <tr style=\"text-align: right;\">\n",
       "      <th></th>\n",
       "      <th>games</th>\n",
       "      <th>gamesstarted</th>\n",
       "      <th>mp</th>\n",
       "      <th>fg_perc</th>\n",
       "      <th>3p_perc</th>\n",
       "      <th>2p_perc</th>\n",
       "      <th>ft_perc</th>\n",
       "      <th>trb</th>\n",
       "      <th>ast</th>\n",
       "      <th>stl</th>\n",
       "      <th>...</th>\n",
       "      <th>team_SAC</th>\n",
       "      <th>team_SAS</th>\n",
       "      <th>team_SDC</th>\n",
       "      <th>team_SEA</th>\n",
       "      <th>team_TOR</th>\n",
       "      <th>team_TOT</th>\n",
       "      <th>team_UTA</th>\n",
       "      <th>team_VAN</th>\n",
       "      <th>team_WAS</th>\n",
       "      <th>team_WSB</th>\n",
       "    </tr>\n",
       "  </thead>\n",
       "  <tbody>\n",
       "    <tr>\n",
       "      <th>14212</th>\n",
       "      <td>0.585239</td>\n",
       "      <td>-0.670478</td>\n",
       "      <td>-0.095085</td>\n",
       "      <td>0.412</td>\n",
       "      <td>0.327</td>\n",
       "      <td>0.429</td>\n",
       "      <td>0.750</td>\n",
       "      <td>0.021276</td>\n",
       "      <td>0.224358</td>\n",
       "      <td>-0.151941</td>\n",
       "      <td>...</td>\n",
       "      <td>0</td>\n",
       "      <td>0</td>\n",
       "      <td>0</td>\n",
       "      <td>0</td>\n",
       "      <td>0</td>\n",
       "      <td>0</td>\n",
       "      <td>0</td>\n",
       "      <td>0</td>\n",
       "      <td>0</td>\n",
       "      <td>0</td>\n",
       "    </tr>\n",
       "    <tr>\n",
       "      <th>15260</th>\n",
       "      <td>0.704072</td>\n",
       "      <td>-0.331974</td>\n",
       "      <td>0.411456</td>\n",
       "      <td>0.427</td>\n",
       "      <td>0.213</td>\n",
       "      <td>0.492</td>\n",
       "      <td>0.641</td>\n",
       "      <td>-0.135475</td>\n",
       "      <td>0.594116</td>\n",
       "      <td>0.882396</td>\n",
       "      <td>...</td>\n",
       "      <td>0</td>\n",
       "      <td>0</td>\n",
       "      <td>0</td>\n",
       "      <td>0</td>\n",
       "      <td>0</td>\n",
       "      <td>0</td>\n",
       "      <td>0</td>\n",
       "      <td>0</td>\n",
       "      <td>0</td>\n",
       "      <td>0</td>\n",
       "    </tr>\n",
       "    <tr>\n",
       "      <th>243</th>\n",
       "      <td>0.189130</td>\n",
       "      <td>-0.704329</td>\n",
       "      <td>-0.552919</td>\n",
       "      <td>0.451</td>\n",
       "      <td>0.000</td>\n",
       "      <td>0.453</td>\n",
       "      <td>0.688</td>\n",
       "      <td>0.021276</td>\n",
       "      <td>-0.515158</td>\n",
       "      <td>-0.772543</td>\n",
       "      <td>...</td>\n",
       "      <td>0</td>\n",
       "      <td>0</td>\n",
       "      <td>0</td>\n",
       "      <td>0</td>\n",
       "      <td>0</td>\n",
       "      <td>0</td>\n",
       "      <td>0</td>\n",
       "      <td>0</td>\n",
       "      <td>0</td>\n",
       "      <td>0</td>\n",
       "    </tr>\n",
       "    <tr>\n",
       "      <th>5480</th>\n",
       "      <td>-2.029080</td>\n",
       "      <td>-0.873581</td>\n",
       "      <td>-1.361435</td>\n",
       "      <td>0.222</td>\n",
       "      <td>0.000</td>\n",
       "      <td>0.222</td>\n",
       "      <td>0.625</td>\n",
       "      <td>-0.331413</td>\n",
       "      <td>-0.990561</td>\n",
       "      <td>-1.393145</td>\n",
       "      <td>...</td>\n",
       "      <td>0</td>\n",
       "      <td>0</td>\n",
       "      <td>0</td>\n",
       "      <td>0</td>\n",
       "      <td>0</td>\n",
       "      <td>0</td>\n",
       "      <td>0</td>\n",
       "      <td>0</td>\n",
       "      <td>0</td>\n",
       "      <td>0</td>\n",
       "    </tr>\n",
       "    <tr>\n",
       "      <th>14192</th>\n",
       "      <td>0.585239</td>\n",
       "      <td>1.428249</td>\n",
       "      <td>0.956960</td>\n",
       "      <td>0.397</td>\n",
       "      <td>0.282</td>\n",
       "      <td>0.461</td>\n",
       "      <td>0.637</td>\n",
       "      <td>0.413152</td>\n",
       "      <td>0.382825</td>\n",
       "      <td>1.502998</td>\n",
       "      <td>...</td>\n",
       "      <td>0</td>\n",
       "      <td>0</td>\n",
       "      <td>0</td>\n",
       "      <td>0</td>\n",
       "      <td>0</td>\n",
       "      <td>0</td>\n",
       "      <td>0</td>\n",
       "      <td>0</td>\n",
       "      <td>0</td>\n",
       "      <td>0</td>\n",
       "    </tr>\n",
       "    <tr>\n",
       "      <th>...</th>\n",
       "      <td>...</td>\n",
       "      <td>...</td>\n",
       "      <td>...</td>\n",
       "      <td>...</td>\n",
       "      <td>...</td>\n",
       "      <td>...</td>\n",
       "      <td>...</td>\n",
       "      <td>...</td>\n",
       "      <td>...</td>\n",
       "      <td>...</td>\n",
       "      <td>...</td>\n",
       "      <td>...</td>\n",
       "      <td>...</td>\n",
       "      <td>...</td>\n",
       "      <td>...</td>\n",
       "      <td>...</td>\n",
       "      <td>...</td>\n",
       "      <td>...</td>\n",
       "      <td>...</td>\n",
       "      <td>...</td>\n",
       "      <td>...</td>\n",
       "    </tr>\n",
       "    <tr>\n",
       "      <th>7263</th>\n",
       "      <td>0.506018</td>\n",
       "      <td>-0.162722</td>\n",
       "      <td>-0.221720</td>\n",
       "      <td>0.524</td>\n",
       "      <td>0.000</td>\n",
       "      <td>0.532</td>\n",
       "      <td>0.579</td>\n",
       "      <td>0.217214</td>\n",
       "      <td>-0.673626</td>\n",
       "      <td>-0.151941</td>\n",
       "      <td>...</td>\n",
       "      <td>0</td>\n",
       "      <td>0</td>\n",
       "      <td>0</td>\n",
       "      <td>0</td>\n",
       "      <td>0</td>\n",
       "      <td>0</td>\n",
       "      <td>0</td>\n",
       "      <td>0</td>\n",
       "      <td>0</td>\n",
       "      <td>1</td>\n",
       "    </tr>\n",
       "    <tr>\n",
       "      <th>14162</th>\n",
       "      <td>0.981348</td>\n",
       "      <td>1.800603</td>\n",
       "      <td>1.677806</td>\n",
       "      <td>0.469</td>\n",
       "      <td>0.360</td>\n",
       "      <td>0.504</td>\n",
       "      <td>0.734</td>\n",
       "      <td>1.823906</td>\n",
       "      <td>0.013068</td>\n",
       "      <td>1.296131</td>\n",
       "      <td>...</td>\n",
       "      <td>0</td>\n",
       "      <td>0</td>\n",
       "      <td>0</td>\n",
       "      <td>0</td>\n",
       "      <td>0</td>\n",
       "      <td>0</td>\n",
       "      <td>0</td>\n",
       "      <td>0</td>\n",
       "      <td>0</td>\n",
       "      <td>0</td>\n",
       "    </tr>\n",
       "    <tr>\n",
       "      <th>12322</th>\n",
       "      <td>0.268352</td>\n",
       "      <td>1.191296</td>\n",
       "      <td>0.557573</td>\n",
       "      <td>0.415</td>\n",
       "      <td>0.316</td>\n",
       "      <td>0.495</td>\n",
       "      <td>0.768</td>\n",
       "      <td>0.021276</td>\n",
       "      <td>-0.198223</td>\n",
       "      <td>1.296131</td>\n",
       "      <td>...</td>\n",
       "      <td>0</td>\n",
       "      <td>0</td>\n",
       "      <td>0</td>\n",
       "      <td>0</td>\n",
       "      <td>0</td>\n",
       "      <td>0</td>\n",
       "      <td>0</td>\n",
       "      <td>0</td>\n",
       "      <td>0</td>\n",
       "      <td>0</td>\n",
       "    </tr>\n",
       "    <tr>\n",
       "      <th>12245</th>\n",
       "      <td>-0.167368</td>\n",
       "      <td>0.446586</td>\n",
       "      <td>1.463501</td>\n",
       "      <td>0.472</td>\n",
       "      <td>0.395</td>\n",
       "      <td>0.486</td>\n",
       "      <td>0.823</td>\n",
       "      <td>1.510405</td>\n",
       "      <td>0.963873</td>\n",
       "      <td>0.261794</td>\n",
       "      <td>...</td>\n",
       "      <td>0</td>\n",
       "      <td>0</td>\n",
       "      <td>0</td>\n",
       "      <td>1</td>\n",
       "      <td>0</td>\n",
       "      <td>0</td>\n",
       "      <td>0</td>\n",
       "      <td>0</td>\n",
       "      <td>0</td>\n",
       "      <td>0</td>\n",
       "    </tr>\n",
       "    <tr>\n",
       "      <th>14308</th>\n",
       "      <td>0.070298</td>\n",
       "      <td>0.514287</td>\n",
       "      <td>1.034890</td>\n",
       "      <td>0.418</td>\n",
       "      <td>0.000</td>\n",
       "      <td>0.418</td>\n",
       "      <td>0.795</td>\n",
       "      <td>1.823906</td>\n",
       "      <td>-0.409513</td>\n",
       "      <td>0.054926</td>\n",
       "      <td>...</td>\n",
       "      <td>0</td>\n",
       "      <td>0</td>\n",
       "      <td>0</td>\n",
       "      <td>0</td>\n",
       "      <td>0</td>\n",
       "      <td>0</td>\n",
       "      <td>0</td>\n",
       "      <td>0</td>\n",
       "      <td>0</td>\n",
       "      <td>0</td>\n",
       "    </tr>\n",
       "  </tbody>\n",
       "</table>\n",
       "<p>11860 rows × 55 columns</p>\n",
       "</div>"
      ],
      "text/plain": [
       "          games  gamesstarted        mp  fg_perc  3p_perc  2p_perc  ft_perc  \\\n",
       "14212  0.585239     -0.670478 -0.095085    0.412    0.327    0.429    0.750   \n",
       "15260  0.704072     -0.331974  0.411456    0.427    0.213    0.492    0.641   \n",
       "243    0.189130     -0.704329 -0.552919    0.451    0.000    0.453    0.688   \n",
       "5480  -2.029080     -0.873581 -1.361435    0.222    0.000    0.222    0.625   \n",
       "14192  0.585239      1.428249  0.956960    0.397    0.282    0.461    0.637   \n",
       "...         ...           ...       ...      ...      ...      ...      ...   \n",
       "7263   0.506018     -0.162722 -0.221720    0.524    0.000    0.532    0.579   \n",
       "14162  0.981348      1.800603  1.677806    0.469    0.360    0.504    0.734   \n",
       "12322  0.268352      1.191296  0.557573    0.415    0.316    0.495    0.768   \n",
       "12245 -0.167368      0.446586  1.463501    0.472    0.395    0.486    0.823   \n",
       "14308  0.070298      0.514287  1.034890    0.418    0.000    0.418    0.795   \n",
       "\n",
       "            trb       ast       stl  ...  team_SAC  team_SAS  team_SDC  \\\n",
       "14212  0.021276  0.224358 -0.151941  ...         0         0         0   \n",
       "15260 -0.135475  0.594116  0.882396  ...         0         0         0   \n",
       "243    0.021276 -0.515158 -0.772543  ...         0         0         0   \n",
       "5480  -0.331413 -0.990561 -1.393145  ...         0         0         0   \n",
       "14192  0.413152  0.382825  1.502998  ...         0         0         0   \n",
       "...         ...       ...       ...  ...       ...       ...       ...   \n",
       "7263   0.217214 -0.673626 -0.151941  ...         0         0         0   \n",
       "14162  1.823906  0.013068  1.296131  ...         0         0         0   \n",
       "12322  0.021276 -0.198223  1.296131  ...         0         0         0   \n",
       "12245  1.510405  0.963873  0.261794  ...         0         0         0   \n",
       "14308  1.823906 -0.409513  0.054926  ...         0         0         0   \n",
       "\n",
       "       team_SEA  team_TOR  team_TOT  team_UTA  team_VAN  team_WAS  team_WSB  \n",
       "14212         0         0         0         0         0         0         0  \n",
       "15260         0         0         0         0         0         0         0  \n",
       "243           0         0         0         0         0         0         0  \n",
       "5480          0         0         0         0         0         0         0  \n",
       "14192         0         0         0         0         0         0         0  \n",
       "...         ...       ...       ...       ...       ...       ...       ...  \n",
       "7263          0         0         0         0         0         0         1  \n",
       "14162         0         0         0         0         0         0         0  \n",
       "12322         0         0         0         0         0         0         0  \n",
       "12245         1         0         0         0         0         0         0  \n",
       "14308         0         0         0         0         0         0         0  \n",
       "\n",
       "[11860 rows x 55 columns]"
      ]
     },
     "execution_count": 84,
     "metadata": {},
     "output_type": "execute_result"
    }
   ],
   "source": [
    "X_nba_train"
   ]
  },
  {
   "cell_type": "markdown",
   "id": "6592c6c0-7ec8-49ac-936c-2d0fb84ccfef",
   "metadata": {
    "id": "6592c6c0-7ec8-49ac-936c-2d0fb84ccfef",
    "tags": []
   },
   "source": [
    "#### Modeling"
   ]
  },
  {
   "cell_type": "markdown",
   "id": "06240cb2-de21-4d4e-ae0e-0f90c3c0453a",
   "metadata": {
    "id": "06240cb2-de21-4d4e-ae0e-0f90c3c0453a"
   },
   "source": [
    "2.9. Train a logistic regresion model, find the best hyperparameters for: tols, C and max_iter. Try at least 4 values of each parameter. Remember to select based on f1 score, but report also precision and recall. Save the best performing model to use in the next steps."
   ]
  },
  {
   "cell_type": "code",
   "execution_count": 85,
   "id": "4bdc4abf-ded3-4d8b-9170-c1d5b4951ba7",
   "metadata": {
    "ExecuteTime": {
     "end_time": "2022-05-06T16:05:58.272230Z",
     "start_time": "2022-05-06T16:05:58.186303Z"
    },
    "id": "4bdc4abf-ded3-4d8b-9170-c1d5b4951ba7"
   },
   "outputs": [],
   "source": [
    "nba_model = LogisticRegression(max_iter=1000, C=0.2)"
   ]
  },
  {
   "cell_type": "code",
   "execution_count": 86,
   "id": "ce80c26a",
   "metadata": {
    "ExecuteTime": {
     "end_time": "2022-05-06T16:05:58.651270Z",
     "start_time": "2022-05-06T16:05:58.283253Z"
    },
    "scrolled": true
   },
   "outputs": [
    {
     "data": {
      "text/plain": [
       "LogisticRegression(C=0.2, max_iter=1000)"
      ]
     },
     "execution_count": 86,
     "metadata": {},
     "output_type": "execute_result"
    }
   ],
   "source": [
    "nba_model.fit(X_nba_train, y_nba_train)"
   ]
  },
  {
   "cell_type": "code",
   "execution_count": 87,
   "id": "0b4808bb",
   "metadata": {
    "ExecuteTime": {
     "end_time": "2022-05-06T16:05:58.666316Z",
     "start_time": "2022-05-06T16:05:58.654270Z"
    }
   },
   "outputs": [],
   "source": [
    "ypred = nba_model.predict(X_nba_test)"
   ]
  },
  {
   "cell_type": "code",
   "execution_count": 577,
   "id": "a4f3d06f",
   "metadata": {
    "ExecuteTime": {
     "end_time": "2022-05-06T21:21:56.199648Z",
     "start_time": "2022-05-06T21:21:56.184647Z"
    }
   },
   "outputs": [],
   "source": [
    "f1_1 = round(f1_score(y_nba_test, ypred),4)\n",
    "rec_1 = round(recall_score(y_nba_test, ypred),4)"
   ]
  },
  {
   "cell_type": "code",
   "execution_count": 578,
   "id": "07da25f0",
   "metadata": {
    "ExecuteTime": {
     "end_time": "2022-05-06T21:21:57.264646Z",
     "start_time": "2022-05-06T21:21:57.251650Z"
    },
    "scrolled": true
   },
   "outputs": [
    {
     "name": "stdout",
     "output_type": "stream",
     "text": [
      "Recall: 0.6162%\n",
      "f1: 0.7219%\n"
     ]
    }
   ],
   "source": [
    "print(f\"Recall: {rec_1}%\\nf1: {f1_1}%\")"
   ]
  },
  {
   "cell_type": "markdown",
   "id": "45c0c3bd-b431-40f1-abbb-4e90b7479411",
   "metadata": {
    "id": "45c0c3bd-b431-40f1-abbb-4e90b7479411"
   },
   "source": [
    "#### Evaluating on New Data"
   ]
  },
  {
   "cell_type": "markdown",
   "id": "3a5352ce-df8a-4c9d-b583-65255774f9d9",
   "metadata": {
    "id": "3a5352ce-df8a-4c9d-b583-65255774f9d9"
   },
   "source": [
    "You're now going to evaluate the results on a test dataset that has not being used to train or do hyperparameter tuning, this is sometimes known as a Test set (in this cases the test set used for training is known as validation set, yeah, it's confusing, but you can read about it [here](https://machinelearningmastery.com/difference-test-validation-datasets/))"
   ]
  },
  {
   "cell_type": "markdown",
   "id": "9da9e93b-6265-44e4-89be-75e7178800e2",
   "metadata": {
    "id": "9da9e93b-6265-44e4-89be-75e7178800e2"
   },
   "source": [
    "2.10. Load the dataset [all_nba_2018_dataset.csv](https://raw.githubusercontent.com/anyoneai/notebooks/main/datasets/all_nba_2018_dataset.csv) in one dataframe and [all_nba_2018_selections.csv](https://raw.githubusercontent.com/anyoneai/notebooks/main/datasets/all_nba_2018_selections.csv)) in another, then:\n",
    "\n",
    "    - Scale the numerical features. Columns season_id, player_id, player_season, player, season and season_start will not be used for prediction, you can keep them but remember not to pass them to the classifier.\n",
    "    \n",
    "    - Create the one hot encoded features for team. This step will be complex, as you will have to consider that in the 2018 season there are 30 teams, but the previous dataset contains 40 teams, that is because a lot of teams changed names or cities over the years. You need to add those 10 different team names in this dataset (with all values in 0) to make the classifier work."
   ]
  },
  {
   "cell_type": "code",
   "execution_count": 90,
   "id": "79ea153a-b061-4df9-9c3d-1aaa0526c700",
   "metadata": {
    "ExecuteTime": {
     "end_time": "2022-05-06T16:06:00.937268Z",
     "start_time": "2022-05-06T16:05:58.854327Z"
    },
    "id": "79ea153a-b061-4df9-9c3d-1aaa0526c700"
   },
   "outputs": [],
   "source": [
    "all_nba_2018_df = pd.read_csv(\"https://raw.githubusercontent.com/anyoneai/notebooks/main/datasets/all_nba_2018_dataset.csv\", index_col=0)\n",
    "all_nba_2018_selections = pd.read_csv(\"https://raw.githubusercontent.com/anyoneai/notebooks/main/datasets/all_nba_2018_selections.csv\", index_col=0)"
   ]
  },
  {
   "cell_type": "code",
   "execution_count": 582,
   "id": "f6036df4",
   "metadata": {
    "ExecuteTime": {
     "end_time": "2022-05-07T22:31:47.321857Z",
     "start_time": "2022-05-07T22:31:47.304858Z"
    }
   },
   "outputs": [
    {
     "data": {
      "text/html": [
       "<div>\n",
       "<style scoped>\n",
       "    .dataframe tbody tr th:only-of-type {\n",
       "        vertical-align: middle;\n",
       "    }\n",
       "\n",
       "    .dataframe tbody tr th {\n",
       "        vertical-align: top;\n",
       "    }\n",
       "\n",
       "    .dataframe thead th {\n",
       "        text-align: right;\n",
       "    }\n",
       "</style>\n",
       "<table border=\"1\" class=\"dataframe\">\n",
       "  <thead>\n",
       "    <tr style=\"text-align: right;\">\n",
       "      <th></th>\n",
       "      <th>player_id</th>\n",
       "      <th>player</th>\n",
       "      <th>all_nba</th>\n",
       "    </tr>\n",
       "  </thead>\n",
       "  <tbody>\n",
       "    <tr>\n",
       "      <th>34</th>\n",
       "      <td>5</td>\n",
       "      <td>Alex Abrines</td>\n",
       "      <td>0</td>\n",
       "    </tr>\n",
       "    <tr>\n",
       "      <th>49</th>\n",
       "      <td>8</td>\n",
       "      <td>Quincy Acy</td>\n",
       "      <td>0</td>\n",
       "    </tr>\n",
       "    <tr>\n",
       "      <th>70</th>\n",
       "      <td>10</td>\n",
       "      <td>Jaylen Adams</td>\n",
       "      <td>0</td>\n",
       "    </tr>\n",
       "    <tr>\n",
       "      <th>71</th>\n",
       "      <td>13</td>\n",
       "      <td>Steven Adams</td>\n",
       "      <td>0</td>\n",
       "    </tr>\n",
       "    <tr>\n",
       "      <th>79</th>\n",
       "      <td>15</td>\n",
       "      <td>Bam Adebayo</td>\n",
       "      <td>0</td>\n",
       "    </tr>\n",
       "  </tbody>\n",
       "</table>\n",
       "</div>"
      ],
      "text/plain": [
       "    player_id        player  all_nba\n",
       "34          5  Alex Abrines        0\n",
       "49          8    Quincy Acy        0\n",
       "70         10  Jaylen Adams        0\n",
       "71         13  Steven Adams        0\n",
       "79         15   Bam Adebayo        0"
      ]
     },
     "execution_count": 582,
     "metadata": {},
     "output_type": "execute_result"
    }
   ],
   "source": [
    "all_nba_2018_selections.head()"
   ]
  },
  {
   "cell_type": "code",
   "execution_count": 583,
   "id": "b620d728",
   "metadata": {
    "ExecuteTime": {
     "end_time": "2022-05-07T22:31:52.717025Z",
     "start_time": "2022-05-07T22:31:52.667024Z"
    },
    "scrolled": false
   },
   "outputs": [
    {
     "data": {
      "text/html": [
       "<div>\n",
       "<style scoped>\n",
       "    .dataframe tbody tr th:only-of-type {\n",
       "        vertical-align: middle;\n",
       "    }\n",
       "\n",
       "    .dataframe tbody tr th {\n",
       "        vertical-align: top;\n",
       "    }\n",
       "\n",
       "    .dataframe thead th {\n",
       "        text-align: right;\n",
       "    }\n",
       "</style>\n",
       "<table border=\"1\" class=\"dataframe\">\n",
       "  <thead>\n",
       "    <tr style=\"text-align: right;\">\n",
       "      <th></th>\n",
       "      <th>season_id</th>\n",
       "      <th>player_id</th>\n",
       "      <th>player_season</th>\n",
       "      <th>player</th>\n",
       "      <th>season</th>\n",
       "      <th>season_start</th>\n",
       "      <th>team</th>\n",
       "      <th>games</th>\n",
       "      <th>gamesstarted</th>\n",
       "      <th>mp</th>\n",
       "      <th>...</th>\n",
       "      <th>3p_perc</th>\n",
       "      <th>2p_perc</th>\n",
       "      <th>ft_perc</th>\n",
       "      <th>trb</th>\n",
       "      <th>ast</th>\n",
       "      <th>stl</th>\n",
       "      <th>blk</th>\n",
       "      <th>tov</th>\n",
       "      <th>pf</th>\n",
       "      <th>pts</th>\n",
       "    </tr>\n",
       "  </thead>\n",
       "  <tbody>\n",
       "    <tr>\n",
       "      <th>34</th>\n",
       "      <td>34</td>\n",
       "      <td>5</td>\n",
       "      <td>2</td>\n",
       "      <td>Alex Abrines</td>\n",
       "      <td>2018-19</td>\n",
       "      <td>2018</td>\n",
       "      <td>OKC</td>\n",
       "      <td>31</td>\n",
       "      <td>2</td>\n",
       "      <td>19.0</td>\n",
       "      <td>...</td>\n",
       "      <td>0.323</td>\n",
       "      <td>0.500</td>\n",
       "      <td>0.923</td>\n",
       "      <td>1.5</td>\n",
       "      <td>0.6</td>\n",
       "      <td>0.5</td>\n",
       "      <td>0.2</td>\n",
       "      <td>0.5</td>\n",
       "      <td>1.7</td>\n",
       "      <td>5.3</td>\n",
       "    </tr>\n",
       "    <tr>\n",
       "      <th>49</th>\n",
       "      <td>49</td>\n",
       "      <td>8</td>\n",
       "      <td>7</td>\n",
       "      <td>Quincy Acy</td>\n",
       "      <td>2018-19</td>\n",
       "      <td>2018</td>\n",
       "      <td>PHO</td>\n",
       "      <td>10</td>\n",
       "      <td>0</td>\n",
       "      <td>12.3</td>\n",
       "      <td>...</td>\n",
       "      <td>0.133</td>\n",
       "      <td>0.667</td>\n",
       "      <td>0.700</td>\n",
       "      <td>2.5</td>\n",
       "      <td>0.8</td>\n",
       "      <td>0.1</td>\n",
       "      <td>0.4</td>\n",
       "      <td>0.4</td>\n",
       "      <td>2.4</td>\n",
       "      <td>1.7</td>\n",
       "    </tr>\n",
       "    <tr>\n",
       "      <th>70</th>\n",
       "      <td>52</td>\n",
       "      <td>10</td>\n",
       "      <td>1</td>\n",
       "      <td>Jaylen Adams</td>\n",
       "      <td>2018-19</td>\n",
       "      <td>2018</td>\n",
       "      <td>ATL</td>\n",
       "      <td>34</td>\n",
       "      <td>1</td>\n",
       "      <td>12.6</td>\n",
       "      <td>...</td>\n",
       "      <td>0.338</td>\n",
       "      <td>0.361</td>\n",
       "      <td>0.778</td>\n",
       "      <td>1.8</td>\n",
       "      <td>1.9</td>\n",
       "      <td>0.4</td>\n",
       "      <td>0.1</td>\n",
       "      <td>0.8</td>\n",
       "      <td>1.3</td>\n",
       "      <td>3.2</td>\n",
       "    </tr>\n",
       "    <tr>\n",
       "      <th>71</th>\n",
       "      <td>71</td>\n",
       "      <td>13</td>\n",
       "      <td>6</td>\n",
       "      <td>Steven Adams</td>\n",
       "      <td>2018-19</td>\n",
       "      <td>2018</td>\n",
       "      <td>OKC</td>\n",
       "      <td>80</td>\n",
       "      <td>80</td>\n",
       "      <td>33.4</td>\n",
       "      <td>...</td>\n",
       "      <td>0.000</td>\n",
       "      <td>0.596</td>\n",
       "      <td>0.500</td>\n",
       "      <td>9.5</td>\n",
       "      <td>1.6</td>\n",
       "      <td>1.5</td>\n",
       "      <td>1.0</td>\n",
       "      <td>1.7</td>\n",
       "      <td>2.6</td>\n",
       "      <td>13.9</td>\n",
       "    </tr>\n",
       "    <tr>\n",
       "      <th>79</th>\n",
       "      <td>79</td>\n",
       "      <td>15</td>\n",
       "      <td>2</td>\n",
       "      <td>Bam Adebayo</td>\n",
       "      <td>2018-19</td>\n",
       "      <td>2018</td>\n",
       "      <td>MIA</td>\n",
       "      <td>82</td>\n",
       "      <td>28</td>\n",
       "      <td>23.3</td>\n",
       "      <td>...</td>\n",
       "      <td>0.200</td>\n",
       "      <td>0.588</td>\n",
       "      <td>0.735</td>\n",
       "      <td>7.3</td>\n",
       "      <td>2.2</td>\n",
       "      <td>0.9</td>\n",
       "      <td>0.8</td>\n",
       "      <td>1.5</td>\n",
       "      <td>2.5</td>\n",
       "      <td>8.9</td>\n",
       "    </tr>\n",
       "  </tbody>\n",
       "</table>\n",
       "<p>5 rows × 21 columns</p>\n",
       "</div>"
      ],
      "text/plain": [
       "    season_id  player_id  player_season        player   season  season_start  \\\n",
       "34         34          5              2  Alex Abrines  2018-19          2018   \n",
       "49         49          8              7    Quincy Acy  2018-19          2018   \n",
       "70         52         10              1  Jaylen Adams  2018-19          2018   \n",
       "71         71         13              6  Steven Adams  2018-19          2018   \n",
       "79         79         15              2   Bam Adebayo  2018-19          2018   \n",
       "\n",
       "   team  games  gamesstarted    mp  ...  3p_perc  2p_perc  ft_perc  trb  ast  \\\n",
       "34  OKC     31             2  19.0  ...    0.323    0.500    0.923  1.5  0.6   \n",
       "49  PHO     10             0  12.3  ...    0.133    0.667    0.700  2.5  0.8   \n",
       "70  ATL     34             1  12.6  ...    0.338    0.361    0.778  1.8  1.9   \n",
       "71  OKC     80            80  33.4  ...    0.000    0.596    0.500  9.5  1.6   \n",
       "79  MIA     82            28  23.3  ...    0.200    0.588    0.735  7.3  2.2   \n",
       "\n",
       "    stl  blk  tov   pf   pts  \n",
       "34  0.5  0.2  0.5  1.7   5.3  \n",
       "49  0.1  0.4  0.4  2.4   1.7  \n",
       "70  0.4  0.1  0.8  1.3   3.2  \n",
       "71  1.5  1.0  1.7  2.6  13.9  \n",
       "79  0.9  0.8  1.5  2.5   8.9  \n",
       "\n",
       "[5 rows x 21 columns]"
      ]
     },
     "execution_count": 583,
     "metadata": {},
     "output_type": "execute_result"
    }
   ],
   "source": [
    "all_nba_2018_df.head()"
   ]
  },
  {
   "cell_type": "code",
   "execution_count": 93,
   "id": "b80d233a",
   "metadata": {
    "ExecuteTime": {
     "end_time": "2022-05-06T16:06:01.738742Z",
     "start_time": "2022-05-06T16:06:01.673247Z"
    }
   },
   "outputs": [],
   "source": [
    "X_nd = all_nba_2018_df[['team', 'games', 'gamesstarted', 'mp', 'fg_perc', '3p_perc',\n",
    "                '2p_perc', 'ft_perc', 'trb', 'ast', 'stl', 'blk', 'tov', 'pf', 'pts']].copy()"
   ]
  },
  {
   "cell_type": "code",
   "execution_count": 94,
   "id": "6ba48a68",
   "metadata": {
    "ExecuteTime": {
     "end_time": "2022-05-06T16:06:01.873629Z",
     "start_time": "2022-05-06T16:06:01.741707Z"
    }
   },
   "outputs": [],
   "source": [
    "X_nd[[\"games\", \"gamesstarted\", \"mp\", \"trb\", \"ast\", \"stl\", \"blk\", \"tov\", \"pf\", \"pts\"]] = allnba_scaler.transform(\n",
    "    X_nd[[\"games\", \"gamesstarted\", \"mp\", \"trb\", \"ast\", \"stl\", \"blk\", \"tov\", \"pf\", \"pts\"]])"
   ]
  },
  {
   "cell_type": "code",
   "execution_count": 95,
   "id": "590257e3",
   "metadata": {
    "ExecuteTime": {
     "end_time": "2022-05-06T16:06:02.029066Z",
     "start_time": "2022-05-06T16:06:01.879629Z"
    },
    "scrolled": false
   },
   "outputs": [],
   "source": [
    "X_nd = pd.get_dummies(X_nd, columns=[\"team\"])"
   ]
  },
  {
   "cell_type": "code",
   "execution_count": 96,
   "id": "0eaf7f71",
   "metadata": {
    "ExecuteTime": {
     "end_time": "2022-05-06T16:06:02.144646Z",
     "start_time": "2022-05-06T16:06:02.036872Z"
    }
   },
   "outputs": [
    {
     "data": {
      "text/plain": [
       "{'team_CHA',\n",
       " 'team_CHH',\n",
       " 'team_KCK',\n",
       " 'team_NJN',\n",
       " 'team_NOH',\n",
       " 'team_NOK',\n",
       " 'team_SDC',\n",
       " 'team_SEA',\n",
       " 'team_VAN',\n",
       " 'team_WSB'}"
      ]
     },
     "execution_count": 96,
     "metadata": {},
     "output_type": "execute_result"
    }
   ],
   "source": [
    "set(X_nba_train.columns)-set(X_nd.columns)"
   ]
  },
  {
   "cell_type": "code",
   "execution_count": 97,
   "id": "42d740c5",
   "metadata": {
    "ExecuteTime": {
     "end_time": "2022-05-06T16:06:02.321309Z",
     "start_time": "2022-05-06T16:06:02.152532Z"
    }
   },
   "outputs": [],
   "source": [
    "X_nd[['team_CHA', 'team_CHH', 'team_KCK', 'team_NJN', 'team_NOH',\n",
    "     'team_NOK', 'team_SDC', 'team_SEA', 'team_VAN', 'team_WSB']] = 0"
   ]
  },
  {
   "cell_type": "code",
   "execution_count": 98,
   "id": "4acf6635",
   "metadata": {
    "ExecuteTime": {
     "end_time": "2022-05-06T16:06:02.473115Z",
     "start_time": "2022-05-06T16:06:02.332401Z"
    }
   },
   "outputs": [],
   "source": [
    "X_nd.columns = X_nba_train.columns"
   ]
  },
  {
   "cell_type": "markdown",
   "id": "8b0bb296-b1b3-4ae4-b199-b11224c78a82",
   "metadata": {
    "id": "8b0bb296-b1b3-4ae4-b199-b11224c78a82"
   },
   "source": [
    "2.11. Predict and evaluate the model using precision, recall and f1 score. "
   ]
  },
  {
   "cell_type": "code",
   "execution_count": 99,
   "id": "b00ddffa-3f09-4294-beb5-098c2d698af0",
   "metadata": {
    "ExecuteTime": {
     "end_time": "2022-05-06T16:06:02.639800Z",
     "start_time": "2022-05-06T16:06:02.481921Z"
    },
    "id": "b00ddffa-3f09-4294-beb5-098c2d698af0"
   },
   "outputs": [],
   "source": [
    "y_nbaall = nba_model.predict(X_nd)"
   ]
  },
  {
   "cell_type": "code",
   "execution_count": 100,
   "id": "65e38ade",
   "metadata": {
    "ExecuteTime": {
     "end_time": "2022-05-06T16:06:02.758204Z",
     "start_time": "2022-05-06T16:06:02.651553Z"
    }
   },
   "outputs": [],
   "source": [
    "y_nbaall = pd.DataFrame(y_nbaall)\n",
    "data_selected = all_nba_2018_selections.copy()\n",
    "data_selected.reset_index(inplace=True)\n",
    "data_selected = data_selected.join(y_nbaall)\n",
    "data_selected.drop(columns=[\"index\"], inplace=True)\n",
    "data_selected.set_index(\"player_id\", drop=True, inplace=True)\n",
    "data_selected.index.name = None\n",
    "data_selected.columns = [\"PLAYER_NAME\",\"ALL_NBA\",\"PREDICTION\"]"
   ]
  },
  {
   "cell_type": "code",
   "execution_count": 101,
   "id": "ef739f8a",
   "metadata": {
    "ExecuteTime": {
     "end_time": "2022-05-06T16:06:02.863393Z",
     "start_time": "2022-05-06T16:06:02.763204Z"
    }
   },
   "outputs": [
    {
     "data": {
      "text/html": [
       "<div>\n",
       "<style scoped>\n",
       "    .dataframe tbody tr th:only-of-type {\n",
       "        vertical-align: middle;\n",
       "    }\n",
       "\n",
       "    .dataframe tbody tr th {\n",
       "        vertical-align: top;\n",
       "    }\n",
       "\n",
       "    .dataframe thead th {\n",
       "        text-align: right;\n",
       "    }\n",
       "</style>\n",
       "<table border=\"1\" class=\"dataframe\">\n",
       "  <thead>\n",
       "    <tr style=\"text-align: right;\">\n",
       "      <th></th>\n",
       "      <th>PLAYER_NAME</th>\n",
       "      <th>ALL_NBA</th>\n",
       "      <th>PREDICTION</th>\n",
       "    </tr>\n",
       "  </thead>\n",
       "  <tbody>\n",
       "    <tr>\n",
       "      <th>5</th>\n",
       "      <td>Alex Abrines</td>\n",
       "      <td>0</td>\n",
       "      <td>0</td>\n",
       "    </tr>\n",
       "    <tr>\n",
       "      <th>8</th>\n",
       "      <td>Quincy Acy</td>\n",
       "      <td>0</td>\n",
       "      <td>0</td>\n",
       "    </tr>\n",
       "    <tr>\n",
       "      <th>10</th>\n",
       "      <td>Jaylen Adams</td>\n",
       "      <td>0</td>\n",
       "      <td>0</td>\n",
       "    </tr>\n",
       "    <tr>\n",
       "      <th>13</th>\n",
       "      <td>Steven Adams</td>\n",
       "      <td>0</td>\n",
       "      <td>0</td>\n",
       "    </tr>\n",
       "    <tr>\n",
       "      <th>15</th>\n",
       "      <td>Bam Adebayo</td>\n",
       "      <td>0</td>\n",
       "      <td>0</td>\n",
       "    </tr>\n",
       "  </tbody>\n",
       "</table>\n",
       "</div>"
      ],
      "text/plain": [
       "     PLAYER_NAME  ALL_NBA  PREDICTION\n",
       "5   Alex Abrines        0           0\n",
       "8     Quincy Acy        0           0\n",
       "10  Jaylen Adams        0           0\n",
       "13  Steven Adams        0           0\n",
       "15   Bam Adebayo        0           0"
      ]
     },
     "execution_count": 101,
     "metadata": {},
     "output_type": "execute_result"
    }
   ],
   "source": [
    "data_selected.head()"
   ]
  },
  {
   "cell_type": "code",
   "execution_count": 102,
   "id": "42d3f684",
   "metadata": {
    "ExecuteTime": {
     "end_time": "2022-05-06T16:06:03.044389Z",
     "start_time": "2022-05-06T16:06:02.868769Z"
    }
   },
   "outputs": [
    {
     "data": {
      "text/html": [
       "<div>\n",
       "<style scoped>\n",
       "    .dataframe tbody tr th:only-of-type {\n",
       "        vertical-align: middle;\n",
       "    }\n",
       "\n",
       "    .dataframe tbody tr th {\n",
       "        vertical-align: top;\n",
       "    }\n",
       "\n",
       "    .dataframe thead th {\n",
       "        text-align: right;\n",
       "    }\n",
       "</style>\n",
       "<table border=\"1\" class=\"dataframe\">\n",
       "  <thead>\n",
       "    <tr style=\"text-align: right;\">\n",
       "      <th></th>\n",
       "      <th>PLAYER_NAME</th>\n",
       "      <th>ALL_NBA</th>\n",
       "      <th>PREDICTION</th>\n",
       "    </tr>\n",
       "  </thead>\n",
       "  <tbody>\n",
       "    <tr>\n",
       "      <th>30</th>\n",
       "      <td>LaMarcus Aldridge</td>\n",
       "      <td>0</td>\n",
       "      <td>1</td>\n",
       "    </tr>\n",
       "    <tr>\n",
       "      <th>83</th>\n",
       "      <td>Giannis Antetokounmpo</td>\n",
       "      <td>1</td>\n",
       "      <td>1</td>\n",
       "    </tr>\n",
       "    <tr>\n",
       "      <th>179</th>\n",
       "      <td>Bradley Beal</td>\n",
       "      <td>0</td>\n",
       "      <td>1</td>\n",
       "    </tr>\n",
       "    <tr>\n",
       "      <th>570</th>\n",
       "      <td>Stephen Curry</td>\n",
       "      <td>1</td>\n",
       "      <td>1</td>\n",
       "    </tr>\n",
       "    <tr>\n",
       "      <th>587</th>\n",
       "      <td>Anthony Davis</td>\n",
       "      <td>0</td>\n",
       "      <td>1</td>\n",
       "    </tr>\n",
       "    <tr>\n",
       "      <th>682</th>\n",
       "      <td>Andre Drummond</td>\n",
       "      <td>0</td>\n",
       "      <td>1</td>\n",
       "    </tr>\n",
       "    <tr>\n",
       "      <th>695</th>\n",
       "      <td>Kevin Durant</td>\n",
       "      <td>1</td>\n",
       "      <td>1</td>\n",
       "    </tr>\n",
       "    <tr>\n",
       "      <th>740</th>\n",
       "      <td>Joel Embiid</td>\n",
       "      <td>1</td>\n",
       "      <td>1</td>\n",
       "    </tr>\n",
       "    <tr>\n",
       "      <th>884</th>\n",
       "      <td>Paul George</td>\n",
       "      <td>1</td>\n",
       "      <td>1</td>\n",
       "    </tr>\n",
       "    <tr>\n",
       "      <th>909</th>\n",
       "      <td>Rudy Gobert</td>\n",
       "      <td>1</td>\n",
       "      <td>1</td>\n",
       "    </tr>\n",
       "    <tr>\n",
       "      <th>979</th>\n",
       "      <td>Blake Griffin</td>\n",
       "      <td>1</td>\n",
       "      <td>1</td>\n",
       "    </tr>\n",
       "    <tr>\n",
       "      <th>1024</th>\n",
       "      <td>James Harden</td>\n",
       "      <td>1</td>\n",
       "      <td>1</td>\n",
       "    </tr>\n",
       "    <tr>\n",
       "      <th>1131</th>\n",
       "      <td>Jrue Holiday</td>\n",
       "      <td>0</td>\n",
       "      <td>1</td>\n",
       "    </tr>\n",
       "    <tr>\n",
       "      <th>1204</th>\n",
       "      <td>Kyrie Irving</td>\n",
       "      <td>1</td>\n",
       "      <td>1</td>\n",
       "    </tr>\n",
       "    <tr>\n",
       "      <th>1240</th>\n",
       "      <td>LeBron James</td>\n",
       "      <td>1</td>\n",
       "      <td>1</td>\n",
       "    </tr>\n",
       "    <tr>\n",
       "      <th>1315</th>\n",
       "      <td>Nikola Jokic</td>\n",
       "      <td>1</td>\n",
       "      <td>1</td>\n",
       "    </tr>\n",
       "    <tr>\n",
       "      <th>1492</th>\n",
       "      <td>Kawhi Leonard</td>\n",
       "      <td>1</td>\n",
       "      <td>1</td>\n",
       "    </tr>\n",
       "    <tr>\n",
       "      <th>1511</th>\n",
       "      <td>Damian Lillard</td>\n",
       "      <td>1</td>\n",
       "      <td>1</td>\n",
       "    </tr>\n",
       "    <tr>\n",
       "      <th>2267</th>\n",
       "      <td>Ben Simmons</td>\n",
       "      <td>0</td>\n",
       "      <td>1</td>\n",
       "    </tr>\n",
       "    <tr>\n",
       "      <th>2501</th>\n",
       "      <td>Karl-Anthony Towns</td>\n",
       "      <td>0</td>\n",
       "      <td>1</td>\n",
       "    </tr>\n",
       "    <tr>\n",
       "      <th>2572</th>\n",
       "      <td>Nikola Vucevic</td>\n",
       "      <td>0</td>\n",
       "      <td>1</td>\n",
       "    </tr>\n",
       "    <tr>\n",
       "      <th>2585</th>\n",
       "      <td>Kemba Walker</td>\n",
       "      <td>1</td>\n",
       "      <td>1</td>\n",
       "    </tr>\n",
       "    <tr>\n",
       "      <th>2648</th>\n",
       "      <td>Russell Westbrook</td>\n",
       "      <td>1</td>\n",
       "      <td>1</td>\n",
       "    </tr>\n",
       "  </tbody>\n",
       "</table>\n",
       "</div>"
      ],
      "text/plain": [
       "                PLAYER_NAME  ALL_NBA  PREDICTION\n",
       "30        LaMarcus Aldridge        0           1\n",
       "83    Giannis Antetokounmpo        1           1\n",
       "179            Bradley Beal        0           1\n",
       "570           Stephen Curry        1           1\n",
       "587           Anthony Davis        0           1\n",
       "682          Andre Drummond        0           1\n",
       "695            Kevin Durant        1           1\n",
       "740             Joel Embiid        1           1\n",
       "884             Paul George        1           1\n",
       "909             Rudy Gobert        1           1\n",
       "979           Blake Griffin        1           1\n",
       "1024           James Harden        1           1\n",
       "1131           Jrue Holiday        0           1\n",
       "1204           Kyrie Irving        1           1\n",
       "1240           LeBron James        1           1\n",
       "1315           Nikola Jokic        1           1\n",
       "1492          Kawhi Leonard        1           1\n",
       "1511         Damian Lillard        1           1\n",
       "2267            Ben Simmons        0           1\n",
       "2501     Karl-Anthony Towns        0           1\n",
       "2572         Nikola Vucevic        0           1\n",
       "2585           Kemba Walker        1           1\n",
       "2648      Russell Westbrook        1           1"
      ]
     },
     "execution_count": 102,
     "metadata": {},
     "output_type": "execute_result"
    }
   ],
   "source": [
    "data_selected.loc[data_selected[\"PREDICTION\"]==1]"
   ]
  },
  {
   "cell_type": "markdown",
   "id": "be98174e-4d1b-407d-8ecc-dd568f6e5368",
   "metadata": {
    "id": "be98174e-4d1b-407d-8ecc-dd568f6e5368"
   },
   "source": [
    "2.12. Analyze the results, what do you think it is happening?"
   ]
  },
  {
   "cell_type": "markdown",
   "id": "cc5bf8a0",
   "metadata": {
    "id": "17f87aa8-dd84-462a-b26b-80400e4a87e3"
   },
   "source": [
    "The model it's selecting too many players due to the fact that it's giving a 1 value to all players with more than 50% of probability of being selected"
   ]
  },
  {
   "cell_type": "markdown",
   "id": "77a8c607-5df7-43d2-8365-cbbb6f2b93e1",
   "metadata": {
    "id": "77a8c607-5df7-43d2-8365-cbbb6f2b93e1"
   },
   "source": [
    "#### Creating our custom Classifier"
   ]
  },
  {
   "cell_type": "markdown",
   "id": "21dc0d0a-1d15-4f9e-b3ed-f83df1f51ce0",
   "metadata": {
    "id": "21dc0d0a-1d15-4f9e-b3ed-f83df1f51ce0"
   },
   "source": [
    "One thing to consider in this problem, is that the number of ALl NBA selections is fixed each year, a total of 15 players are always selected. But our current model does not limit the number of positive classified players. So, we will have to wrap our model in a custom classifier that only returns as positive the 15 players with the higher probabilities. \n",
    "Fortunately, our chosen model provides access to the underlying probabilities."
   ]
  },
  {
   "cell_type": "markdown",
   "id": "e22326d3-c1ae-475b-9b31-7b02876f8bbc",
   "metadata": {
    "id": "e22326d3-c1ae-475b-9b31-7b02876f8bbc"
   },
   "source": [
    "2.13. Using the trained model, predict probabilities for all rows in the dataset, and create a new column that has the probability that the player was selected as all nba. Round the probability to 3 decimals."
   ]
  },
  {
   "cell_type": "code",
   "execution_count": 103,
   "id": "fddf0631-d676-485d-9748-a688e854c9f2",
   "metadata": {
    "ExecuteTime": {
     "end_time": "2022-05-06T16:06:03.164941Z",
     "start_time": "2022-05-06T16:06:03.051271Z"
    },
    "id": "fddf0631-d676-485d-9748-a688e854c9f2"
   },
   "outputs": [],
   "source": [
    "y_nbaall = nba_model.predict_proba(X_nd)"
   ]
  },
  {
   "cell_type": "markdown",
   "id": "c1e5edbf-faee-4773-a114-eed5eab89242",
   "metadata": {
    "id": "c1e5edbf-faee-4773-a114-eed5eab89242"
   },
   "source": [
    "2.14. Sort the dataset by probabilities and show the 15 players with higher probability to have been selected"
   ]
  },
  {
   "cell_type": "code",
   "execution_count": 104,
   "id": "42562785-2d0d-4e11-a31f-3eca3f78c818",
   "metadata": {
    "ExecuteTime": {
     "end_time": "2022-05-06T16:06:03.352201Z",
     "start_time": "2022-05-06T16:06:03.174700Z"
    },
    "id": "42562785-2d0d-4e11-a31f-3eca3f78c818"
   },
   "outputs": [],
   "source": [
    "y_nbaall = pd.DataFrame(y_nbaall)\n",
    "data_selected = all_nba_2018_selections.copy()\n",
    "data_selected.reset_index(inplace=True)\n",
    "data_selected = data_selected.join(y_nbaall)\n",
    "data_selected.drop(columns=[\"index\",0], inplace=True)\n",
    "data_selected.index.name = None\n",
    "data_selected.columns = [\"PLAYER_ID\",\"PLAYER_NAME\",\"ALL_NBA\",\"PROB_SELECTED\"]"
   ]
  },
  {
   "cell_type": "code",
   "execution_count": 105,
   "id": "76c1a1dc",
   "metadata": {
    "ExecuteTime": {
     "end_time": "2022-05-06T16:06:03.507617Z",
     "start_time": "2022-05-06T16:06:03.359200Z"
    }
   },
   "outputs": [
    {
     "data": {
      "text/html": [
       "<div>\n",
       "<style scoped>\n",
       "    .dataframe tbody tr th:only-of-type {\n",
       "        vertical-align: middle;\n",
       "    }\n",
       "\n",
       "    .dataframe tbody tr th {\n",
       "        vertical-align: top;\n",
       "    }\n",
       "\n",
       "    .dataframe thead th {\n",
       "        text-align: right;\n",
       "    }\n",
       "</style>\n",
       "<table border=\"1\" class=\"dataframe\">\n",
       "  <thead>\n",
       "    <tr style=\"text-align: right;\">\n",
       "      <th></th>\n",
       "      <th>PLAYER_ID</th>\n",
       "      <th>PLAYER_NAME</th>\n",
       "      <th>ALL_NBA</th>\n",
       "      <th>PROB_SELECTED</th>\n",
       "    </tr>\n",
       "  </thead>\n",
       "  <tbody>\n",
       "    <tr>\n",
       "      <th>205</th>\n",
       "      <td>1024</td>\n",
       "      <td>James Harden</td>\n",
       "      <td>1</td>\n",
       "      <td>0.998102</td>\n",
       "    </tr>\n",
       "    <tr>\n",
       "      <th>17</th>\n",
       "      <td>83</td>\n",
       "      <td>Giannis Antetokounmpo</td>\n",
       "      <td>1</td>\n",
       "      <td>0.995101</td>\n",
       "    </tr>\n",
       "    <tr>\n",
       "      <th>125</th>\n",
       "      <td>587</td>\n",
       "      <td>Anthony Davis</td>\n",
       "      <td>0</td>\n",
       "      <td>0.992021</td>\n",
       "    </tr>\n",
       "    <tr>\n",
       "      <th>257</th>\n",
       "      <td>1240</td>\n",
       "      <td>LeBron James</td>\n",
       "      <td>1</td>\n",
       "      <td>0.984453</td>\n",
       "    </tr>\n",
       "    <tr>\n",
       "      <th>154</th>\n",
       "      <td>740</td>\n",
       "      <td>Joel Embiid</td>\n",
       "      <td>1</td>\n",
       "      <td>0.972071</td>\n",
       "    </tr>\n",
       "    <tr>\n",
       "      <th>505</th>\n",
       "      <td>2648</td>\n",
       "      <td>Russell Westbrook</td>\n",
       "      <td>1</td>\n",
       "      <td>0.960029</td>\n",
       "    </tr>\n",
       "    <tr>\n",
       "      <th>491</th>\n",
       "      <td>2572</td>\n",
       "      <td>Nikola Vucevic</td>\n",
       "      <td>0</td>\n",
       "      <td>0.886669</td>\n",
       "    </tr>\n",
       "    <tr>\n",
       "      <th>182</th>\n",
       "      <td>884</td>\n",
       "      <td>Paul George</td>\n",
       "      <td>1</td>\n",
       "      <td>0.867475</td>\n",
       "    </tr>\n",
       "    <tr>\n",
       "      <th>149</th>\n",
       "      <td>695</td>\n",
       "      <td>Kevin Durant</td>\n",
       "      <td>1</td>\n",
       "      <td>0.845875</td>\n",
       "    </tr>\n",
       "    <tr>\n",
       "      <th>479</th>\n",
       "      <td>2501</td>\n",
       "      <td>Karl-Anthony Towns</td>\n",
       "      <td>0</td>\n",
       "      <td>0.829671</td>\n",
       "    </tr>\n",
       "    <tr>\n",
       "      <th>268</th>\n",
       "      <td>1315</td>\n",
       "      <td>Nikola Jokic</td>\n",
       "      <td>1</td>\n",
       "      <td>0.826866</td>\n",
       "    </tr>\n",
       "    <tr>\n",
       "      <th>495</th>\n",
       "      <td>2585</td>\n",
       "      <td>Kemba Walker</td>\n",
       "      <td>1</td>\n",
       "      <td>0.803116</td>\n",
       "    </tr>\n",
       "    <tr>\n",
       "      <th>300</th>\n",
       "      <td>1492</td>\n",
       "      <td>Kawhi Leonard</td>\n",
       "      <td>1</td>\n",
       "      <td>0.802426</td>\n",
       "    </tr>\n",
       "    <tr>\n",
       "      <th>304</th>\n",
       "      <td>1511</td>\n",
       "      <td>Damian Lillard</td>\n",
       "      <td>1</td>\n",
       "      <td>0.800036</td>\n",
       "    </tr>\n",
       "    <tr>\n",
       "      <th>229</th>\n",
       "      <td>1131</td>\n",
       "      <td>Jrue Holiday</td>\n",
       "      <td>0</td>\n",
       "      <td>0.668894</td>\n",
       "    </tr>\n",
       "  </tbody>\n",
       "</table>\n",
       "</div>"
      ],
      "text/plain": [
       "     PLAYER_ID            PLAYER_NAME  ALL_NBA  PROB_SELECTED\n",
       "205       1024           James Harden        1       0.998102\n",
       "17          83  Giannis Antetokounmpo        1       0.995101\n",
       "125        587          Anthony Davis        0       0.992021\n",
       "257       1240           LeBron James        1       0.984453\n",
       "154        740            Joel Embiid        1       0.972071\n",
       "505       2648      Russell Westbrook        1       0.960029\n",
       "491       2572         Nikola Vucevic        0       0.886669\n",
       "182        884            Paul George        1       0.867475\n",
       "149        695           Kevin Durant        1       0.845875\n",
       "479       2501     Karl-Anthony Towns        0       0.829671\n",
       "268       1315           Nikola Jokic        1       0.826866\n",
       "495       2585           Kemba Walker        1       0.803116\n",
       "300       1492          Kawhi Leonard        1       0.802426\n",
       "304       1511         Damian Lillard        1       0.800036\n",
       "229       1131           Jrue Holiday        0       0.668894"
      ]
     },
     "execution_count": 105,
     "metadata": {},
     "output_type": "execute_result"
    }
   ],
   "source": [
    "data_selected.sort_values(\"PROB_SELECTED\", ascending=False).head(15)"
   ]
  },
  {
   "cell_type": "markdown",
   "id": "1c27683b-0256-40c5-929c-d5ed6cdf6d1f",
   "metadata": {
    "id": "1c27683b-0256-40c5-929c-d5ed6cdf6d1f"
   },
   "source": [
    "2.15. Print:\n",
    "\n",
    "    - Players actually selected from the all_nba_2018_selections dataset,\n",
    "    - Players actually selected missing from OUR predictions+\n",
    "    - Players in our predictions not selected "
   ]
  },
  {
   "cell_type": "code",
   "execution_count": 588,
   "id": "fdbcdcac-43bd-4936-8312-456b3b0bd842",
   "metadata": {
    "ExecuteTime": {
     "end_time": "2022-05-07T22:38:27.503162Z",
     "start_time": "2022-05-07T22:38:27.486169Z"
    },
    "id": "fdbcdcac-43bd-4936-8312-456b3b0bd842",
    "scrolled": false
   },
   "outputs": [
    {
     "name": "stdout",
     "output_type": "stream",
     "text": [
      "The selected players were:\n"
     ]
    },
    {
     "data": {
      "text/html": [
       "<div>\n",
       "<style scoped>\n",
       "    .dataframe tbody tr th:only-of-type {\n",
       "        vertical-align: middle;\n",
       "    }\n",
       "\n",
       "    .dataframe tbody tr th {\n",
       "        vertical-align: top;\n",
       "    }\n",
       "\n",
       "    .dataframe thead th {\n",
       "        text-align: right;\n",
       "    }\n",
       "</style>\n",
       "<table border=\"1\" class=\"dataframe\">\n",
       "  <thead>\n",
       "    <tr style=\"text-align: right;\">\n",
       "      <th></th>\n",
       "      <th>player_id</th>\n",
       "      <th>player</th>\n",
       "      <th>all_nba</th>\n",
       "    </tr>\n",
       "  </thead>\n",
       "  <tbody>\n",
       "    <tr>\n",
       "      <th>453</th>\n",
       "      <td>83</td>\n",
       "      <td>Giannis Antetokounmpo</td>\n",
       "      <td>1</td>\n",
       "    </tr>\n",
       "    <tr>\n",
       "      <th>3168</th>\n",
       "      <td>570</td>\n",
       "      <td>Stephen Curry</td>\n",
       "      <td>1</td>\n",
       "    </tr>\n",
       "    <tr>\n",
       "      <th>3908</th>\n",
       "      <td>695</td>\n",
       "      <td>Kevin Durant</td>\n",
       "      <td>1</td>\n",
       "    </tr>\n",
       "    <tr>\n",
       "      <th>4145</th>\n",
       "      <td>740</td>\n",
       "      <td>Joel Embiid</td>\n",
       "      <td>1</td>\n",
       "    </tr>\n",
       "    <tr>\n",
       "      <th>4895</th>\n",
       "      <td>884</td>\n",
       "      <td>Paul George</td>\n",
       "      <td>1</td>\n",
       "    </tr>\n",
       "    <tr>\n",
       "      <th>5016</th>\n",
       "      <td>909</td>\n",
       "      <td>Rudy Gobert</td>\n",
       "      <td>1</td>\n",
       "    </tr>\n",
       "    <tr>\n",
       "      <th>5399</th>\n",
       "      <td>979</td>\n",
       "      <td>Blake Griffin</td>\n",
       "      <td>1</td>\n",
       "    </tr>\n",
       "    <tr>\n",
       "      <th>5604</th>\n",
       "      <td>1024</td>\n",
       "      <td>James Harden</td>\n",
       "      <td>1</td>\n",
       "    </tr>\n",
       "    <tr>\n",
       "      <th>6634</th>\n",
       "      <td>1204</td>\n",
       "      <td>Kyrie Irving</td>\n",
       "      <td>1</td>\n",
       "    </tr>\n",
       "    <tr>\n",
       "      <th>6857</th>\n",
       "      <td>1240</td>\n",
       "      <td>LeBron James</td>\n",
       "      <td>1</td>\n",
       "    </tr>\n",
       "    <tr>\n",
       "      <th>7225</th>\n",
       "      <td>1315</td>\n",
       "      <td>Nikola Jokic</td>\n",
       "      <td>1</td>\n",
       "    </tr>\n",
       "    <tr>\n",
       "      <th>8103</th>\n",
       "      <td>1492</td>\n",
       "      <td>Kawhi Leonard</td>\n",
       "      <td>1</td>\n",
       "    </tr>\n",
       "    <tr>\n",
       "      <th>8206</th>\n",
       "      <td>1511</td>\n",
       "      <td>Damian Lillard</td>\n",
       "      <td>1</td>\n",
       "    </tr>\n",
       "    <tr>\n",
       "      <th>14132</th>\n",
       "      <td>2585</td>\n",
       "      <td>Kemba Walker</td>\n",
       "      <td>1</td>\n",
       "    </tr>\n",
       "    <tr>\n",
       "      <th>14479</th>\n",
       "      <td>2648</td>\n",
       "      <td>Russell Westbrook</td>\n",
       "      <td>1</td>\n",
       "    </tr>\n",
       "  </tbody>\n",
       "</table>\n",
       "</div>"
      ],
      "text/plain": [
       "       player_id                 player  all_nba\n",
       "453           83  Giannis Antetokounmpo        1\n",
       "3168         570          Stephen Curry        1\n",
       "3908         695           Kevin Durant        1\n",
       "4145         740            Joel Embiid        1\n",
       "4895         884            Paul George        1\n",
       "5016         909            Rudy Gobert        1\n",
       "5399         979          Blake Griffin        1\n",
       "5604        1024           James Harden        1\n",
       "6634        1204           Kyrie Irving        1\n",
       "6857        1240           LeBron James        1\n",
       "7225        1315           Nikola Jokic        1\n",
       "8103        1492          Kawhi Leonard        1\n",
       "8206        1511         Damian Lillard        1\n",
       "14132       2585           Kemba Walker        1\n",
       "14479       2648      Russell Westbrook        1"
      ]
     },
     "execution_count": 588,
     "metadata": {},
     "output_type": "execute_result"
    }
   ],
   "source": [
    "print(\"The selected players were:\")\n",
    "all_nba_2018_selections.loc[all_nba_2018_selections.all_nba == 1]"
   ]
  },
  {
   "cell_type": "code",
   "execution_count": 586,
   "id": "a3baba79",
   "metadata": {
    "ExecuteTime": {
     "end_time": "2022-05-07T22:38:04.213045Z",
     "start_time": "2022-05-07T22:38:04.191049Z"
    }
   },
   "outputs": [
    {
     "name": "stdout",
     "output_type": "stream",
     "text": [
      "The model failed to predict the following selected players:\n"
     ]
    },
    {
     "data": {
      "text/html": [
       "<div>\n",
       "<style scoped>\n",
       "    .dataframe tbody tr th:only-of-type {\n",
       "        vertical-align: middle;\n",
       "    }\n",
       "\n",
       "    .dataframe tbody tr th {\n",
       "        vertical-align: top;\n",
       "    }\n",
       "\n",
       "    .dataframe thead th {\n",
       "        text-align: right;\n",
       "    }\n",
       "</style>\n",
       "<table border=\"1\" class=\"dataframe\">\n",
       "  <thead>\n",
       "    <tr style=\"text-align: right;\">\n",
       "      <th></th>\n",
       "      <th>PLAYER_ID</th>\n",
       "      <th>PLAYER_NAME</th>\n",
       "      <th>ALL_NBA</th>\n",
       "      <th>PROB_SELECTED</th>\n",
       "    </tr>\n",
       "  </thead>\n",
       "  <tbody>\n",
       "    <tr>\n",
       "      <th>186</th>\n",
       "      <td>909</td>\n",
       "      <td>Rudy Gobert</td>\n",
       "      <td>1</td>\n",
       "      <td>0.633975</td>\n",
       "    </tr>\n",
       "    <tr>\n",
       "      <th>123</th>\n",
       "      <td>570</td>\n",
       "      <td>Stephen Curry</td>\n",
       "      <td>1</td>\n",
       "      <td>0.608238</td>\n",
       "    </tr>\n",
       "    <tr>\n",
       "      <th>248</th>\n",
       "      <td>1204</td>\n",
       "      <td>Kyrie Irving</td>\n",
       "      <td>1</td>\n",
       "      <td>0.601938</td>\n",
       "    </tr>\n",
       "    <tr>\n",
       "      <th>201</th>\n",
       "      <td>979</td>\n",
       "      <td>Blake Griffin</td>\n",
       "      <td>1</td>\n",
       "      <td>0.561307</td>\n",
       "    </tr>\n",
       "  </tbody>\n",
       "</table>\n",
       "</div>"
      ],
      "text/plain": [
       "     PLAYER_ID    PLAYER_NAME  ALL_NBA  PROB_SELECTED\n",
       "186        909    Rudy Gobert        1       0.633975\n",
       "123        570  Stephen Curry        1       0.608238\n",
       "248       1204   Kyrie Irving        1       0.601938\n",
       "201        979  Blake Griffin        1       0.561307"
      ]
     },
     "execution_count": 586,
     "metadata": {},
     "output_type": "execute_result"
    }
   ],
   "source": [
    "print(\"The model failed to predict the following selected players:\")\n",
    "data_selected.sort_values(\"PROB_SELECTED\", ascending=False)[15:].loc[data_selected.ALL_NBA==1]"
   ]
  },
  {
   "cell_type": "code",
   "execution_count": 587,
   "id": "bd28e461",
   "metadata": {
    "ExecuteTime": {
     "end_time": "2022-05-07T22:38:15.903950Z",
     "start_time": "2022-05-07T22:38:15.883919Z"
    }
   },
   "outputs": [
    {
     "name": "stdout",
     "output_type": "stream",
     "text": [
      "The model failed to predict the following non selected players:\n"
     ]
    },
    {
     "data": {
      "text/html": [
       "<div>\n",
       "<style scoped>\n",
       "    .dataframe tbody tr th:only-of-type {\n",
       "        vertical-align: middle;\n",
       "    }\n",
       "\n",
       "    .dataframe tbody tr th {\n",
       "        vertical-align: top;\n",
       "    }\n",
       "\n",
       "    .dataframe thead th {\n",
       "        text-align: right;\n",
       "    }\n",
       "</style>\n",
       "<table border=\"1\" class=\"dataframe\">\n",
       "  <thead>\n",
       "    <tr style=\"text-align: right;\">\n",
       "      <th></th>\n",
       "      <th>PLAYER_ID</th>\n",
       "      <th>PLAYER_NAME</th>\n",
       "      <th>ALL_NBA</th>\n",
       "      <th>PROB_SELECTED</th>\n",
       "    </tr>\n",
       "  </thead>\n",
       "  <tbody>\n",
       "    <tr>\n",
       "      <th>125</th>\n",
       "      <td>587</td>\n",
       "      <td>Anthony Davis</td>\n",
       "      <td>0</td>\n",
       "      <td>0.992021</td>\n",
       "    </tr>\n",
       "    <tr>\n",
       "      <th>491</th>\n",
       "      <td>2572</td>\n",
       "      <td>Nikola Vucevic</td>\n",
       "      <td>0</td>\n",
       "      <td>0.886669</td>\n",
       "    </tr>\n",
       "    <tr>\n",
       "      <th>479</th>\n",
       "      <td>2501</td>\n",
       "      <td>Karl-Anthony Towns</td>\n",
       "      <td>0</td>\n",
       "      <td>0.829671</td>\n",
       "    </tr>\n",
       "    <tr>\n",
       "      <th>229</th>\n",
       "      <td>1131</td>\n",
       "      <td>Jrue Holiday</td>\n",
       "      <td>0</td>\n",
       "      <td>0.668894</td>\n",
       "    </tr>\n",
       "  </tbody>\n",
       "</table>\n",
       "</div>"
      ],
      "text/plain": [
       "     PLAYER_ID         PLAYER_NAME  ALL_NBA  PROB_SELECTED\n",
       "125        587       Anthony Davis        0       0.992021\n",
       "491       2572      Nikola Vucevic        0       0.886669\n",
       "479       2501  Karl-Anthony Towns        0       0.829671\n",
       "229       1131        Jrue Holiday        0       0.668894"
      ]
     },
     "execution_count": 587,
     "metadata": {},
     "output_type": "execute_result"
    }
   ],
   "source": [
    "print(\"The model failed to predict the following non selected players:\")\n",
    "data_selected.sort_values(\"PROB_SELECTED\", ascending=False)[:15].loc[data_selected.ALL_NBA==0]"
   ]
  },
  {
   "cell_type": "markdown",
   "id": "66b994d0-d37a-43c2-a38f-ea5e86afa512",
   "metadata": {
    "id": "66b994d0-d37a-43c2-a38f-ea5e86afa512"
   },
   "source": [
    "2.16. Create a class named AllNbaSingleSeasonClassifier that takes a scikit learn model in the constructor, then implements a predict method that returns predictions with only the 15 most probable selections."
   ]
  },
  {
   "cell_type": "code",
   "execution_count": 109,
   "id": "5fc85317-ffc5-45e9-8740-3703b5d1aa86",
   "metadata": {
    "ExecuteTime": {
     "end_time": "2022-05-06T16:06:04.042376Z",
     "start_time": "2022-05-06T16:06:03.939633Z"
    },
    "id": "5fc85317-ffc5-45e9-8740-3703b5d1aa86"
   },
   "outputs": [],
   "source": [
    "class AllNbaSingleSeasonClassifier():\n",
    "    def __init__(self, model):\n",
    "        \"\"\"\n",
    "        Class constructor\n",
    "\n",
    "        Parameters\n",
    "        ----------\n",
    "        model: BaseEstimator\n",
    "            a Scikit learn estimator\n",
    "        \"\"\"\n",
    "        self._model = model\n",
    "\n",
    "    def predict(self, X):\n",
    "        \"\"\"\n",
    "        Predicts all nba selections. This classifier will limit the number\n",
    "        of positive instances to 15\n",
    "\n",
    "        Parameters\n",
    "        ----------\n",
    "        X: pd.DataFrame\n",
    "            a dataframe with the players data\n",
    "\n",
    "        Returns\n",
    "        -------\n",
    "        np.ndarray\n",
    "            An array of the same length as y, with 15 true results based on the players with most probabilities of\n",
    "            beign selected\n",
    "        \"\"\"\n",
    "        columns = ['games', 'gamesstarted', 'mp', 'fg_perc', '3p_perc', '2p_perc','ft_perc', 'trb', 'ast', 'stl', 'blk', 'tov', 'pf', 'pts', 'team_ATL','team_BOS', 'team_BRK', 'team_CHA', 'team_CHH', 'team_CHI', 'team_CHO','team_CLE', 'team_DAL', 'team_DEN', 'team_DET', 'team_GSW', 'team_HOU','team_IND', 'team_KCK', 'team_LAC', 'team_LAL', 'team_MEM', 'team_MIA','team_MIL', 'team_MIN', 'team_NJN', 'team_NOH', 'team_NOK', 'team_NOP','team_NYK', 'team_OKC', 'team_ORL', 'team_PHI', 'team_PHO', 'team_POR','team_SAC', 'team_SAS', 'team_SDC', 'team_SEA', 'team_TOR', 'team_TOT','team_UTA', 'team_VAN', 'team_WAS', 'team_WSB']  \n",
    "        X_nd = X[['team', 'games', 'gamesstarted', 'mp', 'fg_perc', '3p_perc',\n",
    "                '2p_perc', 'ft_perc', 'trb', 'ast', 'stl', 'blk', 'tov', 'pf', 'pts']].copy()\n",
    "        X_nd[[\"games\", \"gamesstarted\", \"mp\", \"trb\", \"ast\", \"stl\", \"blk\", \"tov\", \"pf\", \"pts\"]] = allnba_scaler.transform(\n",
    "            X[[\"games\", \"gamesstarted\", \"mp\", \"trb\", \"ast\", \"stl\", \"blk\", \"tov\", \"pf\", \"pts\"]])\n",
    "        X_nd = pd.get_dummies(X_nd, columns=[\"team\"])\n",
    "        miss_cols = list(set(columns)-set(X_nd.columns))\n",
    "        X_nd[miss_cols] = 0\n",
    "        X_nd.columns = list(columns)\n",
    "        allnba_pred = (self._model).predict_proba(X_nd)\n",
    "        allnba_pred = pd.DataFrame(allnba_pred)\n",
    "        selected = X[[\"player\",\"team\"]].copy()\n",
    "        \n",
    "        selected.reset_index(inplace=True)\n",
    "        selected = selected.join(allnba_pred)\n",
    "        selected.drop(columns=[\"index\",0], inplace=True)\n",
    "        selected.columns = [\"PLAYER_NAME\",\"TEAM\",\"PROB_SELECTED\"]\n",
    "        selected = selected.sort_values(\"PROB_SELECTED\", ascending=False)\n",
    "        selected[\"PROB_SELECTED\"] = selected[\"PROB_SELECTED\"]*100\n",
    "        return selected.head(15)"
   ]
  },
  {
   "cell_type": "markdown",
   "id": "0d83848f-8132-4205-bc18-88b8a5f07555",
   "metadata": {
    "id": "0d83848f-8132-4205-bc18-88b8a5f07555"
   },
   "source": [
    "2.17. Use the new classifier to make predictions and evaluate the result with precision, recall and f1"
   ]
  },
  {
   "cell_type": "code",
   "execution_count": 110,
   "id": "ac440daa-8a05-4a90-8729-a48af57092bb",
   "metadata": {
    "ExecuteTime": {
     "end_time": "2022-05-06T16:06:04.470253Z",
     "start_time": "2022-05-06T16:06:04.049403Z"
    },
    "id": "ac440daa-8a05-4a90-8729-a48af57092bb"
   },
   "outputs": [],
   "source": [
    "predictor = AllNbaSingleSeasonClassifier(nba_model)"
   ]
  },
  {
   "cell_type": "code",
   "execution_count": 111,
   "id": "f54b5ce3",
   "metadata": {
    "ExecuteTime": {
     "end_time": "2022-05-06T16:06:04.671404Z",
     "start_time": "2022-05-06T16:06:04.484000Z"
    },
    "scrolled": true
   },
   "outputs": [
    {
     "data": {
      "text/html": [
       "<div>\n",
       "<style scoped>\n",
       "    .dataframe tbody tr th:only-of-type {\n",
       "        vertical-align: middle;\n",
       "    }\n",
       "\n",
       "    .dataframe tbody tr th {\n",
       "        vertical-align: top;\n",
       "    }\n",
       "\n",
       "    .dataframe thead th {\n",
       "        text-align: right;\n",
       "    }\n",
       "</style>\n",
       "<table border=\"1\" class=\"dataframe\">\n",
       "  <thead>\n",
       "    <tr style=\"text-align: right;\">\n",
       "      <th></th>\n",
       "      <th>PLAYER_NAME</th>\n",
       "      <th>TEAM</th>\n",
       "      <th>PROB_SELECTED</th>\n",
       "    </tr>\n",
       "  </thead>\n",
       "  <tbody>\n",
       "    <tr>\n",
       "      <th>125</th>\n",
       "      <td>Anthony Davis</td>\n",
       "      <td>NOP</td>\n",
       "      <td>99.202086</td>\n",
       "    </tr>\n",
       "    <tr>\n",
       "      <th>304</th>\n",
       "      <td>Damian Lillard</td>\n",
       "      <td>POR</td>\n",
       "      <td>80.003600</td>\n",
       "    </tr>\n",
       "    <tr>\n",
       "      <th>17</th>\n",
       "      <td>Giannis Antetokounmpo</td>\n",
       "      <td>MIL</td>\n",
       "      <td>99.510091</td>\n",
       "    </tr>\n",
       "    <tr>\n",
       "      <th>205</th>\n",
       "      <td>James Harden</td>\n",
       "      <td>HOU</td>\n",
       "      <td>99.810172</td>\n",
       "    </tr>\n",
       "    <tr>\n",
       "      <th>154</th>\n",
       "      <td>Joel Embiid</td>\n",
       "      <td>PHI</td>\n",
       "      <td>97.207067</td>\n",
       "    </tr>\n",
       "    <tr>\n",
       "      <th>229</th>\n",
       "      <td>Jrue Holiday</td>\n",
       "      <td>NOP</td>\n",
       "      <td>66.889366</td>\n",
       "    </tr>\n",
       "    <tr>\n",
       "      <th>479</th>\n",
       "      <td>Karl-Anthony Towns</td>\n",
       "      <td>MIN</td>\n",
       "      <td>82.967104</td>\n",
       "    </tr>\n",
       "    <tr>\n",
       "      <th>300</th>\n",
       "      <td>Kawhi Leonard</td>\n",
       "      <td>TOR</td>\n",
       "      <td>80.242555</td>\n",
       "    </tr>\n",
       "    <tr>\n",
       "      <th>495</th>\n",
       "      <td>Kemba Walker</td>\n",
       "      <td>CHO</td>\n",
       "      <td>80.311617</td>\n",
       "    </tr>\n",
       "    <tr>\n",
       "      <th>149</th>\n",
       "      <td>Kevin Durant</td>\n",
       "      <td>GSW</td>\n",
       "      <td>84.587531</td>\n",
       "    </tr>\n",
       "    <tr>\n",
       "      <th>257</th>\n",
       "      <td>LeBron James</td>\n",
       "      <td>LAL</td>\n",
       "      <td>98.445319</td>\n",
       "    </tr>\n",
       "    <tr>\n",
       "      <th>268</th>\n",
       "      <td>Nikola Jokic</td>\n",
       "      <td>DEN</td>\n",
       "      <td>82.686586</td>\n",
       "    </tr>\n",
       "    <tr>\n",
       "      <th>491</th>\n",
       "      <td>Nikola Vucevic</td>\n",
       "      <td>ORL</td>\n",
       "      <td>88.666891</td>\n",
       "    </tr>\n",
       "    <tr>\n",
       "      <th>182</th>\n",
       "      <td>Paul George</td>\n",
       "      <td>OKC</td>\n",
       "      <td>86.747548</td>\n",
       "    </tr>\n",
       "    <tr>\n",
       "      <th>505</th>\n",
       "      <td>Russell Westbrook</td>\n",
       "      <td>OKC</td>\n",
       "      <td>96.002869</td>\n",
       "    </tr>\n",
       "  </tbody>\n",
       "</table>\n",
       "</div>"
      ],
      "text/plain": [
       "               PLAYER_NAME TEAM  PROB_SELECTED\n",
       "125          Anthony Davis  NOP      99.202086\n",
       "304         Damian Lillard  POR      80.003600\n",
       "17   Giannis Antetokounmpo  MIL      99.510091\n",
       "205           James Harden  HOU      99.810172\n",
       "154            Joel Embiid  PHI      97.207067\n",
       "229           Jrue Holiday  NOP      66.889366\n",
       "479     Karl-Anthony Towns  MIN      82.967104\n",
       "300          Kawhi Leonard  TOR      80.242555\n",
       "495           Kemba Walker  CHO      80.311617\n",
       "149           Kevin Durant  GSW      84.587531\n",
       "257           LeBron James  LAL      98.445319\n",
       "268           Nikola Jokic  DEN      82.686586\n",
       "491         Nikola Vucevic  ORL      88.666891\n",
       "182            Paul George  OKC      86.747548\n",
       "505      Russell Westbrook  OKC      96.002869"
      ]
     },
     "execution_count": 111,
     "metadata": {},
     "output_type": "execute_result"
    }
   ],
   "source": [
    "sel_players = predictor.predict(all_nba_2018_df)\n",
    "sel_players.sort_values(\"PLAYER_NAME\")"
   ]
  },
  {
   "cell_type": "markdown",
   "id": "1dd382f9-9640-47ce-a077-41c8baeb2d9f",
   "metadata": {
    "id": "1dd382f9-9640-47ce-a077-41c8baeb2d9f",
    "tags": []
   },
   "source": [
    "#### Analyzing our results"
   ]
  },
  {
   "cell_type": "markdown",
   "id": "f4eb9454-b0d5-40f0-8cb3-0af1ce8ade34",
   "metadata": {
    "id": "f4eb9454-b0d5-40f0-8cb3-0af1ce8ade34"
   },
   "source": [
    "2.18. What do you think it is the main problem with this dataset and the way we trained our model?"
   ]
  },
  {
   "cell_type": "markdown",
   "id": "320ea43d",
   "metadata": {},
   "source": [
    "The main problem it's that we have a very unbalanced dataset with very few selected players in it.  \n",
    "Also we are only gathering info about the game statistics of the players a not their popularity which is a very important part. "
   ]
  },
  {
   "cell_type": "markdown",
   "id": "e81ac1ea-75ab-4fee-8148-20a4ea663791",
   "metadata": {
    "id": "e81ac1ea-75ab-4fee-8148-20a4ea663791"
   },
   "source": [
    "2.19. What do you think we could do to improve our model?"
   ]
  },
  {
   "cell_type": "markdown",
   "id": "abbc02fc",
   "metadata": {},
   "source": [
    "We might try to gather more information about the player and maybe by reducing the size of the data by eliminating some non selected players to balance de dataset a bit more"
   ]
  },
  {
   "cell_type": "markdown",
   "id": "0557c3f5-0e87-4a33-a1dc-fc20dd7d8fd7",
   "metadata": {
    "id": "0557c3f5-0e87-4a33-a1dc-fc20dd7d8fd7"
   },
   "source": [
    "### Optional: Oversampling"
   ]
  },
  {
   "cell_type": "markdown",
   "id": "0089fbf9-0625-4446-bf45-d00da9063b14",
   "metadata": {
    "id": "0089fbf9-0625-4446-bf45-d00da9063b14"
   },
   "source": [
    "2.19. Read about oversampling techniques, for example [SMOTE](https://imbalanced-learn.org/stable/references/generated/imblearn.over_sampling.SMOTE.html). Use this strategy to create synthetic data and retrain our model. Compare the results. "
   ]
  },
  {
   "cell_type": "code",
   "execution_count": 114,
   "id": "f9b29e0e",
   "metadata": {
    "ExecuteTime": {
     "end_time": "2022-05-06T16:06:08.468420Z",
     "start_time": "2022-05-06T16:06:08.376473Z"
    }
   },
   "outputs": [
    {
     "data": {
      "text/html": [
       "<div>\n",
       "<style scoped>\n",
       "    .dataframe tbody tr th:only-of-type {\n",
       "        vertical-align: middle;\n",
       "    }\n",
       "\n",
       "    .dataframe tbody tr th {\n",
       "        vertical-align: top;\n",
       "    }\n",
       "\n",
       "    .dataframe thead th {\n",
       "        text-align: right;\n",
       "    }\n",
       "</style>\n",
       "<table border=\"1\" class=\"dataframe\">\n",
       "  <thead>\n",
       "    <tr style=\"text-align: right;\">\n",
       "      <th></th>\n",
       "      <th>games</th>\n",
       "      <th>gamesstarted</th>\n",
       "      <th>mp</th>\n",
       "      <th>fg_perc</th>\n",
       "      <th>3p_perc</th>\n",
       "      <th>2p_perc</th>\n",
       "      <th>ft_perc</th>\n",
       "      <th>trb</th>\n",
       "      <th>ast</th>\n",
       "      <th>stl</th>\n",
       "      <th>...</th>\n",
       "      <th>team_SAC</th>\n",
       "      <th>team_SAS</th>\n",
       "      <th>team_SDC</th>\n",
       "      <th>team_SEA</th>\n",
       "      <th>team_TOR</th>\n",
       "      <th>team_TOT</th>\n",
       "      <th>team_UTA</th>\n",
       "      <th>team_VAN</th>\n",
       "      <th>team_WAS</th>\n",
       "      <th>team_WSB</th>\n",
       "    </tr>\n",
       "  </thead>\n",
       "  <tbody>\n",
       "    <tr>\n",
       "      <th>14212</th>\n",
       "      <td>0.585239</td>\n",
       "      <td>-0.670478</td>\n",
       "      <td>-0.095085</td>\n",
       "      <td>0.412</td>\n",
       "      <td>0.327</td>\n",
       "      <td>0.429</td>\n",
       "      <td>0.750</td>\n",
       "      <td>0.021276</td>\n",
       "      <td>0.224358</td>\n",
       "      <td>-0.151941</td>\n",
       "      <td>...</td>\n",
       "      <td>0</td>\n",
       "      <td>0</td>\n",
       "      <td>0</td>\n",
       "      <td>0</td>\n",
       "      <td>0</td>\n",
       "      <td>0</td>\n",
       "      <td>0</td>\n",
       "      <td>0</td>\n",
       "      <td>0</td>\n",
       "      <td>0</td>\n",
       "    </tr>\n",
       "    <tr>\n",
       "      <th>15260</th>\n",
       "      <td>0.704072</td>\n",
       "      <td>-0.331974</td>\n",
       "      <td>0.411456</td>\n",
       "      <td>0.427</td>\n",
       "      <td>0.213</td>\n",
       "      <td>0.492</td>\n",
       "      <td>0.641</td>\n",
       "      <td>-0.135475</td>\n",
       "      <td>0.594116</td>\n",
       "      <td>0.882396</td>\n",
       "      <td>...</td>\n",
       "      <td>0</td>\n",
       "      <td>0</td>\n",
       "      <td>0</td>\n",
       "      <td>0</td>\n",
       "      <td>0</td>\n",
       "      <td>0</td>\n",
       "      <td>0</td>\n",
       "      <td>0</td>\n",
       "      <td>0</td>\n",
       "      <td>0</td>\n",
       "    </tr>\n",
       "    <tr>\n",
       "      <th>243</th>\n",
       "      <td>0.189130</td>\n",
       "      <td>-0.704329</td>\n",
       "      <td>-0.552919</td>\n",
       "      <td>0.451</td>\n",
       "      <td>0.000</td>\n",
       "      <td>0.453</td>\n",
       "      <td>0.688</td>\n",
       "      <td>0.021276</td>\n",
       "      <td>-0.515158</td>\n",
       "      <td>-0.772543</td>\n",
       "      <td>...</td>\n",
       "      <td>0</td>\n",
       "      <td>0</td>\n",
       "      <td>0</td>\n",
       "      <td>0</td>\n",
       "      <td>0</td>\n",
       "      <td>0</td>\n",
       "      <td>0</td>\n",
       "      <td>0</td>\n",
       "      <td>0</td>\n",
       "      <td>0</td>\n",
       "    </tr>\n",
       "    <tr>\n",
       "      <th>5480</th>\n",
       "      <td>-2.029080</td>\n",
       "      <td>-0.873581</td>\n",
       "      <td>-1.361435</td>\n",
       "      <td>0.222</td>\n",
       "      <td>0.000</td>\n",
       "      <td>0.222</td>\n",
       "      <td>0.625</td>\n",
       "      <td>-0.331413</td>\n",
       "      <td>-0.990561</td>\n",
       "      <td>-1.393145</td>\n",
       "      <td>...</td>\n",
       "      <td>0</td>\n",
       "      <td>0</td>\n",
       "      <td>0</td>\n",
       "      <td>0</td>\n",
       "      <td>0</td>\n",
       "      <td>0</td>\n",
       "      <td>0</td>\n",
       "      <td>0</td>\n",
       "      <td>0</td>\n",
       "      <td>0</td>\n",
       "    </tr>\n",
       "    <tr>\n",
       "      <th>14192</th>\n",
       "      <td>0.585239</td>\n",
       "      <td>1.428249</td>\n",
       "      <td>0.956960</td>\n",
       "      <td>0.397</td>\n",
       "      <td>0.282</td>\n",
       "      <td>0.461</td>\n",
       "      <td>0.637</td>\n",
       "      <td>0.413152</td>\n",
       "      <td>0.382825</td>\n",
       "      <td>1.502998</td>\n",
       "      <td>...</td>\n",
       "      <td>0</td>\n",
       "      <td>0</td>\n",
       "      <td>0</td>\n",
       "      <td>0</td>\n",
       "      <td>0</td>\n",
       "      <td>0</td>\n",
       "      <td>0</td>\n",
       "      <td>0</td>\n",
       "      <td>0</td>\n",
       "      <td>0</td>\n",
       "    </tr>\n",
       "  </tbody>\n",
       "</table>\n",
       "<p>5 rows × 55 columns</p>\n",
       "</div>"
      ],
      "text/plain": [
       "          games  gamesstarted        mp  fg_perc  3p_perc  2p_perc  ft_perc  \\\n",
       "14212  0.585239     -0.670478 -0.095085    0.412    0.327    0.429    0.750   \n",
       "15260  0.704072     -0.331974  0.411456    0.427    0.213    0.492    0.641   \n",
       "243    0.189130     -0.704329 -0.552919    0.451    0.000    0.453    0.688   \n",
       "5480  -2.029080     -0.873581 -1.361435    0.222    0.000    0.222    0.625   \n",
       "14192  0.585239      1.428249  0.956960    0.397    0.282    0.461    0.637   \n",
       "\n",
       "            trb       ast       stl  ...  team_SAC  team_SAS  team_SDC  \\\n",
       "14212  0.021276  0.224358 -0.151941  ...         0         0         0   \n",
       "15260 -0.135475  0.594116  0.882396  ...         0         0         0   \n",
       "243    0.021276 -0.515158 -0.772543  ...         0         0         0   \n",
       "5480  -0.331413 -0.990561 -1.393145  ...         0         0         0   \n",
       "14192  0.413152  0.382825  1.502998  ...         0         0         0   \n",
       "\n",
       "       team_SEA  team_TOR  team_TOT  team_UTA  team_VAN  team_WAS  team_WSB  \n",
       "14212         0         0         0         0         0         0         0  \n",
       "15260         0         0         0         0         0         0         0  \n",
       "243           0         0         0         0         0         0         0  \n",
       "5480          0         0         0         0         0         0         0  \n",
       "14192         0         0         0         0         0         0         0  \n",
       "\n",
       "[5 rows x 55 columns]"
      ]
     },
     "execution_count": 114,
     "metadata": {},
     "output_type": "execute_result"
    }
   ],
   "source": [
    "X_nba_train.head()"
   ]
  },
  {
   "cell_type": "code",
   "execution_count": 607,
   "id": "39f76f66",
   "metadata": {
    "ExecuteTime": {
     "end_time": "2022-05-07T22:52:04.806619Z",
     "start_time": "2022-05-07T22:52:04.790626Z"
    },
    "scrolled": true
   },
   "outputs": [
    {
     "name": "stdout",
     "output_type": "stream",
     "text": [
      "Data distribution before SMOTE\n",
      "\n",
      "Training dataset\n",
      "0    11463\n",
      "1      397\n",
      "Name: all_nba, dtype: int64\n",
      "\n",
      "Testing dataset\n",
      "0    2866\n",
      "1      99\n",
      "Name: all_nba, dtype: int64\n"
     ]
    }
   ],
   "source": [
    "print(\"Data distribution before SMOTE\\n\\nTraining dataset\")\n",
    "print(y_nba_train.value_counts())\n",
    "print(\"\\nTesting dataset\")\n",
    "print(y_nba_test.value_counts())"
   ]
  },
  {
   "cell_type": "code",
   "execution_count": 117,
   "id": "92361325",
   "metadata": {
    "ExecuteTime": {
     "end_time": "2022-05-06T16:06:09.206331Z",
     "start_time": "2022-05-06T16:06:08.631364Z"
    }
   },
   "outputs": [],
   "source": [
    "sm = SMOTE(random_state=8,sampling_strategy=0.2)\n",
    "X_res, y_res = sm.fit_resample(X_nba_train, y_nba_train)"
   ]
  },
  {
   "cell_type": "code",
   "execution_count": 609,
   "id": "4ef9f44a",
   "metadata": {
    "ExecuteTime": {
     "end_time": "2022-05-07T22:52:40.565442Z",
     "start_time": "2022-05-07T22:52:40.555441Z"
    }
   },
   "outputs": [
    {
     "name": "stdout",
     "output_type": "stream",
     "text": [
      "Data distribution after SMOTE\n",
      "\n",
      "Training dataset\n",
      "0    11463\n",
      "1     2292\n",
      "Name: all_nba, dtype: int64\n"
     ]
    }
   ],
   "source": [
    "print(\"Data distribution after SMOTE\\n\\nTraining dataset\")\n",
    "print(y_res.value_counts())"
   ]
  },
  {
   "cell_type": "code",
   "execution_count": 119,
   "id": "21c43094",
   "metadata": {
    "ExecuteTime": {
     "end_time": "2022-05-06T16:06:09.411990Z",
     "start_time": "2022-05-06T16:06:09.237728Z"
    }
   },
   "outputs": [],
   "source": [
    "nba_model2 = LogisticRegression(max_iter=1000, C=20)"
   ]
  },
  {
   "cell_type": "code",
   "execution_count": 120,
   "id": "5a0b719f",
   "metadata": {
    "ExecuteTime": {
     "end_time": "2022-05-06T16:06:11.275380Z",
     "start_time": "2022-05-06T16:06:09.418942Z"
    }
   },
   "outputs": [
    {
     "data": {
      "text/plain": [
       "LogisticRegression(C=20, max_iter=1000)"
      ]
     },
     "execution_count": 120,
     "metadata": {},
     "output_type": "execute_result"
    }
   ],
   "source": [
    "nba_model2.fit(X_res,y_res)"
   ]
  },
  {
   "cell_type": "code",
   "execution_count": 121,
   "id": "368d3638",
   "metadata": {
    "ExecuteTime": {
     "end_time": "2022-05-06T16:06:11.298796Z",
     "start_time": "2022-05-06T16:06:11.278674Z"
    }
   },
   "outputs": [],
   "source": [
    "pr = nba_model2.predict(X_nba_test)"
   ]
  },
  {
   "cell_type": "code",
   "execution_count": 614,
   "id": "803b0db1",
   "metadata": {
    "ExecuteTime": {
     "end_time": "2022-05-07T22:54:04.975149Z",
     "start_time": "2022-05-07T22:54:04.946145Z"
    }
   },
   "outputs": [],
   "source": [
    "f1_1 = round(f1_score(y_nba_test, pr), 4)\n",
    "rec_1 = round(recall_score(y_nba_test, pr), 4)"
   ]
  },
  {
   "cell_type": "code",
   "execution_count": 615,
   "id": "69eac398",
   "metadata": {
    "ExecuteTime": {
     "end_time": "2022-05-07T22:54:06.167864Z",
     "start_time": "2022-05-07T22:54:06.155836Z"
    }
   },
   "outputs": [
    {
     "name": "stdout",
     "output_type": "stream",
     "text": [
      "Recall: 0.7778%\n",
      "f1: 0.723%\n"
     ]
    }
   ],
   "source": [
    "print(f\"Recall: {rec_1}%\\nf1: {f1_1}%\")"
   ]
  },
  {
   "cell_type": "markdown",
   "id": "8b1ee0ca-0d33-490c-9725-638fbd001f02",
   "metadata": {
    "id": "8b1ee0ca-0d33-490c-9725-638fbd001f02"
   },
   "source": [
    "## Optional: Developing a Linear Regressor class from scratch"
   ]
  },
  {
   "cell_type": "markdown",
   "id": "aa6d261c-5372-447d-afdf-820aaf3fef26",
   "metadata": {
    "id": "aa6d261c-5372-447d-afdf-820aaf3fef26"
   },
   "source": [
    "Our last task will be to code a Linear Regression algorithm using Gradient Descent as its optimization algorithm in Python. The structure of the class is presented below, you should use numpy for numerical computation."
   ]
  },
  {
   "cell_type": "markdown",
   "id": "8aebe22f-3a17-4404-a12f-918da6a26237",
   "metadata": {
    "id": "8aebe22f-3a17-4404-a12f-918da6a26237"
   },
   "source": [
    "3.1. Write a LinearRegression class that implements fit and predict methods, and uses gradient descent as optimization algorithm"
   ]
  },
  {
   "cell_type": "code",
   "execution_count": 374,
   "id": "b4326a55-6896-466d-9d60-3b2667e20de6",
   "metadata": {
    "ExecuteTime": {
     "end_time": "2022-05-06T17:58:56.955013Z",
     "start_time": "2022-05-06T17:58:56.941007Z"
    },
    "id": "b4326a55-6896-466d-9d60-3b2667e20de6"
   },
   "outputs": [],
   "source": [
    "    \n",
    "class LinearRegressor:\n",
    "    \"\"\"Linear regression algorithm class. Implements gradient descent as optimization algorithm\"\"\"\n",
    "    \n",
    "    def __init__(self, epochs: int, learning_rate: float):\n",
    "        \"\"\"\n",
    "        Class constructor\n",
    "        \n",
    "        Parameters\n",
    "        ----------\n",
    "        epochs: int\n",
    "            number of epochs to run gradient descent\n",
    "        learning_rate: float\n",
    "            rate of update of the gradients\n",
    "        \"\"\"\n",
    "        \n",
    "        self._epochs = epochs\n",
    "        self._lr = learning_rate\n",
    "\n",
    "    def _gradient_descent(X,h,y,w,lr):\n",
    "        \"\"\"\n",
    "        Gradient descent algorithm\n",
    "        w = [w1,wo]\n",
    "        X = [PTS]\n",
    "        y = [Salary]\n",
    "        h = [Salary_pred]\n",
    "        \"\"\"\n",
    "        X = np.array(X)\n",
    "        h = np.array(h)\n",
    "        y = np.array(y)\n",
    "        w = np.array(w)\n",
    "        w_new = [0,0]\n",
    "        w_new[1] = w[1] - lr*((h-y)@X + 0.001*sum(w**2))\n",
    "        w_new[0] = w[0] - lr*(sum(h-y) + 0.001*sum(w**2))\n",
    "        return w_new\n",
    "\n",
    "    def fit(self, X, y):\n",
    "        \"\"\"\n",
    "        Fit the model according to the given training data.\n",
    "        \n",
    "        Parameters\n",
    "        ----------\n",
    "        X: np.ndarray\n",
    "        y: np.ndarray\n",
    "        \"\"\"\n",
    "        X_t = []\n",
    "        for lista1 in X:\n",
    "            for numero in lista1:\n",
    "                X_t.append(numero)\n",
    "        w = [0,np.mean(y)]\n",
    "        h = []\n",
    "        for iter in range(0,self._epochs):\n",
    "            h = []\n",
    "            for row in range(0,len(X_t)):\n",
    "                h.append(w[1]*X_t[row]+w[0])\n",
    "            w = LinearRegressor._gradient_descent(X_t,h,y,w,self._lr)\n",
    "        self._w = w\n",
    "            \n",
    "    def predict(self, X):\n",
    "        \"\"\"\n",
    "        Predict\n",
    "        \n",
    "        Parameters\n",
    "        ----------\n",
    "        X: np.ndarray\n",
    "        \n",
    "        Returns\n",
    "        -------\n",
    "        np.ndarray\n",
    "            array with predictions\n",
    "        \"\"\"\n",
    "        w = self._w\n",
    "        y = np.zeros(len(X))\n",
    "        i = 0\n",
    "        for val in X:\n",
    "            y[i] = (val[0]*w[1]+w[0])\n",
    "            i +=1\n",
    "        return y"
   ]
  },
  {
   "cell_type": "markdown",
   "id": "ac25e809-7bdf-4dfa-896a-bc4cb8964f94",
   "metadata": {
    "id": "ac25e809-7bdf-4dfa-896a-bc4cb8964f94"
   },
   "source": [
    "3.2. Train a regression model with the data from the first section to calculate players salaries using points per game. Try with a few different values (3 or 4 for each should suffice) for epochs and learning rate parameters, calculate MAE for all results and save the best result along with the parameters values used."
   ]
  },
  {
   "cell_type": "code",
   "execution_count": 430,
   "id": "1af703c2",
   "metadata": {
    "ExecuteTime": {
     "end_time": "2022-05-06T18:46:40.651226Z",
     "start_time": "2022-05-06T18:46:40.644232Z"
    }
   },
   "outputs": [],
   "source": [
    "first = LinearRegressor(epochs=100, learning_rate=1e-6)"
   ]
  },
  {
   "cell_type": "code",
   "execution_count": 431,
   "id": "ae78bf69",
   "metadata": {
    "ExecuteTime": {
     "end_time": "2022-05-06T18:46:42.160246Z",
     "start_time": "2022-05-06T18:46:42.102220Z"
    },
    "scrolled": false
   },
   "outputs": [],
   "source": [
    "first.fit(x_train,y_train)"
   ]
  },
  {
   "cell_type": "code",
   "execution_count": 432,
   "id": "65be8a6a",
   "metadata": {
    "ExecuteTime": {
     "end_time": "2022-05-06T18:46:44.734914Z",
     "start_time": "2022-05-06T18:46:44.725932Z"
    }
   },
   "outputs": [
    {
     "data": {
      "text/plain": [
       "[-4814466.320222056, 4185177.715118608]"
      ]
     },
     "execution_count": 432,
     "metadata": {},
     "output_type": "execute_result"
    }
   ],
   "source": [
    "first._w"
   ]
  },
  {
   "cell_type": "code",
   "execution_count": 433,
   "id": "36428c69",
   "metadata": {
    "ExecuteTime": {
     "end_time": "2022-05-06T18:46:48.125361Z",
     "start_time": "2022-05-06T18:46:48.122358Z"
    }
   },
   "outputs": [],
   "source": [
    "second = LinearRegressor(epochs=1000, learning_rate=1e-7)"
   ]
  },
  {
   "cell_type": "code",
   "execution_count": 434,
   "id": "a8e6a2cd",
   "metadata": {
    "ExecuteTime": {
     "end_time": "2022-05-06T18:46:49.933389Z",
     "start_time": "2022-05-06T18:46:49.556359Z"
    }
   },
   "outputs": [],
   "source": [
    "second.fit(x_train,y_train)"
   ]
  },
  {
   "cell_type": "code",
   "execution_count": 435,
   "id": "8d52e894",
   "metadata": {
    "ExecuteTime": {
     "end_time": "2022-05-06T18:46:51.160385Z",
     "start_time": "2022-05-06T18:46:51.152356Z"
    }
   },
   "outputs": [
    {
     "data": {
      "text/plain": [
       "[-4800240.047887263, 4199060.654170829]"
      ]
     },
     "execution_count": 435,
     "metadata": {},
     "output_type": "execute_result"
    }
   ],
   "source": [
    "second._w"
   ]
  },
  {
   "cell_type": "code",
   "execution_count": 436,
   "id": "46031a5a",
   "metadata": {
    "ExecuteTime": {
     "end_time": "2022-05-06T18:46:52.525385Z",
     "start_time": "2022-05-06T18:46:52.516358Z"
    }
   },
   "outputs": [],
   "source": [
    "third = LinearRegressor(epochs=10000, learning_rate=1e-9)"
   ]
  },
  {
   "cell_type": "code",
   "execution_count": 437,
   "id": "52c53bc4",
   "metadata": {
    "ExecuteTime": {
     "end_time": "2022-05-06T18:46:56.908455Z",
     "start_time": "2022-05-06T18:46:53.798359Z"
    }
   },
   "outputs": [],
   "source": [
    "third.fit(x_train,y_train)"
   ]
  },
  {
   "cell_type": "code",
   "execution_count": 438,
   "id": "75e26fd5",
   "metadata": {
    "ExecuteTime": {
     "end_time": "2022-05-06T18:46:58.207361Z",
     "start_time": "2022-05-06T18:46:58.197407Z"
    }
   },
   "outputs": [
    {
     "data": {
      "text/plain": [
       "[-750859.7243633711, 8422015.95654787]"
      ]
     },
     "execution_count": 438,
     "metadata": {},
     "output_type": "execute_result"
    }
   ],
   "source": [
    "third._w"
   ]
  },
  {
   "cell_type": "markdown",
   "id": "ea78cfff-1216-486f-bd1e-7e42127c029d",
   "metadata": {
    "id": "ea78cfff-1216-486f-bd1e-7e42127c029d"
   },
   "source": [
    "3.3. Evaluate the model performance on the test set, and compare with the result you obtained using SGDRegressor from scikit-learn."
   ]
  },
  {
   "cell_type": "code",
   "execution_count": 623,
   "id": "db1e4853",
   "metadata": {
    "ExecuteTime": {
     "end_time": "2022-05-07T22:56:59.556940Z",
     "start_time": "2022-05-07T22:56:59.541940Z"
    },
    "scrolled": true
   },
   "outputs": [
    {
     "name": "stdout",
     "output_type": "stream",
     "text": [
      "First model mae: 9510169.19\n",
      "Second model mae: 9491417.34\n",
      "Third model mae: 4282668.08\n"
     ]
    }
   ],
   "source": [
    "print(\"First model mae: \", end=\"\")\n",
    "print(round(mean_absolute_error(y_test, y_pred=first.predict(x_test)),2))\n",
    "print(\"Second model mae: \", end=\"\")\n",
    "print(round(mean_absolute_error(y_test, y_pred=second.predict(x_test)),2))\n",
    "print(\"Third model mae: \", end=\"\")\n",
    "print(round(mean_absolute_error(y_test, y_pred=third.predict(x_test)),2))"
   ]
  },
  {
   "cell_type": "code",
   "execution_count": null,
   "id": "1c1d2cd3",
   "metadata": {},
   "outputs": [],
   "source": []
  }
 ],
 "metadata": {
  "colab": {
   "name": "Copia de AnyoneAI - Project 2.ipynb",
   "provenance": []
  },
  "hide_input": false,
  "kernelspec": {
   "display_name": "Python 3 (ipykernel)",
   "language": "python",
   "name": "python3"
  },
  "language_info": {
   "codemirror_mode": {
    "name": "ipython",
    "version": 3
   },
   "file_extension": ".py",
   "mimetype": "text/x-python",
   "name": "python",
   "nbconvert_exporter": "python",
   "pygments_lexer": "ipython3",
   "version": "3.9.5"
  },
  "varInspector": {
   "cols": {
    "lenName": 16,
    "lenType": 16,
    "lenVar": 40
   },
   "kernels_config": {
    "python": {
     "delete_cmd_postfix": "",
     "delete_cmd_prefix": "del ",
     "library": "var_list.py",
     "varRefreshCmd": "print(var_dic_list())"
    },
    "r": {
     "delete_cmd_postfix": ") ",
     "delete_cmd_prefix": "rm(",
     "library": "var_list.r",
     "varRefreshCmd": "cat(var_dic_list()) "
    }
   },
   "types_to_exclude": [
    "module",
    "function",
    "builtin_function_or_method",
    "instance",
    "_Feature"
   ],
   "window_display": false
  }
 },
 "nbformat": 4,
 "nbformat_minor": 5
}
